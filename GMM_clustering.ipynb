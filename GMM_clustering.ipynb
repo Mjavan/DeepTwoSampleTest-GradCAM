{
 "cells": [
  {
   "cell_type": "code",
   "execution_count": 1,
   "id": "83e89f7e",
   "metadata": {},
   "outputs": [],
   "source": [
    "import numpy as np\n",
    "import pandas as pd\n",
    "from pathlib import Path\n",
    "from sklearn.decomposition import PCA\n",
    "from sklearn.preprocessing import StandardScaler\n",
    "import time\n",
    "import matplotlib.pyplot as plt\n",
    "\n",
    "import os\n",
    "\n",
    "import torch\n",
    "import torchvision.models as models\n",
    "import torch.nn as nn\n",
    "from torch.utils.data import TensorDataset, DataLoader\n",
    "\n",
    "from torchvision.models import ResNet18_Weights"
   ]
  },
  {
   "cell_type": "code",
   "execution_count": 2,
   "id": "0f85e1a8",
   "metadata": {},
   "outputs": [
    {
     "name": "stdout",
     "output_type": "stream",
     "text": [
      "Notebook is running on CPU\n"
     ]
    }
   ],
   "source": [
    "import torch\n",
    "\n",
    "if torch.cuda.is_available():\n",
    "    print(f\"Notebook is running on GPU: {torch.cuda.get_device_name(0)}\")\n",
    "else:\n",
    "    print(\"Notebook is running on CPU\")\n"
   ]
  },
  {
   "cell_type": "code",
   "execution_count": 5,
   "id": "eeb3e6a8",
   "metadata": {},
   "outputs": [],
   "source": [
    "import umap"
   ]
  },
  {
   "cell_type": "markdown",
   "id": "df9dcddc",
   "metadata": {},
   "source": [
    "## Structured approach to apply GMM to cluster heatmaps\n",
    "\n",
    " - **1. Flatten Heatmaps and Apply GMM Directly:**\n",
    " Flattening the heatmaps would convert each [64, 64] heatmap into a vector of size 4096. This would result in a data matrix of shape [491520, 4096]. Applying GMM directly on this flattened data is possible, but it may be computationally expensive and might not capture the spatial structure of the heatmaps well.\n",
    " \n",
    " - **2. Dimensionality Reduction Before GMM:**\n",
    " Use techniques like Principal Component Analysis (PCA), t-Distributed Stochastic Neighbor Embedding (t-SNE), or UMAP to reduce the dimensionality of the flattened vectors. PCA is commonly used for this purpose and is computationally efficient. For more complex data structures, t-SNE or UMAP might reveal more intricate patterns, though they are computationally more intensive.\n",
    " \n",
    "    - **PCA:** This technique projects the data onto a lower-dimensional subspace that maximizes variance. It’s generally a good starting point.\n",
    "\n",
    "    - **t-SNE or UMAP**: These techniques are often used for visualizing high-dimensional data in 2D or 3D, capturing more complex relationships. They are computationally more intensive but can reveal structure that PCA might miss.\n",
    "    \n",
    " - **3. Apply GMM:** After reducing the dimensionality, you can apply GMM on the reduced feature vectors to find clusters. The lower-dimensional space should be more manageable and could capture the essential structure of the heatmaps more effectively.\n",
    " \n",
    "   "
   ]
  },
  {
   "cell_type": "code",
   "execution_count": 3,
   "id": "9ff12f22",
   "metadata": {},
   "outputs": [],
   "source": [
    "root_dir = Path('/dhc/home/masoumeh.javanbakhat/netstore-old/Baysian/3D')\n",
    "\n",
    "heatmap_dir = root_dir/'Explainability'/'Codes'/'heatmaps'"
   ]
  },
  {
   "cell_type": "code",
   "execution_count": 4,
   "id": "9e295cf0",
   "metadata": {},
   "outputs": [],
   "source": [
    "exp = 4\n",
    "\n",
    "seed = 42\n",
    "\n",
    "latentvar = 'shape' \n",
    "\n",
    "latentcls = str([1,2])"
   ]
  },
  {
   "cell_type": "code",
   "execution_count": 5,
   "id": "d5e383b0",
   "metadata": {},
   "outputs": [],
   "source": [
    "heatmaps = np.load(os.path.join(heatmap_dir,\n",
    "                          f'{exp}_{seed}_{latentvar}_{latentcls}_htm.npy'))"
   ]
  },
  {
   "cell_type": "code",
   "execution_count": 6,
   "id": "cb3bfc27",
   "metadata": {},
   "outputs": [
    {
     "name": "stdout",
     "output_type": "stream",
     "text": [
      "(491520, 64, 64)\n"
     ]
    }
   ],
   "source": [
    "print(heatmaps.shape)"
   ]
  },
  {
   "cell_type": "markdown",
   "id": "6bfe3a31",
   "metadata": {},
   "source": [
    "### Using a pretrained Resnet for heatmap embedding"
   ]
  },
  {
   "cell_type": "code",
   "execution_count": 3,
   "id": "ee7ac62a",
   "metadata": {},
   "outputs": [],
   "source": [
    "resnet_model = models.resnet18(weights=ResNet18_Weights.IMAGENET1K_V1)"
   ]
  },
  {
   "cell_type": "code",
   "execution_count": 4,
   "id": "14055302",
   "metadata": {},
   "outputs": [
    {
     "name": "stdout",
     "output_type": "stream",
     "text": [
      "ResNet(\n",
      "  (conv1): Conv2d(3, 64, kernel_size=(7, 7), stride=(2, 2), padding=(3, 3), bias=False)\n",
      "  (bn1): BatchNorm2d(64, eps=1e-05, momentum=0.1, affine=True, track_running_stats=True)\n",
      "  (relu): ReLU(inplace=True)\n",
      "  (maxpool): MaxPool2d(kernel_size=3, stride=2, padding=1, dilation=1, ceil_mode=False)\n",
      "  (layer1): Sequential(\n",
      "    (0): BasicBlock(\n",
      "      (conv1): Conv2d(64, 64, kernel_size=(3, 3), stride=(1, 1), padding=(1, 1), bias=False)\n",
      "      (bn1): BatchNorm2d(64, eps=1e-05, momentum=0.1, affine=True, track_running_stats=True)\n",
      "      (relu): ReLU(inplace=True)\n",
      "      (conv2): Conv2d(64, 64, kernel_size=(3, 3), stride=(1, 1), padding=(1, 1), bias=False)\n",
      "      (bn2): BatchNorm2d(64, eps=1e-05, momentum=0.1, affine=True, track_running_stats=True)\n",
      "    )\n",
      "    (1): BasicBlock(\n",
      "      (conv1): Conv2d(64, 64, kernel_size=(3, 3), stride=(1, 1), padding=(1, 1), bias=False)\n",
      "      (bn1): BatchNorm2d(64, eps=1e-05, momentum=0.1, affine=True, track_running_stats=True)\n",
      "      (relu): ReLU(inplace=True)\n",
      "      (conv2): Conv2d(64, 64, kernel_size=(3, 3), stride=(1, 1), padding=(1, 1), bias=False)\n",
      "      (bn2): BatchNorm2d(64, eps=1e-05, momentum=0.1, affine=True, track_running_stats=True)\n",
      "    )\n",
      "  )\n",
      "  (layer2): Sequential(\n",
      "    (0): BasicBlock(\n",
      "      (conv1): Conv2d(64, 128, kernel_size=(3, 3), stride=(2, 2), padding=(1, 1), bias=False)\n",
      "      (bn1): BatchNorm2d(128, eps=1e-05, momentum=0.1, affine=True, track_running_stats=True)\n",
      "      (relu): ReLU(inplace=True)\n",
      "      (conv2): Conv2d(128, 128, kernel_size=(3, 3), stride=(1, 1), padding=(1, 1), bias=False)\n",
      "      (bn2): BatchNorm2d(128, eps=1e-05, momentum=0.1, affine=True, track_running_stats=True)\n",
      "      (downsample): Sequential(\n",
      "        (0): Conv2d(64, 128, kernel_size=(1, 1), stride=(2, 2), bias=False)\n",
      "        (1): BatchNorm2d(128, eps=1e-05, momentum=0.1, affine=True, track_running_stats=True)\n",
      "      )\n",
      "    )\n",
      "    (1): BasicBlock(\n",
      "      (conv1): Conv2d(128, 128, kernel_size=(3, 3), stride=(1, 1), padding=(1, 1), bias=False)\n",
      "      (bn1): BatchNorm2d(128, eps=1e-05, momentum=0.1, affine=True, track_running_stats=True)\n",
      "      (relu): ReLU(inplace=True)\n",
      "      (conv2): Conv2d(128, 128, kernel_size=(3, 3), stride=(1, 1), padding=(1, 1), bias=False)\n",
      "      (bn2): BatchNorm2d(128, eps=1e-05, momentum=0.1, affine=True, track_running_stats=True)\n",
      "    )\n",
      "  )\n",
      "  (layer3): Sequential(\n",
      "    (0): BasicBlock(\n",
      "      (conv1): Conv2d(128, 256, kernel_size=(3, 3), stride=(2, 2), padding=(1, 1), bias=False)\n",
      "      (bn1): BatchNorm2d(256, eps=1e-05, momentum=0.1, affine=True, track_running_stats=True)\n",
      "      (relu): ReLU(inplace=True)\n",
      "      (conv2): Conv2d(256, 256, kernel_size=(3, 3), stride=(1, 1), padding=(1, 1), bias=False)\n",
      "      (bn2): BatchNorm2d(256, eps=1e-05, momentum=0.1, affine=True, track_running_stats=True)\n",
      "      (downsample): Sequential(\n",
      "        (0): Conv2d(128, 256, kernel_size=(1, 1), stride=(2, 2), bias=False)\n",
      "        (1): BatchNorm2d(256, eps=1e-05, momentum=0.1, affine=True, track_running_stats=True)\n",
      "      )\n",
      "    )\n",
      "    (1): BasicBlock(\n",
      "      (conv1): Conv2d(256, 256, kernel_size=(3, 3), stride=(1, 1), padding=(1, 1), bias=False)\n",
      "      (bn1): BatchNorm2d(256, eps=1e-05, momentum=0.1, affine=True, track_running_stats=True)\n",
      "      (relu): ReLU(inplace=True)\n",
      "      (conv2): Conv2d(256, 256, kernel_size=(3, 3), stride=(1, 1), padding=(1, 1), bias=False)\n",
      "      (bn2): BatchNorm2d(256, eps=1e-05, momentum=0.1, affine=True, track_running_stats=True)\n",
      "    )\n",
      "  )\n",
      "  (layer4): Sequential(\n",
      "    (0): BasicBlock(\n",
      "      (conv1): Conv2d(256, 512, kernel_size=(3, 3), stride=(2, 2), padding=(1, 1), bias=False)\n",
      "      (bn1): BatchNorm2d(512, eps=1e-05, momentum=0.1, affine=True, track_running_stats=True)\n",
      "      (relu): ReLU(inplace=True)\n",
      "      (conv2): Conv2d(512, 512, kernel_size=(3, 3), stride=(1, 1), padding=(1, 1), bias=False)\n",
      "      (bn2): BatchNorm2d(512, eps=1e-05, momentum=0.1, affine=True, track_running_stats=True)\n",
      "      (downsample): Sequential(\n",
      "        (0): Conv2d(256, 512, kernel_size=(1, 1), stride=(2, 2), bias=False)\n",
      "        (1): BatchNorm2d(512, eps=1e-05, momentum=0.1, affine=True, track_running_stats=True)\n",
      "      )\n",
      "    )\n",
      "    (1): BasicBlock(\n",
      "      (conv1): Conv2d(512, 512, kernel_size=(3, 3), stride=(1, 1), padding=(1, 1), bias=False)\n",
      "      (bn1): BatchNorm2d(512, eps=1e-05, momentum=0.1, affine=True, track_running_stats=True)\n",
      "      (relu): ReLU(inplace=True)\n",
      "      (conv2): Conv2d(512, 512, kernel_size=(3, 3), stride=(1, 1), padding=(1, 1), bias=False)\n",
      "      (bn2): BatchNorm2d(512, eps=1e-05, momentum=0.1, affine=True, track_running_stats=True)\n",
      "    )\n",
      "  )\n",
      "  (avgpool): AdaptiveAvgPool2d(output_size=(1, 1))\n",
      "  (fc): Linear(in_features=512, out_features=1000, bias=True)\n",
      ")\n"
     ]
    }
   ],
   "source": [
    "print(resnet_model)"
   ]
  },
  {
   "cell_type": "markdown",
   "id": "9baa7e22",
   "metadata": {},
   "source": [
    "- `Conv2d(3, 64, kernel_size=(7, 7), stride=(2, 2), padding=(3, 3), bias=False)`\n",
    "\n",
    "- **Note**: in the first layer of CNN, we changed the **stride** from 2 to 1. We also changed the kernel_size from **7** to **3**. Because the image sizes were smaller than Images in ImageNet. \n",
    "\n",
    "- **Note2**: In the embedding network that I used, I didn't resize images to **224**, I used the same size of the image and I obtained feature-maps of size 50. "
   ]
  },
  {
   "cell_type": "code",
   "execution_count": 7,
   "id": "ed3204b4",
   "metadata": {},
   "outputs": [],
   "source": [
    "class ResNetForHeatmaps(nn.Module):\n",
    "    def __init__(self, dimension=50):\n",
    "        super(ResNetForHeatmaps, self).__init__()\n",
    "        self.dimension = dimension \n",
    "        self.resnet = models.resnet18(weights=ResNet18_Weights.IMAGENET1K_V1)\n",
    "        # Modify the first convelution layer\n",
    "        self.resnet.conv1 = nn.Conv2d(1, 64, kernel_size=(3, 3), stride=(1, 1),\n",
    "                                      padding=(1, 1), bias=False)\n",
    "        self.resnet.fc = nn.Linear(self.resnet.fc.in_features, 50)\n",
    "        \n",
    "    def forward(self,x):\n",
    "        x = self.resnet(x)\n",
    "        return(x)"
   ]
  },
  {
   "cell_type": "code",
   "execution_count": 8,
   "id": "4a8e2e2a",
   "metadata": {
    "scrolled": true
   },
   "outputs": [],
   "source": [
    "modify_resnet = ResNetForHeatmaps()"
   ]
  },
  {
   "cell_type": "code",
   "execution_count": null,
   "id": "cd25544f",
   "metadata": {},
   "outputs": [],
   "source": [
    "# use model for heatmap embedding\n",
    "\n",
    "modify_resnet.eval()\n",
    "heatmap_embed = modify_resnet(torch.tensor(heatmaps))"
   ]
  },
  {
   "cell_type": "code",
   "execution_count": null,
   "id": "1abb65af",
   "metadata": {},
   "outputs": [],
   "source": [
    "# kernel died when I was going to test this \n",
    "\n",
    "heatmap_tenosr = torch.tensor(heatmaps)"
   ]
  },
  {
   "cell_type": "code",
   "execution_count": null,
   "id": "a63d6960",
   "metadata": {},
   "outputs": [],
   "source": [
    "dataset = TensorDataset(heatmaps_tensor)\n",
    "dataloader = DataLoader(dataset, batch_size=64, shuffle=False)"
   ]
  },
  {
   "cell_type": "markdown",
   "id": "2c4eb376",
   "metadata": {},
   "source": [
    "### The reason of choosing the parameters"
   ]
  },
  {
   "cell_type": "code",
   "execution_count": 3,
   "id": "b48b8b13",
   "metadata": {},
   "outputs": [
    {
     "name": "stderr",
     "output_type": "stream",
     "text": [
      "/dhc/home/masoumeh.javanbakhat/anaconda3/envs/myenv2/lib/python3.9/site-packages/torchvision/models/_utils.py:208: UserWarning: The parameter 'pretrained' is deprecated since 0.13 and may be removed in the future, please use 'weights' instead.\n",
      "  warnings.warn(\n",
      "/dhc/home/masoumeh.javanbakhat/anaconda3/envs/myenv2/lib/python3.9/site-packages/torchvision/models/_utils.py:223: UserWarning: Arguments other than a weight enum or `None` for 'weights' are deprecated since 0.13 and may be removed in the future. The current behavior is equivalent to passing `weights=ResNet18_Weights.IMAGENET1K_V1`. You can also use `weights=ResNet18_Weights.DEFAULT` to get the most up-to-date weights.\n",
      "  warnings.warn(msg)\n"
     ]
    }
   ],
   "source": [
    " model = models.resnet18(pretrained=True)"
   ]
  },
  {
   "cell_type": "markdown",
   "id": "dc4fa2c2",
   "metadata": {},
   "source": [
    "- kernel_size=(7, 7):\n",
    "\n",
    "  - Reason: The original ResNet architecture uses a 7x7 kernel size in its first convolutional layer. This large kernel size helps capture broad spatial features and is designed to reduce the spatial dimensions of the input effectively.\n",
    "\n",
    "  - Effect: A 7x7 kernel allows the network to learn features over a larger area of the input, which is useful for capturing complex patterns early in the network."
   ]
  },
  {
   "cell_type": "markdown",
   "id": "a7597841",
   "metadata": {},
   "source": [
    "## Using Dimensionality Reduction before GMM"
   ]
  },
  {
   "cell_type": "code",
   "execution_count": 3,
   "id": "16b7f32e",
   "metadata": {},
   "outputs": [],
   "source": [
    "root_dir = Path('/dhc/home/masoumeh.javanbakhat/netstore-old/Baysian/3D')\n",
    "\n",
    "heatmap_dir = root_dir/'Explainability'/'Codes'/'heatmaps'"
   ]
  },
  {
   "cell_type": "code",
   "execution_count": 4,
   "id": "751ac1ee",
   "metadata": {},
   "outputs": [],
   "source": [
    "exp = 4\n",
    "\n",
    "seed = 42\n",
    "\n",
    "latentvar = 'shape' \n",
    "\n",
    "latentcls = str([1,2])"
   ]
  },
  {
   "cell_type": "code",
   "execution_count": 5,
   "id": "9b464fd3",
   "metadata": {},
   "outputs": [],
   "source": [
    "heatmaps = np.load(os.path.join(heatmap_dir,\n",
    "                          f'{exp}_{seed}_{latentvar}_{latentcls}_htm.npy'))"
   ]
  },
  {
   "cell_type": "code",
   "execution_count": 6,
   "id": "ecb226f4",
   "metadata": {},
   "outputs": [
    {
     "name": "stdout",
     "output_type": "stream",
     "text": [
      "(491520, 64, 64)\n"
     ]
    }
   ],
   "source": [
    "print(heatmaps.shape)"
   ]
  },
  {
   "cell_type": "markdown",
   "id": "9f99deef",
   "metadata": {},
   "source": [
    "### Using PCA for dimensionality reduction and then applying GMM\n",
    "\n",
    "- Note that here, since we have memory issue, we use **incrimental PCA**, and read data in batches \n",
    "\n",
    "- Note that in ipca, we can not use `n_components=0.95`, since here we read the data in batches. For different batches, 95% varinace can result in different number of optimal cluster.\n",
    "\n",
    "- In order to find the right number of clusters in ipca, we choose a small subset of dataset. We detremine the number of clusters for this subset of data and apply it in ipca. "
   ]
  },
  {
   "cell_type": "markdown",
   "id": "411e33f7",
   "metadata": {},
   "source": [
    "- Note that, since the number of heatmaps that we have is high. In order to see if 10000 samples is a good approximate for detrmining the right number of clusters, we can look at different sample sizes and look at the number of clusters that preserve 95% of varinace.\n",
    "\n",
    "- If there is no huge variation between number of clusters, then we conclude that 10000 samples is a good approximate to estimate number of clusters in whole data that we have."
   ]
  },
  {
   "cell_type": "markdown",
   "id": "9a239b67",
   "metadata": {},
   "source": [
    "- Note that here, I forgot to scale the data before applying pca, so I repeated everything again."
   ]
  },
  {
   "cell_type": "code",
   "execution_count": 8,
   "id": "64a87e38",
   "metadata": {},
   "outputs": [
    {
     "name": "stdout",
     "output_type": "stream",
     "text": [
      "sample_size:10000, number_of_clusters:28\n",
      "sample_size:30000, number_of_clusters:28\n",
      "sample_size:50000, number_of_clusters:30\n",
      "Total time is:50.43896126747131\n",
      "\n"
     ]
    }
   ],
   "source": [
    "# using pca to find right number of clusters\n",
    "\n",
    "start_time = time.time()\n",
    "# Adjusting sample_size based on Memory that we have \n",
    "for sample_size in range(10000,60001,20000):\n",
    "    subset = heatmaps[:sample_size].reshape(sample_size, -1)\n",
    "    scaler = StandardScaler()\n",
    "    heatmaps_scaled = scaler.fit_transform(subset)\n",
    "    pca = PCA()\n",
    "    pca.fit(heatmaps_scaled)\n",
    "    cumsum = np.cumsum(pca.explained_variance_ratio_)\n",
    "    d = np.argmax(cumsum >= 0.95) + 1\n",
    "    \n",
    "    print(f'sample_size:{sample_size}, number_of_clusters:{d}')\n",
    "    \n",
    "end_time = time.time()\n",
    "\n",
    "print(f'Total time is:{end_time - start_time}\\n')"
   ]
  },
  {
   "cell_type": "code",
   "execution_count": 7,
   "id": "a92dbf78",
   "metadata": {},
   "outputs": [
    {
     "name": "stdout",
     "output_type": "stream",
     "text": [
      "31\n"
     ]
    }
   ],
   "source": [
    "subset = heatmaps[:60000].reshape(60000, -1)\n",
    "\n",
    "scaler = StandardScaler()\n",
    "heatmaps_scaled_total = scaler.fit_transform(subset)\n",
    "\n",
    "pca = PCA()\n",
    "\n",
    "pca.fit(heatmaps_scaled_total)\n",
    "cumsum = np.cumsum(pca.explained_variance_ratio_)\n",
    "d = np.argmax(cumsum >= 0.95) + 1\n",
    "\n",
    "print(d)"
   ]
  },
  {
   "cell_type": "markdown",
   "id": "713d50d3",
   "metadata": {},
   "source": [
    "- Note that, here when we didn't scale the data, we obtained 22 clusters from pca. But, after scaling the data, we obtained 28 and 30 clusters from PCA. \n",
    "\n",
    "- Note that here we obtained following numbers for the number of clusters:\n",
    "\n",
    "  - sample_size:10000, number_of_clusters:28\n",
    "  - sample_size:30000, number_of_clusters:28\n",
    "  - sample_size:50000, number_of_clusters:30\n",
    "  - sample_size:60000, number_of_clusters:31\n",
    "  \n",
    "- Based on what we obtained we use **31** cluster for inpca and then we invetigate the quality of clusters using the following metrics like: Silhouette Score, Davies-Bouldin Index\n",
    "\n",
    "- Below, we repeated the experiment, since we haven't scaled data"
   ]
  },
  {
   "cell_type": "code",
   "execution_count": 8,
   "id": "ea883fed",
   "metadata": {},
   "outputs": [
    {
     "name": "stdout",
     "output_type": "stream",
     "text": [
      "n_batches:49\n",
      "batch_idx:0\n",
      "batch_idx:1\n",
      "batch_idx:2\n",
      "batch_idx:3\n",
      "batch_idx:4\n",
      "batch_idx:5\n",
      "batch_idx:6\n",
      "batch_idx:7\n",
      "batch_idx:8\n",
      "batch_idx:9\n",
      "batch_idx:10\n",
      "batch_idx:11\n",
      "batch_idx:12\n",
      "batch_idx:13\n",
      "batch_idx:14\n",
      "batch_idx:15\n",
      "batch_idx:16\n",
      "batch_idx:17\n",
      "batch_idx:18\n",
      "batch_idx:19\n",
      "batch_idx:20\n",
      "batch_idx:21\n",
      "batch_idx:22\n",
      "batch_idx:23\n",
      "batch_idx:24\n",
      "batch_idx:25\n",
      "batch_idx:26\n",
      "batch_idx:27\n",
      "batch_idx:28\n",
      "batch_idx:29\n",
      "batch_idx:30\n",
      "batch_idx:31\n",
      "batch_idx:32\n",
      "batch_idx:33\n",
      "batch_idx:34\n",
      "batch_idx:35\n",
      "batch_idx:36\n",
      "batch_idx:37\n",
      "batch_idx:38\n",
      "batch_idx:39\n",
      "batch_idx:40\n",
      "batch_idx:41\n",
      "batch_idx:42\n",
      "batch_idx:43\n",
      "batch_idx:44\n",
      "batch_idx:45\n",
      "batch_idx:46\n",
      "batch_idx:47\n",
      "batch_idx:48\n"
     ]
    }
   ],
   "source": [
    "# running increamental pca\n",
    "\n",
    "from sklearn.decomposition import IncrementalPCA\n",
    "\n",
    "# Initialize IncrementalPCA\n",
    "ipca = IncrementalPCA(n_components=31)\n",
    "\n",
    "batch_size = 10000\n",
    "n_batches = heatmaps.shape[0]//batch_size\n",
    "print(f'n_batches:{n_batches}')\n",
    "batch_idx = 0\n",
    "# Assuming heatmaps is a numpy array of shape (491520, 64, 64)\n",
    "for x_batch in np.array_split(heatmaps,n_batches):\n",
    "    print(f'batch_idx:{batch_idx}')\n",
    "    x_batch = x_batch.reshape(-1, 64*64)\n",
    "    scaler = StandardScaler()\n",
    "    x_batch_scaled = scaler.fit_transform(x_batch) \n",
    "    ipca.partial_fit(x_batch_scaled)\n",
    "    batch_idx+=1\n",
    "    "
   ]
  },
  {
   "cell_type": "markdown",
   "id": "38c6d7c6",
   "metadata": {},
   "source": [
    "- Note that, we should apply ipca on flattend heatmaps"
   ]
  },
  {
   "cell_type": "code",
   "execution_count": 9,
   "id": "f9303b96",
   "metadata": {},
   "outputs": [],
   "source": [
    "# Calculate the explained variance ratio \n",
    "# to plot as a function of number of dimension\n",
    "\n",
    "explained_variance_ratio = ipca.explained_variance_ratio_\n",
    "cumulative_explained_variance = np.cumsum(explained_variance_ratio)"
   ]
  },
  {
   "cell_type": "code",
   "execution_count": 10,
   "id": "87ce3841",
   "metadata": {},
   "outputs": [],
   "source": [
    "# Transform the data in batches\n",
    "batch_size = 10000\n",
    "\n",
    "transformed_heatmaps = np.empty((heatmaps.shape[0], 31))\n",
    "for i in range(0, heatmaps.shape[0], batch_size):\n",
    "    batch = heatmaps[i:i+batch_size].reshape(-1, 64*64)\n",
    "    scaler = StandardScaler()\n",
    "    batch_scaled = scaler.fit_transform(batch) \n",
    "    transformed_heatmaps[i:i+batch_size] = ipca.transform(batch_scaled)"
   ]
  },
  {
   "cell_type": "code",
   "execution_count": 11,
   "id": "c61f362c",
   "metadata": {},
   "outputs": [
    {
     "name": "stdout",
     "output_type": "stream",
     "text": [
      "(491520, 31)\n"
     ]
    }
   ],
   "source": [
    "print(transformed_heatmaps.shape)"
   ]
  },
  {
   "cell_type": "code",
   "execution_count": 12,
   "id": "f6661718",
   "metadata": {},
   "outputs": [],
   "source": [
    "# let's save these reduced heatmaps\n",
    "heatmap_embed_dir = root_dir/'Explainability'/'Codes'/'heatmap_embeddings'\n",
    "\n",
    "np.save(os.path.join(heatmap_embed_dir,f'{seed}_{exp}_shape_[1,2]_pca_31_heatmap_red_scaled.npy'),transformed_heatmaps)"
   ]
  },
  {
   "cell_type": "markdown",
   "id": "3b94c20e",
   "metadata": {},
   "source": [
    "### Cheking if pca reduces the dimension correctly:\n",
    "\n",
    " - To determine if our PCA (Principal Component Analysis) was effective and performed properly, especially in terms of how many dimensions to retain and whether we've lost too much important information, we can follow several steps:\n",
    " \n",
    "   - **1. Explained Variance and Scree Plot**: Typically, the first few PCs capture most of the variance.\n",
    "     - Cumulative Explained Variance:  A common rule of thumb is to keep enough PCs to explain 85-95% of the variance, though the specific cutoff depends on our data and goals. \n",
    "     - Screen plot: This is a plot of the explained variance versus the number of components. Look for the elbow point—a sharp drop-off where additional components add little extra explained variance. This helps identify a reasonable number of PCs to retain.\n",
    "     \n",
    "   - **2. Recunstruction Error**: We can compute the recunstruction error and the lower the reconstruction error, the least information we have lost. If the error is too high, it indicates that too much information has been lost, and we may need to keep more PCs.    \n",
    "   - **3. Variance Retained and Scree Plot Interpretation**:\n",
    "   \n",
    "      - Variance Threshold: Decide on a reasonable threshold for the variance you want to retain. For example, if you retain 90% of the variance, it means that you're keeping most of the important structure in the data, but you might still lose some finer details.\n",
    "      \n",
    "      - Interpretation: If the first few PCs explain the majority of the variance, PCA has done well in capturing the essential structure. If many PCs are needed to explain even 80% of the variance, the data might be more complex, and we should retain more components.\n",
    "      \n",
    "   - **4. Downstream Task Performance**:\n",
    "       - Machine Learning Models: If we're using PCA as a preprocessing step for a machine learning task, we should assess whether the performance of our downstream task (classification, regression, etc.) improves or remains comparable. A large drop in model performance indicates that PCA removed critical information.\n",
    "       \n",
    "   - **5. Cross-validation in PCA**:\n",
    "   \n",
    "      - Perform cross-validation to ensure that your PCA results are stable. You can split your data into training and test sets, apply PCA on the training set, and evaluate how well the test set is represented with the same PCA components. This helps verify that PCA is not overfitting the data.\n",
    "      \n",
    " - Note that, evaluation metrics like, Silhouette Score, Calinski-Harabasz Index, and Davies-Bouldin Index are not for assessing PCA. They are useful for assessing clustering methods like GMM, Kmeans. PCA is usually used for Dimensionality Reduction and common approaches to evaluate its effectiveness are: \n",
    " \n",
    "   - **Explained Variance Ratio**: How much variance is retained by the principal components.\n",
    "   - **Reconstruction Error**: How well the reduced-dimension data can reconstruct the original data.\n",
    "    - **Cross-Validation**: Use a training-test split and see how well PCA generalizes across datasets."
   ]
  },
  {
   "cell_type": "markdown",
   "id": "e6527056",
   "metadata": {},
   "source": [
    "#### 5. Steps to apply Cross-Validation in PCA:\n",
    "\n",
    "  - Split Your Data: First, split your data into a training set and a test set. For example, you can use an 80/20 split.\n",
    "\n",
    "   - **Fit PCA on the Training Set**: Apply PCA only on the training set to compute the principal components. You should not use the test set during this step.\n",
    "\n",
    "   - **Transform the Test Set Using the Same PCA Components**: After fitting PCA on the training set, use the same PCA model to transform the test set. This means projecting the test set onto the principal components that were learned from the training set.\n",
    "\n",
    "   - **Evaluate the Test Set Representation**: There are a few methods to evaluate how well the test set is represented by the PCA model. The most common approaches are:\n",
    "\n",
    "   - **Reconstruction Error**: This measures how well the test set data can be reconstructed using the PCA components. A low reconstruction error indicates that the test data is well represented by the principal components.\n",
    "   \n",
    "   - **Explained Variance on Test Set**: This calculates how much of the variance in the test set is explained by the principal components from the training set.\n"
   ]
  },
  {
   "cell_type": "code",
   "execution_count": null,
   "id": "2f117b01",
   "metadata": {},
   "outputs": [],
   "source": [
    "import numpy as np\n",
    "from sklearn.decomposition import PCA\n",
    "from sklearn.model_selection import train_test_split\n",
    "from sklearn.preprocessing import StandardScaler\n",
    "from sklearn.metrics import mean_squared_error\n",
    "\n",
    "# Assuming heatmaps is your data of shape (491520, 64, 64)\n",
    "# Reshape and standardize the data\n",
    "data = heatmaps.reshape(heatmaps.shape[0], -1)\n",
    "scaler = StandardScaler()\n",
    "data_scaled = scaler.fit_transform(data)\n",
    "\n",
    "# Split data into training and test sets (e.g., 80% training, 20% test)\n",
    "X_train, X_test = train_test_split(data_scaled, test_size=0.2, random_state=42)\n",
    "\n",
    "# Apply PCA on the training set\n",
    "n_components = 31  # Number of components you decided to use\n",
    "pca = PCA(n_components=n_components)\n",
    "X_train_pca = pca.fit_transform(X_train)\n",
    "\n",
    "# Transform the test set using the PCA model from the training set\n",
    "X_test_pca = pca.transform(X_test)\n",
    "\n",
    "# Reconstruct the test set from the reduced PCA components\n",
    "X_test_reconstructed = pca.inverse_transform(X_test_pca)\n",
    "\n",
    "# Compute the reconstruction error (Mean Squared Error)\n",
    "reconstruction_error = mean_squared_error(X_test, X_test_reconstructed)\n",
    "print(f'Reconstruction Error: {reconstruction_error}')\n"
   ]
  },
  {
   "cell_type": "code",
   "execution_count": null,
   "id": "6806d7b3",
   "metadata": {},
   "outputs": [],
   "source": [
    "# Explained variance on the test set\n",
    "explained_variance_test = np.var(X_test_pca, axis=0).sum() / np.var(X_test, axis=0).sum()\n",
    "print(f'Explained Variance on Test Set: {explained_variance_test:.2f}')\n"
   ]
  },
  {
   "cell_type": "code",
   "execution_count": 15,
   "id": "d81e7942",
   "metadata": {},
   "outputs": [
    {
     "data": {
      "image/png": "[encoded data removed]",
      "text/plain": [
       "<Figure size 1200x600 with 2 Axes>"
      ]
     },
     "metadata": {},
     "output_type": "display_data"
    }
   ],
   "source": [
    "# screen plot\n",
    "\n",
    "plt.figure(figsize=(12, 6))\n",
    "\n",
    "# Plot explained variance ratio\n",
    "plt.subplot(1, 2, 1)\n",
    "plt.plot(range(1, len(explained_variance_ratio) + 1), explained_variance_ratio, marker='o', linestyle='--')\n",
    "plt.xlabel('Number of Principal Components')\n",
    "plt.ylabel('Explained Variance Ratio')\n",
    "plt.title('Explained Variance Ratio vs Number of Components')\n",
    "plt.grid(True)\n",
    "\n",
    "# Plot cumulative explained variance\n",
    "plt.subplot(1, 2, 2)\n",
    "plt.plot(range(1, len(cumulative_explained_variance) + 1), cumulative_explained_variance, marker='o', linestyle='--')\n",
    "plt.xlabel('Number of Principal Components')\n",
    "plt.ylabel('Cumulative Explained Variance')\n",
    "plt.title('Cumulative Explained Variance vs Number of Components')\n",
    "plt.grid(True)\n",
    "\n",
    "plt.tight_layout()\n",
    "plt.show()"
   ]
  },
  {
   "cell_type": "markdown",
   "id": "f6673b3a",
   "metadata": {},
   "source": [
    "- The above plot shows that we should still increase the number of components for PCA\n",
    "\n",
    "- However, it shows with **31** cluster we can retain **90%** of varinace in data. \n",
    "\n",
    "- Note that, when we want to reconstruct the original data, we shouldn't scale them. "
   ]
  },
  {
   "cell_type": "code",
   "execution_count": null,
   "id": "f850d1fb",
   "metadata": {},
   "outputs": [],
   "source": [
    "\n",
    "\n",
    "# recover the data in batches\n",
    "batch_size = 10000\n",
    "\n",
    "recovered_heatmaps = np.empty((heatmaps.shape[0], 64*64))\n",
    "for i in range(0, transformed_heatmaps.shape[0], batch_size):\n",
    "    batch = transformed_heatmaps[i:i+batch_size] \n",
    "    recovered_heatmaps[i:i+batch_size] = ipca.inverse_transform(batch)"
   ]
  },
  {
   "cell_type": "markdown",
   "id": "750f5402",
   "metadata": {},
   "source": [
    "- Now the kernel died, but if we compute the recovered heatmaps, then we can compute the reconstruction error as follows:"
   ]
  },
  {
   "cell_type": "code",
   "execution_count": null,
   "id": "8e9e3211",
   "metadata": {},
   "outputs": [],
   "source": [
    "\n",
    "# compute reconstruction error (assuming original data was scaled)\n",
    "reconstruction_error = np.mean((heatmaps_scaled - recovered_heatmaps) ** 2)\n",
    "print(f'Reconstruction Error: {reconstruction_error}')\n"
   ]
  },
  {
   "cell_type": "code",
   "execution_count": null,
   "id": "61a0f885",
   "metadata": {},
   "outputs": [],
   "source": [
    "import numpy as np\n",
    "from sklearn.decomposition import IncrementalPCA\n",
    "from sklearn.metrics import mean_squared_error\n",
    "from sklearn.preprocessing import StandardScaler\n",
    "\n",
    "# Assuming heatmaps is your large dataset (491520, 64, 64) and we split it into 5 folds\n",
    "folds = 5\n",
    "batch_size = 10000\n",
    "data_shape = heatmaps.shape[0]\n",
    "\n",
    "# Reshape and standardize the data\n",
    "heatmaps_flat = heatmaps.reshape(data_shape, -1)\n",
    "\n",
    "# Shuffle data and split indices into 5 folds\n",
    "indices = np.arange(data_shape)\n",
    "np.random.shuffle(indices)\n",
    "fold_size = data_shape // folds\n",
    "folds_indices = [indices[i * fold_size:(i + 1) * fold_size] for i in range(folds)]\n",
    "\n",
    "# Cross-validation loop\n",
    "for fold in range(folds):\n",
    "    print(f\"Fold {fold + 1} / {folds}\")\n",
    "    \n",
    "    # Separate training and test indices\n",
    "    test_indices = folds_indices[fold]\n",
    "    train_indices = np.concatenate([folds_indices[i] for i in range(folds) if i != fold])\n",
    "\n",
    "    # Initialize IncrementalPCA\n",
    "    n_components = 31  # Number of components you want\n",
    "    ipca = IncrementalPCA(n_components=n_components)\n",
    "    \n",
    "    # Standardize and fit IPCA on training data (batch-wise)\n",
    "    for start in range(0, len(train_indices), batch_size):\n",
    "        batch_idx = train_indices[start:start + batch_size]\n",
    "        batch_data = heatmaps_flat[batch_idx]\n",
    "        \n",
    "        # Standardize batch\n",
    "        scaler = StandardScaler()\n",
    "        batch_data_scaled = scaler.fit_transform(batch_data)\n",
    "        \n",
    "        # Fit the batch into IPCA\n",
    "        ipca.partial_fit(batch_data_scaled)\n",
    "    \n",
    "    # Transform the test data using the trained IPCA\n",
    "    reconstruction_errors = []\n",
    "    for start in range(0, len(test_indices), batch_size):\n",
    "        batch_idx = test_indices[start:start + batch_size]\n",
    "        batch_test_data = heatmaps_flat[batch_idx]\n",
    "        \n",
    "        # Standardize test batch\n",
    "        scaler = StandardScaler()\n",
    "        batch_test_scaled = scaler.fit_transform(batch_test_data)\n",
    "        \n",
    "        # Transform and inverse transform the test batch to compute reconstruction error\n",
    "        test_transformed = ipca.transform(batch_test_scaled)\n",
    "        test_reconstructed = ipca.inverse_transform(test_transformed)\n",
    "        \n",
    "        # Compute reconstruction error for this batch\n",
    "        error = mean_squared_error(batch_test_scaled, test_reconstructed)\n",
    "        reconstruction_errors.append(error)\n",
    "    \n",
    "    # Average reconstruction error for this fold\n",
    "    mean_error = np.mean(reconstruction_errors)\n",
    "    print(f\"Fold {fold + 1} Reconstruction Error: {mean_error}\")\n"
   ]
  },
  {
   "cell_type": "markdown",
   "id": "0303a599",
   "metadata": {},
   "source": [
    "#### Applying GMM on reduced heatmaps"
   ]
  },
  {
   "cell_type": "markdown",
   "id": "880121e4",
   "metadata": {},
   "source": [
    "- In GMM, we should find the right number of components. To do so we use Bayesian information metrics like **BIC** and **AIC**. \n",
    "\n",
    "- Note that metrics like silhuete score does not work well here. Because silhuete score does not work well for non spherical shape clusters.\n",
    "\n",
    "- Note that below I got an error for confilicting two libraries for handeling multi-threading, that is between `libiomp` from (Intel OpenMP) and `libomp` from (LLVM OpenMP).\n",
    "\n",
    "- When both of these libraries are loaded at the same time, they conflict because they manage multi-threading differently. \n",
    "\n",
    "- To solve this problem, we use **Thread Control (threadpoolctl)**: We can control which **OpenMP** library is loaded by limiting the number of threads used by each library. Use the **threadpoolctl** library to limit the **number of threads** for **MKL** or **OpenMP** libraries. \n",
    "\n",
    "- An alternative solution, \n",
    "  - Use **Single-Thread Execution**: As a last resort, you can force all your operations to run on a single thread, which avoids parallelism but resolves the OpenMP conflict. You can set the environment variables in your Python script to force single-thread execution:"
   ]
  },
  {
   "cell_type": "markdown",
   "id": "ea00a45f",
   "metadata": {},
   "source": [
    "- In summary, to solve the confilict between two OpenMP libraries (libiomp from Intel and libomp from LLVM),  which can cause issues in parallel computing environments we can try the followings:\n",
    "\n",
    "  - **Controlling thread usage with threadpoolctl** => I tried this but it didn't work\n",
    "  \n",
    "    - `with threadpool_limits(limits=1, user_api='blas'):\n",
    "    \n",
    "            gm_per_k = [GaussianMixture(n_components=k, n_init=10, random_state=42).fit(transformed_heatmaps) for k in range(1, 11)]`\n",
    "            \n",
    "  - **Uninstall Conflicting Libraries**: You can try to resolve the conflict by making sure only one version of OpenMP is used \n",
    "    \n",
    "    - conda list | grep openmp\n",
    "    - conda remove llvm-openmp \n",
    "    \n",
    "  - **Set Environment Variables:** Another option is to set environment variables to enforce the use of only one OpenMP library. You can try setting environment variables to limit the number of threads used: => I didn't try this\n",
    "  \n",
    "    - export OMP_NUM_THREADS=1\n",
    "    - export MKL_NUM_THREADS=1\n",
    "    \n",
    "  - **Use Single-Thread Execution:** As a last resort, you can force all your operations to run on a single thread, which avoids parallelism but resolves the OpenMP conflict. You can set the environment variables in your Python script to force single-thread execution: => I tried this and it worked \n",
    "  \n",
    "    - os.environ[\"OMP_NUM_THREADS\"] = \"1\"\n",
    "    - os.environ[\"MKL_NUM_THREADS\"] = \"1\""
   ]
  },
  {
   "cell_type": "markdown",
   "id": "da136759",
   "metadata": {},
   "source": [
    "- I stopped this because the execution took a lot of time "
   ]
  },
  {
   "cell_type": "code",
   "execution_count": null,
   "id": "3069321e",
   "metadata": {},
   "outputs": [],
   "source": [
    "from sklearn.mixture import GaussianMixture\n",
    "\n",
    "os.environ[\"OMP_NUM_THREADS\"] = \"1\"\n",
    "os.environ[\"MKL_NUM_THREADS\"] = \"1\"\n",
    "\n",
    "\n",
    "gm_per_k = [GaussianMixture(n_components=k, n_init=10, random_state=42).fit(transformed_heatmaps) for k in range(1, 11)]"
   ]
  },
  {
   "cell_type": "markdown",
   "id": "3a6ffa7b",
   "metadata": {},
   "source": [
    "### Using 3 Clusters "
   ]
  },
  {
   "cell_type": "code",
   "execution_count": 12,
   "id": "4479aa24",
   "metadata": {},
   "outputs": [],
   "source": [
    "from sklearn.mixture import GaussianMixture"
   ]
  },
  {
   "cell_type": "markdown",
   "id": "abd7852e",
   "metadata": {},
   "source": [
    "- Let's apply GMM on scaled_heatmaps that we saved using 31 principal components."
   ]
  },
  {
   "cell_type": "code",
   "execution_count": 9,
   "id": "eb6c602d",
   "metadata": {},
   "outputs": [],
   "source": [
    "exp = 4\n",
    "\n",
    "seed = 42\n",
    "\n",
    "latentvar = 'shape' \n",
    "\n",
    "latentcls = str([1,2])"
   ]
  },
  {
   "cell_type": "code",
   "execution_count": 10,
   "id": "b79d000e",
   "metadata": {},
   "outputs": [],
   "source": [
    "root_dir = Path('/dhc/home/masoumeh.javanbakhat/netstore-old/Baysian/3D')\n",
    "\n",
    "heatmap_embed_dir = root_dir/'Explainability'/'Codes'/'heatmap_embeddings'\n",
    "\n",
    "heatmap_pca_31 = np.load(os.path.join(heatmap_embed_dir,f'{seed}_{exp}_shape_[1,2]_pca_31_heatmap_red_scaled.npy'))"
   ]
  },
  {
   "cell_type": "code",
   "execution_count": 14,
   "id": "cc39df82",
   "metadata": {},
   "outputs": [],
   "source": [
    "os.environ[\"OMP_NUM_THREADS\"] = \"1\"\n",
    "os.environ[\"MKL_NUM_THREADS\"] = \"1\""
   ]
  },
  {
   "cell_type": "code",
   "execution_count": 15,
   "id": "146623ae",
   "metadata": {},
   "outputs": [
    {
     "data": {
      "text/html": [
       "<style>#sk-container-id-1 {\n",
       "  /* Definition of color scheme common for light and dark mode */\n",
       "  --sklearn-color-text: black;\n",
       "  --sklearn-color-line: gray;\n",
       "  /* Definition of color scheme for unfitted estimators */\n",
       "  --sklearn-color-unfitted-level-0: #fff5e6;\n",
       "  --sklearn-color-unfitted-level-1: #f6e4d2;\n",
       "  --sklearn-color-unfitted-level-2: #ffe0b3;\n",
       "  --sklearn-color-unfitted-level-3: chocolate;\n",
       "  /* Definition of color scheme for fitted estimators */\n",
       "  --sklearn-color-fitted-level-0: #f0f8ff;\n",
       "  --sklearn-color-fitted-level-1: #d4ebff;\n",
       "  --sklearn-color-fitted-level-2: #b3dbfd;\n",
       "  --sklearn-color-fitted-level-3: cornflowerblue;\n",
       "\n",
       "  /* Specific color for light theme */\n",
       "  --sklearn-color-text-on-default-background: var(--sg-text-color, var(--theme-code-foreground, var(--jp-content-font-color1, black)));\n",
       "  --sklearn-color-background: var(--sg-background-color, var(--theme-background, var(--jp-layout-color0, white)));\n",
       "  --sklearn-color-border-box: var(--sg-text-color, var(--theme-code-foreground, var(--jp-content-font-color1, black)));\n",
       "  --sklearn-color-icon: #696969;\n",
       "\n",
       "  @media (prefers-color-scheme: dark) {\n",
       "    /* Redefinition of color scheme for dark theme */\n",
       "    --sklearn-color-text-on-default-background: var(--sg-text-color, var(--theme-code-foreground, var(--jp-content-font-color1, white)));\n",
       "    --sklearn-color-background: var(--sg-background-color, var(--theme-background, var(--jp-layout-color0, #111)));\n",
       "    --sklearn-color-border-box: var(--sg-text-color, var(--theme-code-foreground, var(--jp-content-font-color1, white)));\n",
       "    --sklearn-color-icon: #878787;\n",
       "  }\n",
       "}\n",
       "\n",
       "#sk-container-id-1 {\n",
       "  color: var(--sklearn-color-text);\n",
       "}\n",
       "\n",
       "#sk-container-id-1 pre {\n",
       "  padding: 0;\n",
       "}\n",
       "\n",
       "#sk-container-id-1 input.sk-hidden--visually {\n",
       "  border: 0;\n",
       "  clip: rect(1px 1px 1px 1px);\n",
       "  clip: rect(1px, 1px, 1px, 1px);\n",
       "  height: 1px;\n",
       "  margin: -1px;\n",
       "  overflow: hidden;\n",
       "  padding: 0;\n",
       "  position: absolute;\n",
       "  width: 1px;\n",
       "}\n",
       "\n",
       "#sk-container-id-1 div.sk-dashed-wrapped {\n",
       "  border: 1px dashed var(--sklearn-color-line);\n",
       "  margin: 0 0.4em 0.5em 0.4em;\n",
       "  box-sizing: border-box;\n",
       "  padding-bottom: 0.4em;\n",
       "  background-color: var(--sklearn-color-background);\n",
       "}\n",
       "\n",
       "#sk-container-id-1 div.sk-container {\n",
       "  /* jupyter's `normalize.less` sets `[hidden] { display: none; }`\n",
       "     but bootstrap.min.css set `[hidden] { display: none !important; }`\n",
       "     so we also need the `!important` here to be able to override the\n",
       "     default hidden behavior on the sphinx rendered scikit-learn.org.\n",
       "     See: https://github.com/scikit-learn/scikit-learn/issues/21755 */\n",
       "  display: inline-block !important;\n",
       "  position: relative;\n",
       "}\n",
       "\n",
       "#sk-container-id-1 div.sk-text-repr-fallback {\n",
       "  display: none;\n",
       "}\n",
       "\n",
       "div.sk-parallel-item,\n",
       "div.sk-serial,\n",
       "div.sk-item {\n",
       "  /* draw centered vertical line to link estimators */\n",
       "  background-image: linear-gradient(var(--sklearn-color-text-on-default-background), var(--sklearn-color-text-on-default-background));\n",
       "  background-size: 2px 100%;\n",
       "  background-repeat: no-repeat;\n",
       "  background-position: center center;\n",
       "}\n",
       "\n",
       "/* Parallel-specific style estimator block */\n",
       "\n",
       "#sk-container-id-1 div.sk-parallel-item::after {\n",
       "  content: \"\";\n",
       "  width: 100%;\n",
       "  border-bottom: 2px solid var(--sklearn-color-text-on-default-background);\n",
       "  flex-grow: 1;\n",
       "}\n",
       "\n",
       "#sk-container-id-1 div.sk-parallel {\n",
       "  display: flex;\n",
       "  align-items: stretch;\n",
       "  justify-content: center;\n",
       "  background-color: var(--sklearn-color-background);\n",
       "  position: relative;\n",
       "}\n",
       "\n",
       "#sk-container-id-1 div.sk-parallel-item {\n",
       "  display: flex;\n",
       "  flex-direction: column;\n",
       "}\n",
       "\n",
       "#sk-container-id-1 div.sk-parallel-item:first-child::after {\n",
       "  align-self: flex-end;\n",
       "  width: 50%;\n",
       "}\n",
       "\n",
       "#sk-container-id-1 div.sk-parallel-item:last-child::after {\n",
       "  align-self: flex-start;\n",
       "  width: 50%;\n",
       "}\n",
       "\n",
       "#sk-container-id-1 div.sk-parallel-item:only-child::after {\n",
       "  width: 0;\n",
       "}\n",
       "\n",
       "/* Serial-specific style estimator block */\n",
       "\n",
       "#sk-container-id-1 div.sk-serial {\n",
       "  display: flex;\n",
       "  flex-direction: column;\n",
       "  align-items: center;\n",
       "  background-color: var(--sklearn-color-background);\n",
       "  padding-right: 1em;\n",
       "  padding-left: 1em;\n",
       "}\n",
       "\n",
       "\n",
       "/* Toggleable style: style used for estimator/Pipeline/ColumnTransformer box that is\n",
       "clickable and can be expanded/collapsed.\n",
       "- Pipeline and ColumnTransformer use this feature and define the default style\n",
       "- Estimators will overwrite some part of the style using the `sk-estimator` class\n",
       "*/\n",
       "\n",
       "/* Pipeline and ColumnTransformer style (default) */\n",
       "\n",
       "#sk-container-id-1 div.sk-toggleable {\n",
       "  /* Default theme specific background. It is overwritten whether we have a\n",
       "  specific estimator or a Pipeline/ColumnTransformer */\n",
       "  background-color: var(--sklearn-color-background);\n",
       "}\n",
       "\n",
       "/* Toggleable label */\n",
       "#sk-container-id-1 label.sk-toggleable__label {\n",
       "  cursor: pointer;\n",
       "  display: block;\n",
       "  width: 100%;\n",
       "  margin-bottom: 0;\n",
       "  padding: 0.5em;\n",
       "  box-sizing: border-box;\n",
       "  text-align: center;\n",
       "}\n",
       "\n",
       "#sk-container-id-1 label.sk-toggleable__label-arrow:before {\n",
       "  /* Arrow on the left of the label */\n",
       "  content: \"▸\";\n",
       "  float: left;\n",
       "  margin-right: 0.25em;\n",
       "  color: var(--sklearn-color-icon);\n",
       "}\n",
       "\n",
       "#sk-container-id-1 label.sk-toggleable__label-arrow:hover:before {\n",
       "  color: var(--sklearn-color-text);\n",
       "}\n",
       "\n",
       "/* Toggleable content - dropdown */\n",
       "\n",
       "#sk-container-id-1 div.sk-toggleable__content {\n",
       "  max-height: 0;\n",
       "  max-width: 0;\n",
       "  overflow: hidden;\n",
       "  text-align: left;\n",
       "  /* unfitted */\n",
       "  background-color: var(--sklearn-color-unfitted-level-0);\n",
       "}\n",
       "\n",
       "#sk-container-id-1 div.sk-toggleable__content.fitted {\n",
       "  /* fitted */\n",
       "  background-color: var(--sklearn-color-fitted-level-0);\n",
       "}\n",
       "\n",
       "#sk-container-id-1 div.sk-toggleable__content pre {\n",
       "  margin: 0.2em;\n",
       "  border-radius: 0.25em;\n",
       "  color: var(--sklearn-color-text);\n",
       "  /* unfitted */\n",
       "  background-color: var(--sklearn-color-unfitted-level-0);\n",
       "}\n",
       "\n",
       "#sk-container-id-1 div.sk-toggleable__content.fitted pre {\n",
       "  /* unfitted */\n",
       "  background-color: var(--sklearn-color-fitted-level-0);\n",
       "}\n",
       "\n",
       "#sk-container-id-1 input.sk-toggleable__control:checked~div.sk-toggleable__content {\n",
       "  /* Expand drop-down */\n",
       "  max-height: 200px;\n",
       "  max-width: 100%;\n",
       "  overflow: auto;\n",
       "}\n",
       "\n",
       "#sk-container-id-1 input.sk-toggleable__control:checked~label.sk-toggleable__label-arrow:before {\n",
       "  content: \"▾\";\n",
       "}\n",
       "\n",
       "/* Pipeline/ColumnTransformer-specific style */\n",
       "\n",
       "#sk-container-id-1 div.sk-label input.sk-toggleable__control:checked~label.sk-toggleable__label {\n",
       "  color: var(--sklearn-color-text);\n",
       "  background-color: var(--sklearn-color-unfitted-level-2);\n",
       "}\n",
       "\n",
       "#sk-container-id-1 div.sk-label.fitted input.sk-toggleable__control:checked~label.sk-toggleable__label {\n",
       "  background-color: var(--sklearn-color-fitted-level-2);\n",
       "}\n",
       "\n",
       "/* Estimator-specific style */\n",
       "\n",
       "/* Colorize estimator box */\n",
       "#sk-container-id-1 div.sk-estimator input.sk-toggleable__control:checked~label.sk-toggleable__label {\n",
       "  /* unfitted */\n",
       "  background-color: var(--sklearn-color-unfitted-level-2);\n",
       "}\n",
       "\n",
       "#sk-container-id-1 div.sk-estimator.fitted input.sk-toggleable__control:checked~label.sk-toggleable__label {\n",
       "  /* fitted */\n",
       "  background-color: var(--sklearn-color-fitted-level-2);\n",
       "}\n",
       "\n",
       "#sk-container-id-1 div.sk-label label.sk-toggleable__label,\n",
       "#sk-container-id-1 div.sk-label label {\n",
       "  /* The background is the default theme color */\n",
       "  color: var(--sklearn-color-text-on-default-background);\n",
       "}\n",
       "\n",
       "/* On hover, darken the color of the background */\n",
       "#sk-container-id-1 div.sk-label:hover label.sk-toggleable__label {\n",
       "  color: var(--sklearn-color-text);\n",
       "  background-color: var(--sklearn-color-unfitted-level-2);\n",
       "}\n",
       "\n",
       "/* Label box, darken color on hover, fitted */\n",
       "#sk-container-id-1 div.sk-label.fitted:hover label.sk-toggleable__label.fitted {\n",
       "  color: var(--sklearn-color-text);\n",
       "  background-color: var(--sklearn-color-fitted-level-2);\n",
       "}\n",
       "\n",
       "/* Estimator label */\n",
       "\n",
       "#sk-container-id-1 div.sk-label label {\n",
       "  font-family: monospace;\n",
       "  font-weight: bold;\n",
       "  display: inline-block;\n",
       "  line-height: 1.2em;\n",
       "}\n",
       "\n",
       "#sk-container-id-1 div.sk-label-container {\n",
       "  text-align: center;\n",
       "}\n",
       "\n",
       "/* Estimator-specific */\n",
       "#sk-container-id-1 div.sk-estimator {\n",
       "  font-family: monospace;\n",
       "  border: 1px dotted var(--sklearn-color-border-box);\n",
       "  border-radius: 0.25em;\n",
       "  box-sizing: border-box;\n",
       "  margin-bottom: 0.5em;\n",
       "  /* unfitted */\n",
       "  background-color: var(--sklearn-color-unfitted-level-0);\n",
       "}\n",
       "\n",
       "#sk-container-id-1 div.sk-estimator.fitted {\n",
       "  /* fitted */\n",
       "  background-color: var(--sklearn-color-fitted-level-0);\n",
       "}\n",
       "\n",
       "/* on hover */\n",
       "#sk-container-id-1 div.sk-estimator:hover {\n",
       "  /* unfitted */\n",
       "  background-color: var(--sklearn-color-unfitted-level-2);\n",
       "}\n",
       "\n",
       "#sk-container-id-1 div.sk-estimator.fitted:hover {\n",
       "  /* fitted */\n",
       "  background-color: var(--sklearn-color-fitted-level-2);\n",
       "}\n",
       "\n",
       "/* Specification for estimator info (e.g. \"i\" and \"?\") */\n",
       "\n",
       "/* Common style for \"i\" and \"?\" */\n",
       "\n",
       ".sk-estimator-doc-link,\n",
       "a:link.sk-estimator-doc-link,\n",
       "a:visited.sk-estimator-doc-link {\n",
       "  float: right;\n",
       "  font-size: smaller;\n",
       "  line-height: 1em;\n",
       "  font-family: monospace;\n",
       "  background-color: var(--sklearn-color-background);\n",
       "  border-radius: 1em;\n",
       "  height: 1em;\n",
       "  width: 1em;\n",
       "  text-decoration: none !important;\n",
       "  margin-left: 1ex;\n",
       "  /* unfitted */\n",
       "  border: var(--sklearn-color-unfitted-level-1) 1pt solid;\n",
       "  color: var(--sklearn-color-unfitted-level-1);\n",
       "}\n",
       "\n",
       ".sk-estimator-doc-link.fitted,\n",
       "a:link.sk-estimator-doc-link.fitted,\n",
       "a:visited.sk-estimator-doc-link.fitted {\n",
       "  /* fitted */\n",
       "  border: var(--sklearn-color-fitted-level-1) 1pt solid;\n",
       "  color: var(--sklearn-color-fitted-level-1);\n",
       "}\n",
       "\n",
       "/* On hover */\n",
       "div.sk-estimator:hover .sk-estimator-doc-link:hover,\n",
       ".sk-estimator-doc-link:hover,\n",
       "div.sk-label-container:hover .sk-estimator-doc-link:hover,\n",
       ".sk-estimator-doc-link:hover {\n",
       "  /* unfitted */\n",
       "  background-color: var(--sklearn-color-unfitted-level-3);\n",
       "  color: var(--sklearn-color-background);\n",
       "  text-decoration: none;\n",
       "}\n",
       "\n",
       "div.sk-estimator.fitted:hover .sk-estimator-doc-link.fitted:hover,\n",
       ".sk-estimator-doc-link.fitted:hover,\n",
       "div.sk-label-container:hover .sk-estimator-doc-link.fitted:hover,\n",
       ".sk-estimator-doc-link.fitted:hover {\n",
       "  /* fitted */\n",
       "  background-color: var(--sklearn-color-fitted-level-3);\n",
       "  color: var(--sklearn-color-background);\n",
       "  text-decoration: none;\n",
       "}\n",
       "\n",
       "/* Span, style for the box shown on hovering the info icon */\n",
       ".sk-estimator-doc-link span {\n",
       "  display: none;\n",
       "  z-index: 9999;\n",
       "  position: relative;\n",
       "  font-weight: normal;\n",
       "  right: .2ex;\n",
       "  padding: .5ex;\n",
       "  margin: .5ex;\n",
       "  width: min-content;\n",
       "  min-width: 20ex;\n",
       "  max-width: 50ex;\n",
       "  color: var(--sklearn-color-text);\n",
       "  box-shadow: 2pt 2pt 4pt #999;\n",
       "  /* unfitted */\n",
       "  background: var(--sklearn-color-unfitted-level-0);\n",
       "  border: .5pt solid var(--sklearn-color-unfitted-level-3);\n",
       "}\n",
       "\n",
       ".sk-estimator-doc-link.fitted span {\n",
       "  /* fitted */\n",
       "  background: var(--sklearn-color-fitted-level-0);\n",
       "  border: var(--sklearn-color-fitted-level-3);\n",
       "}\n",
       "\n",
       ".sk-estimator-doc-link:hover span {\n",
       "  display: block;\n",
       "}\n",
       "\n",
       "/* \"?\"-specific style due to the `<a>` HTML tag */\n",
       "\n",
       "#sk-container-id-1 a.estimator_doc_link {\n",
       "  float: right;\n",
       "  font-size: 1rem;\n",
       "  line-height: 1em;\n",
       "  font-family: monospace;\n",
       "  background-color: var(--sklearn-color-background);\n",
       "  border-radius: 1rem;\n",
       "  height: 1rem;\n",
       "  width: 1rem;\n",
       "  text-decoration: none;\n",
       "  /* unfitted */\n",
       "  color: var(--sklearn-color-unfitted-level-1);\n",
       "  border: var(--sklearn-color-unfitted-level-1) 1pt solid;\n",
       "}\n",
       "\n",
       "#sk-container-id-1 a.estimator_doc_link.fitted {\n",
       "  /* fitted */\n",
       "  border: var(--sklearn-color-fitted-level-1) 1pt solid;\n",
       "  color: var(--sklearn-color-fitted-level-1);\n",
       "}\n",
       "\n",
       "/* On hover */\n",
       "#sk-container-id-1 a.estimator_doc_link:hover {\n",
       "  /* unfitted */\n",
       "  background-color: var(--sklearn-color-unfitted-level-3);\n",
       "  color: var(--sklearn-color-background);\n",
       "  text-decoration: none;\n",
       "}\n",
       "\n",
       "#sk-container-id-1 a.estimator_doc_link.fitted:hover {\n",
       "  /* fitted */\n",
       "  background-color: var(--sklearn-color-fitted-level-3);\n",
       "}\n",
       "</style><div id=\"sk-container-id-1\" class=\"sk-top-container\"><div class=\"sk-text-repr-fallback\"><pre>GaussianMixture(n_components=3, n_init=10, random_state=42)</pre><b>In a Jupyter environment, please rerun this cell to show the HTML representation or trust the notebook. <br />On GitHub, the HTML representation is unable to render, please try loading this page with nbviewer.org.</b></div><div class=\"sk-container\" hidden><div class=\"sk-item\"><div class=\"sk-estimator fitted sk-toggleable\"><input class=\"sk-toggleable__control sk-hidden--visually\" id=\"sk-estimator-id-1\" type=\"checkbox\" checked><label for=\"sk-estimator-id-1\" class=\"sk-toggleable__label fitted sk-toggleable__label-arrow fitted\">&nbsp;&nbsp;GaussianMixture<a class=\"sk-estimator-doc-link fitted\" rel=\"noreferrer\" target=\"_blank\" href=\"https://scikit-learn.org/1.5/modules/generated/sklearn.mixture.GaussianMixture.html\">?<span>Documentation for GaussianMixture</span></a><span class=\"sk-estimator-doc-link fitted\">i<span>Fitted</span></span></label><div class=\"sk-toggleable__content fitted\"><pre>GaussianMixture(n_components=3, n_init=10, random_state=42)</pre></div> </div></div></div></div>"
      ],
      "text/plain": [
       "GaussianMixture(n_components=3, n_init=10, random_state=42)"
      ]
     },
     "execution_count": 15,
     "metadata": {},
     "output_type": "execute_result"
    }
   ],
   "source": [
    "# let's use 3 clusters \n",
    "\n",
    "gm3 = GaussianMixture(n_components=3, n_init=10, random_state=42)\n",
    "\n",
    "gm3.fit(heatmap_pca_31)"
   ]
  },
  {
   "cell_type": "code",
   "execution_count": 17,
   "id": "741a2e27",
   "metadata": {},
   "outputs": [
    {
     "name": "stdout",
     "output_type": "stream",
     "text": [
      "76769190.76742528\n"
     ]
    }
   ],
   "source": [
    "## let's look at bic  \n",
    "bic3 = gm3.bic(heatmap_pca_31)\n",
    "\n",
    "print(bic3)"
   ]
  },
  {
   "cell_type": "code",
   "execution_count": 18,
   "id": "76aacbb3",
   "metadata": {},
   "outputs": [
    {
     "name": "stdout",
     "output_type": "stream",
     "text": [
      "76751611.14415455\n"
     ]
    }
   ],
   "source": [
    "## let's look at aic\n",
    "aic3 = gm3.aic(heatmap_pca_31)\n",
    "\n",
    "print(aic3)"
   ]
  },
  {
   "cell_type": "code",
   "execution_count": 19,
   "id": "7448728b",
   "metadata": {},
   "outputs": [
    {
     "name": "stdout",
     "output_type": "stream",
     "text": [
      "[0.41339758 0.29622606 0.29037636]\n"
     ]
    }
   ],
   "source": [
    "## let's look at weights\n",
    "\n",
    "gm3_weights = gm3.weights_\n",
    "\n",
    "print(gm3_weights)"
   ]
  },
  {
   "cell_type": "code",
   "execution_count": 20,
   "id": "cfa1d3c6",
   "metadata": {},
   "outputs": [
    {
     "name": "stdout",
     "output_type": "stream",
     "text": [
      "(3, 31)\n"
     ]
    }
   ],
   "source": [
    "## let's look at means\n",
    "gm3_means = gm3.means_\n",
    "\n",
    "print(gm3_means.shape)"
   ]
  },
  {
   "cell_type": "code",
   "execution_count": 21,
   "id": "15a436ab",
   "metadata": {},
   "outputs": [
    {
     "name": "stdout",
     "output_type": "stream",
     "text": [
      "(3, 31, 31)\n"
     ]
    }
   ],
   "source": [
    "## let's look at covarinaces \n",
    "\n",
    "gm3_cov = gm3.covariances_\n",
    "\n",
    "print(gm3_cov.shape)"
   ]
  },
  {
   "cell_type": "code",
   "execution_count": 22,
   "id": "ded81662",
   "metadata": {},
   "outputs": [
    {
     "data": {
      "text/plain": [
       "True"
      ]
     },
     "execution_count": 22,
     "metadata": {},
     "output_type": "execute_result"
    }
   ],
   "source": [
    "## to see if gm3 converged \n",
    "gm3.converged_\n"
   ]
  },
  {
   "cell_type": "code",
   "execution_count": 23,
   "id": "31c2640e",
   "metadata": {},
   "outputs": [
    {
     "name": "stdout",
     "output_type": "stream",
     "text": [
      "28\n"
     ]
    }
   ],
   "source": [
    "gm3_iter = gm3.n_iter_\n",
    "\n",
    "print(gm3_iter)"
   ]
  },
  {
   "cell_type": "code",
   "execution_count": 25,
   "id": "00fcc536",
   "metadata": {},
   "outputs": [
    {
     "name": "stdout",
     "output_type": "stream",
     "text": [
      "(491520,)\n"
     ]
    }
   ],
   "source": [
    "# making hard clustering on clustering\n",
    "\n",
    "gm3_hard = gm3.predict(heatmap_pca_31)\n",
    "\n",
    "print(gm3_hard.shape)"
   ]
  },
  {
   "cell_type": "code",
   "execution_count": 26,
   "id": "01e789f2",
   "metadata": {},
   "outputs": [
    {
     "name": "stdout",
     "output_type": "stream",
     "text": [
      "(491520, 3)\n"
     ]
    }
   ],
   "source": [
    "# making soft clustering\n",
    "\n",
    "gm3_soft = gm3.predict_proba(heatmap_pca_31)\n",
    "\n",
    "print(gm3_soft.shape)"
   ]
  },
  {
   "cell_type": "markdown",
   "id": "1fe64acd",
   "metadata": {},
   "source": [
    "### Using 2 Clusters "
   ]
  },
  {
   "cell_type": "markdown",
   "id": "14ee591e",
   "metadata": {},
   "source": [
    "- Now, we apply GMM with two clusters on heatmaps. "
   ]
  },
  {
   "cell_type": "code",
   "execution_count": 27,
   "id": "bc9a28d7",
   "metadata": {},
   "outputs": [
    {
     "data": {
      "text/html": [
       "<style>#sk-container-id-2 {\n",
       "  /* Definition of color scheme common for light and dark mode */\n",
       "  --sklearn-color-text: black;\n",
       "  --sklearn-color-line: gray;\n",
       "  /* Definition of color scheme for unfitted estimators */\n",
       "  --sklearn-color-unfitted-level-0: #fff5e6;\n",
       "  --sklearn-color-unfitted-level-1: #f6e4d2;\n",
       "  --sklearn-color-unfitted-level-2: #ffe0b3;\n",
       "  --sklearn-color-unfitted-level-3: chocolate;\n",
       "  /* Definition of color scheme for fitted estimators */\n",
       "  --sklearn-color-fitted-level-0: #f0f8ff;\n",
       "  --sklearn-color-fitted-level-1: #d4ebff;\n",
       "  --sklearn-color-fitted-level-2: #b3dbfd;\n",
       "  --sklearn-color-fitted-level-3: cornflowerblue;\n",
       "\n",
       "  /* Specific color for light theme */\n",
       "  --sklearn-color-text-on-default-background: var(--sg-text-color, var(--theme-code-foreground, var(--jp-content-font-color1, black)));\n",
       "  --sklearn-color-background: var(--sg-background-color, var(--theme-background, var(--jp-layout-color0, white)));\n",
       "  --sklearn-color-border-box: var(--sg-text-color, var(--theme-code-foreground, var(--jp-content-font-color1, black)));\n",
       "  --sklearn-color-icon: #696969;\n",
       "\n",
       "  @media (prefers-color-scheme: dark) {\n",
       "    /* Redefinition of color scheme for dark theme */\n",
       "    --sklearn-color-text-on-default-background: var(--sg-text-color, var(--theme-code-foreground, var(--jp-content-font-color1, white)));\n",
       "    --sklearn-color-background: var(--sg-background-color, var(--theme-background, var(--jp-layout-color0, #111)));\n",
       "    --sklearn-color-border-box: var(--sg-text-color, var(--theme-code-foreground, var(--jp-content-font-color1, white)));\n",
       "    --sklearn-color-icon: #878787;\n",
       "  }\n",
       "}\n",
       "\n",
       "#sk-container-id-2 {\n",
       "  color: var(--sklearn-color-text);\n",
       "}\n",
       "\n",
       "#sk-container-id-2 pre {\n",
       "  padding: 0;\n",
       "}\n",
       "\n",
       "#sk-container-id-2 input.sk-hidden--visually {\n",
       "  border: 0;\n",
       "  clip: rect(1px 1px 1px 1px);\n",
       "  clip: rect(1px, 1px, 1px, 1px);\n",
       "  height: 1px;\n",
       "  margin: -1px;\n",
       "  overflow: hidden;\n",
       "  padding: 0;\n",
       "  position: absolute;\n",
       "  width: 1px;\n",
       "}\n",
       "\n",
       "#sk-container-id-2 div.sk-dashed-wrapped {\n",
       "  border: 1px dashed var(--sklearn-color-line);\n",
       "  margin: 0 0.4em 0.5em 0.4em;\n",
       "  box-sizing: border-box;\n",
       "  padding-bottom: 0.4em;\n",
       "  background-color: var(--sklearn-color-background);\n",
       "}\n",
       "\n",
       "#sk-container-id-2 div.sk-container {\n",
       "  /* jupyter's `normalize.less` sets `[hidden] { display: none; }`\n",
       "     but bootstrap.min.css set `[hidden] { display: none !important; }`\n",
       "     so we also need the `!important` here to be able to override the\n",
       "     default hidden behavior on the sphinx rendered scikit-learn.org.\n",
       "     See: https://github.com/scikit-learn/scikit-learn/issues/21755 */\n",
       "  display: inline-block !important;\n",
       "  position: relative;\n",
       "}\n",
       "\n",
       "#sk-container-id-2 div.sk-text-repr-fallback {\n",
       "  display: none;\n",
       "}\n",
       "\n",
       "div.sk-parallel-item,\n",
       "div.sk-serial,\n",
       "div.sk-item {\n",
       "  /* draw centered vertical line to link estimators */\n",
       "  background-image: linear-gradient(var(--sklearn-color-text-on-default-background), var(--sklearn-color-text-on-default-background));\n",
       "  background-size: 2px 100%;\n",
       "  background-repeat: no-repeat;\n",
       "  background-position: center center;\n",
       "}\n",
       "\n",
       "/* Parallel-specific style estimator block */\n",
       "\n",
       "#sk-container-id-2 div.sk-parallel-item::after {\n",
       "  content: \"\";\n",
       "  width: 100%;\n",
       "  border-bottom: 2px solid var(--sklearn-color-text-on-default-background);\n",
       "  flex-grow: 1;\n",
       "}\n",
       "\n",
       "#sk-container-id-2 div.sk-parallel {\n",
       "  display: flex;\n",
       "  align-items: stretch;\n",
       "  justify-content: center;\n",
       "  background-color: var(--sklearn-color-background);\n",
       "  position: relative;\n",
       "}\n",
       "\n",
       "#sk-container-id-2 div.sk-parallel-item {\n",
       "  display: flex;\n",
       "  flex-direction: column;\n",
       "}\n",
       "\n",
       "#sk-container-id-2 div.sk-parallel-item:first-child::after {\n",
       "  align-self: flex-end;\n",
       "  width: 50%;\n",
       "}\n",
       "\n",
       "#sk-container-id-2 div.sk-parallel-item:last-child::after {\n",
       "  align-self: flex-start;\n",
       "  width: 50%;\n",
       "}\n",
       "\n",
       "#sk-container-id-2 div.sk-parallel-item:only-child::after {\n",
       "  width: 0;\n",
       "}\n",
       "\n",
       "/* Serial-specific style estimator block */\n",
       "\n",
       "#sk-container-id-2 div.sk-serial {\n",
       "  display: flex;\n",
       "  flex-direction: column;\n",
       "  align-items: center;\n",
       "  background-color: var(--sklearn-color-background);\n",
       "  padding-right: 1em;\n",
       "  padding-left: 1em;\n",
       "}\n",
       "\n",
       "\n",
       "/* Toggleable style: style used for estimator/Pipeline/ColumnTransformer box that is\n",
       "clickable and can be expanded/collapsed.\n",
       "- Pipeline and ColumnTransformer use this feature and define the default style\n",
       "- Estimators will overwrite some part of the style using the `sk-estimator` class\n",
       "*/\n",
       "\n",
       "/* Pipeline and ColumnTransformer style (default) */\n",
       "\n",
       "#sk-container-id-2 div.sk-toggleable {\n",
       "  /* Default theme specific background. It is overwritten whether we have a\n",
       "  specific estimator or a Pipeline/ColumnTransformer */\n",
       "  background-color: var(--sklearn-color-background);\n",
       "}\n",
       "\n",
       "/* Toggleable label */\n",
       "#sk-container-id-2 label.sk-toggleable__label {\n",
       "  cursor: pointer;\n",
       "  display: block;\n",
       "  width: 100%;\n",
       "  margin-bottom: 0;\n",
       "  padding: 0.5em;\n",
       "  box-sizing: border-box;\n",
       "  text-align: center;\n",
       "}\n",
       "\n",
       "#sk-container-id-2 label.sk-toggleable__label-arrow:before {\n",
       "  /* Arrow on the left of the label */\n",
       "  content: \"▸\";\n",
       "  float: left;\n",
       "  margin-right: 0.25em;\n",
       "  color: var(--sklearn-color-icon);\n",
       "}\n",
       "\n",
       "#sk-container-id-2 label.sk-toggleable__label-arrow:hover:before {\n",
       "  color: var(--sklearn-color-text);\n",
       "}\n",
       "\n",
       "/* Toggleable content - dropdown */\n",
       "\n",
       "#sk-container-id-2 div.sk-toggleable__content {\n",
       "  max-height: 0;\n",
       "  max-width: 0;\n",
       "  overflow: hidden;\n",
       "  text-align: left;\n",
       "  /* unfitted */\n",
       "  background-color: var(--sklearn-color-unfitted-level-0);\n",
       "}\n",
       "\n",
       "#sk-container-id-2 div.sk-toggleable__content.fitted {\n",
       "  /* fitted */\n",
       "  background-color: var(--sklearn-color-fitted-level-0);\n",
       "}\n",
       "\n",
       "#sk-container-id-2 div.sk-toggleable__content pre {\n",
       "  margin: 0.2em;\n",
       "  border-radius: 0.25em;\n",
       "  color: var(--sklearn-color-text);\n",
       "  /* unfitted */\n",
       "  background-color: var(--sklearn-color-unfitted-level-0);\n",
       "}\n",
       "\n",
       "#sk-container-id-2 div.sk-toggleable__content.fitted pre {\n",
       "  /* unfitted */\n",
       "  background-color: var(--sklearn-color-fitted-level-0);\n",
       "}\n",
       "\n",
       "#sk-container-id-2 input.sk-toggleable__control:checked~div.sk-toggleable__content {\n",
       "  /* Expand drop-down */\n",
       "  max-height: 200px;\n",
       "  max-width: 100%;\n",
       "  overflow: auto;\n",
       "}\n",
       "\n",
       "#sk-container-id-2 input.sk-toggleable__control:checked~label.sk-toggleable__label-arrow:before {\n",
       "  content: \"▾\";\n",
       "}\n",
       "\n",
       "/* Pipeline/ColumnTransformer-specific style */\n",
       "\n",
       "#sk-container-id-2 div.sk-label input.sk-toggleable__control:checked~label.sk-toggleable__label {\n",
       "  color: var(--sklearn-color-text);\n",
       "  background-color: var(--sklearn-color-unfitted-level-2);\n",
       "}\n",
       "\n",
       "#sk-container-id-2 div.sk-label.fitted input.sk-toggleable__control:checked~label.sk-toggleable__label {\n",
       "  background-color: var(--sklearn-color-fitted-level-2);\n",
       "}\n",
       "\n",
       "/* Estimator-specific style */\n",
       "\n",
       "/* Colorize estimator box */\n",
       "#sk-container-id-2 div.sk-estimator input.sk-toggleable__control:checked~label.sk-toggleable__label {\n",
       "  /* unfitted */\n",
       "  background-color: var(--sklearn-color-unfitted-level-2);\n",
       "}\n",
       "\n",
       "#sk-container-id-2 div.sk-estimator.fitted input.sk-toggleable__control:checked~label.sk-toggleable__label {\n",
       "  /* fitted */\n",
       "  background-color: var(--sklearn-color-fitted-level-2);\n",
       "}\n",
       "\n",
       "#sk-container-id-2 div.sk-label label.sk-toggleable__label,\n",
       "#sk-container-id-2 div.sk-label label {\n",
       "  /* The background is the default theme color */\n",
       "  color: var(--sklearn-color-text-on-default-background);\n",
       "}\n",
       "\n",
       "/* On hover, darken the color of the background */\n",
       "#sk-container-id-2 div.sk-label:hover label.sk-toggleable__label {\n",
       "  color: var(--sklearn-color-text);\n",
       "  background-color: var(--sklearn-color-unfitted-level-2);\n",
       "}\n",
       "\n",
       "/* Label box, darken color on hover, fitted */\n",
       "#sk-container-id-2 div.sk-label.fitted:hover label.sk-toggleable__label.fitted {\n",
       "  color: var(--sklearn-color-text);\n",
       "  background-color: var(--sklearn-color-fitted-level-2);\n",
       "}\n",
       "\n",
       "/* Estimator label */\n",
       "\n",
       "#sk-container-id-2 div.sk-label label {\n",
       "  font-family: monospace;\n",
       "  font-weight: bold;\n",
       "  display: inline-block;\n",
       "  line-height: 1.2em;\n",
       "}\n",
       "\n",
       "#sk-container-id-2 div.sk-label-container {\n",
       "  text-align: center;\n",
       "}\n",
       "\n",
       "/* Estimator-specific */\n",
       "#sk-container-id-2 div.sk-estimator {\n",
       "  font-family: monospace;\n",
       "  border: 1px dotted var(--sklearn-color-border-box);\n",
       "  border-radius: 0.25em;\n",
       "  box-sizing: border-box;\n",
       "  margin-bottom: 0.5em;\n",
       "  /* unfitted */\n",
       "  background-color: var(--sklearn-color-unfitted-level-0);\n",
       "}\n",
       "\n",
       "#sk-container-id-2 div.sk-estimator.fitted {\n",
       "  /* fitted */\n",
       "  background-color: var(--sklearn-color-fitted-level-0);\n",
       "}\n",
       "\n",
       "/* on hover */\n",
       "#sk-container-id-2 div.sk-estimator:hover {\n",
       "  /* unfitted */\n",
       "  background-color: var(--sklearn-color-unfitted-level-2);\n",
       "}\n",
       "\n",
       "#sk-container-id-2 div.sk-estimator.fitted:hover {\n",
       "  /* fitted */\n",
       "  background-color: var(--sklearn-color-fitted-level-2);\n",
       "}\n",
       "\n",
       "/* Specification for estimator info (e.g. \"i\" and \"?\") */\n",
       "\n",
       "/* Common style for \"i\" and \"?\" */\n",
       "\n",
       ".sk-estimator-doc-link,\n",
       "a:link.sk-estimator-doc-link,\n",
       "a:visited.sk-estimator-doc-link {\n",
       "  float: right;\n",
       "  font-size: smaller;\n",
       "  line-height: 1em;\n",
       "  font-family: monospace;\n",
       "  background-color: var(--sklearn-color-background);\n",
       "  border-radius: 1em;\n",
       "  height: 1em;\n",
       "  width: 1em;\n",
       "  text-decoration: none !important;\n",
       "  margin-left: 1ex;\n",
       "  /* unfitted */\n",
       "  border: var(--sklearn-color-unfitted-level-1) 1pt solid;\n",
       "  color: var(--sklearn-color-unfitted-level-1);\n",
       "}\n",
       "\n",
       ".sk-estimator-doc-link.fitted,\n",
       "a:link.sk-estimator-doc-link.fitted,\n",
       "a:visited.sk-estimator-doc-link.fitted {\n",
       "  /* fitted */\n",
       "  border: var(--sklearn-color-fitted-level-1) 1pt solid;\n",
       "  color: var(--sklearn-color-fitted-level-1);\n",
       "}\n",
       "\n",
       "/* On hover */\n",
       "div.sk-estimator:hover .sk-estimator-doc-link:hover,\n",
       ".sk-estimator-doc-link:hover,\n",
       "div.sk-label-container:hover .sk-estimator-doc-link:hover,\n",
       ".sk-estimator-doc-link:hover {\n",
       "  /* unfitted */\n",
       "  background-color: var(--sklearn-color-unfitted-level-3);\n",
       "  color: var(--sklearn-color-background);\n",
       "  text-decoration: none;\n",
       "}\n",
       "\n",
       "div.sk-estimator.fitted:hover .sk-estimator-doc-link.fitted:hover,\n",
       ".sk-estimator-doc-link.fitted:hover,\n",
       "div.sk-label-container:hover .sk-estimator-doc-link.fitted:hover,\n",
       ".sk-estimator-doc-link.fitted:hover {\n",
       "  /* fitted */\n",
       "  background-color: var(--sklearn-color-fitted-level-3);\n",
       "  color: var(--sklearn-color-background);\n",
       "  text-decoration: none;\n",
       "}\n",
       "\n",
       "/* Span, style for the box shown on hovering the info icon */\n",
       ".sk-estimator-doc-link span {\n",
       "  display: none;\n",
       "  z-index: 9999;\n",
       "  position: relative;\n",
       "  font-weight: normal;\n",
       "  right: .2ex;\n",
       "  padding: .5ex;\n",
       "  margin: .5ex;\n",
       "  width: min-content;\n",
       "  min-width: 20ex;\n",
       "  max-width: 50ex;\n",
       "  color: var(--sklearn-color-text);\n",
       "  box-shadow: 2pt 2pt 4pt #999;\n",
       "  /* unfitted */\n",
       "  background: var(--sklearn-color-unfitted-level-0);\n",
       "  border: .5pt solid var(--sklearn-color-unfitted-level-3);\n",
       "}\n",
       "\n",
       ".sk-estimator-doc-link.fitted span {\n",
       "  /* fitted */\n",
       "  background: var(--sklearn-color-fitted-level-0);\n",
       "  border: var(--sklearn-color-fitted-level-3);\n",
       "}\n",
       "\n",
       ".sk-estimator-doc-link:hover span {\n",
       "  display: block;\n",
       "}\n",
       "\n",
       "/* \"?\"-specific style due to the `<a>` HTML tag */\n",
       "\n",
       "#sk-container-id-2 a.estimator_doc_link {\n",
       "  float: right;\n",
       "  font-size: 1rem;\n",
       "  line-height: 1em;\n",
       "  font-family: monospace;\n",
       "  background-color: var(--sklearn-color-background);\n",
       "  border-radius: 1rem;\n",
       "  height: 1rem;\n",
       "  width: 1rem;\n",
       "  text-decoration: none;\n",
       "  /* unfitted */\n",
       "  color: var(--sklearn-color-unfitted-level-1);\n",
       "  border: var(--sklearn-color-unfitted-level-1) 1pt solid;\n",
       "}\n",
       "\n",
       "#sk-container-id-2 a.estimator_doc_link.fitted {\n",
       "  /* fitted */\n",
       "  border: var(--sklearn-color-fitted-level-1) 1pt solid;\n",
       "  color: var(--sklearn-color-fitted-level-1);\n",
       "}\n",
       "\n",
       "/* On hover */\n",
       "#sk-container-id-2 a.estimator_doc_link:hover {\n",
       "  /* unfitted */\n",
       "  background-color: var(--sklearn-color-unfitted-level-3);\n",
       "  color: var(--sklearn-color-background);\n",
       "  text-decoration: none;\n",
       "}\n",
       "\n",
       "#sk-container-id-2 a.estimator_doc_link.fitted:hover {\n",
       "  /* fitted */\n",
       "  background-color: var(--sklearn-color-fitted-level-3);\n",
       "}\n",
       "</style><div id=\"sk-container-id-2\" class=\"sk-top-container\"><div class=\"sk-text-repr-fallback\"><pre>GaussianMixture(n_components=2, n_init=10, random_state=42)</pre><b>In a Jupyter environment, please rerun this cell to show the HTML representation or trust the notebook. <br />On GitHub, the HTML representation is unable to render, please try loading this page with nbviewer.org.</b></div><div class=\"sk-container\" hidden><div class=\"sk-item\"><div class=\"sk-estimator fitted sk-toggleable\"><input class=\"sk-toggleable__control sk-hidden--visually\" id=\"sk-estimator-id-2\" type=\"checkbox\" checked><label for=\"sk-estimator-id-2\" class=\"sk-toggleable__label fitted sk-toggleable__label-arrow fitted\">&nbsp;&nbsp;GaussianMixture<a class=\"sk-estimator-doc-link fitted\" rel=\"noreferrer\" target=\"_blank\" href=\"https://scikit-learn.org/1.5/modules/generated/sklearn.mixture.GaussianMixture.html\">?<span>Documentation for GaussianMixture</span></a><span class=\"sk-estimator-doc-link fitted\">i<span>Fitted</span></span></label><div class=\"sk-toggleable__content fitted\"><pre>GaussianMixture(n_components=2, n_init=10, random_state=42)</pre></div> </div></div></div></div>"
      ],
      "text/plain": [
       "GaussianMixture(n_components=2, n_init=10, random_state=42)"
      ]
     },
     "execution_count": 27,
     "metadata": {},
     "output_type": "execute_result"
    }
   ],
   "source": [
    "# let's use 2 clusters \n",
    "\n",
    "gm2 = GaussianMixture(n_components=2, n_init=10, random_state=42)\n",
    "\n",
    "gm2.fit(heatmap_pca_31)"
   ]
  },
  {
   "cell_type": "code",
   "execution_count": 28,
   "id": "63c42c2c",
   "metadata": {},
   "outputs": [
    {
     "data": {
      "text/plain": [
       "True"
      ]
     },
     "execution_count": 28,
     "metadata": {},
     "output_type": "execute_result"
    }
   ],
   "source": [
    "gm2.converged_"
   ]
  },
  {
   "cell_type": "code",
   "execution_count": 29,
   "id": "31c56308",
   "metadata": {},
   "outputs": [
    {
     "data": {
      "text/plain": [
       "10"
      ]
     },
     "execution_count": 29,
     "metadata": {},
     "output_type": "execute_result"
    }
   ],
   "source": [
    "gm2.n_init"
   ]
  },
  {
   "cell_type": "code",
   "execution_count": 30,
   "id": "d613da33",
   "metadata": {},
   "outputs": [
    {
     "name": "stdout",
     "output_type": "stream",
     "text": [
      "86735325.80135883\n"
     ]
    }
   ],
   "source": [
    "aic2 = gm2.aic(heatmap_pca_31)\n",
    "\n",
    "print(aic2)"
   ]
  },
  {
   "cell_type": "code",
   "execution_count": 31,
   "id": "f337a9ec",
   "metadata": {},
   "outputs": [
    {
     "name": "stdout",
     "output_type": "stream",
     "text": [
      "86747041.84845336\n"
     ]
    }
   ],
   "source": [
    "bic2 = gm2.bic(heatmap_pca_31)\n",
    "\n",
    "print(bic2)"
   ]
  },
  {
   "cell_type": "code",
   "execution_count": 35,
   "id": "895e5d93",
   "metadata": {},
   "outputs": [],
   "source": [
    "gm2_hard = gm2.predict(heatmap_pca_31)"
   ]
  },
  {
   "cell_type": "code",
   "execution_count": 36,
   "id": "53250eef",
   "metadata": {},
   "outputs": [
    {
     "name": "stdout",
     "output_type": "stream",
     "text": [
      "(491520,)\n"
     ]
    }
   ],
   "source": [
    "print(gm2_hard.shape)"
   ]
  },
  {
   "cell_type": "markdown",
   "id": "2dd18398",
   "metadata": {},
   "source": [
    "- Computing two metrics **Calinski-Harabasz index** and **Davis-Bouldin index** on these two clustering. "
   ]
  },
  {
   "cell_type": "code",
   "execution_count": 38,
   "id": "3923a63c",
   "metadata": {},
   "outputs": [
    {
     "name": "stdout",
     "output_type": "stream",
     "text": [
      "Calinski-Harabasz Index (reduced data): 24728.535129297663\n",
      "Davies-Bouldin Index (reduced data): 3.8379267959565606\n"
     ]
    }
   ],
   "source": [
    "from sklearn.metrics import calinski_harabasz_score, davies_bouldin_score\n",
    "\n",
    "# Compute metrics on the reduced data\n",
    "ch_score_reduced_gmm2 = calinski_harabasz_score(heatmap_pca_31, gm2_hard)\n",
    "db_score_reduced_gmm2 = davies_bouldin_score(heatmap_pca_31, gm2_hard)\n",
    "\n",
    "print(f'Calinski-Harabasz Index (reduced data): {ch_score_reduced_gmm2}')\n",
    "print(f'Davies-Bouldin Index (reduced data): {db_score_reduced_gmm2}')"
   ]
  },
  {
   "cell_type": "code",
   "execution_count": 39,
   "id": "a6a34912",
   "metadata": {},
   "outputs": [
    {
     "name": "stdout",
     "output_type": "stream",
     "text": [
      "Calinski-Harabasz Index (reduced data): 22206.406447123365\n",
      "Davies-Bouldin Index (reduced data): 3.432552046267894\n"
     ]
    }
   ],
   "source": [
    "# Compute metrics on the reduced data\n",
    "ch_score_reduced_gmm3 = calinski_harabasz_score(heatmap_pca_31, gm3_hard)\n",
    "db_score_reduced_gmm3 = davies_bouldin_score(heatmap_pca_31, gm3_hard)\n",
    "\n",
    "print(f'Calinski-Harabasz Index (reduced data): {ch_score_reduced_gmm3}')\n",
    "print(f'Davies-Bouldin Index (reduced data): {db_score_reduced_gmm3}')"
   ]
  },
  {
   "cell_type": "markdown",
   "id": "37762d9f",
   "metadata": {},
   "source": [
    "- In terms of above metrics, we can say that the **higher Calinski-Harabasz Index** indicates better clustering, and also a **lower Davies-Bouldin Index** indicates the better clustering. \n",
    "\n",
    "- Visualisation indicates 3 clusters are better than 2 clusters. "
   ]
  },
  {
   "cell_type": "markdown",
   "id": "265da40a",
   "metadata": {},
   "source": [
    "### Using 4 clusters\n"
   ]
  },
  {
   "cell_type": "code",
   "execution_count": null,
   "id": "94aea1d8",
   "metadata": {},
   "outputs": [],
   "source": [
    "gm4 = GaussianMixture(n_components=4, n_init=10, random_state=42)\n",
    "\n",
    "gm4.fit(transformed_heatmaps)"
   ]
  },
  {
   "cell_type": "markdown",
   "id": "a6dc9589",
   "metadata": {},
   "source": [
    "### Visualise clusters for GMM with 3 clusters"
   ]
  },
  {
   "cell_type": "code",
   "execution_count": 32,
   "id": "1e092f57",
   "metadata": {},
   "outputs": [
    {
     "data": {
      "text/plain": [
       "<mpl_toolkits.mplot3d.art3d.Path3DCollection at 0x7f1288e2bf70>"
      ]
     },
     "execution_count": 32,
     "metadata": {},
     "output_type": "execute_result"
    },
    {
     "data": {
      "image/png": "[encoded data removed]",
      "text/plain": [
       "<Figure size 800x600 with 1 Axes>"
      ]
     },
     "metadata": {},
     "output_type": "display_data"
    }
   ],
   "source": [
    "import numpy as np\n",
    "import matplotlib.pyplot as plt\n",
    "from sklearn.mixture import GaussianMixture\n",
    "from mpl_toolkits.mplot3d import Axes3D\n",
    "from matplotlib.patches import Ellipse\n",
    "\n",
    "X = heatmap_pca_31\n",
    "\n",
    "\n",
    "labels = gm3_hard\n",
    "\n",
    "# Step 3: Plot the 3D scatter plot\n",
    "fig = plt.figure(figsize=(8, 6))\n",
    "ax = fig.add_subplot(111, projection='3d')\n",
    "ax.scatter(X[:, 0], X[:, 1], X[:, 2], c=labels, s=40, cmap='viridis')"
   ]
  },
  {
   "cell_type": "markdown",
   "id": "8cd5783d",
   "metadata": {},
   "source": [
    "- The below code gave me an error on mismatche dimension, when I tried to run this."
   ]
  },
  {
   "cell_type": "code",
   "execution_count": null,
   "id": "8ff27f72",
   "metadata": {},
   "outputs": [],
   "source": [
    "# Step 4: Plot ellipsoids representing the Gaussian components in 3D\n",
    "def draw_ellipsoid(mean, cov, ax, **kwargs):\n",
    "    \"\"\" Draw an ellipsoid to represent the covariance matrix in 3D \"\"\"\n",
    "    # Get the eigenvalues and eigenvectors (principal axes)\n",
    "    eigenvalues, eigenvectors = np.linalg.eigh(cov)\n",
    "    \n",
    "    # Sort eigenvalues and corresponding eigenvectors in descending order\n",
    "    order = eigenvalues.argsort()[::-1]\n",
    "    eigenvalues = eigenvalues[order]\n",
    "    eigenvectors = eigenvectors[:, order]\n",
    "    \n",
    "    # Create grid for plotting ellipsoid\n",
    "    u = np.linspace(0, 2 * np.pi, 100)\n",
    "    v = np.linspace(0, np.pi, 100)\n",
    "    x = np.outer(np.cos(u), np.sin(v))\n",
    "    y = np.outer(np.sin(u), np.sin(v))\n",
    "    z = np.outer(np.ones_like(u), np.cos(v))\n",
    "    \n",
    "    # Scale the unit sphere to the ellipsoid\n",
    "    for i in range(len(x)):\n",
    "        for j in range(len(x)):\n",
    "            [x[i, j], y[i, j], z[i, j]] = np.dot(np.diag(np.sqrt(eigenvalues)), [x[i, j], y[i, j], z[i, j]])\n",
    "    \n",
    "    # Rotate the ellipsoid to match covariance direction\n",
    "    for i in range(len(x)):\n",
    "        for j in range(len(x)):\n",
    "            [x[i, j], y[i, j], z[i, j]] = np.dot(eigenvectors, [x[i, j], y[i, j], z[i, j]]) + mean\n",
    "    \n",
    "    ax.plot_surface(x, y, z, rstride=4, cstride=4, color='black', alpha=0.2, **kwargs)\n",
    "\n",
    "# Add ellipsoids for each Gaussian component\n",
    "for mean, cov in zip(gm3.means_, gm3.covariances_):\n",
    "    draw_ellipsoid(mean, cov, ax)\n",
    "\n",
    "# Show the plot\n",
    "ax.set_title('3D Visualization of GMM Clusters with 3 Components')\n",
    "ax.set_xlabel('Feature 1')\n",
    "ax.set_ylabel('Feature 2')\n",
    "ax.set_zlabel('Feature 3')\n",
    "plt.show()"
   ]
  },
  {
   "cell_type": "code",
   "execution_count": 34,
   "id": "2fd7a22f",
   "metadata": {},
   "outputs": [
    {
     "name": "stdout",
     "output_type": "stream",
     "text": [
      "(31,)\n",
      "(31, 31)\n",
      "(31,)\n",
      "(31, 31)\n",
      "(31,)\n",
      "(31, 31)\n"
     ]
    }
   ],
   "source": [
    "for mean, cov in zip(gm3.means_, gm3.covariances_):\n",
    "    \n",
    "    print(mean.shape)\n",
    "    \n",
    "    print(cov.shape)"
   ]
  },
  {
   "cell_type": "markdown",
   "id": "50e4bbfd",
   "metadata": {},
   "source": [
    "### Visualise clusters for GMM with 2 clusters"
   ]
  },
  {
   "cell_type": "code",
   "execution_count": 37,
   "id": "e7fca9c8",
   "metadata": {},
   "outputs": [
    {
     "data": {
      "text/plain": [
       "<matplotlib.collections.PathCollection at 0x7f1288329f40>"
      ]
     },
     "execution_count": 37,
     "metadata": {},
     "output_type": "execute_result"
    },
    {
     "data": {
      "image/png": "[encoded data removed]",
      "text/plain": [
       "<Figure size 640x480 with 1 Axes>"
      ]
     },
     "metadata": {},
     "output_type": "display_data"
    }
   ],
   "source": [
    "import numpy as np\n",
    "import matplotlib.pyplot as plt\n",
    "from sklearn.mixture import GaussianMixture\n",
    "from sklearn.datasets import make_blobs\n",
    "from matplotlib.patches import Ellipse\n",
    "\n",
    "# Step 1: Generate synthetic data with 2 clusters\n",
    "X = heatmap_pca_31\n",
    "\n",
    "# Step 2: Fit GMM with 2 components\n",
    "\n",
    "labels = gm2_hard\n",
    "\n",
    "# Step 3: Scatter plot of the data points colored by their cluster\n",
    "plt.scatter(X[:, 0], X[:, 1], c=labels, s=40, cmap='viridis')"
   ]
  },
  {
   "cell_type": "markdown",
   "id": "e75593fe",
   "metadata": {},
   "source": [
    "- Clusters do not make sense at all."
   ]
  },
  {
   "cell_type": "code",
   "execution_count": null,
   "id": "34b9a72f",
   "metadata": {},
   "outputs": [],
   "source": [
    "# Step 4: Plot the Gaussian components (ellipses)\n",
    "def draw_ellipse(position, covariance, ax=None, **kwargs):\n",
    "    \"\"\" Draw an ellipse representing the covariance matrix of a Gaussian component \"\"\"\n",
    "    ax = ax or plt.gca()\n",
    "    \n",
    "    # Convert covariance to principal axes\n",
    "    if covariance.shape == (2, 2):\n",
    "        eigenvalues, eigenvectors = np.linalg.eigh(covariance)\n",
    "        order = eigenvalues.argsort()[::-1]\n",
    "        eigenvalues, eigenvectors = eigenvalues[order], eigenvectors[:, order]\n",
    "        angle = np.degrees(np.arctan2(*eigenvectors[:, 0][::-1]))\n",
    "        width, height = 2 * np.sqrt(eigenvalues)\n",
    "    else:\n",
    "        angle = 0\n",
    "        width, height = 2 * np.sqrt(covariance)\n",
    "    \n",
    "    # Draw the ellipse\n",
    "    ellip = Ellipse(position, width, height, angle, **kwargs)\n",
    "    ax.add_patch(ellip)\n",
    "\n",
    "# Add ellipses for each Gaussian component\n",
    "ax = plt.gca()\n",
    "for mean, cov in zip(gmm.means_, gmm.covariances_):\n",
    "    draw_ellipse(mean, cov, ax=ax, alpha=0.2, color='black')\n",
    "\n",
    "# Show the plot\n",
    "plt.title('2D Visualization of GMM Clusters with 2 Components')\n",
    "plt.xlabel('Feature 1')\n",
    "plt.ylabel('Feature 2')\n",
    "plt.show()"
   ]
  },
  {
   "cell_type": "markdown",
   "id": "5c52247b",
   "metadata": {},
   "source": [
    "## Applying GMM on embedded Heatmaps "
   ]
  },
  {
   "cell_type": "code",
   "execution_count": 15,
   "id": "d6f57968",
   "metadata": {},
   "outputs": [],
   "source": [
    "from sklearn.mixture import GaussianMixture\n",
    "\n",
    "os.environ[\"OMP_NUM_THREADS\"] = \"1\"\n",
    "os.environ[\"MKL_NUM_THREADS\"] = \"1\""
   ]
  },
  {
   "cell_type": "code",
   "execution_count": 8,
   "id": "e4d2cee4",
   "metadata": {},
   "outputs": [],
   "source": [
    "root_dir = Path('/dhc/home/masoumeh.javanbakhat/netstore-old/Baysian/3D')\n",
    "\n",
    "heatmap_embed_dir = root_dir/'Explainability'/'Codes'/'heatmap_embeddings'"
   ]
  },
  {
   "cell_type": "code",
   "execution_count": 23,
   "id": "da4d9df6",
   "metadata": {},
   "outputs": [],
   "source": [
    "exp = 4\n",
    "\n",
    "seed = 42\n",
    "\n",
    "latentvar = 'shape' \n",
    "\n",
    "latentcls = str([1,2])\n",
    "\n",
    "embed_net = 'sup-res18'\n",
    "\n",
    "dimension = 50\n",
    "\n"
   ]
  },
  {
   "cell_type": "code",
   "execution_count": 24,
   "id": "5aeccb9e",
   "metadata": {},
   "outputs": [],
   "source": [
    "# upload heatmaps that we embed using CNN\n",
    "\n",
    "heatmap_embed = np.load(\n",
    "        os.path.join(heatmap_embed_dir,f'{seed}_{exp}_{latentvar}_{latentcls}_{embed_net}_{dimension}_heatmap_embed.npy'))"
   ]
  },
  {
   "cell_type": "code",
   "execution_count": null,
   "id": "b386c3e4",
   "metadata": {},
   "outputs": [],
   "source": [
    "\n",
    "# Now we apply GMM with 2 clusters\n",
    "\n",
    "gm2 = GaussianMixture(n_components=2, n_init=10, random_state=42)\n",
    "\n",
    "gm2.fit(heatmap_embed_scaled)"
   ]
  },
  {
   "cell_type": "code",
   "execution_count": 17,
   "id": "f1164298",
   "metadata": {},
   "outputs": [
    {
     "data": {
      "text/plain": [
       "True"
      ]
     },
     "execution_count": 17,
     "metadata": {},
     "output_type": "execute_result"
    }
   ],
   "source": [
    "gm2.converged_"
   ]
  },
  {
   "cell_type": "code",
   "execution_count": 18,
   "id": "2b87c049",
   "metadata": {},
   "outputs": [
    {
     "data": {
      "text/plain": [
       "10"
      ]
     },
     "execution_count": 18,
     "metadata": {},
     "output_type": "execute_result"
    }
   ],
   "source": [
    "gm2.n_init"
   ]
  },
  {
   "cell_type": "code",
   "execution_count": 19,
   "id": "66ba1995",
   "metadata": {},
   "outputs": [
    {
     "name": "stdout",
     "output_type": "stream",
     "text": [
      "-11141693.876868768\n"
     ]
    }
   ],
   "source": [
    "aic2 = gm2.aic(heatmap_embed_scaled)\n",
    "\n",
    "print(aic2)"
   ]
  },
  {
   "cell_type": "code",
   "execution_count": 20,
   "id": "19d02510",
   "metadata": {},
   "outputs": [
    {
     "name": "stdout",
     "output_type": "stream",
     "text": [
      "-11112253.83815068\n"
     ]
    }
   ],
   "source": [
    "bic2 = gm2.bic(heatmap_embed_scaled)\n",
    "\n",
    "print(bic2)"
   ]
  },
  {
   "cell_type": "code",
   "execution_count": 21,
   "id": "aeaf6c9b",
   "metadata": {},
   "outputs": [],
   "source": [
    "gm2_hard = gm2.predict(heatmap_embed_scaled)"
   ]
  },
  {
   "cell_type": "markdown",
   "id": "bbb149f8",
   "metadata": {},
   "source": [
    "- **wird observation**: When I normalise heatmaps I obtained negative value for aic and bic?\n",
    "\n"
   ]
  },
  {
   "cell_type": "code",
   "execution_count": 22,
   "id": "f647b821",
   "metadata": {},
   "outputs": [
    {
     "data": {
      "text/plain": [
       "<matplotlib.collections.PathCollection at 0x7f2a8ebe98e0>"
      ]
     },
     "execution_count": 22,
     "metadata": {},
     "output_type": "execute_result"
    },
    {
     "data": {
      "image/png": "[encoded data removed]",
      "text/plain": [
       "<Figure size 640x480 with 1 Axes>"
      ]
     },
     "metadata": {},
     "output_type": "display_data"
    }
   ],
   "source": [
    "import numpy as np\n",
    "import matplotlib.pyplot as plt\n",
    "from sklearn.mixture import GaussianMixture\n",
    "from sklearn.datasets import make_blobs\n",
    "from matplotlib.patches import Ellipse\n",
    "\n",
    "# Step 1: Generate synthetic data with 2 clusters\n",
    "X = heatmap_embed_scaled\n",
    "\n",
    "# Step 2: Fit GMM with 2 components\n",
    "\n",
    "labels = gm2_hard\n",
    "\n",
    "# Step 3: Scatter plot of the data points colored by their cluster\n",
    "plt.scatter(X[:, 0], X[:, 1], c=labels, s=40, cmap='viridis')"
   ]
  },
  {
   "cell_type": "markdown",
   "id": "6a0a67cf",
   "metadata": {},
   "source": [
    "- Now, let's apply GMM with **3** clusters.\n",
    "\n",
    "- Note that when number of clusters is equal to 2, we used normalised heatmaps.\n",
    "\n",
    "- But when the numberof clusters are 3, we didn't normalaise the heatmaps. \n",
    "\n",
    "- When I performed pca and then applied GMM, I got more meaningful clusters than when I used CNN and then applied GMM. "
   ]
  },
  {
   "cell_type": "code",
   "execution_count": 26,
   "id": "13edf433",
   "metadata": {},
   "outputs": [
    {
     "data": {
      "text/html": [
       "<style>#sk-container-id-2 {\n",
       "  /* Definition of color scheme common for light and dark mode */\n",
       "  --sklearn-color-text: black;\n",
       "  --sklearn-color-line: gray;\n",
       "  /* Definition of color scheme for unfitted estimators */\n",
       "  --sklearn-color-unfitted-level-0: #fff5e6;\n",
       "  --sklearn-color-unfitted-level-1: #f6e4d2;\n",
       "  --sklearn-color-unfitted-level-2: #ffe0b3;\n",
       "  --sklearn-color-unfitted-level-3: chocolate;\n",
       "  /* Definition of color scheme for fitted estimators */\n",
       "  --sklearn-color-fitted-level-0: #f0f8ff;\n",
       "  --sklearn-color-fitted-level-1: #d4ebff;\n",
       "  --sklearn-color-fitted-level-2: #b3dbfd;\n",
       "  --sklearn-color-fitted-level-3: cornflowerblue;\n",
       "\n",
       "  /* Specific color for light theme */\n",
       "  --sklearn-color-text-on-default-background: var(--sg-text-color, var(--theme-code-foreground, var(--jp-content-font-color1, black)));\n",
       "  --sklearn-color-background: var(--sg-background-color, var(--theme-background, var(--jp-layout-color0, white)));\n",
       "  --sklearn-color-border-box: var(--sg-text-color, var(--theme-code-foreground, var(--jp-content-font-color1, black)));\n",
       "  --sklearn-color-icon: #696969;\n",
       "\n",
       "  @media (prefers-color-scheme: dark) {\n",
       "    /* Redefinition of color scheme for dark theme */\n",
       "    --sklearn-color-text-on-default-background: var(--sg-text-color, var(--theme-code-foreground, var(--jp-content-font-color1, white)));\n",
       "    --sklearn-color-background: var(--sg-background-color, var(--theme-background, var(--jp-layout-color0, #111)));\n",
       "    --sklearn-color-border-box: var(--sg-text-color, var(--theme-code-foreground, var(--jp-content-font-color1, white)));\n",
       "    --sklearn-color-icon: #878787;\n",
       "  }\n",
       "}\n",
       "\n",
       "#sk-container-id-2 {\n",
       "  color: var(--sklearn-color-text);\n",
       "}\n",
       "\n",
       "#sk-container-id-2 pre {\n",
       "  padding: 0;\n",
       "}\n",
       "\n",
       "#sk-container-id-2 input.sk-hidden--visually {\n",
       "  border: 0;\n",
       "  clip: rect(1px 1px 1px 1px);\n",
       "  clip: rect(1px, 1px, 1px, 1px);\n",
       "  height: 1px;\n",
       "  margin: -1px;\n",
       "  overflow: hidden;\n",
       "  padding: 0;\n",
       "  position: absolute;\n",
       "  width: 1px;\n",
       "}\n",
       "\n",
       "#sk-container-id-2 div.sk-dashed-wrapped {\n",
       "  border: 1px dashed var(--sklearn-color-line);\n",
       "  margin: 0 0.4em 0.5em 0.4em;\n",
       "  box-sizing: border-box;\n",
       "  padding-bottom: 0.4em;\n",
       "  background-color: var(--sklearn-color-background);\n",
       "}\n",
       "\n",
       "#sk-container-id-2 div.sk-container {\n",
       "  /* jupyter's `normalize.less` sets `[hidden] { display: none; }`\n",
       "     but bootstrap.min.css set `[hidden] { display: none !important; }`\n",
       "     so we also need the `!important` here to be able to override the\n",
       "     default hidden behavior on the sphinx rendered scikit-learn.org.\n",
       "     See: https://github.com/scikit-learn/scikit-learn/issues/21755 */\n",
       "  display: inline-block !important;\n",
       "  position: relative;\n",
       "}\n",
       "\n",
       "#sk-container-id-2 div.sk-text-repr-fallback {\n",
       "  display: none;\n",
       "}\n",
       "\n",
       "div.sk-parallel-item,\n",
       "div.sk-serial,\n",
       "div.sk-item {\n",
       "  /* draw centered vertical line to link estimators */\n",
       "  background-image: linear-gradient(var(--sklearn-color-text-on-default-background), var(--sklearn-color-text-on-default-background));\n",
       "  background-size: 2px 100%;\n",
       "  background-repeat: no-repeat;\n",
       "  background-position: center center;\n",
       "}\n",
       "\n",
       "/* Parallel-specific style estimator block */\n",
       "\n",
       "#sk-container-id-2 div.sk-parallel-item::after {\n",
       "  content: \"\";\n",
       "  width: 100%;\n",
       "  border-bottom: 2px solid var(--sklearn-color-text-on-default-background);\n",
       "  flex-grow: 1;\n",
       "}\n",
       "\n",
       "#sk-container-id-2 div.sk-parallel {\n",
       "  display: flex;\n",
       "  align-items: stretch;\n",
       "  justify-content: center;\n",
       "  background-color: var(--sklearn-color-background);\n",
       "  position: relative;\n",
       "}\n",
       "\n",
       "#sk-container-id-2 div.sk-parallel-item {\n",
       "  display: flex;\n",
       "  flex-direction: column;\n",
       "}\n",
       "\n",
       "#sk-container-id-2 div.sk-parallel-item:first-child::after {\n",
       "  align-self: flex-end;\n",
       "  width: 50%;\n",
       "}\n",
       "\n",
       "#sk-container-id-2 div.sk-parallel-item:last-child::after {\n",
       "  align-self: flex-start;\n",
       "  width: 50%;\n",
       "}\n",
       "\n",
       "#sk-container-id-2 div.sk-parallel-item:only-child::after {\n",
       "  width: 0;\n",
       "}\n",
       "\n",
       "/* Serial-specific style estimator block */\n",
       "\n",
       "#sk-container-id-2 div.sk-serial {\n",
       "  display: flex;\n",
       "  flex-direction: column;\n",
       "  align-items: center;\n",
       "  background-color: var(--sklearn-color-background);\n",
       "  padding-right: 1em;\n",
       "  padding-left: 1em;\n",
       "}\n",
       "\n",
       "\n",
       "/* Toggleable style: style used for estimator/Pipeline/ColumnTransformer box that is\n",
       "clickable and can be expanded/collapsed.\n",
       "- Pipeline and ColumnTransformer use this feature and define the default style\n",
       "- Estimators will overwrite some part of the style using the `sk-estimator` class\n",
       "*/\n",
       "\n",
       "/* Pipeline and ColumnTransformer style (default) */\n",
       "\n",
       "#sk-container-id-2 div.sk-toggleable {\n",
       "  /* Default theme specific background. It is overwritten whether we have a\n",
       "  specific estimator or a Pipeline/ColumnTransformer */\n",
       "  background-color: var(--sklearn-color-background);\n",
       "}\n",
       "\n",
       "/* Toggleable label */\n",
       "#sk-container-id-2 label.sk-toggleable__label {\n",
       "  cursor: pointer;\n",
       "  display: block;\n",
       "  width: 100%;\n",
       "  margin-bottom: 0;\n",
       "  padding: 0.5em;\n",
       "  box-sizing: border-box;\n",
       "  text-align: center;\n",
       "}\n",
       "\n",
       "#sk-container-id-2 label.sk-toggleable__label-arrow:before {\n",
       "  /* Arrow on the left of the label */\n",
       "  content: \"▸\";\n",
       "  float: left;\n",
       "  margin-right: 0.25em;\n",
       "  color: var(--sklearn-color-icon);\n",
       "}\n",
       "\n",
       "#sk-container-id-2 label.sk-toggleable__label-arrow:hover:before {\n",
       "  color: var(--sklearn-color-text);\n",
       "}\n",
       "\n",
       "/* Toggleable content - dropdown */\n",
       "\n",
       "#sk-container-id-2 div.sk-toggleable__content {\n",
       "  max-height: 0;\n",
       "  max-width: 0;\n",
       "  overflow: hidden;\n",
       "  text-align: left;\n",
       "  /* unfitted */\n",
       "  background-color: var(--sklearn-color-unfitted-level-0);\n",
       "}\n",
       "\n",
       "#sk-container-id-2 div.sk-toggleable__content.fitted {\n",
       "  /* fitted */\n",
       "  background-color: var(--sklearn-color-fitted-level-0);\n",
       "}\n",
       "\n",
       "#sk-container-id-2 div.sk-toggleable__content pre {\n",
       "  margin: 0.2em;\n",
       "  border-radius: 0.25em;\n",
       "  color: var(--sklearn-color-text);\n",
       "  /* unfitted */\n",
       "  background-color: var(--sklearn-color-unfitted-level-0);\n",
       "}\n",
       "\n",
       "#sk-container-id-2 div.sk-toggleable__content.fitted pre {\n",
       "  /* unfitted */\n",
       "  background-color: var(--sklearn-color-fitted-level-0);\n",
       "}\n",
       "\n",
       "#sk-container-id-2 input.sk-toggleable__control:checked~div.sk-toggleable__content {\n",
       "  /* Expand drop-down */\n",
       "  max-height: 200px;\n",
       "  max-width: 100%;\n",
       "  overflow: auto;\n",
       "}\n",
       "\n",
       "#sk-container-id-2 input.sk-toggleable__control:checked~label.sk-toggleable__label-arrow:before {\n",
       "  content: \"▾\";\n",
       "}\n",
       "\n",
       "/* Pipeline/ColumnTransformer-specific style */\n",
       "\n",
       "#sk-container-id-2 div.sk-label input.sk-toggleable__control:checked~label.sk-toggleable__label {\n",
       "  color: var(--sklearn-color-text);\n",
       "  background-color: var(--sklearn-color-unfitted-level-2);\n",
       "}\n",
       "\n",
       "#sk-container-id-2 div.sk-label.fitted input.sk-toggleable__control:checked~label.sk-toggleable__label {\n",
       "  background-color: var(--sklearn-color-fitted-level-2);\n",
       "}\n",
       "\n",
       "/* Estimator-specific style */\n",
       "\n",
       "/* Colorize estimator box */\n",
       "#sk-container-id-2 div.sk-estimator input.sk-toggleable__control:checked~label.sk-toggleable__label {\n",
       "  /* unfitted */\n",
       "  background-color: var(--sklearn-color-unfitted-level-2);\n",
       "}\n",
       "\n",
       "#sk-container-id-2 div.sk-estimator.fitted input.sk-toggleable__control:checked~label.sk-toggleable__label {\n",
       "  /* fitted */\n",
       "  background-color: var(--sklearn-color-fitted-level-2);\n",
       "}\n",
       "\n",
       "#sk-container-id-2 div.sk-label label.sk-toggleable__label,\n",
       "#sk-container-id-2 div.sk-label label {\n",
       "  /* The background is the default theme color */\n",
       "  color: var(--sklearn-color-text-on-default-background);\n",
       "}\n",
       "\n",
       "/* On hover, darken the color of the background */\n",
       "#sk-container-id-2 div.sk-label:hover label.sk-toggleable__label {\n",
       "  color: var(--sklearn-color-text);\n",
       "  background-color: var(--sklearn-color-unfitted-level-2);\n",
       "}\n",
       "\n",
       "/* Label box, darken color on hover, fitted */\n",
       "#sk-container-id-2 div.sk-label.fitted:hover label.sk-toggleable__label.fitted {\n",
       "  color: var(--sklearn-color-text);\n",
       "  background-color: var(--sklearn-color-fitted-level-2);\n",
       "}\n",
       "\n",
       "/* Estimator label */\n",
       "\n",
       "#sk-container-id-2 div.sk-label label {\n",
       "  font-family: monospace;\n",
       "  font-weight: bold;\n",
       "  display: inline-block;\n",
       "  line-height: 1.2em;\n",
       "}\n",
       "\n",
       "#sk-container-id-2 div.sk-label-container {\n",
       "  text-align: center;\n",
       "}\n",
       "\n",
       "/* Estimator-specific */\n",
       "#sk-container-id-2 div.sk-estimator {\n",
       "  font-family: monospace;\n",
       "  border: 1px dotted var(--sklearn-color-border-box);\n",
       "  border-radius: 0.25em;\n",
       "  box-sizing: border-box;\n",
       "  margin-bottom: 0.5em;\n",
       "  /* unfitted */\n",
       "  background-color: var(--sklearn-color-unfitted-level-0);\n",
       "}\n",
       "\n",
       "#sk-container-id-2 div.sk-estimator.fitted {\n",
       "  /* fitted */\n",
       "  background-color: var(--sklearn-color-fitted-level-0);\n",
       "}\n",
       "\n",
       "/* on hover */\n",
       "#sk-container-id-2 div.sk-estimator:hover {\n",
       "  /* unfitted */\n",
       "  background-color: var(--sklearn-color-unfitted-level-2);\n",
       "}\n",
       "\n",
       "#sk-container-id-2 div.sk-estimator.fitted:hover {\n",
       "  /* fitted */\n",
       "  background-color: var(--sklearn-color-fitted-level-2);\n",
       "}\n",
       "\n",
       "/* Specification for estimator info (e.g. \"i\" and \"?\") */\n",
       "\n",
       "/* Common style for \"i\" and \"?\" */\n",
       "\n",
       ".sk-estimator-doc-link,\n",
       "a:link.sk-estimator-doc-link,\n",
       "a:visited.sk-estimator-doc-link {\n",
       "  float: right;\n",
       "  font-size: smaller;\n",
       "  line-height: 1em;\n",
       "  font-family: monospace;\n",
       "  background-color: var(--sklearn-color-background);\n",
       "  border-radius: 1em;\n",
       "  height: 1em;\n",
       "  width: 1em;\n",
       "  text-decoration: none !important;\n",
       "  margin-left: 1ex;\n",
       "  /* unfitted */\n",
       "  border: var(--sklearn-color-unfitted-level-1) 1pt solid;\n",
       "  color: var(--sklearn-color-unfitted-level-1);\n",
       "}\n",
       "\n",
       ".sk-estimator-doc-link.fitted,\n",
       "a:link.sk-estimator-doc-link.fitted,\n",
       "a:visited.sk-estimator-doc-link.fitted {\n",
       "  /* fitted */\n",
       "  border: var(--sklearn-color-fitted-level-1) 1pt solid;\n",
       "  color: var(--sklearn-color-fitted-level-1);\n",
       "}\n",
       "\n",
       "/* On hover */\n",
       "div.sk-estimator:hover .sk-estimator-doc-link:hover,\n",
       ".sk-estimator-doc-link:hover,\n",
       "div.sk-label-container:hover .sk-estimator-doc-link:hover,\n",
       ".sk-estimator-doc-link:hover {\n",
       "  /* unfitted */\n",
       "  background-color: var(--sklearn-color-unfitted-level-3);\n",
       "  color: var(--sklearn-color-background);\n",
       "  text-decoration: none;\n",
       "}\n",
       "\n",
       "div.sk-estimator.fitted:hover .sk-estimator-doc-link.fitted:hover,\n",
       ".sk-estimator-doc-link.fitted:hover,\n",
       "div.sk-label-container:hover .sk-estimator-doc-link.fitted:hover,\n",
       ".sk-estimator-doc-link.fitted:hover {\n",
       "  /* fitted */\n",
       "  background-color: var(--sklearn-color-fitted-level-3);\n",
       "  color: var(--sklearn-color-background);\n",
       "  text-decoration: none;\n",
       "}\n",
       "\n",
       "/* Span, style for the box shown on hovering the info icon */\n",
       ".sk-estimator-doc-link span {\n",
       "  display: none;\n",
       "  z-index: 9999;\n",
       "  position: relative;\n",
       "  font-weight: normal;\n",
       "  right: .2ex;\n",
       "  padding: .5ex;\n",
       "  margin: .5ex;\n",
       "  width: min-content;\n",
       "  min-width: 20ex;\n",
       "  max-width: 50ex;\n",
       "  color: var(--sklearn-color-text);\n",
       "  box-shadow: 2pt 2pt 4pt #999;\n",
       "  /* unfitted */\n",
       "  background: var(--sklearn-color-unfitted-level-0);\n",
       "  border: .5pt solid var(--sklearn-color-unfitted-level-3);\n",
       "}\n",
       "\n",
       ".sk-estimator-doc-link.fitted span {\n",
       "  /* fitted */\n",
       "  background: var(--sklearn-color-fitted-level-0);\n",
       "  border: var(--sklearn-color-fitted-level-3);\n",
       "}\n",
       "\n",
       ".sk-estimator-doc-link:hover span {\n",
       "  display: block;\n",
       "}\n",
       "\n",
       "/* \"?\"-specific style due to the `<a>` HTML tag */\n",
       "\n",
       "#sk-container-id-2 a.estimator_doc_link {\n",
       "  float: right;\n",
       "  font-size: 1rem;\n",
       "  line-height: 1em;\n",
       "  font-family: monospace;\n",
       "  background-color: var(--sklearn-color-background);\n",
       "  border-radius: 1rem;\n",
       "  height: 1rem;\n",
       "  width: 1rem;\n",
       "  text-decoration: none;\n",
       "  /* unfitted */\n",
       "  color: var(--sklearn-color-unfitted-level-1);\n",
       "  border: var(--sklearn-color-unfitted-level-1) 1pt solid;\n",
       "}\n",
       "\n",
       "#sk-container-id-2 a.estimator_doc_link.fitted {\n",
       "  /* fitted */\n",
       "  border: var(--sklearn-color-fitted-level-1) 1pt solid;\n",
       "  color: var(--sklearn-color-fitted-level-1);\n",
       "}\n",
       "\n",
       "/* On hover */\n",
       "#sk-container-id-2 a.estimator_doc_link:hover {\n",
       "  /* unfitted */\n",
       "  background-color: var(--sklearn-color-unfitted-level-3);\n",
       "  color: var(--sklearn-color-background);\n",
       "  text-decoration: none;\n",
       "}\n",
       "\n",
       "#sk-container-id-2 a.estimator_doc_link.fitted:hover {\n",
       "  /* fitted */\n",
       "  background-color: var(--sklearn-color-fitted-level-3);\n",
       "}\n",
       "</style><div id=\"sk-container-id-2\" class=\"sk-top-container\"><div class=\"sk-text-repr-fallback\"><pre>GaussianMixture(n_components=3, n_init=10, random_state=42)</pre><b>In a Jupyter environment, please rerun this cell to show the HTML representation or trust the notebook. <br />On GitHub, the HTML representation is unable to render, please try loading this page with nbviewer.org.</b></div><div class=\"sk-container\" hidden><div class=\"sk-item\"><div class=\"sk-estimator fitted sk-toggleable\"><input class=\"sk-toggleable__control sk-hidden--visually\" id=\"sk-estimator-id-2\" type=\"checkbox\" checked><label for=\"sk-estimator-id-2\" class=\"sk-toggleable__label fitted sk-toggleable__label-arrow fitted\">&nbsp;&nbsp;GaussianMixture<a class=\"sk-estimator-doc-link fitted\" rel=\"noreferrer\" target=\"_blank\" href=\"https://scikit-learn.org/1.5/modules/generated/sklearn.mixture.GaussianMixture.html\">?<span>Documentation for GaussianMixture</span></a><span class=\"sk-estimator-doc-link fitted\">i<span>Fitted</span></span></label><div class=\"sk-toggleable__content fitted\"><pre>GaussianMixture(n_components=3, n_init=10, random_state=42)</pre></div> </div></div></div></div>"
      ],
      "text/plain": [
       "GaussianMixture(n_components=3, n_init=10, random_state=42)"
      ]
     },
     "execution_count": 26,
     "metadata": {},
     "output_type": "execute_result"
    }
   ],
   "source": [
    "\n",
    "# Now we apply GMM with 3 clusters\n",
    "\n",
    "gm3 = GaussianMixture(n_components=3, n_init=10, random_state=42)\n",
    "\n",
    "gm3.fit(heatmap_embed)"
   ]
  },
  {
   "cell_type": "code",
   "execution_count": 27,
   "id": "2e73d6a5",
   "metadata": {},
   "outputs": [
    {
     "name": "stdout",
     "output_type": "stream",
     "text": [
      "-204261494.35891256\n"
     ]
    }
   ],
   "source": [
    "## let's look at bic  \n",
    "bic3 = gm3.bic(heatmap_embed)\n",
    "\n",
    "print(bic3)"
   ]
  },
  {
   "cell_type": "code",
   "execution_count": 28,
   "id": "f27676ff",
   "metadata": {},
   "outputs": [
    {
     "name": "stdout",
     "output_type": "stream",
     "text": [
      "-204305659.96961865\n"
     ]
    }
   ],
   "source": [
    "## let's look at aic\n",
    "aic3 = gm3.aic(heatmap_embed)\n",
    "\n",
    "print(aic3)"
   ]
  },
  {
   "cell_type": "code",
   "execution_count": 29,
   "id": "1ac6677b",
   "metadata": {},
   "outputs": [
    {
     "name": "stdout",
     "output_type": "stream",
     "text": [
      "[0.32099648 0.54000002 0.1390035 ]\n"
     ]
    }
   ],
   "source": [
    "## let's look at weights\n",
    "\n",
    "gm3_weights = gm3.weights_\n",
    "\n",
    "print(gm3_weights)"
   ]
  },
  {
   "cell_type": "code",
   "execution_count": 30,
   "id": "94ce9f18",
   "metadata": {},
   "outputs": [
    {
     "name": "stdout",
     "output_type": "stream",
     "text": [
      "(3, 50)\n"
     ]
    }
   ],
   "source": [
    "## let's look at means\n",
    "gm3_means = gm3.means_\n",
    "\n",
    "print(gm3_means.shape)"
   ]
  },
  {
   "cell_type": "code",
   "execution_count": 31,
   "id": "036fdab5",
   "metadata": {},
   "outputs": [
    {
     "data": {
      "text/plain": [
       "True"
      ]
     },
     "execution_count": 31,
     "metadata": {},
     "output_type": "execute_result"
    }
   ],
   "source": [
    "## to see if gm3 converged \n",
    "gm3.converged_\n"
   ]
  },
  {
   "cell_type": "code",
   "execution_count": 32,
   "id": "6c4c774e",
   "metadata": {},
   "outputs": [
    {
     "name": "stdout",
     "output_type": "stream",
     "text": [
      "35\n"
     ]
    }
   ],
   "source": [
    "gm3_iter = gm3.n_iter_\n",
    "\n",
    "print(gm3_iter)"
   ]
  },
  {
   "cell_type": "code",
   "execution_count": 33,
   "id": "d7acacf1",
   "metadata": {},
   "outputs": [
    {
     "name": "stdout",
     "output_type": "stream",
     "text": [
      "(491520,)\n"
     ]
    }
   ],
   "source": [
    "# making hard clustering on clustering\n",
    "\n",
    "gm3_hard = gm3.predict(heatmap_embed)\n",
    "\n",
    "print(gm3_hard.shape)"
   ]
  },
  {
   "cell_type": "code",
   "execution_count": 34,
   "id": "0d9d6b13",
   "metadata": {},
   "outputs": [
    {
     "data": {
      "text/plain": [
       "<mpl_toolkits.mplot3d.art3d.Path3DCollection at 0x7f2aa308f730>"
      ]
     },
     "execution_count": 34,
     "metadata": {},
     "output_type": "execute_result"
    },
    {
     "data": {
      "image/png": "[encoded data removed]",
      "text/plain": [
       "<Figure size 800x600 with 1 Axes>"
      ]
     },
     "metadata": {},
     "output_type": "display_data"
    }
   ],
   "source": [
    "import numpy as np\n",
    "import matplotlib.pyplot as plt\n",
    "from sklearn.mixture import GaussianMixture\n",
    "from mpl_toolkits.mplot3d import Axes3D\n",
    "from matplotlib.patches import Ellipse\n",
    "\n",
    "X = heatmap_embed\n",
    "\n",
    "\n",
    "labels = gm3_hard\n",
    "\n",
    "# Step 3: Plot the 3D scatter plot\n",
    "fig = plt.figure(figsize=(8, 6))\n",
    "ax = fig.add_subplot(111, projection='3d')\n",
    "ax.scatter(X[:, 0], X[:, 1], X[:, 2], c=labels, s=40, cmap='viridis')"
   ]
  },
  {
   "cell_type": "markdown",
   "id": "5011f037",
   "metadata": {},
   "source": [
    "## Visualising components of a GMM"
   ]
  },
  {
   "cell_type": "markdown",
   "id": "d5638efc",
   "metadata": {},
   "source": [
    "Yes, you can **visualize the number of clusters** in a **Gaussian Mixture Model (GMM)** when the number of clusters is set to 2 or 3, especially when working with data in **two or three dimensions**. Here's how and why:\n",
    "\n",
    "### **1. Visualization in 2D or 3D Spaces**\n",
    "\n",
    "- **Scatter Plots:** For datasets with two or three features, you can create scatter plots where each data point is colored based on its assigned cluster. This provides a straightforward way to see how the data is partitioned.\n",
    "\n",
    "    ![GMM 2D Visualization](https://i.imgur.com/yourimage.png) *(Replace with an actual image if needed)*\n",
    "\n",
    "- **Gaussian Components Representation:** GMM assumes that the data is generated from a mixture of several Gaussian distributions. You can visualize each Gaussian component by plotting **ellipses** (in 2D) or **ellipsoids** (in 3D) that represent the covariance of each cluster. These shapes help illustrate the spread and orientation of each Gaussian distribution.\n",
    "\n",
    "    - **Mean:** The center of each ellipse/ellipsoid corresponds to the mean of the Gaussian component.\n",
    "    - **Covariance:** The shape and size reflect the covariance matrix, indicating how the data is dispersed around the mean.\n",
    "\n",
    "### **2. Dimensionality Reduction for Higher-Dimensional Data**\n",
    "\n",
    "If your data has more than three dimensions, direct visualization becomes challenging. In such cases, you can apply **dimensionality reduction techniques** before visualization:\n",
    "\n",
    "- **Principal Component Analysis (PCA):** Reduces the data to the most significant principal components, capturing the majority of the variance.\n",
    "  \n",
    "- **t-Distributed Stochastic Neighbor Embedding (t-SNE):** Useful for visualizing high-dimensional data by preserving local structures.\n",
    "\n",
    "- **Uniform Manifold Approximation and Projection (UMAP):** Another technique for dimensionality reduction that preserves both local and global data structures.\n",
    "\n",
    "After reducing the dimensions, you can create 2D or 3D plots similar to those described above.\n",
    "\n",
    "### **3. Tools and Libraries**\n",
    "\n",
    "Several programming libraries can assist with visualizing GMM clusters:\n",
    "\n",
    "- **Python's `matplotlib` and `seaborn`:** For creating detailed and customizable plots.\n",
    "  \n",
    "- **`scikit-learn`:** Provides built-in functions for fitting GMMs and accessing the parameters needed for visualization.\n",
    "\n",
    "- **`plotly`:** For interactive visualizations, which can be particularly helpful for exploring data.\n",
    "\n",
    "### **5. Considerations**\n",
    "\n",
    "- **Choice of Number of Clusters (`n_components`):** While visualization can help interpret clusters, selecting the optimal number of clusters often involves metrics like **AIC (Akaike Information Criterion)** or **BIC (Bayesian Information Criterion)**.\n",
    "\n",
    "- **Covariance Type:** GMM allows different covariance structures (e.g., spherical, diagonal, full). The choice affects the shape of the Gaussian components and thus the visualization.\n",
    "\n",
    "- **Overlapping Clusters:** In cases where clusters overlap significantly, visualization can help assess the clarity of separation but may also reveal limitations in clustering performance.\n",
    "\n",
    "### **Conclusion**\n",
    "\n",
    "Visualizing GMM clusters when the number of clusters is 2 or 3 is not only possible but also a powerful way to understand the underlying structure of your data. Whether working in low-dimensional spaces or applying dimensionality reduction techniques for higher-dimensional data, visualization aids in interpreting the model's clustering results and in making informed decisions about the suitability of the chosen number of clusters."
   ]
  },
  {
   "cell_type": "markdown",
   "id": "7456571d",
   "metadata": {},
   "source": [
    "### Looking at distribution of features"
   ]
  },
  {
   "cell_type": "code",
   "execution_count": 3,
   "id": "d0a1a126",
   "metadata": {},
   "outputs": [],
   "source": [
    "root_dir = Path('/dhc/home/masoumeh.javanbakhat/netstore-old/Baysian/3D')\n",
    "\n",
    "heatmap_dir = root_dir/'Explainability'/'Codes'/'heatmaps'"
   ]
  },
  {
   "cell_type": "code",
   "execution_count": 4,
   "id": "49fcdcbe",
   "metadata": {},
   "outputs": [],
   "source": [
    "exp = 4\n",
    "\n",
    "seed = 42\n",
    "\n",
    "latentvar = 'shape' \n",
    "\n",
    "latentcls = str([1,2])"
   ]
  },
  {
   "cell_type": "code",
   "execution_count": 5,
   "id": "70d01a70",
   "metadata": {},
   "outputs": [],
   "source": [
    "heatmaps = np.load(os.path.join(heatmap_dir,\n",
    "                          f'{exp}_{seed}_{latentvar}_{latentcls}_htm.npy'))"
   ]
  },
  {
   "cell_type": "code",
   "execution_count": 6,
   "id": "567024e9",
   "metadata": {},
   "outputs": [
    {
     "name": "stdout",
     "output_type": "stream",
     "text": [
      "(491520, 64, 64)\n"
     ]
    }
   ],
   "source": [
    "print(heatmaps.shape)"
   ]
  },
  {
   "cell_type": "code",
   "execution_count": 11,
   "id": "51caf940",
   "metadata": {},
   "outputs": [
    {
     "name": "stdout",
     "output_type": "stream",
     "text": [
      "245760\n",
      "(245760, 64, 64)\n",
      "(245760, 64, 64)\n"
     ]
    }
   ],
   "source": [
    "mid_point = 491520 // 2\n",
    "\n",
    "print(mid_point)\n",
    "\n",
    "group1_features = heatmaps[:mid_point]\n",
    "group2_features = heatmaps[mid_point:]\n",
    "\n",
    "print(group1_features.shape)\n",
    "\n",
    "print(group2_features.shape)"
   ]
  },
  {
   "cell_type": "code",
   "execution_count": 12,
   "id": "a274f9ef",
   "metadata": {},
   "outputs": [],
   "source": [
    "def process_in_batches(heatmaps, batch_size):\n",
    "\n",
    "    heatmaps_flatten = np.empty((heatmaps.shape[0], 64*64))\n",
    "    n_samples = heatmaps.shape[0]\n",
    "\n",
    "    for i in range(0, heatmaps.shape[0], batch_size):\n",
    "        print(f'batch_idx:{i}\\n')\n",
    "        end_index = min(i + batch_size, n_samples)\n",
    "        batch = heatmaps[i:end_index].reshape(-1, 64*64)\n",
    "        heatmaps_flatten[i:end_index] = batch \n",
    "    \n",
    "    print(heatmaps_flatten.shape)\n",
    "    "
   ]
  },
  {
   "cell_type": "code",
   "execution_count": null,
   "id": "4ffd34a1",
   "metadata": {},
   "outputs": [
    {
     "name": "stdout",
     "output_type": "stream",
     "text": [
      "batch_idx:0\n",
      "\n",
      "batch_idx:10000\n",
      "\n",
      "batch_idx:20000\n",
      "\n",
      "batch_idx:30000\n",
      "\n",
      "batch_idx:40000\n",
      "\n",
      "batch_idx:50000\n",
      "\n",
      "batch_idx:60000\n",
      "\n",
      "batch_idx:70000\n",
      "\n",
      "batch_idx:80000\n",
      "\n",
      "batch_idx:90000\n",
      "\n",
      "batch_idx:100000\n",
      "\n",
      "batch_idx:110000\n",
      "\n",
      "batch_idx:120000\n",
      "\n",
      "batch_idx:130000\n",
      "\n",
      "batch_idx:140000\n",
      "\n",
      "batch_idx:150000\n",
      "\n",
      "batch_idx:160000\n",
      "\n",
      "batch_idx:170000\n",
      "\n",
      "batch_idx:180000\n",
      "\n",
      "batch_idx:190000\n",
      "\n",
      "batch_idx:200000\n",
      "\n"
     ]
    }
   ],
   "source": [
    "group1_flattened = process_in_batches(group1_features, batch_size=10000)"
   ]
  },
  {
   "cell_type": "code",
   "execution_count": 1,
   "id": "d7954253",
   "metadata": {},
   "outputs": [
    {
     "name": "stdout",
     "output_type": "stream",
     "text": [
      "245760\n"
     ]
    }
   ],
   "source": [
    "mid_point = 491520 // 2\n",
    "\n",
    "print(mid_point)"
   ]
  },
  {
   "cell_type": "code",
   "execution_count": 8,
   "id": "97c8818f",
   "metadata": {},
   "outputs": [],
   "source": [
    "import numpy as np\n",
    "\n",
    "exp=4\n",
    "seed = 42\n",
    "latentvar = 'shape'\n",
    "latentcls = str([1,2])\n",
    "\n",
    "\n",
    "def process_in_batches(heatmaps, batch_size):\n",
    "    root_dir = Path('/dhc/home/masoumeh.javanbakhat/netstore-old/Baysian/3D')\n",
    "    heatmap_dir = root_dir/'Explainability'/'Codes'/'heatmaps'\n",
    "    \n",
    "    np.load(os.path.join(heatmap_dir,\n",
    "                          f'{exp}_{seed}_{latentvar}_{latentcls}_htm.npy'))\n",
    "    \n",
    "    \n",
    "    n_samples = heatmaps.shape[0]\n",
    "    flattened_shape = 64 * 64\n",
    "    batch_files = []\n",
    "\n",
    "    # Process in batches and save each batch as a separate file\n",
    "    for i in range(0, n_samples, batch_size):\n",
    "        print(f'Processing batch starting at index {i}')\n",
    "        end_index = min(i + batch_size, n_samples)\n",
    "        batch = heatmaps[i:end_index].reshape(-1, flattened_shape)\n",
    "        \n",
    "        # Save each batch to a separate file\n",
    "        batch_file = os.path.join(heatmap_dir,f'{exp}_{seed}_{latentvar}_{latentcls}_flatten_batch_{i // batch_size}.npy')\n",
    "        np.save(batch_file, batch)\n",
    "        batch_files.append(batch_file)\n",
    "\n",
    "    # Load and concatenate all the batches into one large array\n",
    "    all_batches = []\n",
    "    for batch_file in batch_files:\n",
    "        batch = np.load(batch_file)\n",
    "        all_batches.append(batch)\n",
    "    \n",
    "    # Concatenate all batches into a single array\n",
    "    full_array = np.vstack(all_batches)\n",
    "    \n",
    "    # Save the full array as a single file\n",
    "    np.save(os.path.join(heatmap_dir,f'{exp}_{seed}_{latentvar}_{latentcls}_flatten_heat.npy'), full_array)\n",
    "\n",
    "    print(f'Full array saved!')\n"
   ]
  },
  {
   "cell_type": "code",
   "execution_count": null,
   "id": "14b23b7c",
   "metadata": {},
   "outputs": [],
   "source": [
    "process_in_batches(heatmaps, batch_size=10000)"
   ]
  },
  {
   "cell_type": "markdown",
   "id": "5e6f6763",
   "metadata": {},
   "source": [
    "### Testing DeepTwoSampleTest"
   ]
  },
  {
   "cell_type": "code",
   "execution_count": null,
   "id": "63093852",
   "metadata": {},
   "outputs": [],
   "source": [
    "%run ./Clustering.py"
   ]
  },
  {
   "cell_type": "code",
   "execution_count": 1,
   "id": "470042aa",
   "metadata": {},
   "outputs": [
    {
     "name": "stdout",
     "output_type": "stream",
     "text": [
      "2\n"
     ]
    }
   ],
   "source": [
    "for i in range(2,3):\n",
    "    \n",
    "    print(i)"
   ]
  },
  {
   "cell_type": "code",
   "execution_count": null,
   "id": "a159deed",
   "metadata": {},
   "outputs": [],
   "source": []
  }
 ],
 "metadata": {
  "kernelspec": {
   "display_name": "Python 3 (ipykernel)",
   "language": "python",
   "name": "python3"
  },
  "language_info": {
   "codemirror_mode": {
    "name": "ipython",
    "version": 3
   },
   "file_extension": ".py",
   "mimetype": "text/x-python",
   "name": "python",
   "nbconvert_exporter": "python",
   "pygments_lexer": "ipython3",
   "version": "3.9.19"
  }
 },
 "nbformat": 4,
 "nbformat_minor": 5
}
