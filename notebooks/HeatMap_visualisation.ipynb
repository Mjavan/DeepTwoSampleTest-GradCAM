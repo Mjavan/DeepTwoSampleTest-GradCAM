{
 "cells": [
  {
   "cell_type": "code",
   "execution_count": 1,
   "id": "ab0d4c3c",
   "metadata": {},
   "outputs": [],
   "source": [
    "import numpy as np\n",
    "import matplotlib.pyplot as plt\n",
    "import os\n",
    "from pathlib import Path\n",
    "import torch"
   ]
  },
  {
   "cell_type": "code",
   "execution_count": 19,
   "id": "5c90e58f",
   "metadata": {},
   "outputs": [],
   "source": [
    "seed = 42\n",
    "exp = 4\n",
    "\n",
    "latentvar = 'shape'\n",
    "\n",
    "latentcls = str([1,2])\n",
    "\n",
    "group= 'X'"
   ]
  },
  {
   "cell_type": "code",
   "execution_count": 20,
   "id": "1273e7a4",
   "metadata": {},
   "outputs": [],
   "source": [
    "root_dir = Path('/dhc/home/masoumeh.javanbakhat/netstore-old/Baysian/3D')\n",
    "\n",
    "svd_dir_heatmap = root_dir / 'Explainability' / 'Codes' / 'Two_Test' / 'heatmaps'\n",
    "\n",
    "base_path = os.path.join(svd_dir_heatmap, f'{seed}_{exp}_{latentvar}')\n",
    "\n",
    "file_name = f'{latentcls}_{group}_heatmap.npy'\n",
    "\n",
    "full_path = os.path.join(base_path, file_name)"
   ]
  },
  {
   "cell_type": "code",
   "execution_count": 21,
   "id": "4503e091",
   "metadata": {},
   "outputs": [],
   "source": [
    "# Load the saved heatmap\n",
    "heatmap = np.load(full_path)"
   ]
  },
  {
   "cell_type": "code",
   "execution_count": 11,
   "id": "c18ed20c",
   "metadata": {},
   "outputs": [
    {
     "name": "stdout",
     "output_type": "stream",
     "text": [
      "(78208, 64, 64)\n"
     ]
    }
   ],
   "source": [
    "print(heatmap.shape)"
   ]
  },
  {
   "cell_type": "code",
   "execution_count": 13,
   "id": "c4f6ca86",
   "metadata": {},
   "outputs": [
    {
     "data": {
      "text/plain": [
       "(-0.5, 63.5, 63.5, -0.5)"
      ]
     },
     "execution_count": 13,
     "metadata": {},
     "output_type": "execute_result"
    },
    {
     "data": {
      "image/png": "[encoded data removed]",
      "text/plain": [
       "<Figure size 640x480 with 1 Axes>"
      ]
     },
     "metadata": {},
     "output_type": "display_data"
    }
   ],
   "source": [
    "plt.imshow(heatmap[1])\n",
    "\n",
    "plt.axis('off')"
   ]
  },
  {
   "cell_type": "code",
   "execution_count": 14,
   "id": "53e5da6e",
   "metadata": {},
   "outputs": [
    {
     "data": {
      "text/plain": [
       "(-0.5, 63.5, 63.5, -0.5)"
      ]
     },
     "execution_count": 14,
     "metadata": {},
     "output_type": "execute_result"
    },
    {
     "data": {
      "image/png": "[encoded data removed]",
      "text/plain": [
       "<Figure size 640x480 with 1 Axes>"
      ]
     },
     "metadata": {},
     "output_type": "display_data"
    }
   ],
   "source": [
    "plt.imshow(heatmap[10])\n",
    "\n",
    "plt.axis('off')"
   ]
  },
  {
   "cell_type": "code",
   "execution_count": 16,
   "id": "f94a92d5",
   "metadata": {},
   "outputs": [
    {
     "data": {
      "text/plain": [
       "(-0.5, 63.5, 63.5, -0.5)"
      ]
     },
     "execution_count": 16,
     "metadata": {},
     "output_type": "execute_result"
    },
    {
     "data": {
      "image/png": "[encoded data removed]",
      "text/plain": [
       "<Figure size 640x480 with 1 Axes>"
      ]
     },
     "metadata": {},
     "output_type": "display_data"
    }
   ],
   "source": [
    "plt.imshow(heatmap[-1])\n",
    "\n",
    "plt.axis('off')"
   ]
  },
  {
   "cell_type": "code",
   "execution_count": 23,
   "id": "d0545988",
   "metadata": {},
   "outputs": [
    {
     "data": {
      "text/plain": [
       "(-0.5, 63.5, 63.5, -0.5)"
      ]
     },
     "execution_count": 23,
     "metadata": {},
     "output_type": "execute_result"
    },
    {
     "data": {
      "image/png": "[encoded data removed]",
      "text/plain": [
       "<Figure size 640x480 with 1 Axes>"
      ]
     },
     "metadata": {},
     "output_type": "display_data"
    }
   ],
   "source": [
    "plt.imshow(heatmap[23])\n",
    "\n",
    "plt.axis(\"off\")"
   ]
  },
  {
   "cell_type": "code",
   "execution_count": 10,
   "id": "2d71a099",
   "metadata": {},
   "outputs": [],
   "source": [
    "import torch"
   ]
  },
  {
   "cell_type": "code",
   "execution_count": 11,
   "id": "3a43c268",
   "metadata": {},
   "outputs": [],
   "source": [
    "a = torch.randn(128,1,64,64)\n",
    "\n",
    "b = torch.randn(128,1,64,64)"
   ]
  },
  {
   "cell_type": "code",
   "execution_count": 16,
   "id": "a74e851a",
   "metadata": {},
   "outputs": [],
   "source": [
    "c = torch.cat((a,b),dim=0)"
   ]
  },
  {
   "cell_type": "code",
   "execution_count": 17,
   "id": "ba5bd8c1",
   "metadata": {},
   "outputs": [
    {
     "data": {
      "text/plain": [
       "torch.Size([256, 1, 64, 64])"
      ]
     },
     "execution_count": 17,
     "metadata": {},
     "output_type": "execute_result"
    }
   ],
   "source": [
    "c.shape"
   ]
  },
  {
   "cell_type": "code",
   "execution_count": 24,
   "id": "54f4c1ba",
   "metadata": {},
   "outputs": [],
   "source": [
    "import numpy as np"
   ]
  },
  {
   "cell_type": "code",
   "execution_count": 28,
   "id": "ee50685b",
   "metadata": {},
   "outputs": [],
   "source": [
    "a = np.random.rand(128,64,64)\n",
    "\n",
    "b = np.random.rand(128,64,64)"
   ]
  },
  {
   "cell_type": "code",
   "execution_count": 30,
   "id": "1b4fe737",
   "metadata": {},
   "outputs": [],
   "source": [
    "c = np.vstack((a,b))\n",
    "\n"
   ]
  },
  {
   "cell_type": "code",
   "execution_count": 31,
   "id": "44e32fc3",
   "metadata": {},
   "outputs": [
    {
     "data": {
      "text/plain": [
       "(256, 64, 64)"
      ]
     },
     "execution_count": 31,
     "metadata": {},
     "output_type": "execute_result"
    }
   ],
   "source": [
    "c.shape"
   ]
  },
  {
   "cell_type": "markdown",
   "id": "9f1ebed1",
   "metadata": {},
   "source": [
    "## Looking at masked image with most important features\n"
   ]
  },
  {
   "cell_type": "code",
   "execution_count": 3,
   "id": "3f09ffc1",
   "metadata": {},
   "outputs": [],
   "source": [
    "import os\n",
    "from pathlib import Path\n",
    "\n",
    "import numpy as np"
   ]
  },
  {
   "cell_type": "code",
   "execution_count": 3,
   "id": "a349d29f",
   "metadata": {},
   "outputs": [],
   "source": [
    "# reading heatmaps and overlays\n",
    "seed = 42\n",
    "exp =4\n",
    "latentvar = 'shape'\n",
    "latentcls = str([1,2])\n",
    "group='XY'\n",
    "relu='True'\n",
    "\n",
    "root_dir = Path('/dhc/home/masoumeh.javanbakhat/netstore-old/Baysian/3D')\n",
    "svd_dir_heatmap = root_dir / 'Explainability' / 'Codes' / 'Two_Test' / 'heatmaps'\n",
    "\n",
    "base_path = os.path.join(svd_dir_heatmap, f'{seed}_{exp}_{latentvar}')\n",
    "file_name = f'{latentcls}_{group}_{relu}_heatmap.npy'\n",
    "full_path = os.path.join(base_path, file_name)\n",
    "heatmaps = np.load(full_path)\n"
   ]
  },
  {
   "cell_type": "code",
   "execution_count": 3,
   "id": "0ca78a58",
   "metadata": {},
   "outputs": [],
   "source": [
    "root_dir = Path('/dhc/home/masoumeh.javanbakhat/netstore-old/Baysian/3D')\n",
    "\n",
    "svd_dir_masked = root_dir / 'Explainability' / 'Codes' / 'Two_Test' / 'masked'"
   ]
  },
  {
   "cell_type": "code",
   "execution_count": 84,
   "id": "8d215a92",
   "metadata": {},
   "outputs": [
    {
     "name": "stdout",
     "output_type": "stream",
     "text": [
      "(156416, 64, 64)\n"
     ]
    }
   ],
   "source": [
    "latentcls = str([1,2])\n",
    "\n",
    "percentage = 1\n",
    "\n",
    "file_base_mask_dir = os.path.join(svd_dir_masked, f'42_4_shape')\n",
    "\n",
    "file_name_mask = f'{latentcls}_XY_True_{percentage}%_mask_img.npy'\n",
    "full_path_mask = os.path.join(file_base_mask_dir, file_name_mask)\n",
    "masked_img_1 = np.load(full_path_mask)\n",
    "\n",
    "print(masked_img_1.shape)"
   ]
  },
  {
   "cell_type": "code",
   "execution_count": 85,
   "id": "d59db375",
   "metadata": {},
   "outputs": [],
   "source": [
    "mask_img10_1 = masked_img_1[10]"
   ]
  },
  {
   "cell_type": "code",
   "execution_count": 88,
   "id": "ed9b4e3a",
   "metadata": {},
   "outputs": [
    {
     "data": {
      "text/plain": [
       "(-0.5, 63.5, 63.5, -0.5)"
      ]
     },
     "execution_count": 88,
     "metadata": {},
     "output_type": "execute_result"
    },
    {
     "data": {
      "image/png": "[encoded data removed]",
      "text/plain": [
       "<Figure size 300x300 with 1 Axes>"
      ]
     },
     "metadata": {},
     "output_type": "display_data"
    }
   ],
   "source": [
    "plt.figure(figsize=(3,3))\n",
    "\n",
    "plt.imshow(mask_img10_1)\n",
    "\n",
    "plt.axis(\"off\")"
   ]
  },
  {
   "cell_type": "code",
   "execution_count": 6,
   "id": "5bdc25ca",
   "metadata": {},
   "outputs": [
    {
     "name": "stdout",
     "output_type": "stream",
     "text": [
      "(156416, 64, 64)\n"
     ]
    }
   ],
   "source": [
    "latentcls = str([1,2])\n",
    "\n",
    "percentage = 2\n",
    "\n",
    "file_base_mask_dir = os.path.join(svd_dir_masked, f'42_4_shape')\n",
    "\n",
    "file_name_mask = f'{latentcls}_XY_True_{percentage}%_mask_img.npy'\n",
    "full_path_mask = os.path.join(file_base_mask_dir, file_name_mask)\n",
    "masked_img_2 = np.load(full_path_mask)\n",
    "\n",
    "print(masked_img_2.shape)"
   ]
  },
  {
   "cell_type": "code",
   "execution_count": 8,
   "id": "6b2d5030",
   "metadata": {},
   "outputs": [],
   "source": [
    "mask_img10_2 = masked_img_2[10]"
   ]
  },
  {
   "cell_type": "code",
   "execution_count": 9,
   "id": "2e506031",
   "metadata": {},
   "outputs": [
    {
     "data": {
      "text/plain": [
       "(-0.5, 63.5, 63.5, -0.5)"
      ]
     },
     "execution_count": 9,
     "metadata": {},
     "output_type": "execute_result"
    },
    {
     "data": {
      "image/png": "[encoded data removed]",
      "text/plain": [
       "<Figure size 300x300 with 1 Axes>"
      ]
     },
     "metadata": {},
     "output_type": "display_data"
    }
   ],
   "source": [
    "plt.figure(figsize=(3,3))\n",
    "\n",
    "plt.imshow(mask_img10_2)\n",
    "\n",
    "plt.axis(\"off\")"
   ]
  },
  {
   "cell_type": "code",
   "execution_count": 10,
   "id": "fda1f0c7",
   "metadata": {},
   "outputs": [
    {
     "name": "stdout",
     "output_type": "stream",
     "text": [
      "(156416, 64, 64)\n"
     ]
    }
   ],
   "source": [
    "latentcls = str([1,2])\n",
    "\n",
    "percentage = 3\n",
    "\n",
    "file_base_mask_dir = os.path.join(svd_dir_masked, f'42_4_shape')\n",
    "\n",
    "file_name_mask = f'{latentcls}_XY_True_{percentage}%_mask_img.npy'\n",
    "full_path_mask = os.path.join(file_base_mask_dir, file_name_mask)\n",
    "masked_img_3 = np.load(full_path_mask)\n",
    "\n",
    "print(masked_img_3.shape)\n",
    "\n",
    "mask_img10_3 = masked_img_3[10]"
   ]
  },
  {
   "cell_type": "code",
   "execution_count": 11,
   "id": "680d0296",
   "metadata": {},
   "outputs": [
    {
     "data": {
      "text/plain": [
       "(-0.5, 63.5, 63.5, -0.5)"
      ]
     },
     "execution_count": 11,
     "metadata": {},
     "output_type": "execute_result"
    },
    {
     "data": {
      "image/png": "[encoded data removed]",
      "text/plain": [
       "<Figure size 300x300 with 1 Axes>"
      ]
     },
     "metadata": {},
     "output_type": "display_data"
    }
   ],
   "source": [
    "plt.figure(figsize=(3,3))\n",
    "\n",
    "plt.imshow(mask_img10_3)\n",
    "\n",
    "plt.axis(\"off\")"
   ]
  },
  {
   "cell_type": "code",
   "execution_count": 5,
   "id": "cc9e4983",
   "metadata": {},
   "outputs": [
    {
     "name": "stdout",
     "output_type": "stream",
     "text": [
      "(156416, 64, 64)\n"
     ]
    }
   ],
   "source": [
    "# look at masking 10% of most importnat features\n",
    "\n",
    "latentcls = str([1,2])\n",
    "\n",
    "percentage = 10\n",
    "\n",
    "file_base_mask_dir = os.path.join(svd_dir_masked, f'42_4_shape')\n",
    "\n",
    "file_name_mask = f'{latentcls}_XY_True_{percentage}%_mask_img.npy'\n",
    "full_path_mask = os.path.join(file_base_mask_dir, file_name_mask)\n",
    "masked_img_10 = np.load(full_path_mask)\n",
    "\n",
    "print(masked_img_10.shape)\n",
    "\n",
    "mask_img10_10 = masked_img_10[10]"
   ]
  },
  {
   "cell_type": "code",
   "execution_count": 6,
   "id": "b25ae22c",
   "metadata": {},
   "outputs": [
    {
     "data": {
      "text/plain": [
       "(-0.5, 63.5, 63.5, -0.5)"
      ]
     },
     "execution_count": 6,
     "metadata": {},
     "output_type": "execute_result"
    },
    {
     "data": {
      "image/png": "[encoded data removed]",
      "text/plain": [
       "<Figure size 300x300 with 1 Axes>"
      ]
     },
     "metadata": {},
     "output_type": "display_data"
    }
   ],
   "source": [
    "plt.figure(figsize=(3,3))\n",
    "\n",
    "plt.imshow(mask_img10_10)\n",
    "\n",
    "plt.axis(\"off\")"
   ]
  },
  {
   "cell_type": "code",
   "execution_count": 7,
   "id": "aa370027",
   "metadata": {},
   "outputs": [
    {
     "name": "stdout",
     "output_type": "stream",
     "text": [
      "(156416, 64, 64)\n"
     ]
    }
   ],
   "source": [
    "# look at masking 10% of most importnat features\n",
    "\n",
    "latentcls = str([1,2])\n",
    "\n",
    "percentage = 20\n",
    "\n",
    "file_base_mask_dir = os.path.join(svd_dir_masked, f'42_4_shape')\n",
    "\n",
    "file_name_mask = f'{latentcls}_XY_True_{percentage}%_mask_img.npy'\n",
    "full_path_mask = os.path.join(file_base_mask_dir, file_name_mask)\n",
    "masked_img_20 = np.load(full_path_mask)\n",
    "\n",
    "print(masked_img_20.shape)\n",
    "\n",
    "mask_img10_20 = masked_img_20[10]"
   ]
  },
  {
   "cell_type": "code",
   "execution_count": 9,
   "id": "8cbdd78c",
   "metadata": {},
   "outputs": [
    {
     "data": {
      "text/plain": [
       "(-0.5, 63.5, 63.5, -0.5)"
      ]
     },
     "execution_count": 9,
     "metadata": {},
     "output_type": "execute_result"
    },
    {
     "data": {
      "image/png": "[encoded data removed]",
      "text/plain": [
       "<Figure size 300x300 with 1 Axes>"
      ]
     },
     "metadata": {},
     "output_type": "display_data"
    }
   ],
   "source": [
    "plt.figure(figsize=(3,3))\n",
    "plt.imshow(mask_img10_20)\n",
    "plt.axis(\"off\")"
   ]
  },
  {
   "cell_type": "code",
   "execution_count": 4,
   "id": "c39974e8",
   "metadata": {},
   "outputs": [
    {
     "name": "stdout",
     "output_type": "stream",
     "text": [
      "(156416, 64, 64)\n"
     ]
    }
   ],
   "source": [
    "latentcls = str([1,2])\n",
    "\n",
    "percentage = 50\n",
    "\n",
    "file_base_mask_dir = os.path.join(svd_dir_masked, f'42_4_shape')\n",
    "\n",
    "file_name_mask = f'{latentcls}_XY_True_{percentage}%_mask_img.npy'\n",
    "full_path_mask = os.path.join(file_base_mask_dir, file_name_mask)\n",
    "masked_img_50 = np.load(full_path_mask)\n",
    "\n",
    "print(masked_img_50.shape)"
   ]
  },
  {
   "cell_type": "code",
   "execution_count": 5,
   "id": "fc428b22",
   "metadata": {},
   "outputs": [],
   "source": [
    "mask_img10_50 = masked_img_50[10]"
   ]
  },
  {
   "cell_type": "code",
   "execution_count": 6,
   "id": "69cbdd93",
   "metadata": {},
   "outputs": [
    {
     "data": {
      "text/plain": [
       "(-0.5, 63.5, 63.5, -0.5)"
      ]
     },
     "execution_count": 6,
     "metadata": {},
     "output_type": "execute_result"
    },
    {
     "data": {
      "image/png": "[encoded data removed]",
      "text/plain": [
       "<Figure size 300x300 with 1 Axes>"
      ]
     },
     "metadata": {},
     "output_type": "display_data"
    }
   ],
   "source": [
    "plt.figure(figsize=(3,3))\n",
    "plt.imshow(mask_img10_50)\n",
    "plt.axis(\"off\")"
   ]
  },
  {
   "cell_type": "code",
   "execution_count": 8,
   "id": "6219ba08",
   "metadata": {},
   "outputs": [
    {
     "data": {
      "text/plain": [
       "0.5"
      ]
     },
     "execution_count": 8,
     "metadata": {},
     "output_type": "execute_result"
    }
   ],
   "source": [
    "1/100 *50"
   ]
  },
  {
   "cell_type": "code",
   "execution_count": 7,
   "id": "cc9db75e",
   "metadata": {},
   "outputs": [
    {
     "data": {
      "text/plain": [
       "0.002"
      ]
     },
     "execution_count": 7,
     "metadata": {},
     "output_type": "execute_result"
    }
   ],
   "source": [
    "1/500"
   ]
  },
  {
   "cell_type": "code",
   "execution_count": 15,
   "id": "1a602a28",
   "metadata": {},
   "outputs": [],
   "source": [
    "latentcls = str([1,2])\n",
    "\n",
    "percentage = 10"
   ]
  },
  {
   "cell_type": "code",
   "execution_count": 16,
   "id": "1fd888dd",
   "metadata": {},
   "outputs": [],
   "source": [
    "file_base_mask_dir = os.path.join(svd_dir_masked, f'42_4_shape')\n",
    "\n",
    "file_name_mask = f'{latentcls}_XY_True_{percentage}%_mask_img.npy'\n",
    "full_path_mask = os.path.join(file_base_mask_dir, file_name_mask)\n",
    "masked_img = np.load(full_path_mask)"
   ]
  },
  {
   "cell_type": "code",
   "execution_count": 17,
   "id": "6cd3424b",
   "metadata": {},
   "outputs": [
    {
     "name": "stdout",
     "output_type": "stream",
     "text": [
      "(156416, 64, 64)\n"
     ]
    }
   ],
   "source": [
    "print(masked_img.shape)"
   ]
  },
  {
   "cell_type": "code",
   "execution_count": 18,
   "id": "432922c2",
   "metadata": {},
   "outputs": [],
   "source": [
    "img0 = masked_img[0]"
   ]
  },
  {
   "cell_type": "code",
   "execution_count": 19,
   "id": "75931cf2",
   "metadata": {},
   "outputs": [],
   "source": [
    "import matplotlib.pyplot as plt"
   ]
  },
  {
   "cell_type": "code",
   "execution_count": 21,
   "id": "6e843b68",
   "metadata": {},
   "outputs": [
    {
     "data": {
      "text/plain": [
       "(-0.5, 63.5, 63.5, -0.5)"
      ]
     },
     "execution_count": 21,
     "metadata": {},
     "output_type": "execute_result"
    },
    {
     "data": {
      "image/png": "[encoded data removed]",
      "text/plain": [
       "<Figure size 640x480 with 1 Axes>"
      ]
     },
     "metadata": {},
     "output_type": "display_data"
    }
   ],
   "source": [
    "plt.imshow(img0,cmap='gray')\n",
    "\n",
    "plt.axis(\"off\")"
   ]
  },
  {
   "cell_type": "markdown",
   "id": "6839364f",
   "metadata": {},
   "source": [
    "#### Images with 10% of most importnat features masked "
   ]
  },
  {
   "cell_type": "code",
   "execution_count": 22,
   "id": "9940501e",
   "metadata": {},
   "outputs": [],
   "source": [
    "img1 = masked_img[10]"
   ]
  },
  {
   "cell_type": "code",
   "execution_count": 23,
   "id": "2553d1f0",
   "metadata": {},
   "outputs": [
    {
     "data": {
      "text/plain": [
       "<matplotlib.image.AxesImage at 0x7f0b06de5cd0>"
      ]
     },
     "execution_count": 23,
     "metadata": {},
     "output_type": "execute_result"
    },
    {
     "data": {
      "image/png": "[encoded data removed]",
      "text/plain": [
       "<Figure size 640x480 with 1 Axes>"
      ]
     },
     "metadata": {},
     "output_type": "display_data"
    }
   ],
   "source": [
    "plt.imshow(img1)"
   ]
  },
  {
   "cell_type": "code",
   "execution_count": 24,
   "id": "87117d68",
   "metadata": {},
   "outputs": [],
   "source": [
    "img2 = masked_img[20]"
   ]
  },
  {
   "cell_type": "code",
   "execution_count": 25,
   "id": "284100df",
   "metadata": {},
   "outputs": [
    {
     "data": {
      "text/plain": [
       "<matplotlib.image.AxesImage at 0x7f0a6c755be0>"
      ]
     },
     "execution_count": 25,
     "metadata": {},
     "output_type": "execute_result"
    },
    {
     "data": {
      "image/png": "[encoded data removed]",
      "text/plain": [
       "<Figure size 640x480 with 1 Axes>"
      ]
     },
     "metadata": {},
     "output_type": "display_data"
    }
   ],
   "source": [
    "plt.imshow(img2)"
   ]
  },
  {
   "cell_type": "markdown",
   "id": "fdbdc3c2",
   "metadata": {},
   "source": [
    "#### Images with 20% of most importnat features masked "
   ]
  },
  {
   "cell_type": "code",
   "execution_count": 26,
   "id": "ac6d5b9b",
   "metadata": {},
   "outputs": [],
   "source": [
    "latentcls = str([1,2])\n",
    "\n",
    "percentage = 20"
   ]
  },
  {
   "cell_type": "code",
   "execution_count": 27,
   "id": "8b9cb420",
   "metadata": {},
   "outputs": [],
   "source": [
    "file_base_mask_dir = os.path.join(svd_dir_masked, f'42_4_shape')\n",
    "\n",
    "file_name_mask = f'{latentcls}_XY_True_{percentage}%_mask_img.npy'\n",
    "full_path_mask = os.path.join(file_base_mask_dir, file_name_mask)\n",
    "masked_img20 = np.load(full_path_mask)"
   ]
  },
  {
   "cell_type": "code",
   "execution_count": 28,
   "id": "c02faf30",
   "metadata": {},
   "outputs": [],
   "source": [
    "img0 = masked_img20[0]"
   ]
  },
  {
   "cell_type": "code",
   "execution_count": 29,
   "id": "ce050b2a",
   "metadata": {},
   "outputs": [
    {
     "data": {
      "text/plain": [
       "<matplotlib.image.AxesImage at 0x7f0b06d3edc0>"
      ]
     },
     "execution_count": 29,
     "metadata": {},
     "output_type": "execute_result"
    },
    {
     "data": {
      "image/png": "[encoded data removed]",
      "text/plain": [
       "<Figure size 640x480 with 1 Axes>"
      ]
     },
     "metadata": {},
     "output_type": "display_data"
    }
   ],
   "source": [
    "plt.imshow(img0)"
   ]
  },
  {
   "cell_type": "code",
   "execution_count": 30,
   "id": "f9f84cb3",
   "metadata": {},
   "outputs": [],
   "source": [
    "img1 = masked_img20[10]"
   ]
  },
  {
   "cell_type": "code",
   "execution_count": 31,
   "id": "ebb6d99a",
   "metadata": {},
   "outputs": [
    {
     "data": {
      "text/plain": [
       "<matplotlib.image.AxesImage at 0x7f0b06cbd970>"
      ]
     },
     "execution_count": 31,
     "metadata": {},
     "output_type": "execute_result"
    },
    {
     "data": {
      "image/png": "[encoded data removed]",
      "text/plain": [
       "<Figure size 640x480 with 1 Axes>"
      ]
     },
     "metadata": {},
     "output_type": "display_data"
    }
   ],
   "source": [
    "plt.imshow(img1)"
   ]
  },
  {
   "cell_type": "code",
   "execution_count": 32,
   "id": "6ae686b1",
   "metadata": {},
   "outputs": [],
   "source": [
    "img2 = masked_img20[20]"
   ]
  },
  {
   "cell_type": "code",
   "execution_count": 33,
   "id": "393b0671",
   "metadata": {},
   "outputs": [
    {
     "data": {
      "text/plain": [
       "<matplotlib.image.AxesImage at 0x7f0b06c38520>"
      ]
     },
     "execution_count": 33,
     "metadata": {},
     "output_type": "execute_result"
    },
    {
     "data": {
      "image/png": "[encoded data removed]",
      "text/plain": [
       "<Figure size 640x480 with 1 Axes>"
      ]
     },
     "metadata": {},
     "output_type": "display_data"
    }
   ],
   "source": [
    "plt.imshow(img2)"
   ]
  },
  {
   "cell_type": "markdown",
   "id": "acae3d12",
   "metadata": {},
   "source": [
    "### Looking at heatmaps of one image "
   ]
  },
  {
   "cell_type": "code",
   "execution_count": 8,
   "id": "4e7e3a51",
   "metadata": {},
   "outputs": [],
   "source": [
    "root_dir = Path('/dhc/home/masoumeh.javanbakhat/netstore-old/Baysian/3D')\n",
    "svd_dir_heatmap = root_dir / 'Explainability' / 'Codes' / 'Two_Test' / 'heatmaps'\n"
   ]
  },
  {
   "cell_type": "code",
   "execution_count": 14,
   "id": "8a23060f",
   "metadata": {},
   "outputs": [
    {
     "name": "stdout",
     "output_type": "stream",
     "text": [
      "[1, 2]_XY_False_heatmap.npy\n"
     ]
    }
   ],
   "source": [
    "seed = 42\n",
    "exp = 4\n",
    "latentvar = 'shape'\n",
    "latentcls = str([1,2])\n",
    "group = 'XY'\n",
    "relu= False\n",
    "\n",
    "\n",
    "base_path = os.path.join(svd_dir_heatmap, f'{seed}_{exp}_{latentvar}')\n",
    "file_name = f'{latentcls}_{group}_{relu}_heatmap.npy'\n",
    "print(file_name)\n",
    "full_path = os.path.join(base_path, file_name)\n",
    "heatmaps_abs = np.load(full_path)"
   ]
  },
  {
   "cell_type": "code",
   "execution_count": 15,
   "id": "5e80fcb5",
   "metadata": {},
   "outputs": [
    {
     "name": "stdout",
     "output_type": "stream",
     "text": [
      "(156416, 64, 64)\n"
     ]
    }
   ],
   "source": [
    "print(heatmaps_abs.shape)"
   ]
  },
  {
   "cell_type": "code",
   "execution_count": 16,
   "id": "d10c542a",
   "metadata": {},
   "outputs": [
    {
     "name": "stdout",
     "output_type": "stream",
     "text": [
      "[1, 2]_XY_True_heatmap.npy\n"
     ]
    }
   ],
   "source": [
    "\n",
    "seed = 42\n",
    "exp = 4\n",
    "latentvar = 'shape'\n",
    "latentcls = str([1,2])\n",
    "group = 'XY'\n",
    "relu= True\n",
    "\n",
    "base_path = os.path.join(svd_dir_heatmap, f'{seed}_{exp}_{latentvar}')\n",
    "file_name = f'{latentcls}_{group}_{relu}_heatmap.npy'\n",
    "print(file_name)\n",
    "\n",
    "full_path = os.path.join(base_path, file_name)\n",
    "heatmaps_relu = np.load(full_path)"
   ]
  },
  {
   "cell_type": "code",
   "execution_count": 17,
   "id": "8d210446",
   "metadata": {},
   "outputs": [],
   "source": [
    "idx = 150000"
   ]
  },
  {
   "cell_type": "code",
   "execution_count": 18,
   "id": "0229af4e",
   "metadata": {},
   "outputs": [],
   "source": [
    "heatmap_abs = heatmaps_abs[idx]\n",
    "\n",
    "\n",
    "heatmap_relu = heatmaps_relu[idx]"
   ]
  },
  {
   "cell_type": "code",
   "execution_count": 22,
   "id": "7a0c2da7",
   "metadata": {},
   "outputs": [
    {
     "data": {
      "text/plain": [
       "<matplotlib.image.AxesImage at 0x7f53b9444400>"
      ]
     },
     "execution_count": 22,
     "metadata": {},
     "output_type": "execute_result"
    },
    {
     "data": {
      "image/png": "[encoded data removed]",
      "text/plain": [
       "<Figure size 300x300 with 1 Axes>"
      ]
     },
     "metadata": {},
     "output_type": "display_data"
    }
   ],
   "source": [
    "plt.figure(figsize=(3,3))\n",
    "\n",
    "plt.imshow(heatmap_abs)"
   ]
  },
  {
   "cell_type": "code",
   "execution_count": 31,
   "id": "3467e651",
   "metadata": {},
   "outputs": [
    {
     "name": "stdout",
     "output_type": "stream",
     "text": [
      "row 0:\n",
      " [0.00017838 0.00017838 0.00018132 0.00018719 0.00019307 0.00019894\n",
      " 0.00020188 0.00020188 0.00020188 0.00020188 0.00020188 0.00020188\n",
      " 0.00020188 0.00020188 0.00020188 0.00020188 0.00020188 0.00020188\n",
      " 0.00020188 0.00020188 0.00020188 0.00020188 0.00020188 0.00020188\n",
      " 0.00020188 0.00020188 0.00020188 0.00020188 0.00020188 0.00020188\n",
      " 0.00020188 0.00020188 0.00020188 0.00020188 0.00020188 0.00020188\n",
      " 0.00020188 0.00020188 0.00020188 0.00020188 0.00020188 0.00020188\n",
      " 0.00020188 0.00020188 0.00020188 0.00020188 0.00020188 0.00020188\n",
      " 0.00020188 0.00020188 0.00020188 0.00020188 0.00020188 0.00020188\n",
      " 0.00020188 0.00020188 0.00020188 0.00020188 0.00020032 0.00019721\n",
      " 0.00019409 0.00019098 0.00018942 0.00018942]\n",
      "\n",
      "row 1:\n",
      " [0.00017838 0.00017838 0.00018132 0.00018719 0.00019307 0.00019894\n",
      " 0.00020188 0.00020188 0.00020188 0.00020188 0.00020188 0.00020188\n",
      " 0.00020188 0.00020188 0.00020188 0.00020188 0.00020188 0.00020188\n",
      " 0.00020188 0.00020188 0.00020188 0.00020188 0.00020188 0.00020188\n",
      " 0.00020188 0.00020188 0.00020188 0.00020188 0.00020188 0.00020188\n",
      " 0.00020188 0.00020188 0.00020188 0.00020188 0.00020188 0.00020188\n",
      " 0.00020188 0.00020188 0.00020188 0.00020188 0.00020188 0.00020188\n",
      " 0.00020188 0.00020188 0.00020188 0.00020188 0.00020188 0.00020188\n",
      " 0.00020188 0.00020188 0.00020188 0.00020188 0.00020188 0.00020188\n",
      " 0.00020188 0.00020188 0.00020188 0.00020188 0.00020032 0.00019721\n",
      " 0.00019409 0.00019098 0.00018942 0.00018942]\n",
      "\n",
      "row 2:\n",
      " [0.00018117 0.00018117 0.00018442 0.00019092 0.00019743 0.00020394\n",
      " 0.00020719 0.00020719 0.00020719 0.00020719 0.00020719 0.00020719\n",
      " 0.00020719 0.00020719 0.00020719 0.00020719 0.00020719 0.00020719\n",
      " 0.00020719 0.00020719 0.00020719 0.00020719 0.00020719 0.00020719\n",
      " 0.00020719 0.00020719 0.00020719 0.00020719 0.00020719 0.00020719\n",
      " 0.00020719 0.00020719 0.00020719 0.00020719 0.00020719 0.00020719\n",
      " 0.00020719 0.00020719 0.00020719 0.00020719 0.00020719 0.00020719\n",
      " 0.00020719 0.00020719 0.00020719 0.00020719 0.00020719 0.00020719\n",
      " 0.00020719 0.00020719 0.00020719 0.00020719 0.00020719 0.00020719\n",
      " 0.00020719 0.00020719 0.00020719 0.00020719 0.00020548 0.00020207\n",
      " 0.00019866 0.00019524 0.00019354 0.00019354]\n",
      "\n",
      "row 3:\n",
      " [0.00018673 0.00018673 0.00019062 0.00019839 0.00020616 0.00021393\n",
      " 0.00021781 0.00021781 0.00021781 0.00021781 0.00021781 0.00021781\n",
      " 0.00021781 0.00021781 0.00021781 0.00021781 0.00021781 0.00021781\n",
      " 0.00021781 0.00021781 0.00021781 0.00021781 0.00021781 0.00021781\n",
      " 0.00021781 0.00021781 0.00021781 0.00021781 0.00021781 0.00021781\n",
      " 0.00021781 0.00021781 0.00021781 0.00021781 0.00021781 0.00021781\n",
      " 0.00021781 0.00021781 0.00021781 0.00021781 0.00021781 0.00021781\n",
      " 0.00021781 0.00021781 0.00021781 0.00021781 0.00021781 0.00021781\n",
      " 0.00021781 0.00021781 0.00021781 0.00021781 0.00021781 0.00021781\n",
      " 0.00021781 0.00021781 0.00021781 0.00021781 0.00021581 0.0002118\n",
      " 0.00020779 0.00020378 0.00020178 0.00020178]\n",
      "\n",
      "row 4:\n",
      " [0.0001923  0.0001923  0.00019681 0.00020585 0.00021488 0.00022391\n",
      " 0.00022843 0.00022843 0.00022843 0.00022843 0.00022843 0.00022843\n",
      " 0.00022843 0.00022843 0.00022843 0.00022843 0.00022843 0.00022843\n",
      " 0.00022843 0.00022843 0.00022843 0.00022843 0.00022843 0.00022843\n",
      " 0.00022843 0.00022843 0.00022843 0.00022843 0.00022843 0.00022843\n",
      " 0.00022843 0.00022843 0.00022843 0.00022843 0.00022843 0.00022843\n",
      " 0.00022843 0.00022843 0.00022843 0.00022843 0.00022843 0.00022843\n",
      " 0.00022843 0.00022843 0.00022843 0.00022843 0.00022843 0.00022843\n",
      " 0.00022843 0.00022843 0.00022843 0.00022843 0.00022843 0.00022843\n",
      " 0.00022843 0.00022843 0.00022843 0.00022843 0.00022613 0.00022152\n",
      " 0.00021692 0.00021232 0.00021001 0.00021001]\n",
      "\n",
      "row 5:\n",
      " [0.00019786 0.00019786 0.00020301 0.00021331 0.00022361 0.0002339\n",
      " 0.00023905 0.00023905 0.00023905 0.00023905 0.00023905 0.00023905\n",
      " 0.00023905 0.00023905 0.00023905 0.00023905 0.00023905 0.00023905\n",
      " 0.00023905 0.00023905 0.00023905 0.00023905 0.00023905 0.00023905\n",
      " 0.00023905 0.00023905 0.00023905 0.00023905 0.00023905 0.00023905\n",
      " 0.00023905 0.00023905 0.00023905 0.00023905 0.00023905 0.00023905\n",
      " 0.00023905 0.00023905 0.00023905 0.00023905 0.00023905 0.00023905\n",
      " 0.00023905 0.00023905 0.00023905 0.00023905 0.00023905 0.00023905\n",
      " 0.00023905 0.00023905 0.00023905 0.00023905 0.00023905 0.00023905\n",
      " 0.00023905 0.00023905 0.00023905 0.00023905 0.00023645 0.00023125\n",
      " 0.00022605 0.00022085 0.00021825 0.00021825]\n",
      "\n",
      "row 6:\n",
      " [0.00020065 0.00020065 0.00020611 0.00021704 0.00022797 0.0002389\n",
      " 0.00024436 0.00024436 0.00024436 0.00024436 0.00024436 0.00024436\n",
      " 0.00024436 0.00024436 0.00024436 0.00024436 0.00024436 0.00024436\n",
      " 0.00024436 0.00024436 0.00024436 0.00024436 0.00024436 0.00024436\n",
      " 0.00024436 0.00024436 0.00024436 0.00024436 0.00024436 0.00024436\n",
      " 0.00024436 0.00024436 0.00024436 0.00024436 0.00024436 0.00024436\n",
      " 0.00024436 0.00024436 0.00024436 0.00024436 0.00024436 0.00024436\n",
      " 0.00024436 0.00024436 0.00024436 0.00024436 0.00024436 0.00024436\n",
      " 0.00024436 0.00024436 0.00024436 0.00024436 0.00024436 0.00024436\n",
      " 0.00024436 0.00024436 0.00024436 0.00024436 0.00024161 0.00023612\n",
      " 0.00023062 0.00022512 0.00022237 0.00022237]\n",
      "\n",
      "row 7:\n",
      " [0.00020065 0.00020065 0.00020611 0.00021704 0.00022797 0.0002389\n",
      " 0.00024436 0.00024436 0.00024436 0.00024436 0.00024436 0.00024436\n",
      " 0.00024436 0.00024436 0.00024436 0.00024436 0.00024436 0.00024436\n",
      " 0.00024436 0.00024436 0.00024436 0.00024436 0.00024436 0.00024436\n",
      " 0.00024436 0.00024436 0.00024436 0.00024436 0.00024436 0.00024436\n",
      " 0.00024436 0.00024436 0.00024436 0.00024436 0.00024436 0.00024436\n",
      " 0.00024436 0.00024436 0.00024436 0.00024436 0.00024436 0.00024436\n",
      " 0.00024436 0.00024436 0.00024436 0.00024436 0.00024436 0.00024436\n",
      " 0.00024436 0.00024436 0.00024436 0.00024436 0.00024436 0.00024436\n",
      " 0.00024436 0.00024436 0.00024436 0.00024436 0.00024161 0.00023612\n",
      " 0.00023062 0.00022512 0.00022237 0.00022237]\n",
      "\n",
      "row 8:\n",
      " [0.00020065 0.00020065 0.00020611 0.00021704 0.00022797 0.0002389\n",
      " 0.00024436 0.00024436 0.00024436 0.00024436 0.00024436 0.00024436\n",
      " 0.00024436 0.00024436 0.00024436 0.00024436 0.00024436 0.00024436\n",
      " 0.00024436 0.00024436 0.00024436 0.00024436 0.00024436 0.00024436\n",
      " 0.00024436 0.00024436 0.00024436 0.00024436 0.00024436 0.00024436\n",
      " 0.00024436 0.00024436 0.00024436 0.00024436 0.00024436 0.00024436\n",
      " 0.00024436 0.00024436 0.00024436 0.00024436 0.00024436 0.00024436\n",
      " 0.00024436 0.00024436 0.00024436 0.00024436 0.00024436 0.00024436\n",
      " 0.00024436 0.00024436 0.00024436 0.00024436 0.00024436 0.00024436\n",
      " 0.00024436 0.00024436 0.00024436 0.00024436 0.00024161 0.00023612\n",
      " 0.00023062 0.00022512 0.00022237 0.00022237]\n",
      "\n",
      "row 9:\n",
      " [0.00020065 0.00020065 0.00020611 0.00021704 0.00022797 0.0002389\n",
      " 0.00024436 0.00024436 0.00024436 0.00024436 0.00024436 0.00024436\n",
      " 0.00024436 0.00024436 0.00024436 0.00024436 0.00024436 0.00024436\n",
      " 0.00024436 0.00024436 0.00024436 0.00024436 0.00024436 0.00024436\n",
      " 0.00024436 0.00024436 0.00024436 0.00024436 0.00024436 0.00024436\n",
      " 0.00024436 0.00024436 0.00024436 0.00024436 0.00024436 0.00024436\n",
      " 0.00024436 0.00024436 0.00024436 0.00024436 0.00024436 0.00024436\n",
      " 0.00024436 0.00024436 0.00024436 0.00024436 0.00024436 0.00024436\n",
      " 0.00024436 0.00024436 0.00024436 0.00024436 0.00024436 0.00024436\n",
      " 0.00024436 0.00024436 0.00024436 0.00024436 0.00024161 0.00023612\n",
      " 0.00023062 0.00022512 0.00022237 0.00022237]\n",
      "\n",
      "row 10:\n",
      " [0.00020065 0.00020065 0.00020611 0.00021704 0.00022797 0.0002389\n",
      " 0.00024436 0.00024436 0.00024436 0.00024436 0.00024436 0.00024436\n",
      " 0.00024436 0.00024436 0.00024436 0.00024436 0.00024436 0.00024436\n",
      " 0.00024436 0.00024436 0.00024436 0.00024436 0.00024436 0.00024436\n",
      " 0.00024436 0.00024436 0.00024436 0.00024436 0.00024436 0.00024436\n",
      " 0.00024436 0.00024436 0.00024436 0.00024436 0.00024436 0.00024436\n",
      " 0.00024436 0.00024436 0.00024436 0.00024436 0.00024436 0.00024436\n",
      " 0.00024436 0.00024436 0.00024436 0.00024436 0.00024436 0.00024436\n",
      " 0.00024436 0.00024436 0.00024436 0.00024436 0.00024436 0.00024436\n",
      " 0.00024436 0.00024436 0.00024436 0.00024436 0.00024161 0.00023612\n",
      " 0.00023062 0.00022512 0.00022237 0.00022237]\n",
      "\n",
      "row 11:\n",
      " [0.00020065 0.00020065 0.00020611 0.00021704 0.00022797 0.0002389\n",
      " 0.00024436 0.00024436 0.00024436 0.00024436 0.00024436 0.00024436\n",
      " 0.00024436 0.00024436 0.00024436 0.00024436 0.00024436 0.00024436\n",
      " 0.00024436 0.00024436 0.00024436 0.00024436 0.00024436 0.00024436\n",
      " 0.00024436 0.00024436 0.00024436 0.00024436 0.00024436 0.00024436\n",
      " 0.00024436 0.00024436 0.00024436 0.00024436 0.00024436 0.00024436\n",
      " 0.00024436 0.00024436 0.00024436 0.00024436 0.00024436 0.00024436\n",
      " 0.00024436 0.00024436 0.00024436 0.00024436 0.00024436 0.00024436\n",
      " 0.00024436 0.00024436 0.00024436 0.00024436 0.00024436 0.00024436\n",
      " 0.00024436 0.00024436 0.00024436 0.00024436 0.00024161 0.00023612\n",
      " 0.00023062 0.00022512 0.00022237 0.00022237]\n",
      "\n",
      "row 12:\n",
      " [0.00020065 0.00020065 0.00020611 0.00021704 0.00022797 0.0002389\n",
      " 0.00024436 0.00024436 0.00024436 0.00024436 0.00024436 0.00024436\n",
      " 0.00024436 0.00024436 0.00024436 0.00024436 0.00024436 0.00024436\n",
      " 0.00024436 0.00024436 0.00024436 0.00024436 0.00024436 0.00024436\n",
      " 0.00024436 0.00024436 0.00024436 0.00024436 0.00024436 0.00024436\n",
      " 0.00024436 0.00024436 0.00024436 0.00024436 0.00024436 0.00024436\n",
      " 0.00024436 0.00024436 0.00024436 0.00024436 0.00024436 0.00024436\n",
      " 0.00024436 0.00024436 0.00024436 0.00024436 0.00024436 0.00024436\n",
      " 0.00024436 0.00024436 0.00024436 0.00024436 0.00024436 0.00024436\n",
      " 0.00024436 0.00024436 0.00024436 0.00024436 0.00024161 0.00023612\n",
      " 0.00023062 0.00022512 0.00022237 0.00022237]\n",
      "\n",
      "row 13:\n",
      " [0.00020065 0.00020065 0.00020611 0.00021704 0.00022797 0.0002389\n",
      " 0.00024436 0.00024436 0.00024436 0.00024436 0.00024436 0.00024436\n",
      " 0.00024436 0.00024436 0.00024436 0.00024436 0.00024436 0.00024436\n",
      " 0.00024436 0.00024436 0.00024436 0.00024436 0.00024436 0.00024436\n",
      " 0.00024436 0.00024436 0.00024436 0.00024436 0.00024436 0.00024436\n",
      " 0.00024436 0.00024436 0.00024436 0.00024436 0.00024436 0.00024436\n",
      " 0.00024436 0.00024436 0.00024436 0.00024436 0.00024436 0.00024436\n",
      " 0.00024436 0.00024436 0.00024436 0.00024436 0.00024436 0.00024436\n",
      " 0.00024436 0.00024436 0.00024436 0.00024436 0.00024436 0.00024436\n",
      " 0.00024436 0.00024436 0.00024436 0.00024436 0.00024161 0.00023612\n",
      " 0.00023062 0.00022512 0.00022237 0.00022237]\n",
      "\n",
      "row 14:\n",
      " [0.00020065 0.00020065 0.00020611 0.00021704 0.00022797 0.0002389\n",
      " 0.00024436 0.00024436 0.00024436 0.00024436 0.00024436 0.00024436\n",
      " 0.00024436 0.00024436 0.00024436 0.00024436 0.00024436 0.00024436\n",
      " 0.00024436 0.00024436 0.00024436 0.00024436 0.00024436 0.00024436\n",
      " 0.00024436 0.00024436 0.00024436 0.00024436 0.00024436 0.00024436\n",
      " 0.00024436 0.00024436 0.00024436 0.00024436 0.00024436 0.00024436\n",
      " 0.00024436 0.00024436 0.00024436 0.00024436 0.00024436 0.00024436\n",
      " 0.00024436 0.00024436 0.00024436 0.00024436 0.00024436 0.00024436\n",
      " 0.00024436 0.00024436 0.00024436 0.00024436 0.00024436 0.00024436\n",
      " 0.00024436 0.00024436 0.00024436 0.00024436 0.00024161 0.00023612\n",
      " 0.00023062 0.00022512 0.00022237 0.00022237]\n",
      "\n",
      "row 15:\n",
      " [0.00020065 0.00020065 0.00020611 0.00021704 0.00022797 0.0002389\n",
      " 0.00024436 0.00024436 0.00024436 0.00024436 0.00024436 0.00024436\n",
      " 0.00024436 0.00024436 0.00024436 0.00024436 0.00024436 0.00024436\n",
      " 0.00024436 0.00024436 0.00024436 0.00024436 0.00024436 0.00024436\n",
      " 0.00024436 0.00024436 0.00024436 0.00024436 0.00024436 0.00024436\n",
      " 0.00024436 0.00024436 0.00024436 0.00024436 0.00024436 0.00024436\n",
      " 0.00024436 0.00024436 0.00024436 0.00024436 0.00024436 0.00024436\n",
      " 0.00024436 0.00024436 0.00024436 0.00024436 0.00024436 0.00024436\n",
      " 0.00024436 0.00024436 0.00024436 0.00024436 0.00024436 0.00024436\n",
      " 0.00024436 0.00024436 0.00024436 0.00024436 0.00024161 0.00023612\n",
      " 0.00023062 0.00022512 0.00022237 0.00022237]\n",
      "\n",
      "row 16:\n",
      " [0.00020065 0.00020065 0.00020611 0.00021704 0.00022797 0.0002389\n",
      " 0.00024436 0.00024436 0.00024436 0.00024436 0.00024436 0.00024436\n",
      " 0.00024436 0.00024436 0.00024436 0.00024436 0.00024436 0.00024436\n",
      " 0.00024436 0.00024436 0.00024436 0.00024436 0.00024436 0.00024436\n",
      " 0.00024436 0.00024436 0.00024436 0.00024436 0.00024436 0.00024436\n",
      " 0.00024436 0.00024436 0.00024436 0.00024436 0.00024436 0.00024436\n",
      " 0.00024436 0.00024436 0.00024436 0.00024436 0.00024436 0.00024436\n",
      " 0.00024436 0.00024436 0.00024436 0.00024436 0.00024436 0.00024436\n",
      " 0.00024436 0.00024436 0.00024436 0.00024436 0.00024436 0.00024436\n",
      " 0.00024436 0.00024436 0.00024436 0.00024436 0.00024161 0.00023612\n",
      " 0.00023062 0.00022512 0.00022237 0.00022237]\n",
      "\n",
      "row 17:\n",
      " [0.00020065 0.00020065 0.00020611 0.00021704 0.00022797 0.0002389\n",
      " 0.00024436 0.00024436 0.00024436 0.00024436 0.00024436 0.00024436\n",
      " 0.00024436 0.00024436 0.00024436 0.00024436 0.00024436 0.00024436\n",
      " 0.00024436 0.00024436 0.00024436 0.00024436 0.00024436 0.00024436\n",
      " 0.00024436 0.00024436 0.00024436 0.00024436 0.00024436 0.00024436\n",
      " 0.00024436 0.00024436 0.00024436 0.00024436 0.00024436 0.00024436\n",
      " 0.00024436 0.00024436 0.00024436 0.00024436 0.00024436 0.00024436\n",
      " 0.00024436 0.00024436 0.00024436 0.00024436 0.00024436 0.00024436\n",
      " 0.00024436 0.00024436 0.00024436 0.00024436 0.00024436 0.00024436\n",
      " 0.00024436 0.00024436 0.00024436 0.00024436 0.00024161 0.00023612\n",
      " 0.00023062 0.00022512 0.00022237 0.00022237]\n",
      "\n",
      "row 18:\n",
      " [2.00645445e-04 2.00645445e-04 2.06109893e-04 2.17038760e-04\n",
      " 2.27967656e-04 2.38896522e-04 2.44360970e-04 2.44360970e-04\n",
      " 2.44360970e-04 2.44360970e-04 2.35806569e-04 2.18697780e-04\n",
      " 2.01588991e-04 1.84480203e-04 1.01528465e-04 4.72662032e-05\n",
      " 1.96060908e-04 3.44855565e-04 3.82417609e-04 3.08746909e-04\n",
      " 2.35076281e-04 1.61405638e-04 7.84538715e-05 1.37789357e-05\n",
      " 1.06011750e-04 1.98244568e-04 2.44360970e-04 2.44360970e-04\n",
      " 2.44360970e-04 2.44360970e-04 2.44360970e-04 2.44360970e-04\n",
      " 2.44360970e-04 2.44360970e-04 2.44360970e-04 2.44360970e-04\n",
      " 2.44360970e-04 2.44360970e-04 2.44360970e-04 2.44360970e-04\n",
      " 2.44360970e-04 2.44360970e-04 2.44360970e-04 2.44360970e-04\n",
      " 2.44360970e-04 2.44360970e-04 2.44360970e-04 2.44360970e-04\n",
      " 2.44360970e-04 2.44360970e-04 2.44360970e-04 2.44360970e-04\n",
      " 2.44360970e-04 2.44360970e-04 2.44360970e-04 2.44360970e-04\n",
      " 2.44360970e-04 2.44360970e-04 2.41612463e-04 2.36115462e-04\n",
      " 2.30618447e-04 2.25121446e-04 2.22372939e-04 2.22372939e-04]\n",
      "\n",
      "row 19:\n",
      " [2.0064545e-04 2.0064545e-04 2.0610989e-04 2.1703876e-04 2.2796766e-04\n",
      " 2.3889652e-04 2.4436097e-04 2.4436097e-04 2.4436097e-04 2.4436097e-04\n",
      " 2.1869779e-04 1.6737141e-04 1.1604505e-04 6.4718683e-05 1.8413653e-04\n",
      " 6.3052052e-04 1.0769047e-03 1.5232887e-03 1.6359749e-03 1.4149627e-03\n",
      " 1.1939508e-03 9.7293884e-04 7.2408351e-04 4.4738513e-04 1.7068669e-04\n",
      " 1.0601175e-04 2.4436097e-04 2.4436097e-04 2.4436097e-04 2.4436097e-04\n",
      " 2.4436097e-04 2.4436097e-04 2.4436097e-04 2.4436097e-04 2.4436097e-04\n",
      " 2.4436097e-04 2.4436097e-04 2.4436097e-04 2.4436097e-04 2.4436097e-04\n",
      " 2.4436097e-04 2.4436097e-04 2.4436097e-04 2.4436097e-04 2.4436097e-04\n",
      " 2.4436097e-04 2.4436097e-04 2.4436097e-04 2.4436097e-04 2.4436097e-04\n",
      " 2.4436097e-04 2.4436097e-04 2.4436097e-04 2.4436097e-04 2.4436097e-04\n",
      " 2.4436097e-04 2.4436097e-04 2.4436097e-04 2.4161246e-04 2.3611546e-04\n",
      " 2.3061845e-04 2.2512145e-04 2.2237294e-04 2.2237294e-04]\n",
      "\n",
      "row 20:\n",
      " [2.0064545e-04 2.0064545e-04 2.0610989e-04 2.1703876e-04 2.2796766e-04\n",
      " 2.3889652e-04 2.4436097e-04 2.4436097e-04 2.4436097e-04 2.4436097e-04\n",
      " 2.0158899e-04 1.1604505e-04 3.0501094e-05 5.5042834e-05 4.6980151e-04\n",
      " 1.2137749e-03 1.9577483e-03 2.7017219e-03 2.8895319e-03 2.5211785e-03\n",
      " 2.1528252e-03 1.7844720e-03 1.3697132e-03 9.0854918e-04 4.4738510e-04\n",
      " 1.3778936e-05 2.4436097e-04 2.4436097e-04 2.4436097e-04 2.4436097e-04\n",
      " 2.4436097e-04 2.4436097e-04 2.4436097e-04 2.4436097e-04 2.4436097e-04\n",
      " 2.4436097e-04 2.4436097e-04 2.4436097e-04 2.4436097e-04 2.4436097e-04\n",
      " 2.4436097e-04 2.4436097e-04 2.4436097e-04 2.4436097e-04 2.4436097e-04\n",
      " 2.4436097e-04 2.4436097e-04 2.4436097e-04 2.4436097e-04 2.4436097e-04\n",
      " 2.4436097e-04 2.4436097e-04 2.4436097e-04 2.4436097e-04 2.4436097e-04\n",
      " 2.4436097e-04 2.4436097e-04 2.4436097e-04 2.4161246e-04 2.3611546e-04\n",
      " 2.3061845e-04 2.2512145e-04 2.2237294e-04 2.2237294e-04]\n",
      "\n",
      "row 21:\n",
      " [2.0064545e-04 2.0064545e-04 2.0610989e-04 2.1703876e-04 2.2796766e-04\n",
      " 2.3889652e-04 2.4436097e-04 2.4436097e-04 2.4436097e-04 2.4436097e-04\n",
      " 1.8448022e-04 6.4718683e-05 5.5042856e-05 1.7480436e-04 7.5546658e-04\n",
      " 1.7970292e-03 2.8385923e-03 3.8801548e-03 4.1430891e-03 3.6273943e-03\n",
      " 3.1116998e-03 2.5960053e-03 2.0153429e-03 1.3697132e-03 7.2408357e-04\n",
      " 7.8453886e-05 2.4436097e-04 2.4436097e-04 2.4436097e-04 2.4436097e-04\n",
      " 2.4436097e-04 2.4436097e-04 2.4436097e-04 2.4436097e-04 2.4436097e-04\n",
      " 2.4436097e-04 2.4436097e-04 2.4436097e-04 2.4436097e-04 2.4436097e-04\n",
      " 2.4436097e-04 2.4436097e-04 2.4436097e-04 2.4436097e-04 2.4436097e-04\n",
      " 2.4436097e-04 2.4436097e-04 2.4436097e-04 2.4436097e-04 2.4436097e-04\n",
      " 2.4436097e-04 2.4436097e-04 2.4436097e-04 2.4436097e-04 2.4436097e-04\n",
      " 2.4436097e-04 2.4436097e-04 2.4436097e-04 2.4161246e-04 2.3611546e-04\n",
      " 2.3061845e-04 2.2512145e-04 2.2237294e-04 2.2237294e-04]\n",
      "\n",
      "row 22:\n",
      " [2.0064545e-04 2.0064545e-04 2.0610989e-04 2.1703876e-04 2.2796766e-04\n",
      " 2.3889652e-04 2.4436097e-04 2.4436097e-04 2.4436097e-04 2.4436097e-04\n",
      " 1.5799340e-04 1.4741721e-05 1.8747686e-04 3.6021197e-04 1.0396526e-03\n",
      " 2.2257986e-03 3.4119447e-03 4.5980904e-03 4.9557490e-03 4.4849194e-03\n",
      " 4.0140897e-03 3.5432605e-03 2.8746440e-03 2.0082409e-03 1.1418379e-03\n",
      " 2.7543493e-04 1.6859089e-04 1.9023949e-04 2.1188808e-04 2.3353667e-04\n",
      " 2.4436097e-04 2.4436097e-04 2.4436097e-04 2.4436097e-04 2.4436097e-04\n",
      " 2.4436097e-04 2.4436097e-04 2.4436097e-04 2.4436097e-04 2.4436097e-04\n",
      " 2.4436097e-04 2.4436097e-04 2.4436097e-04 2.4436097e-04 2.4436097e-04\n",
      " 2.4436097e-04 2.4436097e-04 2.4436097e-04 2.4436097e-04 2.4436097e-04\n",
      " 2.4436097e-04 2.4436097e-04 2.4436097e-04 2.4436097e-04 2.4436097e-04\n",
      " 2.4436097e-04 2.4436097e-04 2.4436097e-04 2.4161246e-04 2.3611546e-04\n",
      " 2.3061845e-04 2.2512145e-04 2.2237294e-04 2.2237294e-04]\n",
      "\n",
      "row 23:\n",
      " [2.0064545e-04 2.0064545e-04 2.0610989e-04 2.1703876e-04 2.2796766e-04\n",
      " 2.3889652e-04 2.4436097e-04 2.4436097e-04 2.4436097e-04 2.4436097e-04\n",
      " 1.2212859e-04 1.2233616e-04 3.6680093e-04 6.1126566e-04 1.3223595e-03\n",
      " 2.5000826e-03 3.6778059e-03 4.8555294e-03 5.3275116e-03 5.0937533e-03\n",
      " 4.8599951e-03 4.6262373e-03 3.9476161e-03 2.8241323e-03 1.7006482e-03\n",
      " 5.7716417e-04 1.7050723e-05 8.1996506e-05 1.4694230e-04 2.1188808e-04\n",
      " 2.4436097e-04 2.4436097e-04 2.4436097e-04 2.4436097e-04 2.4436097e-04\n",
      " 2.4436097e-04 2.4436097e-04 2.4436097e-04 2.4436097e-04 2.4436097e-04\n",
      " 2.4436097e-04 2.4436097e-04 2.4436097e-04 2.4436097e-04 2.4436097e-04\n",
      " 2.4436097e-04 2.4436097e-04 2.4436097e-04 2.4436097e-04 2.4436097e-04\n",
      " 2.4436097e-04 2.4436097e-04 2.4436097e-04 2.4436097e-04 2.4436097e-04\n",
      " 2.4436097e-04 2.4436097e-04 2.4436097e-04 2.4161246e-04 2.3611546e-04\n",
      " 2.3061845e-04 2.2512145e-04 2.2237294e-04 2.2237294e-04]\n",
      "\n",
      "row 24:\n",
      " [2.0064545e-04 2.0064545e-04 2.0610989e-04 2.1703876e-04 2.2796766e-04\n",
      " 2.3889652e-04 2.4436097e-04 2.4436097e-04 2.4436097e-04 2.4436097e-04\n",
      " 8.6263783e-05 2.2993059e-04 5.4612494e-04 8.6231931e-04 1.6050667e-03\n",
      " 2.7743671e-03 3.9436673e-03 5.1129675e-03 5.6992746e-03 5.7025878e-03\n",
      " 5.7059014e-03 5.7092146e-03 5.0205886e-03 3.6400235e-03 2.2594584e-03\n",
      " 8.7889342e-04 1.3448946e-04 2.6246471e-05 8.1996506e-05 1.9023947e-04\n",
      " 2.4436097e-04 2.4436097e-04 2.4436097e-04 2.4436097e-04 2.4436097e-04\n",
      " 2.4436097e-04 2.4436097e-04 2.4436097e-04 2.4436097e-04 2.4436097e-04\n",
      " 2.4436097e-04 2.4436097e-04 2.4436097e-04 2.4436097e-04 2.4436097e-04\n",
      " 2.4436097e-04 2.4436097e-04 2.4436097e-04 2.4436097e-04 2.4436097e-04\n",
      " 2.4436097e-04 2.4436097e-04 2.4436097e-04 2.4436097e-04 2.4436097e-04\n",
      " 2.4436097e-04 2.4436097e-04 2.4436097e-04 2.4161246e-04 2.3611546e-04\n",
      " 2.3061845e-04 2.2512145e-04 2.2237294e-04 2.2237294e-04]\n",
      "\n",
      "row 25:\n",
      " [2.0064545e-04 2.0064545e-04 2.0610989e-04 2.1703876e-04 2.2796766e-04\n",
      " 2.3889652e-04 2.4436097e-04 2.4436097e-04 2.4436097e-04 2.4436097e-04\n",
      " 5.0398972e-05 3.3752504e-04 7.2544900e-04 1.1133730e-03 1.8877736e-03\n",
      " 3.0486512e-03 4.2095287e-03 5.3704064e-03 6.0710371e-03 6.3114217e-03\n",
      " 6.5518068e-03 6.7921914e-03 6.0935607e-03 4.4559147e-03 2.8182687e-03\n",
      " 1.1806226e-03 2.8602962e-04 1.3448944e-04 1.7050725e-05 1.6859088e-04\n",
      " 2.4436097e-04 2.4436097e-04 2.4436097e-04 2.4436097e-04 2.4436097e-04\n",
      " 2.4436097e-04 2.4436097e-04 2.4436097e-04 2.4436097e-04 2.4436097e-04\n",
      " 2.4436097e-04 2.4436097e-04 2.4436097e-04 2.4436097e-04 2.4436097e-04\n",
      " 2.4436097e-04 2.4436097e-04 2.4436097e-04 2.4436097e-04 2.4436097e-04\n",
      " 2.4436097e-04 2.4436097e-04 2.4436097e-04 2.4436097e-04 2.4436097e-04\n",
      " 2.4436097e-04 2.4436097e-04 2.4436097e-04 2.4161246e-04 2.3611546e-04\n",
      " 2.3061845e-04 2.2512145e-04 2.2237294e-04 2.2237294e-04]\n",
      "\n",
      "row 26:\n",
      " [2.0064545e-04 2.0064545e-04 2.0610989e-04 2.1703876e-04 2.2796766e-04\n",
      " 2.3889652e-04 2.4436097e-04 2.4436097e-04 2.4436097e-04 2.4436097e-04\n",
      " 1.2961133e-05 4.4983852e-04 9.1263821e-04 1.3754379e-03 2.3214314e-03\n",
      " 3.7506190e-03 5.1798066e-03 6.6089947e-03 7.4124904e-03 7.5902953e-03\n",
      " 7.7681001e-03 7.9459045e-03 7.0941709e-03 5.2128984e-03 3.3316256e-03\n",
      " 1.4503531e-03 4.1545709e-04 2.2693764e-04 3.8418188e-05 1.5010124e-04\n",
      " 2.4436097e-04 2.4436097e-04 2.4436097e-04 2.4436097e-04 2.4436097e-04\n",
      " 2.4436097e-04 2.4436097e-04 2.4436097e-04 2.4436097e-04 2.4436097e-04\n",
      " 2.4436097e-04 2.4436097e-04 2.4436097e-04 2.4436097e-04 2.4436097e-04\n",
      " 2.4436097e-04 2.4436097e-04 2.4436097e-04 2.4436097e-04 2.4436097e-04\n",
      " 2.4436097e-04 2.4436097e-04 2.4436097e-04 2.4436097e-04 2.4436097e-04\n",
      " 2.4436097e-04 2.4436097e-04 2.4436097e-04 2.4161246e-04 2.3611546e-04\n",
      " 2.3061845e-04 2.2512145e-04 2.2237294e-04 2.2237294e-04]\n",
      "\n",
      "row 27:\n",
      " [2.0064545e-04 2.0064545e-04 2.0610989e-04 2.1703876e-04 2.2796766e-04\n",
      " 2.3889652e-04 2.4436097e-04 2.4436097e-04 2.4436097e-04 2.4436097e-04\n",
      " 2.6049729e-05 5.6687114e-04 1.1076925e-03 1.6485139e-03 2.9060398e-03\n",
      " 4.8802709e-03 6.8545011e-03 8.8287322e-03 9.7236345e-03 9.5392074e-03\n",
      " 9.3547804e-03 9.1703543e-03 8.0224182e-03 5.9109740e-03 3.7995293e-03\n",
      " 1.6880846e-03 5.2277185e-04 3.0359105e-04 8.4410225e-05 1.3477057e-04\n",
      " 2.4436097e-04 2.4436097e-04 2.4436097e-04 2.4436097e-04 2.4436097e-04\n",
      " 2.4436097e-04 2.4436097e-04 2.4436097e-04 2.4436097e-04 2.4436097e-04\n",
      " 2.4436097e-04 2.4436097e-04 2.4436097e-04 2.4436097e-04 2.4436097e-04\n",
      " 2.4436097e-04 2.4436097e-04 2.4436097e-04 2.4436097e-04 2.4436097e-04\n",
      " 2.4436097e-04 2.4436097e-04 2.4436097e-04 2.4436097e-04 2.4436097e-04\n",
      " 2.4436097e-04 2.4436097e-04 2.4436097e-04 2.4161246e-04 2.3611546e-04\n",
      " 2.3061845e-04 2.2512145e-04 2.2237294e-04 2.2237294e-04]\n",
      "\n",
      "row 28:\n",
      " [2.0064545e-04 2.0064545e-04 2.0610989e-04 2.1703876e-04 2.2796766e-04\n",
      " 2.3889652e-04 2.4436097e-04 2.4436097e-04 2.4436097e-04 2.4436097e-04\n",
      " 6.5060594e-05 6.8390364e-04 1.3027468e-03 1.9215900e-03 3.4906482e-03\n",
      " 6.0099228e-03 8.5291956e-03 1.1048470e-02 1.2034778e-02 1.1488120e-02\n",
      " 1.0941462e-02 1.0394803e-02 8.9506665e-03 6.6090496e-03 4.2674327e-03\n",
      " 1.9258159e-03 6.3008664e-04 3.8024443e-04 1.3040226e-04 1.1943989e-04\n",
      " 2.4436097e-04 2.4436097e-04 2.4436097e-04 2.4436097e-04 2.4436097e-04\n",
      " 2.4436097e-04 2.4436097e-04 2.4436097e-04 2.4436097e-04 2.4436097e-04\n",
      " 2.4436097e-04 2.4436097e-04 2.4436097e-04 2.4436097e-04 2.4436097e-04\n",
      " 2.4436097e-04 2.4436097e-04 2.4436097e-04 2.4436097e-04 2.4436097e-04\n",
      " 2.4436097e-04 2.4436097e-04 2.4436097e-04 2.4436097e-04 2.4436097e-04\n",
      " 2.4436097e-04 2.4436097e-04 2.4436097e-04 2.4161246e-04 2.3611546e-04\n",
      " 2.3061845e-04 2.2512145e-04 2.2237294e-04 2.2237294e-04]\n",
      "\n",
      "row 29:\n",
      " [0.00020065 0.00020065 0.00020611 0.00021704 0.00022797 0.0002389\n",
      " 0.00024436 0.00024436 0.00024436 0.00024436 0.00010407 0.00080094\n",
      " 0.0014978  0.00219467 0.00407526 0.00713957 0.01020389 0.01326821\n",
      " 0.01434592 0.01343703 0.01252814 0.01161925 0.00987891 0.00730712\n",
      " 0.00473534 0.00216355 0.0007374  0.0004569  0.00017639 0.00010411\n",
      " 0.00024436 0.00024436 0.00024436 0.00024436 0.00024436 0.00024436\n",
      " 0.00024436 0.00024436 0.00024436 0.00024436 0.00024436 0.00024436\n",
      " 0.00024436 0.00024436 0.00024436 0.00024436 0.00024436 0.00024436\n",
      " 0.00024436 0.00024436 0.00024436 0.00024436 0.00024436 0.00024436\n",
      " 0.00024436 0.00024436 0.00024436 0.00024436 0.00024161 0.00023612\n",
      " 0.00023062 0.00022512 0.00022237 0.00022237]\n",
      "\n",
      "row 30:\n",
      " [2.00645445e-04 2.00645445e-04 2.06109893e-04 2.17038760e-04\n",
      " 2.27967656e-04 2.38896522e-04 2.44360970e-04 2.44360970e-04\n",
      " 2.44360970e-04 2.44360970e-04 1.17389995e-04 8.40891851e-04\n",
      " 1.56439387e-03 2.28789565e-03 4.30793362e-03 7.62450835e-03\n",
      " 1.09410817e-02 1.42576564e-02 1.54313212e-02 1.44620780e-02\n",
      " 1.34928338e-02 1.25235906e-02 1.06696244e-02 7.93093443e-03\n",
      " 5.19224582e-03 2.45355628e-03 9.18140169e-04 5.85996953e-04\n",
      " 2.53853796e-04 7.82893840e-05 2.44360970e-04 2.44360970e-04\n",
      " 2.44360970e-04 2.44360970e-04 2.44360970e-04 2.44360970e-04\n",
      " 2.44360970e-04 2.44360970e-04 2.44360970e-04 2.44360970e-04\n",
      " 2.44360970e-04 2.44360970e-04 2.44360970e-04 2.44360970e-04\n",
      " 2.44360970e-04 2.44360970e-04 2.44360970e-04 2.44360970e-04\n",
      " 2.44360970e-04 2.44360970e-04 2.44360970e-04 2.44360970e-04\n",
      " 2.44360970e-04 2.44360970e-04 2.44360970e-04 2.44360970e-04\n",
      " 2.44360970e-04 2.44360970e-04 2.41612463e-04 2.36115462e-04\n",
      " 2.30618447e-04 2.25121446e-04 2.22372939e-04 2.22372939e-04]\n",
      "\n",
      "row 31:\n",
      " [2.00645445e-04 2.00645445e-04 2.06109893e-04 2.17038760e-04\n",
      " 2.27967656e-04 2.38896522e-04 2.44360970e-04 2.44360970e-04\n",
      " 2.44360970e-04 2.44360970e-04 1.05016195e-04 8.03770497e-04\n",
      " 1.50252483e-03 2.20127916e-03 4.18867916e-03 7.46472459e-03\n",
      " 1.07407691e-02 1.40168155e-02 1.52909774e-02 1.45632569e-02\n",
      " 1.38355372e-02 1.31078167e-02 1.13227973e-02 8.48047901e-03\n",
      " 5.63816074e-03 2.79584248e-03 1.17230287e-03 7.67541816e-04\n",
      " 3.62780702e-04 4.19804128e-05 2.44360970e-04 2.44360970e-04\n",
      " 2.44360970e-04 2.44360970e-04 2.44360970e-04 2.44360970e-04\n",
      " 2.44360970e-04 2.44360970e-04 2.44360970e-04 2.44360970e-04\n",
      " 2.44360970e-04 2.44360970e-04 2.44360970e-04 2.44360970e-04\n",
      " 2.44360970e-04 2.44360970e-04 2.44360970e-04 2.44360970e-04\n",
      " 2.44360970e-04 2.44360970e-04 2.44360970e-04 2.44360970e-04\n",
      " 2.44360970e-04 2.44360970e-04 2.44360970e-04 2.44360970e-04\n",
      " 2.44360970e-04 2.44360970e-04 2.41612463e-04 2.36115462e-04\n",
      " 2.30618447e-04 2.25121446e-04 2.22372939e-04 2.22372939e-04]\n",
      "\n",
      "row 32:\n",
      " [2.00645445e-04 2.00645445e-04 2.06109893e-04 2.17038760e-04\n",
      " 2.27967656e-04 2.38896522e-04 2.44360970e-04 2.44360970e-04\n",
      " 2.44360970e-04 2.44360970e-04 9.26424036e-05 7.66649144e-04\n",
      " 1.44065591e-03 2.11466267e-03 4.06942423e-03 7.30494084e-03\n",
      " 1.05404574e-02 1.37759745e-02 1.51506336e-02 1.46644367e-02\n",
      " 1.41782388e-02 1.36920419e-02 1.19759701e-02 9.03002266e-03\n",
      " 6.08407566e-03 3.13812867e-03 1.42646569e-03 9.49086680e-04\n",
      " 4.71707608e-04 5.67144707e-06 2.44360970e-04 2.44360970e-04\n",
      " 2.44360970e-04 2.44360970e-04 2.44360970e-04 2.44360970e-04\n",
      " 2.44360970e-04 2.44360970e-04 2.44360970e-04 2.44360970e-04\n",
      " 2.44360970e-04 2.44360970e-04 2.44360970e-04 2.44360970e-04\n",
      " 2.44360970e-04 2.44360970e-04 2.44360970e-04 2.44360970e-04\n",
      " 2.44360970e-04 2.44360970e-04 2.44360970e-04 2.44360970e-04\n",
      " 2.44360970e-04 2.44360970e-04 2.44360970e-04 2.44360970e-04\n",
      " 2.44360970e-04 2.44360970e-04 2.41612463e-04 2.36115462e-04\n",
      " 2.30618447e-04 2.25121446e-04 2.22372939e-04 2.22372939e-04]\n",
      "\n",
      "row 33:\n",
      " [2.0064545e-04 2.0064545e-04 2.0610989e-04 2.1703876e-04 2.2796766e-04\n",
      " 2.3889652e-04 2.4436097e-04 2.4436097e-04 2.4436097e-04 2.4436097e-04\n",
      " 8.0268619e-05 7.2952779e-04 1.3787869e-03 2.0280462e-03 3.9501693e-03\n",
      " 7.1451575e-03 1.0340145e-02 1.3535134e-02 1.5010289e-02 1.4765616e-02\n",
      " 1.4520942e-02 1.4276268e-02 1.2629143e-02 9.5795672e-03 6.5299906e-03\n",
      " 3.4804149e-03 1.6806284e-03 1.1306315e-03 5.8063451e-04 3.0637522e-05\n",
      " 2.4436097e-04 2.4436097e-04 2.4436097e-04 2.4436097e-04 2.4436097e-04\n",
      " 2.4436097e-04 2.4436097e-04 2.4436097e-04 2.4436097e-04 2.4436097e-04\n",
      " 2.4436097e-04 2.4436097e-04 2.4436097e-04 2.4436097e-04 2.4436097e-04\n",
      " 2.4436097e-04 2.4436097e-04 2.4436097e-04 2.4436097e-04 2.4436097e-04\n",
      " 2.4436097e-04 2.4436097e-04 2.4436097e-04 2.4436097e-04 2.4436097e-04\n",
      " 2.4436097e-04 2.4436097e-04 2.4436097e-04 2.4161246e-04 2.3611546e-04\n",
      " 2.3061845e-04 2.2512145e-04 2.2237294e-04 2.2237294e-04]\n",
      "\n",
      "row 34:\n",
      " [2.0064545e-04 2.0064545e-04 2.0610989e-04 2.1703876e-04 2.2796766e-04\n",
      " 2.3889652e-04 2.4436097e-04 2.4436097e-04 2.4436097e-04 2.4436097e-04\n",
      " 6.0167251e-05 6.6922372e-04 1.2782800e-03 1.8873365e-03 3.6582325e-03\n",
      " 6.5909685e-03 9.5237037e-03 1.2456439e-02 1.3893519e-02 1.3834942e-02\n",
      " 1.3776366e-02 1.3717789e-02 1.2221095e-02 9.2862826e-03 6.3514705e-03\n",
      " 3.4166586e-03 1.6750509e-03 1.1266476e-03 5.7824416e-04 2.9840732e-05\n",
      " 2.4436097e-04 2.4436097e-04 2.4436097e-04 2.4436097e-04 2.4436097e-04\n",
      " 2.4436097e-04 2.4436097e-04 2.4436097e-04 2.4436097e-04 2.4436097e-04\n",
      " 2.4436097e-04 2.4436097e-04 2.4436097e-04 2.4436097e-04 2.4436097e-04\n",
      " 2.4436097e-04 2.4436097e-04 2.4436097e-04 2.4436097e-04 2.4436097e-04\n",
      " 2.4436097e-04 2.4436097e-04 2.4436097e-04 2.4436097e-04 2.4436097e-04\n",
      " 2.4436097e-04 2.4436097e-04 2.4436097e-04 2.4161246e-04 2.3611546e-04\n",
      " 2.3061845e-04 2.2512145e-04 2.2237294e-04 2.2237294e-04]\n",
      "\n",
      "row 35:\n",
      " [2.0064545e-04 2.0064545e-04 2.0610989e-04 2.1703876e-04 2.2796766e-04\n",
      " 2.3889652e-04 2.4436097e-04 2.4436097e-04 2.4436097e-04 2.4436097e-04\n",
      " 3.2338314e-05 5.8573688e-04 1.1391353e-03 1.6925340e-03 3.1936134e-03\n",
      " 5.6423740e-03 8.0911340e-03 1.0539894e-02 1.1800322e-02 1.1872416e-02\n",
      " 1.1944511e-02 1.2016606e-02 1.0751826e-02 8.1501706e-03 5.5485149e-03\n",
      " 2.9468599e-03 1.4097331e-03 9.3713484e-04 4.6453648e-04 8.0618138e-06\n",
      " 2.4436097e-04 2.4436097e-04 2.4436097e-04 2.4436097e-04 2.4436097e-04\n",
      " 2.4436097e-04 2.4436097e-04 2.4436097e-04 2.4436097e-04 2.4436097e-04\n",
      " 2.4436097e-04 2.4436097e-04 2.4436097e-04 2.4436097e-04 2.4436097e-04\n",
      " 2.4436097e-04 2.4436097e-04 2.4436097e-04 2.4436097e-04 2.4436097e-04\n",
      " 2.4436097e-04 2.4436097e-04 2.4436097e-04 2.4436097e-04 2.4436097e-04\n",
      " 2.4436097e-04 2.4436097e-04 2.4436097e-04 2.4161246e-04 2.3611546e-04\n",
      " 2.3061845e-04 2.2512145e-04 2.2237294e-04 2.2237294e-04]\n",
      "\n",
      "row 36:\n",
      " [2.0064545e-04 2.0064545e-04 2.0610989e-04 2.1703876e-04 2.2796766e-04\n",
      " 2.3889652e-04 2.4436097e-04 2.4436097e-04 2.4436097e-04 2.4436097e-04\n",
      " 4.5093748e-06 5.0225010e-04 9.9999062e-04 1.4977314e-03 2.7289942e-03\n",
      " 4.6937792e-03 6.6585639e-03 8.6233485e-03 9.7071240e-03 9.9098897e-03\n",
      " 1.0112656e-02 1.0315422e-02 9.2825564e-03 7.0140581e-03 4.7455593e-03\n",
      " 2.4770610e-03 1.1444152e-03 7.4762211e-04 3.5082886e-04 4.5964356e-05\n",
      " 2.4436097e-04 2.4436097e-04 2.4436097e-04 2.4436097e-04 2.4436097e-04\n",
      " 2.4436097e-04 2.4436097e-04 2.4436097e-04 2.4436097e-04 2.4436097e-04\n",
      " 2.4436097e-04 2.4436097e-04 2.4436097e-04 2.4436097e-04 2.4436097e-04\n",
      " 2.4436097e-04 2.4436097e-04 2.4436097e-04 2.4436097e-04 2.4436097e-04\n",
      " 2.4436097e-04 2.4436097e-04 2.4436097e-04 2.4436097e-04 2.4436097e-04\n",
      " 2.4436097e-04 2.4436097e-04 2.4436097e-04 2.4161246e-04 2.3611546e-04\n",
      " 2.3061845e-04 2.2512145e-04 2.2237294e-04 2.2237294e-04]\n",
      "\n",
      "row 37:\n",
      " [2.0064545e-04 2.0064545e-04 2.0610989e-04 2.1703876e-04 2.2796766e-04\n",
      " 2.3889652e-04 2.4436097e-04 2.4436097e-04 2.4436097e-04 2.4436097e-04\n",
      " 2.3319562e-05 4.1876326e-04 8.6084602e-04 1.3029289e-03 2.2643749e-03\n",
      " 3.7451845e-03 5.2259937e-03 6.7068031e-03 7.6139262e-03 7.9473639e-03\n",
      " 8.2808016e-03 8.6142393e-03 7.8132879e-03 5.8779456e-03 3.9426037e-03\n",
      " 2.0072623e-03 8.7909744e-04 5.5810937e-04 2.3712120e-04 8.3866908e-05\n",
      " 2.4436097e-04 2.4436097e-04 2.4436097e-04 2.4436097e-04 2.4436097e-04\n",
      " 2.4436097e-04 2.4436097e-04 2.4436097e-04 2.4436097e-04 2.4436097e-04\n",
      " 2.4436097e-04 2.4436097e-04 2.4436097e-04 2.4436097e-04 2.4436097e-04\n",
      " 2.4436097e-04 2.4436097e-04 2.4436097e-04 2.4436097e-04 2.4436097e-04\n",
      " 2.4436097e-04 2.4436097e-04 2.4436097e-04 2.4436097e-04 2.4436097e-04\n",
      " 2.4436097e-04 2.4436097e-04 2.4436097e-04 2.4161246e-04 2.3611546e-04\n",
      " 2.3061845e-04 2.2512145e-04 2.2237294e-04 2.2237294e-04]\n",
      "\n",
      "row 38:\n",
      " [2.0064545e-04 2.0064545e-04 2.0610989e-04 2.1703876e-04 2.2796766e-04\n",
      " 2.3889652e-04 2.4436097e-04 2.4436097e-04 2.4436097e-04 2.4436097e-04\n",
      " 6.1050523e-05 3.0557040e-04 6.7219121e-04 1.0388121e-03 1.8272037e-03\n",
      " 3.0373661e-03 4.2475285e-03 5.4576909e-03 6.2281350e-03 6.5588607e-03\n",
      " 6.8895863e-03 7.2203120e-03 6.5642693e-03 4.9214573e-03 3.2786448e-03\n",
      " 1.6358326e-03 6.8207801e-04 4.1738118e-04 1.5268430e-04 1.1201254e-04\n",
      " 2.4436097e-04 2.4436097e-04 2.4436097e-04 2.4436097e-04 2.4436097e-04\n",
      " 2.4436097e-04 2.4436097e-04 2.4436097e-04 2.4436097e-04 2.4436097e-04\n",
      " 2.4436097e-04 2.4436097e-04 2.4436097e-04 2.4436097e-04 2.4436097e-04\n",
      " 2.4436097e-04 2.4436097e-04 2.4436097e-04 2.4436097e-04 2.4436097e-04\n",
      " 2.4436097e-04 2.4436097e-04 2.4436097e-04 2.4436097e-04 2.4436097e-04\n",
      " 2.4436097e-04 2.4436097e-04 2.4436097e-04 2.4161246e-04 2.3611546e-04\n",
      " 2.3061845e-04 2.2512145e-04 2.2237294e-04 2.2237294e-04]\n",
      "\n",
      "row 39:\n",
      " [2.00645445e-04 2.00645445e-04 2.06109893e-04 2.17038760e-04\n",
      " 2.27967656e-04 2.38896522e-04 2.44360970e-04 2.44360970e-04\n",
      " 2.44360970e-04 2.44360970e-04 1.08683504e-04 1.62671451e-04\n",
      " 4.34026355e-04 7.05381273e-04 1.41748053e-03 2.57032434e-03\n",
      " 3.72316781e-03 4.87601152e-03 5.54974889e-03 5.74437995e-03\n",
      " 5.93901100e-03 6.13364158e-03 5.53550245e-03 4.14459221e-03\n",
      " 2.75368197e-03 1.36277184e-03 5.53356949e-04 3.25437577e-04\n",
      " 9.75181465e-05 1.30401255e-04 2.44360970e-04 2.44360970e-04\n",
      " 2.44360970e-04 2.44360970e-04 2.44360970e-04 2.44360970e-04\n",
      " 2.44360970e-04 2.44360970e-04 2.44360970e-04 2.44360970e-04\n",
      " 2.44360970e-04 2.44360970e-04 2.44360970e-04 2.44360970e-04\n",
      " 2.44360970e-04 2.44360970e-04 2.44360970e-04 2.44360970e-04\n",
      " 2.44360970e-04 2.44360970e-04 2.44360970e-04 2.44360970e-04\n",
      " 2.44360970e-04 2.44360970e-04 2.44360970e-04 2.44360970e-04\n",
      " 2.44360970e-04 2.44360970e-04 2.41612463e-04 2.36115462e-04\n",
      " 2.30618447e-04 2.25121446e-04 2.22372939e-04 2.22372939e-04]\n",
      "\n",
      "row 40:\n",
      " [2.0064545e-04 2.0064545e-04 2.0610989e-04 2.1703876e-04 2.2796766e-04\n",
      " 2.3889652e-04 2.4436097e-04 2.4436097e-04 2.4436097e-04 2.4436097e-04\n",
      " 1.5631648e-04 1.9772517e-05 1.9586146e-04 3.7195045e-04 1.0077574e-03\n",
      " 2.1032824e-03 3.1988071e-03 4.2943326e-03 4.8713628e-03 4.9298992e-03\n",
      " 4.9884352e-03 5.0469711e-03 4.5067351e-03 3.3677272e-03 2.2287192e-03\n",
      " 1.0897110e-03 4.2463595e-04 2.3349399e-04 4.2351996e-05 1.4878997e-04\n",
      " 2.4436097e-04 2.4436097e-04 2.4436097e-04 2.4436097e-04 2.4436097e-04\n",
      " 2.4436097e-04 2.4436097e-04 2.4436097e-04 2.4436097e-04 2.4436097e-04\n",
      " 2.4436097e-04 2.4436097e-04 2.4436097e-04 2.4436097e-04 2.4436097e-04\n",
      " 2.4436097e-04 2.4436097e-04 2.4436097e-04 2.4436097e-04 2.4436097e-04\n",
      " 2.4436097e-04 2.4436097e-04 2.4436097e-04 2.4436097e-04 2.4436097e-04\n",
      " 2.4436097e-04 2.4436097e-04 2.4436097e-04 2.4161246e-04 2.3611546e-04\n",
      " 2.3061845e-04 2.2512145e-04 2.2237294e-04 2.2237294e-04]\n",
      "\n",
      "row 41:\n",
      " [2.0064545e-04 2.0064545e-04 2.0610989e-04 2.1703876e-04 2.2796766e-04\n",
      " 2.3889652e-04 2.4436097e-04 2.4436097e-04 2.4436097e-04 2.4436097e-04\n",
      " 2.0394946e-04 1.2312643e-04 4.2303422e-05 3.8519611e-05 5.9803424e-04\n",
      " 1.6362405e-03 2.6744464e-03 3.7126532e-03 4.1929767e-03 4.1154181e-03\n",
      " 4.0378594e-03 3.9603007e-03 3.4779685e-03 2.5908623e-03 1.7037563e-03\n",
      " 8.1665022e-04 2.9591494e-04 1.4155039e-04 1.2814162e-05 1.6717869e-04\n",
      " 2.4436097e-04 2.4436097e-04 2.4436097e-04 2.4436097e-04 2.4436097e-04\n",
      " 2.4436097e-04 2.4436097e-04 2.4436097e-04 2.4436097e-04 2.4436097e-04\n",
      " 2.4436097e-04 2.4436097e-04 2.4436097e-04 2.4436097e-04 2.4436097e-04\n",
      " 2.4436097e-04 2.4436097e-04 2.4436097e-04 2.4436097e-04 2.4436097e-04\n",
      " 2.4436097e-04 2.4436097e-04 2.4436097e-04 2.4436097e-04 2.4436097e-04\n",
      " 2.4436097e-04 2.4436097e-04 2.4436097e-04 2.4161246e-04 2.3611546e-04\n",
      " 2.3061845e-04 2.2512145e-04 2.2237294e-04 2.2237294e-04]\n",
      "\n",
      "row 42:\n",
      " [2.0064545e-04 2.0064545e-04 2.0610989e-04 2.1703876e-04 2.2796766e-04\n",
      " 2.3889652e-04 2.4436097e-04 2.4436097e-04 2.4436097e-04 2.4436097e-04\n",
      " 2.2984033e-04 2.0079903e-04 1.7175775e-04 1.4271645e-04 3.1348097e-04\n",
      " 1.1968346e-03 2.0801879e-03 2.9635418e-03 3.3415155e-03 3.2141104e-03\n",
      " 3.0867052e-03 2.9592994e-03 2.5625916e-03 1.8965809e-03 1.2305704e-03\n",
      " 5.6455977e-04 1.7206499e-04 5.3086151e-05 6.5892702e-05 1.8487155e-04\n",
      " 2.4436097e-04 2.4436097e-04 2.4436097e-04 2.4436097e-04 2.4436097e-04\n",
      " 2.4436097e-04 2.4436097e-04 2.4436097e-04 2.4436097e-04 2.4436097e-04\n",
      " 2.4436097e-04 2.4436097e-04 2.4436097e-04 2.4436097e-04 2.4436097e-04\n",
      " 2.4436097e-04 2.4436097e-04 2.4436097e-04 2.4436097e-04 2.4436097e-04\n",
      " 2.4436097e-04 2.4436097e-04 2.4436097e-04 2.4436097e-04 2.4436097e-04\n",
      " 2.4436097e-04 2.4436097e-04 2.4436097e-04 2.4161246e-04 2.3611546e-04\n",
      " 2.3061845e-04 2.2512145e-04 2.2237294e-04 2.2237294e-04]\n",
      "\n",
      "row 43:\n",
      " [2.0064545e-04 2.0064545e-04 2.0610989e-04 2.1703876e-04 2.2796766e-04\n",
      " 2.3889652e-04 2.4436097e-04 2.4436097e-04 2.4436097e-04 2.4436097e-04\n",
      " 2.3398908e-04 2.1324529e-04 1.9250152e-04 1.7175774e-04 1.5409756e-04\n",
      " 7.8506442e-04 1.4160310e-03 2.0469981e-03 2.3169795e-03 2.2259757e-03\n",
      " 2.1349720e-03 2.0439678e-03 1.7606051e-03 1.2848832e-03 8.0916146e-04\n",
      " 3.3343956e-04 5.3086147e-05 3.1898737e-05 1.1688363e-04 2.0186852e-04\n",
      " 2.4436097e-04 2.4436097e-04 2.4436097e-04 2.4436097e-04 2.4436097e-04\n",
      " 2.4436097e-04 2.4436097e-04 2.4436097e-04 2.4436097e-04 2.4436097e-04\n",
      " 2.4436097e-04 2.4436097e-04 2.4436097e-04 2.4436097e-04 2.4436097e-04\n",
      " 2.4436097e-04 2.4436097e-04 2.4436097e-04 2.4436097e-04 2.4436097e-04\n",
      " 2.4436097e-04 2.4436097e-04 2.4436097e-04 2.4436097e-04 2.4436097e-04\n",
      " 2.4436097e-04 2.4436097e-04 2.4436097e-04 2.4161246e-04 2.3611546e-04\n",
      " 2.3061845e-04 2.2512145e-04 2.2237294e-04 2.2237294e-04]\n",
      "\n",
      "row 44:\n",
      " [2.0064545e-04 2.0064545e-04 2.0610989e-04 2.1703876e-04 2.2796766e-04\n",
      " 2.3889652e-04 2.4436097e-04 2.4436097e-04 2.4436097e-04 2.4436097e-04\n",
      " 2.3813784e-04 2.2569158e-04 2.1324531e-04 2.0079904e-04 5.2858595e-06\n",
      " 3.7329426e-04 7.5187429e-04 1.1304545e-03 1.2924433e-03 1.2378411e-03\n",
      " 1.1832388e-03 1.1286363e-03 9.5861871e-04 6.7318557e-04 3.8775249e-04\n",
      " 1.0231933e-04 6.5892702e-05 1.1688364e-04 1.6787458e-04 2.1886551e-04\n",
      " 2.4436097e-04 2.4436097e-04 2.4436097e-04 2.4436097e-04 2.4436097e-04\n",
      " 2.4436097e-04 2.4436097e-04 2.4436097e-04 2.4436097e-04 2.4436097e-04\n",
      " 2.4436097e-04 2.4436097e-04 2.4436097e-04 2.4436097e-04 2.4436097e-04\n",
      " 2.4436097e-04 2.4436097e-04 2.4436097e-04 2.4436097e-04 2.4436097e-04\n",
      " 2.4436097e-04 2.4436097e-04 2.4436097e-04 2.4436097e-04 2.4436097e-04\n",
      " 2.4436097e-04 2.4436097e-04 2.4436097e-04 2.4161246e-04 2.3611546e-04\n",
      " 2.3061845e-04 2.2512145e-04 2.2237294e-04 2.2237294e-04]\n",
      "\n",
      "row 45:\n",
      " [2.0064545e-04 2.0064545e-04 2.0610989e-04 2.1703876e-04 2.2796766e-04\n",
      " 2.3889652e-04 2.4436097e-04 2.4436097e-04 2.4436097e-04 2.4436097e-04\n",
      " 2.4228659e-04 2.3813783e-04 2.3398908e-04 2.2984033e-04 1.6466927e-04\n",
      " 3.8475890e-05 8.7717446e-05 2.1391084e-04 2.6790710e-04 2.4970638e-04\n",
      " 2.3150562e-04 2.1330481e-04 1.5663226e-04 6.1487881e-05 3.3656484e-05\n",
      " 1.2880086e-04 1.8487155e-04 2.0186852e-04 2.1886551e-04 2.3586248e-04\n",
      " 2.4436097e-04 2.4436097e-04 2.4436097e-04 2.4436097e-04 2.4436097e-04\n",
      " 2.4436097e-04 2.4436097e-04 2.4436097e-04 2.4436097e-04 2.4436097e-04\n",
      " 2.4436097e-04 2.4436097e-04 2.4436097e-04 2.4436097e-04 2.4436097e-04\n",
      " 2.4436097e-04 2.4436097e-04 2.4436097e-04 2.4436097e-04 2.4436097e-04\n",
      " 2.4436097e-04 2.4436097e-04 2.4436097e-04 2.4436097e-04 2.4436097e-04\n",
      " 2.4436097e-04 2.4436097e-04 2.4436097e-04 2.4161246e-04 2.3611546e-04\n",
      " 2.3061845e-04 2.2512145e-04 2.2237294e-04 2.2237294e-04]\n",
      "\n",
      "row 46:\n",
      " [0.00020065 0.00020065 0.00020611 0.00021704 0.00022797 0.0002389\n",
      " 0.00024436 0.00024436 0.00024436 0.00024436 0.00024436 0.00024436\n",
      " 0.00024436 0.00024436 0.00024436 0.00024436 0.00024436 0.00024436\n",
      " 0.00024436 0.00024436 0.00024436 0.00024436 0.00024436 0.00024436\n",
      " 0.00024436 0.00024436 0.00024436 0.00024436 0.00024436 0.00024436\n",
      " 0.00024436 0.00024436 0.00024436 0.00024436 0.00024436 0.00024436\n",
      " 0.00024436 0.00024436 0.00024436 0.00024436 0.00024436 0.00024436\n",
      " 0.00024436 0.00024436 0.00024436 0.00024436 0.00024436 0.00024436\n",
      " 0.00024436 0.00024436 0.00024436 0.00024436 0.00024436 0.00024436\n",
      " 0.00024436 0.00024436 0.00024436 0.00024436 0.00024161 0.00023612\n",
      " 0.00023062 0.00022512 0.00022237 0.00022237]\n",
      "\n",
      "row 47:\n",
      " [0.00020065 0.00020065 0.00020611 0.00021704 0.00022797 0.0002389\n",
      " 0.00024436 0.00024436 0.00024436 0.00024436 0.00024436 0.00024436\n",
      " 0.00024436 0.00024436 0.00024436 0.00024436 0.00024436 0.00024436\n",
      " 0.00024436 0.00024436 0.00024436 0.00024436 0.00024436 0.00024436\n",
      " 0.00024436 0.00024436 0.00024436 0.00024436 0.00024436 0.00024436\n",
      " 0.00024436 0.00024436 0.00024436 0.00024436 0.00024436 0.00024436\n",
      " 0.00024436 0.00024436 0.00024436 0.00024436 0.00024436 0.00024436\n",
      " 0.00024436 0.00024436 0.00024436 0.00024436 0.00024436 0.00024436\n",
      " 0.00024436 0.00024436 0.00024436 0.00024436 0.00024436 0.00024436\n",
      " 0.00024436 0.00024436 0.00024436 0.00024436 0.00024161 0.00023612\n",
      " 0.00023062 0.00022512 0.00022237 0.00022237]\n",
      "\n",
      "row 48:\n",
      " [0.00020065 0.00020065 0.00020611 0.00021704 0.00022797 0.0002389\n",
      " 0.00024436 0.00024436 0.00024436 0.00024436 0.00024436 0.00024436\n",
      " 0.00024436 0.00024436 0.00024436 0.00024436 0.00024436 0.00024436\n",
      " 0.00024436 0.00024436 0.00024436 0.00024436 0.00024436 0.00024436\n",
      " 0.00024436 0.00024436 0.00024436 0.00024436 0.00024436 0.00024436\n",
      " 0.00024436 0.00024436 0.00024436 0.00024436 0.00024436 0.00024436\n",
      " 0.00024436 0.00024436 0.00024436 0.00024436 0.00024436 0.00024436\n",
      " 0.00024436 0.00024436 0.00024436 0.00024436 0.00024436 0.00024436\n",
      " 0.00024436 0.00024436 0.00024436 0.00024436 0.00024436 0.00024436\n",
      " 0.00024436 0.00024436 0.00024436 0.00024436 0.00024161 0.00023612\n",
      " 0.00023062 0.00022512 0.00022237 0.00022237]\n",
      "\n",
      "row 49:\n",
      " [0.00020065 0.00020065 0.00020611 0.00021704 0.00022797 0.0002389\n",
      " 0.00024436 0.00024436 0.00024436 0.00024436 0.00024436 0.00024436\n",
      " 0.00024436 0.00024436 0.00024436 0.00024436 0.00024436 0.00024436\n",
      " 0.00024436 0.00024436 0.00024436 0.00024436 0.00024436 0.00024436\n",
      " 0.00024436 0.00024436 0.00024436 0.00024436 0.00024436 0.00024436\n",
      " 0.00024436 0.00024436 0.00024436 0.00024436 0.00024436 0.00024436\n",
      " 0.00024436 0.00024436 0.00024436 0.00024436 0.00024436 0.00024436\n",
      " 0.00024436 0.00024436 0.00024436 0.00024436 0.00024436 0.00024436\n",
      " 0.00024436 0.00024436 0.00024436 0.00024436 0.00024436 0.00024436\n",
      " 0.00024436 0.00024436 0.00024436 0.00024436 0.00024161 0.00023612\n",
      " 0.00023062 0.00022512 0.00022237 0.00022237]\n",
      "\n",
      "row 50:\n",
      " [0.00020065 0.00020065 0.00020611 0.00021704 0.00022797 0.0002389\n",
      " 0.00024436 0.00024436 0.00024436 0.00024436 0.00024436 0.00024436\n",
      " 0.00024436 0.00024436 0.00024436 0.00024436 0.00024436 0.00024436\n",
      " 0.00024436 0.00024436 0.00024436 0.00024436 0.00024436 0.00024436\n",
      " 0.00024436 0.00024436 0.00024436 0.00024436 0.00024436 0.00024436\n",
      " 0.00024436 0.00024436 0.00024436 0.00024436 0.00024436 0.00024436\n",
      " 0.00024436 0.00024436 0.00024436 0.00024436 0.00024436 0.00024436\n",
      " 0.00024436 0.00024436 0.00024436 0.00024436 0.00024436 0.00024436\n",
      " 0.00024436 0.00024436 0.00024436 0.00024436 0.00024436 0.00024436\n",
      " 0.00024436 0.00024436 0.00024436 0.00024436 0.00024161 0.00023612\n",
      " 0.00023062 0.00022512 0.00022237 0.00022237]\n",
      "\n",
      "row 51:\n",
      " [0.00020065 0.00020065 0.00020611 0.00021704 0.00022797 0.0002389\n",
      " 0.00024436 0.00024436 0.00024436 0.00024436 0.00024436 0.00024436\n",
      " 0.00024436 0.00024436 0.00024436 0.00024436 0.00024436 0.00024436\n",
      " 0.00024436 0.00024436 0.00024436 0.00024436 0.00024436 0.00024436\n",
      " 0.00024436 0.00024436 0.00024436 0.00024436 0.00024436 0.00024436\n",
      " 0.00024436 0.00024436 0.00024436 0.00024436 0.00024436 0.00024436\n",
      " 0.00024436 0.00024436 0.00024436 0.00024436 0.00024436 0.00024436\n",
      " 0.00024436 0.00024436 0.00024436 0.00024436 0.00024436 0.00024436\n",
      " 0.00024436 0.00024436 0.00024436 0.00024436 0.00024436 0.00024436\n",
      " 0.00024436 0.00024436 0.00024436 0.00024436 0.00024161 0.00023612\n",
      " 0.00023062 0.00022512 0.00022237 0.00022237]\n",
      "\n",
      "row 52:\n",
      " [0.00020065 0.00020065 0.00020611 0.00021704 0.00022797 0.0002389\n",
      " 0.00024436 0.00024436 0.00024436 0.00024436 0.00024436 0.00024436\n",
      " 0.00024436 0.00024436 0.00024436 0.00024436 0.00024436 0.00024436\n",
      " 0.00024436 0.00024436 0.00024436 0.00024436 0.00024436 0.00024436\n",
      " 0.00024436 0.00024436 0.00024436 0.00024436 0.00024436 0.00024436\n",
      " 0.00024436 0.00024436 0.00024436 0.00024436 0.00024436 0.00024436\n",
      " 0.00024436 0.00024436 0.00024436 0.00024436 0.00024436 0.00024436\n",
      " 0.00024436 0.00024436 0.00024436 0.00024436 0.00024436 0.00024436\n",
      " 0.00024436 0.00024436 0.00024436 0.00024436 0.00024436 0.00024436\n",
      " 0.00024436 0.00024436 0.00024436 0.00024436 0.00024161 0.00023612\n",
      " 0.00023062 0.00022512 0.00022237 0.00022237]\n",
      "\n",
      "row 53:\n",
      " [0.00020065 0.00020065 0.00020611 0.00021704 0.00022797 0.0002389\n",
      " 0.00024436 0.00024436 0.00024436 0.00024436 0.00024436 0.00024436\n",
      " 0.00024436 0.00024436 0.00024436 0.00024436 0.00024436 0.00024436\n",
      " 0.00024436 0.00024436 0.00024436 0.00024436 0.00024436 0.00024436\n",
      " 0.00024436 0.00024436 0.00024436 0.00024436 0.00024436 0.00024436\n",
      " 0.00024436 0.00024436 0.00024436 0.00024436 0.00024436 0.00024436\n",
      " 0.00024436 0.00024436 0.00024436 0.00024436 0.00024436 0.00024436\n",
      " 0.00024436 0.00024436 0.00024436 0.00024436 0.00024436 0.00024436\n",
      " 0.00024436 0.00024436 0.00024436 0.00024436 0.00024436 0.00024436\n",
      " 0.00024436 0.00024436 0.00024436 0.00024436 0.00024161 0.00023612\n",
      " 0.00023062 0.00022512 0.00022237 0.00022237]\n",
      "\n",
      "row 54:\n",
      " [0.00020065 0.00020065 0.00020611 0.00021704 0.00022797 0.0002389\n",
      " 0.00024436 0.00024436 0.00024436 0.00024436 0.00024436 0.00024436\n",
      " 0.00024436 0.00024436 0.00024436 0.00024436 0.00024436 0.00024436\n",
      " 0.00024436 0.00024436 0.00024436 0.00024436 0.00024436 0.00024436\n",
      " 0.00024436 0.00024436 0.00024436 0.00024436 0.00024436 0.00024436\n",
      " 0.00024436 0.00024436 0.00024436 0.00024436 0.00024436 0.00024436\n",
      " 0.00024436 0.00024436 0.00024436 0.00024436 0.00024436 0.00024436\n",
      " 0.00024436 0.00024436 0.00024436 0.00024436 0.00024436 0.00024436\n",
      " 0.00024436 0.00024436 0.00024436 0.00024436 0.00024436 0.00024436\n",
      " 0.00024436 0.00024436 0.00024436 0.00024436 0.00024161 0.00023612\n",
      " 0.00023062 0.00022512 0.00022237 0.00022237]\n",
      "\n",
      "row 55:\n",
      " [0.00020065 0.00020065 0.00020611 0.00021704 0.00022797 0.0002389\n",
      " 0.00024436 0.00024436 0.00024436 0.00024436 0.00024436 0.00024436\n",
      " 0.00024436 0.00024436 0.00024436 0.00024436 0.00024436 0.00024436\n",
      " 0.00024436 0.00024436 0.00024436 0.00024436 0.00024436 0.00024436\n",
      " 0.00024436 0.00024436 0.00024436 0.00024436 0.00024436 0.00024436\n",
      " 0.00024436 0.00024436 0.00024436 0.00024436 0.00024436 0.00024436\n",
      " 0.00024436 0.00024436 0.00024436 0.00024436 0.00024436 0.00024436\n",
      " 0.00024436 0.00024436 0.00024436 0.00024436 0.00024436 0.00024436\n",
      " 0.00024436 0.00024436 0.00024436 0.00024436 0.00024436 0.00024436\n",
      " 0.00024436 0.00024436 0.00024436 0.00024436 0.00024161 0.00023612\n",
      " 0.00023062 0.00022512 0.00022237 0.00022237]\n",
      "\n",
      "row 56:\n",
      " [0.00020065 0.00020065 0.00020611 0.00021704 0.00022797 0.0002389\n",
      " 0.00024436 0.00024436 0.00024436 0.00024436 0.00024436 0.00024436\n",
      " 0.00024436 0.00024436 0.00024436 0.00024436 0.00024436 0.00024436\n",
      " 0.00024436 0.00024436 0.00024436 0.00024436 0.00024436 0.00024436\n",
      " 0.00024436 0.00024436 0.00024436 0.00024436 0.00024436 0.00024436\n",
      " 0.00024436 0.00024436 0.00024436 0.00024436 0.00024436 0.00024436\n",
      " 0.00024436 0.00024436 0.00024436 0.00024436 0.00024436 0.00024436\n",
      " 0.00024436 0.00024436 0.00024436 0.00024436 0.00024436 0.00024436\n",
      " 0.00024436 0.00024436 0.00024436 0.00024436 0.00024436 0.00024436\n",
      " 0.00024436 0.00024436 0.00024436 0.00024436 0.00024161 0.00023612\n",
      " 0.00023062 0.00022512 0.00022237 0.00022237]\n",
      "\n",
      "row 57:\n",
      " [0.00020065 0.00020065 0.00020611 0.00021704 0.00022797 0.0002389\n",
      " 0.00024436 0.00024436 0.00024436 0.00024436 0.00024436 0.00024436\n",
      " 0.00024436 0.00024436 0.00024436 0.00024436 0.00024436 0.00024436\n",
      " 0.00024436 0.00024436 0.00024436 0.00024436 0.00024436 0.00024436\n",
      " 0.00024436 0.00024436 0.00024436 0.00024436 0.00024436 0.00024436\n",
      " 0.00024436 0.00024436 0.00024436 0.00024436 0.00024436 0.00024436\n",
      " 0.00024436 0.00024436 0.00024436 0.00024436 0.00024436 0.00024436\n",
      " 0.00024436 0.00024436 0.00024436 0.00024436 0.00024436 0.00024436\n",
      " 0.00024436 0.00024436 0.00024436 0.00024436 0.00024436 0.00024436\n",
      " 0.00024436 0.00024436 0.00024436 0.00024436 0.00024161 0.00023612\n",
      " 0.00023062 0.00022512 0.00022237 0.00022237]\n",
      "\n",
      "row 58:\n",
      " [0.00019939 0.00019939 0.00020457 0.00021495 0.00022532 0.00023569\n",
      " 0.00024088 0.00024088 0.00024088 0.00024088 0.00024088 0.00024088\n",
      " 0.00024088 0.00024088 0.00024088 0.00024088 0.00024088 0.00024088\n",
      " 0.00024088 0.00024088 0.00024088 0.00024088 0.00024088 0.00024088\n",
      " 0.00024088 0.00024088 0.00024088 0.00024088 0.00024088 0.00024088\n",
      " 0.00024088 0.00024088 0.00024088 0.00024088 0.00024088 0.00024088\n",
      " 0.00024088 0.00024088 0.00024088 0.00024088 0.00024088 0.00024088\n",
      " 0.00024088 0.00024088 0.00024088 0.00024088 0.00024088 0.00024088\n",
      " 0.00024088 0.00024088 0.00024088 0.00024088 0.00024088 0.00024088\n",
      " 0.00024088 0.00024088 0.00024088 0.00024088 0.00023819 0.0002328\n",
      " 0.00022741 0.00022203 0.00021933 0.00021933]\n",
      "\n",
      "row 59:\n",
      " [0.00019687 0.00019687 0.0002015  0.00021076 0.00022003 0.00022929\n",
      " 0.00023392 0.00023392 0.00023392 0.00023392 0.00023392 0.00023392\n",
      " 0.00023392 0.00023392 0.00023392 0.00023392 0.00023392 0.00023392\n",
      " 0.00023392 0.00023392 0.00023392 0.00023392 0.00023392 0.00023392\n",
      " 0.00023392 0.00023392 0.00023392 0.00023392 0.00023392 0.00023392\n",
      " 0.00023392 0.00023392 0.00023392 0.00023392 0.00023392 0.00023392\n",
      " 0.00023392 0.00023392 0.00023392 0.00023392 0.00023392 0.00023392\n",
      " 0.00023392 0.00023392 0.00023392 0.00023392 0.00023392 0.00023392\n",
      " 0.00023392 0.00023392 0.00023392 0.00023392 0.00023392 0.00023392\n",
      " 0.00023392 0.00023392 0.00023392 0.00023392 0.00023134 0.00022617\n",
      " 0.00022101 0.00021584 0.00021326 0.00021326]\n",
      "\n",
      "row 60:\n",
      " [0.00019435 0.00019435 0.00019843 0.00020658 0.00021473 0.00022289\n",
      " 0.00022696 0.00022696 0.00022696 0.00022696 0.00022696 0.00022696\n",
      " 0.00022696 0.00022696 0.00022696 0.00022696 0.00022696 0.00022696\n",
      " 0.00022696 0.00022696 0.00022696 0.00022696 0.00022696 0.00022696\n",
      " 0.00022696 0.00022696 0.00022696 0.00022696 0.00022696 0.00022696\n",
      " 0.00022696 0.00022696 0.00022696 0.00022696 0.00022696 0.00022696\n",
      " 0.00022696 0.00022696 0.00022696 0.00022696 0.00022696 0.00022696\n",
      " 0.00022696 0.00022696 0.00022696 0.00022696 0.00022696 0.00022696\n",
      " 0.00022696 0.00022696 0.00022696 0.00022696 0.00022696 0.00022696\n",
      " 0.00022696 0.00022696 0.00022696 0.00022696 0.00022449 0.00021955\n",
      " 0.0002146  0.00020966 0.00020718 0.00020718]\n",
      "\n",
      "row 61:\n",
      " [0.00019184 0.00019184 0.00019536 0.0002024  0.00020944 0.00021648\n",
      " 0.00022    0.00022    0.00022    0.00022    0.00022    0.00022\n",
      " 0.00022    0.00022    0.00022    0.00022    0.00022    0.00022\n",
      " 0.00022    0.00022    0.00022    0.00022    0.00022    0.00022\n",
      " 0.00022    0.00022    0.00022    0.00022    0.00022    0.00022\n",
      " 0.00022    0.00022    0.00022    0.00022    0.00022    0.00022\n",
      " 0.00022    0.00022    0.00022    0.00022    0.00022    0.00022\n",
      " 0.00022    0.00022    0.00022    0.00022    0.00022    0.00022\n",
      " 0.00022    0.00022    0.00022    0.00022    0.00022    0.00022\n",
      " 0.00022    0.00022    0.00022    0.00022    0.00021764 0.00021292\n",
      " 0.00020819 0.00020347 0.00020111 0.00020111]\n",
      "\n",
      "row 62:\n",
      " [0.00019058 0.00019058 0.00019382 0.00020031 0.00020679 0.00021328\n",
      " 0.00021652 0.00021652 0.00021652 0.00021652 0.00021652 0.00021652\n",
      " 0.00021652 0.00021652 0.00021652 0.00021652 0.00021652 0.00021652\n",
      " 0.00021652 0.00021652 0.00021652 0.00021652 0.00021652 0.00021652\n",
      " 0.00021652 0.00021652 0.00021652 0.00021652 0.00021652 0.00021652\n",
      " 0.00021652 0.00021652 0.00021652 0.00021652 0.00021652 0.00021652\n",
      " 0.00021652 0.00021652 0.00021652 0.00021652 0.00021652 0.00021652\n",
      " 0.00021652 0.00021652 0.00021652 0.00021652 0.00021652 0.00021652\n",
      " 0.00021652 0.00021652 0.00021652 0.00021652 0.00021652 0.00021652\n",
      " 0.00021652 0.00021652 0.00021652 0.00021652 0.00021422 0.0002096\n",
      " 0.00020499 0.00020038 0.00019807 0.00019807]\n",
      "\n",
      "row 63:\n",
      " [0.00019058 0.00019058 0.00019382 0.00020031 0.00020679 0.00021328\n",
      " 0.00021652 0.00021652 0.00021652 0.00021652 0.00021652 0.00021652\n",
      " 0.00021652 0.00021652 0.00021652 0.00021652 0.00021652 0.00021652\n",
      " 0.00021652 0.00021652 0.00021652 0.00021652 0.00021652 0.00021652\n",
      " 0.00021652 0.00021652 0.00021652 0.00021652 0.00021652 0.00021652\n",
      " 0.00021652 0.00021652 0.00021652 0.00021652 0.00021652 0.00021652\n",
      " 0.00021652 0.00021652 0.00021652 0.00021652 0.00021652 0.00021652\n",
      " 0.00021652 0.00021652 0.00021652 0.00021652 0.00021652 0.00021652\n",
      " 0.00021652 0.00021652 0.00021652 0.00021652 0.00021652 0.00021652\n",
      " 0.00021652 0.00021652 0.00021652 0.00021652 0.00021422 0.0002096\n",
      " 0.00020499 0.00020038 0.00019807 0.00019807]\n",
      "\n"
     ]
    }
   ],
   "source": [
    "## looking at heatmap scores for each row\n",
    "\n",
    "for i in range(64):\n",
    "    \n",
    "    print(f'row {i}:\\n {heatmap_abs[i,:]}\\n')"
   ]
  },
  {
   "cell_type": "code",
   "execution_count": 37,
   "id": "f3bb1e20",
   "metadata": {},
   "outputs": [
    {
     "data": {
      "text/plain": [
       "0.015431321"
      ]
     },
     "execution_count": 37,
     "metadata": {},
     "output_type": "execute_result"
    }
   ],
   "source": [
    "np.max(heatmap_abs)"
   ]
  },
  {
   "cell_type": "code",
   "execution_count": 38,
   "id": "6ce75ad7",
   "metadata": {},
   "outputs": [
    {
     "data": {
      "text/plain": [
       "4.509375e-06"
      ]
     },
     "execution_count": 38,
     "metadata": {},
     "output_type": "execute_result"
    }
   ],
   "source": [
    "np.min(heatmap_abs)"
   ]
  },
  {
   "cell_type": "code",
   "execution_count": 42,
   "id": "d01d77ba",
   "metadata": {},
   "outputs": [
    {
     "name": "stdout",
     "output_type": "stream",
     "text": [
      "[[0. 0. 0. ... 0. 0. 0.]\n",
      " [0. 0. 0. ... 0. 0. 0.]\n",
      " [0. 0. 0. ... 0. 0. 0.]\n",
      " ...\n",
      " [0. 0. 0. ... 0. 0. 0.]\n",
      " [0. 0. 0. ... 0. 0. 0.]\n",
      " [0. 0. 0. ... 0. 0. 0.]]\n"
     ]
    }
   ],
   "source": [
    "# binerize mask\n",
    "\n",
    "heatmap_abs_01_mask = (heatmap_abs> 0.01).astype(float)\n"
   ]
  },
  {
   "cell_type": "code",
   "execution_count": 43,
   "id": "9a6bea63",
   "metadata": {},
   "outputs": [
    {
     "name": "stdout",
     "output_type": "stream",
     "text": [
      "[[ 0  2  0]\n",
      " [ 0  4  0]\n",
      " [ 0 10  0]]\n"
     ]
    }
   ],
   "source": [
    "a = np.array([[1,2,3],[5,4,7],[9,10,11]])\n",
    "\n",
    "b = np.array([[0,1,0],[0,1,0],[0,1,0]])\n",
    "\n",
    "c = a*b\n",
    "\n",
    "print(c)"
   ]
  },
  {
   "cell_type": "code",
   "execution_count": 44,
   "id": "0303858a",
   "metadata": {},
   "outputs": [],
   "source": [
    "heatmap_abs_01 = heatmap_abs*heatmap_abs_01_mask"
   ]
  },
  {
   "cell_type": "code",
   "execution_count": 47,
   "id": "9acf3b8b",
   "metadata": {},
   "outputs": [
    {
     "data": {
      "text/plain": [
       "(-0.5, 63.5, 63.5, -0.5)"
      ]
     },
     "execution_count": 47,
     "metadata": {},
     "output_type": "execute_result"
    },
    {
     "data": {
      "image/png": "[encoded data removed]",
      "text/plain": [
       "<Figure size 300x300 with 1 Axes>"
      ]
     },
     "metadata": {},
     "output_type": "display_data"
    }
   ],
   "source": [
    "plt.figure(figsize=(3,3))\n",
    "\n",
    "plt.imshow(heatmap_abs_01)\n",
    "\n",
    "plt.axis(\"off\")"
   ]
  },
  {
   "cell_type": "code",
   "execution_count": 32,
   "id": "f1b222b1",
   "metadata": {},
   "outputs": [
    {
     "name": "stdout",
     "output_type": "stream",
     "text": [
      "row 0:\n",
      " [0.00017838 0.00017838 0.00018132 0.00018719 0.00019307 0.00019894\n",
      " 0.00020188 0.00020188 0.00020188 0.00020188 0.00020188 0.00020188\n",
      " 0.00020188 0.00020188 0.00020188 0.00020188 0.00020188 0.00020188\n",
      " 0.00020188 0.00020188 0.00020188 0.00020188 0.00020188 0.00020188\n",
      " 0.00020188 0.00020188 0.00020188 0.00020188 0.00020188 0.00020188\n",
      " 0.00020188 0.00020188 0.00020188 0.00020188 0.00020188 0.00020188\n",
      " 0.00020188 0.00020188 0.00020188 0.00020188 0.00020188 0.00020188\n",
      " 0.00020188 0.00020188 0.00020188 0.00020188 0.00020188 0.00020188\n",
      " 0.00020188 0.00020188 0.00020188 0.00020188 0.00020188 0.00020188\n",
      " 0.00020188 0.00020188 0.00020188 0.00020188 0.00020032 0.00019721\n",
      " 0.00019409 0.00019098 0.00018942 0.00018942]\n",
      "\n",
      "row 1:\n",
      " [0.00017838 0.00017838 0.00018132 0.00018719 0.00019307 0.00019894\n",
      " 0.00020188 0.00020188 0.00020188 0.00020188 0.00020188 0.00020188\n",
      " 0.00020188 0.00020188 0.00020188 0.00020188 0.00020188 0.00020188\n",
      " 0.00020188 0.00020188 0.00020188 0.00020188 0.00020188 0.00020188\n",
      " 0.00020188 0.00020188 0.00020188 0.00020188 0.00020188 0.00020188\n",
      " 0.00020188 0.00020188 0.00020188 0.00020188 0.00020188 0.00020188\n",
      " 0.00020188 0.00020188 0.00020188 0.00020188 0.00020188 0.00020188\n",
      " 0.00020188 0.00020188 0.00020188 0.00020188 0.00020188 0.00020188\n",
      " 0.00020188 0.00020188 0.00020188 0.00020188 0.00020188 0.00020188\n",
      " 0.00020188 0.00020188 0.00020188 0.00020188 0.00020032 0.00019721\n",
      " 0.00019409 0.00019098 0.00018942 0.00018942]\n",
      "\n",
      "row 2:\n",
      " [0.00018117 0.00018117 0.00018442 0.00019092 0.00019743 0.00020394\n",
      " 0.00020719 0.00020719 0.00020719 0.00020719 0.00020719 0.00020719\n",
      " 0.00020719 0.00020719 0.00020719 0.00020719 0.00020719 0.00020719\n",
      " 0.00020719 0.00020719 0.00020719 0.00020719 0.00020719 0.00020719\n",
      " 0.00020719 0.00020719 0.00020719 0.00020719 0.00020719 0.00020719\n",
      " 0.00020719 0.00020719 0.00020719 0.00020719 0.00020719 0.00020719\n",
      " 0.00020719 0.00020719 0.00020719 0.00020719 0.00020719 0.00020719\n",
      " 0.00020719 0.00020719 0.00020719 0.00020719 0.00020719 0.00020719\n",
      " 0.00020719 0.00020719 0.00020719 0.00020719 0.00020719 0.00020719\n",
      " 0.00020719 0.00020719 0.00020719 0.00020719 0.00020548 0.00020207\n",
      " 0.00019866 0.00019524 0.00019354 0.00019354]\n",
      "\n",
      "row 3:\n",
      " [0.00018673 0.00018673 0.00019062 0.00019839 0.00020616 0.00021393\n",
      " 0.00021781 0.00021781 0.00021781 0.00021781 0.00021781 0.00021781\n",
      " 0.00021781 0.00021781 0.00021781 0.00021781 0.00021781 0.00021781\n",
      " 0.00021781 0.00021781 0.00021781 0.00021781 0.00021781 0.00021781\n",
      " 0.00021781 0.00021781 0.00021781 0.00021781 0.00021781 0.00021781\n",
      " 0.00021781 0.00021781 0.00021781 0.00021781 0.00021781 0.00021781\n",
      " 0.00021781 0.00021781 0.00021781 0.00021781 0.00021781 0.00021781\n",
      " 0.00021781 0.00021781 0.00021781 0.00021781 0.00021781 0.00021781\n",
      " 0.00021781 0.00021781 0.00021781 0.00021781 0.00021781 0.00021781\n",
      " 0.00021781 0.00021781 0.00021781 0.00021781 0.00021581 0.0002118\n",
      " 0.00020779 0.00020378 0.00020178 0.00020178]\n",
      "\n",
      "row 4:\n",
      " [0.0001923  0.0001923  0.00019681 0.00020585 0.00021488 0.00022391\n",
      " 0.00022843 0.00022843 0.00022843 0.00022843 0.00022843 0.00022843\n",
      " 0.00022843 0.00022843 0.00022843 0.00022843 0.00022843 0.00022843\n",
      " 0.00022843 0.00022843 0.00022843 0.00022843 0.00022843 0.00022843\n",
      " 0.00022843 0.00022843 0.00022843 0.00022843 0.00022843 0.00022843\n",
      " 0.00022843 0.00022843 0.00022843 0.00022843 0.00022843 0.00022843\n",
      " 0.00022843 0.00022843 0.00022843 0.00022843 0.00022843 0.00022843\n",
      " 0.00022843 0.00022843 0.00022843 0.00022843 0.00022843 0.00022843\n",
      " 0.00022843 0.00022843 0.00022843 0.00022843 0.00022843 0.00022843\n",
      " 0.00022843 0.00022843 0.00022843 0.00022843 0.00022613 0.00022152\n",
      " 0.00021692 0.00021232 0.00021001 0.00021001]\n",
      "\n",
      "row 5:\n",
      " [0.00019786 0.00019786 0.00020301 0.00021331 0.00022361 0.0002339\n",
      " 0.00023905 0.00023905 0.00023905 0.00023905 0.00023905 0.00023905\n",
      " 0.00023905 0.00023905 0.00023905 0.00023905 0.00023905 0.00023905\n",
      " 0.00023905 0.00023905 0.00023905 0.00023905 0.00023905 0.00023905\n",
      " 0.00023905 0.00023905 0.00023905 0.00023905 0.00023905 0.00023905\n",
      " 0.00023905 0.00023905 0.00023905 0.00023905 0.00023905 0.00023905\n",
      " 0.00023905 0.00023905 0.00023905 0.00023905 0.00023905 0.00023905\n",
      " 0.00023905 0.00023905 0.00023905 0.00023905 0.00023905 0.00023905\n",
      " 0.00023905 0.00023905 0.00023905 0.00023905 0.00023905 0.00023905\n",
      " 0.00023905 0.00023905 0.00023905 0.00023905 0.00023645 0.00023125\n",
      " 0.00022605 0.00022085 0.00021825 0.00021825]\n",
      "\n",
      "row 6:\n",
      " [0.00020065 0.00020065 0.00020611 0.00021704 0.00022797 0.0002389\n",
      " 0.00024436 0.00024436 0.00024436 0.00024436 0.00024436 0.00024436\n",
      " 0.00024436 0.00024436 0.00024436 0.00024436 0.00024436 0.00024436\n",
      " 0.00024436 0.00024436 0.00024436 0.00024436 0.00024436 0.00024436\n",
      " 0.00024436 0.00024436 0.00024436 0.00024436 0.00024436 0.00024436\n",
      " 0.00024436 0.00024436 0.00024436 0.00024436 0.00024436 0.00024436\n",
      " 0.00024436 0.00024436 0.00024436 0.00024436 0.00024436 0.00024436\n",
      " 0.00024436 0.00024436 0.00024436 0.00024436 0.00024436 0.00024436\n",
      " 0.00024436 0.00024436 0.00024436 0.00024436 0.00024436 0.00024436\n",
      " 0.00024436 0.00024436 0.00024436 0.00024436 0.00024161 0.00023612\n",
      " 0.00023062 0.00022512 0.00022237 0.00022237]\n",
      "\n",
      "row 7:\n",
      " [0.00020065 0.00020065 0.00020611 0.00021704 0.00022797 0.0002389\n",
      " 0.00024436 0.00024436 0.00024436 0.00024436 0.00024436 0.00024436\n",
      " 0.00024436 0.00024436 0.00024436 0.00024436 0.00024436 0.00024436\n",
      " 0.00024436 0.00024436 0.00024436 0.00024436 0.00024436 0.00024436\n",
      " 0.00024436 0.00024436 0.00024436 0.00024436 0.00024436 0.00024436\n",
      " 0.00024436 0.00024436 0.00024436 0.00024436 0.00024436 0.00024436\n",
      " 0.00024436 0.00024436 0.00024436 0.00024436 0.00024436 0.00024436\n",
      " 0.00024436 0.00024436 0.00024436 0.00024436 0.00024436 0.00024436\n",
      " 0.00024436 0.00024436 0.00024436 0.00024436 0.00024436 0.00024436\n",
      " 0.00024436 0.00024436 0.00024436 0.00024436 0.00024161 0.00023612\n",
      " 0.00023062 0.00022512 0.00022237 0.00022237]\n",
      "\n",
      "row 8:\n",
      " [0.00020065 0.00020065 0.00020611 0.00021704 0.00022797 0.0002389\n",
      " 0.00024436 0.00024436 0.00024436 0.00024436 0.00024436 0.00024436\n",
      " 0.00024436 0.00024436 0.00024436 0.00024436 0.00024436 0.00024436\n",
      " 0.00024436 0.00024436 0.00024436 0.00024436 0.00024436 0.00024436\n",
      " 0.00024436 0.00024436 0.00024436 0.00024436 0.00024436 0.00024436\n",
      " 0.00024436 0.00024436 0.00024436 0.00024436 0.00024436 0.00024436\n",
      " 0.00024436 0.00024436 0.00024436 0.00024436 0.00024436 0.00024436\n",
      " 0.00024436 0.00024436 0.00024436 0.00024436 0.00024436 0.00024436\n",
      " 0.00024436 0.00024436 0.00024436 0.00024436 0.00024436 0.00024436\n",
      " 0.00024436 0.00024436 0.00024436 0.00024436 0.00024161 0.00023612\n",
      " 0.00023062 0.00022512 0.00022237 0.00022237]\n",
      "\n",
      "row 9:\n",
      " [0.00020065 0.00020065 0.00020611 0.00021704 0.00022797 0.0002389\n",
      " 0.00024436 0.00024436 0.00024436 0.00024436 0.00024436 0.00024436\n",
      " 0.00024436 0.00024436 0.00024436 0.00024436 0.00024436 0.00024436\n",
      " 0.00024436 0.00024436 0.00024436 0.00024436 0.00024436 0.00024436\n",
      " 0.00024436 0.00024436 0.00024436 0.00024436 0.00024436 0.00024436\n",
      " 0.00024436 0.00024436 0.00024436 0.00024436 0.00024436 0.00024436\n",
      " 0.00024436 0.00024436 0.00024436 0.00024436 0.00024436 0.00024436\n",
      " 0.00024436 0.00024436 0.00024436 0.00024436 0.00024436 0.00024436\n",
      " 0.00024436 0.00024436 0.00024436 0.00024436 0.00024436 0.00024436\n",
      " 0.00024436 0.00024436 0.00024436 0.00024436 0.00024161 0.00023612\n",
      " 0.00023062 0.00022512 0.00022237 0.00022237]\n",
      "\n",
      "row 10:\n",
      " [0.00020065 0.00020065 0.00020611 0.00021704 0.00022797 0.0002389\n",
      " 0.00024436 0.00024436 0.00024436 0.00024436 0.00024436 0.00024436\n",
      " 0.00024436 0.00024436 0.00024436 0.00024436 0.00024436 0.00024436\n",
      " 0.00024436 0.00024436 0.00024436 0.00024436 0.00024436 0.00024436\n",
      " 0.00024436 0.00024436 0.00024436 0.00024436 0.00024436 0.00024436\n",
      " 0.00024436 0.00024436 0.00024436 0.00024436 0.00024436 0.00024436\n",
      " 0.00024436 0.00024436 0.00024436 0.00024436 0.00024436 0.00024436\n",
      " 0.00024436 0.00024436 0.00024436 0.00024436 0.00024436 0.00024436\n",
      " 0.00024436 0.00024436 0.00024436 0.00024436 0.00024436 0.00024436\n",
      " 0.00024436 0.00024436 0.00024436 0.00024436 0.00024161 0.00023612\n",
      " 0.00023062 0.00022512 0.00022237 0.00022237]\n",
      "\n",
      "row 11:\n",
      " [0.00020065 0.00020065 0.00020611 0.00021704 0.00022797 0.0002389\n",
      " 0.00024436 0.00024436 0.00024436 0.00024436 0.00024436 0.00024436\n",
      " 0.00024436 0.00024436 0.00024436 0.00024436 0.00024436 0.00024436\n",
      " 0.00024436 0.00024436 0.00024436 0.00024436 0.00024436 0.00024436\n",
      " 0.00024436 0.00024436 0.00024436 0.00024436 0.00024436 0.00024436\n",
      " 0.00024436 0.00024436 0.00024436 0.00024436 0.00024436 0.00024436\n",
      " 0.00024436 0.00024436 0.00024436 0.00024436 0.00024436 0.00024436\n",
      " 0.00024436 0.00024436 0.00024436 0.00024436 0.00024436 0.00024436\n",
      " 0.00024436 0.00024436 0.00024436 0.00024436 0.00024436 0.00024436\n",
      " 0.00024436 0.00024436 0.00024436 0.00024436 0.00024161 0.00023612\n",
      " 0.00023062 0.00022512 0.00022237 0.00022237]\n",
      "\n",
      "row 12:\n",
      " [0.00020065 0.00020065 0.00020611 0.00021704 0.00022797 0.0002389\n",
      " 0.00024436 0.00024436 0.00024436 0.00024436 0.00024436 0.00024436\n",
      " 0.00024436 0.00024436 0.00024436 0.00024436 0.00024436 0.00024436\n",
      " 0.00024436 0.00024436 0.00024436 0.00024436 0.00024436 0.00024436\n",
      " 0.00024436 0.00024436 0.00024436 0.00024436 0.00024436 0.00024436\n",
      " 0.00024436 0.00024436 0.00024436 0.00024436 0.00024436 0.00024436\n",
      " 0.00024436 0.00024436 0.00024436 0.00024436 0.00024436 0.00024436\n",
      " 0.00024436 0.00024436 0.00024436 0.00024436 0.00024436 0.00024436\n",
      " 0.00024436 0.00024436 0.00024436 0.00024436 0.00024436 0.00024436\n",
      " 0.00024436 0.00024436 0.00024436 0.00024436 0.00024161 0.00023612\n",
      " 0.00023062 0.00022512 0.00022237 0.00022237]\n",
      "\n",
      "row 13:\n",
      " [0.00020065 0.00020065 0.00020611 0.00021704 0.00022797 0.0002389\n",
      " 0.00024436 0.00024436 0.00024436 0.00024436 0.00024436 0.00024436\n",
      " 0.00024436 0.00024436 0.00024436 0.00024436 0.00024436 0.00024436\n",
      " 0.00024436 0.00024436 0.00024436 0.00024436 0.00024436 0.00024436\n",
      " 0.00024436 0.00024436 0.00024436 0.00024436 0.00024436 0.00024436\n",
      " 0.00024436 0.00024436 0.00024436 0.00024436 0.00024436 0.00024436\n",
      " 0.00024436 0.00024436 0.00024436 0.00024436 0.00024436 0.00024436\n",
      " 0.00024436 0.00024436 0.00024436 0.00024436 0.00024436 0.00024436\n",
      " 0.00024436 0.00024436 0.00024436 0.00024436 0.00024436 0.00024436\n",
      " 0.00024436 0.00024436 0.00024436 0.00024436 0.00024161 0.00023612\n",
      " 0.00023062 0.00022512 0.00022237 0.00022237]\n",
      "\n",
      "row 14:\n",
      " [0.00020065 0.00020065 0.00020611 0.00021704 0.00022797 0.0002389\n",
      " 0.00024436 0.00024436 0.00024436 0.00024436 0.00024436 0.00024436\n",
      " 0.00024436 0.00024436 0.00024436 0.00024436 0.00024436 0.00024436\n",
      " 0.00024436 0.00024436 0.00024436 0.00024436 0.00024436 0.00024436\n",
      " 0.00024436 0.00024436 0.00024436 0.00024436 0.00024436 0.00024436\n",
      " 0.00024436 0.00024436 0.00024436 0.00024436 0.00024436 0.00024436\n",
      " 0.00024436 0.00024436 0.00024436 0.00024436 0.00024436 0.00024436\n",
      " 0.00024436 0.00024436 0.00024436 0.00024436 0.00024436 0.00024436\n",
      " 0.00024436 0.00024436 0.00024436 0.00024436 0.00024436 0.00024436\n",
      " 0.00024436 0.00024436 0.00024436 0.00024436 0.00024161 0.00023612\n",
      " 0.00023062 0.00022512 0.00022237 0.00022237]\n",
      "\n",
      "row 15:\n",
      " [0.00020065 0.00020065 0.00020611 0.00021704 0.00022797 0.0002389\n",
      " 0.00024436 0.00024436 0.00024436 0.00024436 0.00024436 0.00024436\n",
      " 0.00024436 0.00024436 0.00024436 0.00024436 0.00024436 0.00024436\n",
      " 0.00024436 0.00024436 0.00024436 0.00024436 0.00024436 0.00024436\n",
      " 0.00024436 0.00024436 0.00024436 0.00024436 0.00024436 0.00024436\n",
      " 0.00024436 0.00024436 0.00024436 0.00024436 0.00024436 0.00024436\n",
      " 0.00024436 0.00024436 0.00024436 0.00024436 0.00024436 0.00024436\n",
      " 0.00024436 0.00024436 0.00024436 0.00024436 0.00024436 0.00024436\n",
      " 0.00024436 0.00024436 0.00024436 0.00024436 0.00024436 0.00024436\n",
      " 0.00024436 0.00024436 0.00024436 0.00024436 0.00024161 0.00023612\n",
      " 0.00023062 0.00022512 0.00022237 0.00022237]\n",
      "\n",
      "row 16:\n",
      " [0.00020065 0.00020065 0.00020611 0.00021704 0.00022797 0.0002389\n",
      " 0.00024436 0.00024436 0.00024436 0.00024436 0.00024436 0.00024436\n",
      " 0.00024436 0.00024436 0.00024436 0.00024436 0.00024436 0.00024436\n",
      " 0.00024436 0.00024436 0.00024436 0.00024436 0.00024436 0.00024436\n",
      " 0.00024436 0.00024436 0.00024436 0.00024436 0.00024436 0.00024436\n",
      " 0.00024436 0.00024436 0.00024436 0.00024436 0.00024436 0.00024436\n",
      " 0.00024436 0.00024436 0.00024436 0.00024436 0.00024436 0.00024436\n",
      " 0.00024436 0.00024436 0.00024436 0.00024436 0.00024436 0.00024436\n",
      " 0.00024436 0.00024436 0.00024436 0.00024436 0.00024436 0.00024436\n",
      " 0.00024436 0.00024436 0.00024436 0.00024436 0.00024161 0.00023612\n",
      " 0.00023062 0.00022512 0.00022237 0.00022237]\n",
      "\n",
      "row 17:\n",
      " [0.00020065 0.00020065 0.00020611 0.00021704 0.00022797 0.0002389\n",
      " 0.00024436 0.00024436 0.00024436 0.00024436 0.00024436 0.00024436\n",
      " 0.00024436 0.00024436 0.00024436 0.00024436 0.00024436 0.00024436\n",
      " 0.00024436 0.00024436 0.00024436 0.00024436 0.00024436 0.00024436\n",
      " 0.00024436 0.00024436 0.00024436 0.00024436 0.00024436 0.00024436\n",
      " 0.00024436 0.00024436 0.00024436 0.00024436 0.00024436 0.00024436\n",
      " 0.00024436 0.00024436 0.00024436 0.00024436 0.00024436 0.00024436\n",
      " 0.00024436 0.00024436 0.00024436 0.00024436 0.00024436 0.00024436\n",
      " 0.00024436 0.00024436 0.00024436 0.00024436 0.00024436 0.00024436\n",
      " 0.00024436 0.00024436 0.00024436 0.00024436 0.00024161 0.00023612\n",
      " 0.00023062 0.00022512 0.00022237 0.00022237]\n",
      "\n",
      "row 18:\n",
      " [2.00645445e-04 2.00645445e-04 2.06109893e-04 2.17038760e-04\n",
      " 2.27967656e-04 2.38896522e-04 2.44360970e-04 2.44360970e-04\n",
      " 2.44360970e-04 2.44360970e-04 2.35806569e-04 2.18697780e-04\n",
      " 2.01588991e-04 1.84480203e-04 1.01528465e-04 0.00000000e+00\n",
      " 0.00000000e+00 0.00000000e+00 0.00000000e+00 0.00000000e+00\n",
      " 0.00000000e+00 0.00000000e+00 0.00000000e+00 1.37789357e-05\n",
      " 1.06011750e-04 1.98244568e-04 2.44360970e-04 2.44360970e-04\n",
      " 2.44360970e-04 2.44360970e-04 2.44360970e-04 2.44360970e-04\n",
      " 2.44360970e-04 2.44360970e-04 2.44360970e-04 2.44360970e-04\n",
      " 2.44360970e-04 2.44360970e-04 2.44360970e-04 2.44360970e-04\n",
      " 2.44360970e-04 2.44360970e-04 2.44360970e-04 2.44360970e-04\n",
      " 2.44360970e-04 2.44360970e-04 2.44360970e-04 2.44360970e-04\n",
      " 2.44360970e-04 2.44360970e-04 2.44360970e-04 2.44360970e-04\n",
      " 2.44360970e-04 2.44360970e-04 2.44360970e-04 2.44360970e-04\n",
      " 2.44360970e-04 2.44360970e-04 2.41612463e-04 2.36115462e-04\n",
      " 2.30618447e-04 2.25121446e-04 2.22372939e-04 2.22372939e-04]\n",
      "\n",
      "row 19:\n",
      " [2.0064545e-04 2.0064545e-04 2.0610989e-04 2.1703876e-04 2.2796766e-04\n",
      " 2.3889652e-04 2.4436097e-04 2.4436097e-04 2.4436097e-04 2.4436097e-04\n",
      " 2.1869779e-04 1.6737141e-04 1.1604505e-04 6.4718683e-05 0.0000000e+00\n",
      " 0.0000000e+00 0.0000000e+00 0.0000000e+00 0.0000000e+00 0.0000000e+00\n",
      " 0.0000000e+00 0.0000000e+00 0.0000000e+00 0.0000000e+00 0.0000000e+00\n",
      " 1.0601175e-04 2.4436097e-04 2.4436097e-04 2.4436097e-04 2.4436097e-04\n",
      " 2.4436097e-04 2.4436097e-04 2.4436097e-04 2.4436097e-04 2.4436097e-04\n",
      " 2.4436097e-04 2.4436097e-04 2.4436097e-04 2.4436097e-04 2.4436097e-04\n",
      " 2.4436097e-04 2.4436097e-04 2.4436097e-04 2.4436097e-04 2.4436097e-04\n",
      " 2.4436097e-04 2.4436097e-04 2.4436097e-04 2.4436097e-04 2.4436097e-04\n",
      " 2.4436097e-04 2.4436097e-04 2.4436097e-04 2.4436097e-04 2.4436097e-04\n",
      " 2.4436097e-04 2.4436097e-04 2.4436097e-04 2.4161246e-04 2.3611546e-04\n",
      " 2.3061845e-04 2.2512145e-04 2.2237294e-04 2.2237294e-04]\n",
      "\n",
      "row 20:\n",
      " [2.0064545e-04 2.0064545e-04 2.0610989e-04 2.1703876e-04 2.2796766e-04\n",
      " 2.3889652e-04 2.4436097e-04 2.4436097e-04 2.4436097e-04 2.4436097e-04\n",
      " 2.0158899e-04 1.1604505e-04 3.0501094e-05 0.0000000e+00 0.0000000e+00\n",
      " 0.0000000e+00 0.0000000e+00 0.0000000e+00 0.0000000e+00 0.0000000e+00\n",
      " 0.0000000e+00 0.0000000e+00 0.0000000e+00 0.0000000e+00 0.0000000e+00\n",
      " 1.3778936e-05 2.4436097e-04 2.4436097e-04 2.4436097e-04 2.4436097e-04\n",
      " 2.4436097e-04 2.4436097e-04 2.4436097e-04 2.4436097e-04 2.4436097e-04\n",
      " 2.4436097e-04 2.4436097e-04 2.4436097e-04 2.4436097e-04 2.4436097e-04\n",
      " 2.4436097e-04 2.4436097e-04 2.4436097e-04 2.4436097e-04 2.4436097e-04\n",
      " 2.4436097e-04 2.4436097e-04 2.4436097e-04 2.4436097e-04 2.4436097e-04\n",
      " 2.4436097e-04 2.4436097e-04 2.4436097e-04 2.4436097e-04 2.4436097e-04\n",
      " 2.4436097e-04 2.4436097e-04 2.4436097e-04 2.4161246e-04 2.3611546e-04\n",
      " 2.3061845e-04 2.2512145e-04 2.2237294e-04 2.2237294e-04]\n",
      "\n",
      "row 21:\n",
      " [2.0064545e-04 2.0064545e-04 2.0610989e-04 2.1703876e-04 2.2796766e-04\n",
      " 2.3889652e-04 2.4436097e-04 2.4436097e-04 2.4436097e-04 2.4436097e-04\n",
      " 1.8448022e-04 6.4718683e-05 0.0000000e+00 0.0000000e+00 0.0000000e+00\n",
      " 0.0000000e+00 0.0000000e+00 0.0000000e+00 0.0000000e+00 0.0000000e+00\n",
      " 0.0000000e+00 0.0000000e+00 0.0000000e+00 0.0000000e+00 0.0000000e+00\n",
      " 0.0000000e+00 2.4436097e-04 2.4436097e-04 2.4436097e-04 2.4436097e-04\n",
      " 2.4436097e-04 2.4436097e-04 2.4436097e-04 2.4436097e-04 2.4436097e-04\n",
      " 2.4436097e-04 2.4436097e-04 2.4436097e-04 2.4436097e-04 2.4436097e-04\n",
      " 2.4436097e-04 2.4436097e-04 2.4436097e-04 2.4436097e-04 2.4436097e-04\n",
      " 2.4436097e-04 2.4436097e-04 2.4436097e-04 2.4436097e-04 2.4436097e-04\n",
      " 2.4436097e-04 2.4436097e-04 2.4436097e-04 2.4436097e-04 2.4436097e-04\n",
      " 2.4436097e-04 2.4436097e-04 2.4436097e-04 2.4161246e-04 2.3611546e-04\n",
      " 2.3061845e-04 2.2512145e-04 2.2237294e-04 2.2237294e-04]\n",
      "\n",
      "row 22:\n",
      " [0.00020065 0.00020065 0.00020611 0.00021704 0.00022797 0.0002389\n",
      " 0.00024436 0.00024436 0.00024436 0.00024436 0.00015799 0.\n",
      " 0.         0.         0.         0.         0.         0.\n",
      " 0.         0.         0.         0.         0.         0.\n",
      " 0.         0.         0.00016859 0.00019024 0.00021189 0.00023354\n",
      " 0.00024436 0.00024436 0.00024436 0.00024436 0.00024436 0.00024436\n",
      " 0.00024436 0.00024436 0.00024436 0.00024436 0.00024436 0.00024436\n",
      " 0.00024436 0.00024436 0.00024436 0.00024436 0.00024436 0.00024436\n",
      " 0.00024436 0.00024436 0.00024436 0.00024436 0.00024436 0.00024436\n",
      " 0.00024436 0.00024436 0.00024436 0.00024436 0.00024161 0.00023612\n",
      " 0.00023062 0.00022512 0.00022237 0.00022237]\n",
      "\n",
      "row 23:\n",
      " [2.0064545e-04 2.0064545e-04 2.0610989e-04 2.1703876e-04 2.2796766e-04\n",
      " 2.3889652e-04 2.4436097e-04 2.4436097e-04 2.4436097e-04 2.4436097e-04\n",
      " 1.2212859e-04 0.0000000e+00 0.0000000e+00 0.0000000e+00 0.0000000e+00\n",
      " 0.0000000e+00 0.0000000e+00 0.0000000e+00 0.0000000e+00 0.0000000e+00\n",
      " 0.0000000e+00 0.0000000e+00 0.0000000e+00 0.0000000e+00 0.0000000e+00\n",
      " 0.0000000e+00 1.7050723e-05 8.1996506e-05 1.4694230e-04 2.1188808e-04\n",
      " 2.4436097e-04 2.4436097e-04 2.4436097e-04 2.4436097e-04 2.4436097e-04\n",
      " 2.4436097e-04 2.4436097e-04 2.4436097e-04 2.4436097e-04 2.4436097e-04\n",
      " 2.4436097e-04 2.4436097e-04 2.4436097e-04 2.4436097e-04 2.4436097e-04\n",
      " 2.4436097e-04 2.4436097e-04 2.4436097e-04 2.4436097e-04 2.4436097e-04\n",
      " 2.4436097e-04 2.4436097e-04 2.4436097e-04 2.4436097e-04 2.4436097e-04\n",
      " 2.4436097e-04 2.4436097e-04 2.4436097e-04 2.4161246e-04 2.3611546e-04\n",
      " 2.3061845e-04 2.2512145e-04 2.2237294e-04 2.2237294e-04]\n",
      "\n",
      "row 24:\n",
      " [2.0064545e-04 2.0064545e-04 2.0610989e-04 2.1703876e-04 2.2796766e-04\n",
      " 2.3889652e-04 2.4436097e-04 2.4436097e-04 2.4436097e-04 2.4436097e-04\n",
      " 8.6263783e-05 0.0000000e+00 0.0000000e+00 0.0000000e+00 0.0000000e+00\n",
      " 0.0000000e+00 0.0000000e+00 0.0000000e+00 0.0000000e+00 0.0000000e+00\n",
      " 0.0000000e+00 0.0000000e+00 0.0000000e+00 0.0000000e+00 0.0000000e+00\n",
      " 0.0000000e+00 0.0000000e+00 0.0000000e+00 8.1996506e-05 1.9023947e-04\n",
      " 2.4436097e-04 2.4436097e-04 2.4436097e-04 2.4436097e-04 2.4436097e-04\n",
      " 2.4436097e-04 2.4436097e-04 2.4436097e-04 2.4436097e-04 2.4436097e-04\n",
      " 2.4436097e-04 2.4436097e-04 2.4436097e-04 2.4436097e-04 2.4436097e-04\n",
      " 2.4436097e-04 2.4436097e-04 2.4436097e-04 2.4436097e-04 2.4436097e-04\n",
      " 2.4436097e-04 2.4436097e-04 2.4436097e-04 2.4436097e-04 2.4436097e-04\n",
      " 2.4436097e-04 2.4436097e-04 2.4436097e-04 2.4161246e-04 2.3611546e-04\n",
      " 2.3061845e-04 2.2512145e-04 2.2237294e-04 2.2237294e-04]\n",
      "\n",
      "row 25:\n",
      " [2.0064545e-04 2.0064545e-04 2.0610989e-04 2.1703876e-04 2.2796766e-04\n",
      " 2.3889652e-04 2.4436097e-04 2.4436097e-04 2.4436097e-04 2.4436097e-04\n",
      " 5.0398972e-05 0.0000000e+00 0.0000000e+00 0.0000000e+00 0.0000000e+00\n",
      " 0.0000000e+00 0.0000000e+00 0.0000000e+00 0.0000000e+00 0.0000000e+00\n",
      " 0.0000000e+00 0.0000000e+00 0.0000000e+00 0.0000000e+00 0.0000000e+00\n",
      " 0.0000000e+00 0.0000000e+00 0.0000000e+00 1.7050725e-05 1.6859088e-04\n",
      " 2.4436097e-04 2.4436097e-04 2.4436097e-04 2.4436097e-04 2.4436097e-04\n",
      " 2.4436097e-04 2.4436097e-04 2.4436097e-04 2.4436097e-04 2.4436097e-04\n",
      " 2.4436097e-04 2.4436097e-04 2.4436097e-04 2.4436097e-04 2.4436097e-04\n",
      " 2.4436097e-04 2.4436097e-04 2.4436097e-04 2.4436097e-04 2.4436097e-04\n",
      " 2.4436097e-04 2.4436097e-04 2.4436097e-04 2.4436097e-04 2.4436097e-04\n",
      " 2.4436097e-04 2.4436097e-04 2.4436097e-04 2.4161246e-04 2.3611546e-04\n",
      " 2.3061845e-04 2.2512145e-04 2.2237294e-04 2.2237294e-04]\n",
      "\n",
      "row 26:\n",
      " [2.0064545e-04 2.0064545e-04 2.0610989e-04 2.1703876e-04 2.2796766e-04\n",
      " 2.3889652e-04 2.4436097e-04 2.4436097e-04 2.4436097e-04 2.4436097e-04\n",
      " 1.2961133e-05 0.0000000e+00 0.0000000e+00 0.0000000e+00 0.0000000e+00\n",
      " 0.0000000e+00 0.0000000e+00 0.0000000e+00 0.0000000e+00 0.0000000e+00\n",
      " 0.0000000e+00 0.0000000e+00 0.0000000e+00 0.0000000e+00 0.0000000e+00\n",
      " 0.0000000e+00 0.0000000e+00 0.0000000e+00 0.0000000e+00 1.5010124e-04\n",
      " 2.4436097e-04 2.4436097e-04 2.4436097e-04 2.4436097e-04 2.4436097e-04\n",
      " 2.4436097e-04 2.4436097e-04 2.4436097e-04 2.4436097e-04 2.4436097e-04\n",
      " 2.4436097e-04 2.4436097e-04 2.4436097e-04 2.4436097e-04 2.4436097e-04\n",
      " 2.4436097e-04 2.4436097e-04 2.4436097e-04 2.4436097e-04 2.4436097e-04\n",
      " 2.4436097e-04 2.4436097e-04 2.4436097e-04 2.4436097e-04 2.4436097e-04\n",
      " 2.4436097e-04 2.4436097e-04 2.4436097e-04 2.4161246e-04 2.3611546e-04\n",
      " 2.3061845e-04 2.2512145e-04 2.2237294e-04 2.2237294e-04]\n",
      "\n",
      "row 27:\n",
      " [0.00020065 0.00020065 0.00020611 0.00021704 0.00022797 0.0002389\n",
      " 0.00024436 0.00024436 0.00024436 0.00024436 0.         0.\n",
      " 0.         0.         0.         0.         0.         0.\n",
      " 0.         0.         0.         0.         0.         0.\n",
      " 0.         0.         0.         0.         0.         0.00013477\n",
      " 0.00024436 0.00024436 0.00024436 0.00024436 0.00024436 0.00024436\n",
      " 0.00024436 0.00024436 0.00024436 0.00024436 0.00024436 0.00024436\n",
      " 0.00024436 0.00024436 0.00024436 0.00024436 0.00024436 0.00024436\n",
      " 0.00024436 0.00024436 0.00024436 0.00024436 0.00024436 0.00024436\n",
      " 0.00024436 0.00024436 0.00024436 0.00024436 0.00024161 0.00023612\n",
      " 0.00023062 0.00022512 0.00022237 0.00022237]\n",
      "\n",
      "row 28:\n",
      " [0.00020065 0.00020065 0.00020611 0.00021704 0.00022797 0.0002389\n",
      " 0.00024436 0.00024436 0.00024436 0.00024436 0.         0.\n",
      " 0.         0.         0.         0.         0.         0.\n",
      " 0.         0.         0.         0.         0.         0.\n",
      " 0.         0.         0.         0.         0.         0.00011944\n",
      " 0.00024436 0.00024436 0.00024436 0.00024436 0.00024436 0.00024436\n",
      " 0.00024436 0.00024436 0.00024436 0.00024436 0.00024436 0.00024436\n",
      " 0.00024436 0.00024436 0.00024436 0.00024436 0.00024436 0.00024436\n",
      " 0.00024436 0.00024436 0.00024436 0.00024436 0.00024436 0.00024436\n",
      " 0.00024436 0.00024436 0.00024436 0.00024436 0.00024161 0.00023612\n",
      " 0.00023062 0.00022512 0.00022237 0.00022237]\n",
      "\n",
      "row 29:\n",
      " [0.00020065 0.00020065 0.00020611 0.00021704 0.00022797 0.0002389\n",
      " 0.00024436 0.00024436 0.00024436 0.00024436 0.         0.\n",
      " 0.         0.         0.         0.         0.         0.\n",
      " 0.         0.         0.         0.         0.         0.\n",
      " 0.         0.         0.         0.         0.         0.00010411\n",
      " 0.00024436 0.00024436 0.00024436 0.00024436 0.00024436 0.00024436\n",
      " 0.00024436 0.00024436 0.00024436 0.00024436 0.00024436 0.00024436\n",
      " 0.00024436 0.00024436 0.00024436 0.00024436 0.00024436 0.00024436\n",
      " 0.00024436 0.00024436 0.00024436 0.00024436 0.00024436 0.00024436\n",
      " 0.00024436 0.00024436 0.00024436 0.00024436 0.00024161 0.00023612\n",
      " 0.00023062 0.00022512 0.00022237 0.00022237]\n",
      "\n",
      "row 30:\n",
      " [2.0064545e-04 2.0064545e-04 2.0610989e-04 2.1703876e-04 2.2796766e-04\n",
      " 2.3889652e-04 2.4436097e-04 2.4436097e-04 2.4436097e-04 2.4436097e-04\n",
      " 0.0000000e+00 0.0000000e+00 0.0000000e+00 0.0000000e+00 0.0000000e+00\n",
      " 0.0000000e+00 0.0000000e+00 0.0000000e+00 0.0000000e+00 0.0000000e+00\n",
      " 0.0000000e+00 0.0000000e+00 0.0000000e+00 0.0000000e+00 0.0000000e+00\n",
      " 0.0000000e+00 0.0000000e+00 0.0000000e+00 0.0000000e+00 7.8289384e-05\n",
      " 2.4436097e-04 2.4436097e-04 2.4436097e-04 2.4436097e-04 2.4436097e-04\n",
      " 2.4436097e-04 2.4436097e-04 2.4436097e-04 2.4436097e-04 2.4436097e-04\n",
      " 2.4436097e-04 2.4436097e-04 2.4436097e-04 2.4436097e-04 2.4436097e-04\n",
      " 2.4436097e-04 2.4436097e-04 2.4436097e-04 2.4436097e-04 2.4436097e-04\n",
      " 2.4436097e-04 2.4436097e-04 2.4436097e-04 2.4436097e-04 2.4436097e-04\n",
      " 2.4436097e-04 2.4436097e-04 2.4436097e-04 2.4161246e-04 2.3611546e-04\n",
      " 2.3061845e-04 2.2512145e-04 2.2237294e-04 2.2237294e-04]\n",
      "\n",
      "row 31:\n",
      " [2.0064545e-04 2.0064545e-04 2.0610989e-04 2.1703876e-04 2.2796766e-04\n",
      " 2.3889652e-04 2.4436097e-04 2.4436097e-04 2.4436097e-04 2.4436097e-04\n",
      " 0.0000000e+00 0.0000000e+00 0.0000000e+00 0.0000000e+00 0.0000000e+00\n",
      " 0.0000000e+00 0.0000000e+00 0.0000000e+00 0.0000000e+00 0.0000000e+00\n",
      " 0.0000000e+00 0.0000000e+00 0.0000000e+00 0.0000000e+00 0.0000000e+00\n",
      " 0.0000000e+00 0.0000000e+00 0.0000000e+00 0.0000000e+00 4.1980413e-05\n",
      " 2.4436097e-04 2.4436097e-04 2.4436097e-04 2.4436097e-04 2.4436097e-04\n",
      " 2.4436097e-04 2.4436097e-04 2.4436097e-04 2.4436097e-04 2.4436097e-04\n",
      " 2.4436097e-04 2.4436097e-04 2.4436097e-04 2.4436097e-04 2.4436097e-04\n",
      " 2.4436097e-04 2.4436097e-04 2.4436097e-04 2.4436097e-04 2.4436097e-04\n",
      " 2.4436097e-04 2.4436097e-04 2.4436097e-04 2.4436097e-04 2.4436097e-04\n",
      " 2.4436097e-04 2.4436097e-04 2.4436097e-04 2.4161246e-04 2.3611546e-04\n",
      " 2.3061845e-04 2.2512145e-04 2.2237294e-04 2.2237294e-04]\n",
      "\n",
      "row 32:\n",
      " [2.0064545e-04 2.0064545e-04 2.0610989e-04 2.1703876e-04 2.2796766e-04\n",
      " 2.3889652e-04 2.4436097e-04 2.4436097e-04 2.4436097e-04 2.4436097e-04\n",
      " 0.0000000e+00 0.0000000e+00 0.0000000e+00 0.0000000e+00 0.0000000e+00\n",
      " 0.0000000e+00 0.0000000e+00 0.0000000e+00 0.0000000e+00 0.0000000e+00\n",
      " 0.0000000e+00 0.0000000e+00 0.0000000e+00 0.0000000e+00 0.0000000e+00\n",
      " 0.0000000e+00 0.0000000e+00 0.0000000e+00 0.0000000e+00 5.6714471e-06\n",
      " 2.4436097e-04 2.4436097e-04 2.4436097e-04 2.4436097e-04 2.4436097e-04\n",
      " 2.4436097e-04 2.4436097e-04 2.4436097e-04 2.4436097e-04 2.4436097e-04\n",
      " 2.4436097e-04 2.4436097e-04 2.4436097e-04 2.4436097e-04 2.4436097e-04\n",
      " 2.4436097e-04 2.4436097e-04 2.4436097e-04 2.4436097e-04 2.4436097e-04\n",
      " 2.4436097e-04 2.4436097e-04 2.4436097e-04 2.4436097e-04 2.4436097e-04\n",
      " 2.4436097e-04 2.4436097e-04 2.4436097e-04 2.4161246e-04 2.3611546e-04\n",
      " 2.3061845e-04 2.2512145e-04 2.2237294e-04 2.2237294e-04]\n",
      "\n",
      "row 33:\n",
      " [0.00020065 0.00020065 0.00020611 0.00021704 0.00022797 0.0002389\n",
      " 0.00024436 0.00024436 0.00024436 0.00024436 0.         0.\n",
      " 0.         0.         0.         0.         0.         0.\n",
      " 0.         0.         0.         0.         0.         0.\n",
      " 0.         0.         0.         0.         0.         0.\n",
      " 0.00024436 0.00024436 0.00024436 0.00024436 0.00024436 0.00024436\n",
      " 0.00024436 0.00024436 0.00024436 0.00024436 0.00024436 0.00024436\n",
      " 0.00024436 0.00024436 0.00024436 0.00024436 0.00024436 0.00024436\n",
      " 0.00024436 0.00024436 0.00024436 0.00024436 0.00024436 0.00024436\n",
      " 0.00024436 0.00024436 0.00024436 0.00024436 0.00024161 0.00023612\n",
      " 0.00023062 0.00022512 0.00022237 0.00022237]\n",
      "\n",
      "row 34:\n",
      " [0.00020065 0.00020065 0.00020611 0.00021704 0.00022797 0.0002389\n",
      " 0.00024436 0.00024436 0.00024436 0.00024436 0.         0.\n",
      " 0.         0.         0.         0.         0.         0.\n",
      " 0.         0.         0.         0.         0.         0.\n",
      " 0.         0.         0.         0.         0.         0.\n",
      " 0.00024436 0.00024436 0.00024436 0.00024436 0.00024436 0.00024436\n",
      " 0.00024436 0.00024436 0.00024436 0.00024436 0.00024436 0.00024436\n",
      " 0.00024436 0.00024436 0.00024436 0.00024436 0.00024436 0.00024436\n",
      " 0.00024436 0.00024436 0.00024436 0.00024436 0.00024436 0.00024436\n",
      " 0.00024436 0.00024436 0.00024436 0.00024436 0.00024161 0.00023612\n",
      " 0.00023062 0.00022512 0.00022237 0.00022237]\n",
      "\n",
      "row 35:\n",
      " [2.0064545e-04 2.0064545e-04 2.0610989e-04 2.1703876e-04 2.2796766e-04\n",
      " 2.3889652e-04 2.4436097e-04 2.4436097e-04 2.4436097e-04 2.4436097e-04\n",
      " 0.0000000e+00 0.0000000e+00 0.0000000e+00 0.0000000e+00 0.0000000e+00\n",
      " 0.0000000e+00 0.0000000e+00 0.0000000e+00 0.0000000e+00 0.0000000e+00\n",
      " 0.0000000e+00 0.0000000e+00 0.0000000e+00 0.0000000e+00 0.0000000e+00\n",
      " 0.0000000e+00 0.0000000e+00 0.0000000e+00 0.0000000e+00 8.0618138e-06\n",
      " 2.4436097e-04 2.4436097e-04 2.4436097e-04 2.4436097e-04 2.4436097e-04\n",
      " 2.4436097e-04 2.4436097e-04 2.4436097e-04 2.4436097e-04 2.4436097e-04\n",
      " 2.4436097e-04 2.4436097e-04 2.4436097e-04 2.4436097e-04 2.4436097e-04\n",
      " 2.4436097e-04 2.4436097e-04 2.4436097e-04 2.4436097e-04 2.4436097e-04\n",
      " 2.4436097e-04 2.4436097e-04 2.4436097e-04 2.4436097e-04 2.4436097e-04\n",
      " 2.4436097e-04 2.4436097e-04 2.4436097e-04 2.4161246e-04 2.3611546e-04\n",
      " 2.3061845e-04 2.2512145e-04 2.2237294e-04 2.2237294e-04]\n",
      "\n",
      "row 36:\n",
      " [2.0064545e-04 2.0064545e-04 2.0610989e-04 2.1703876e-04 2.2796766e-04\n",
      " 2.3889652e-04 2.4436097e-04 2.4436097e-04 2.4436097e-04 2.4436097e-04\n",
      " 0.0000000e+00 0.0000000e+00 0.0000000e+00 0.0000000e+00 0.0000000e+00\n",
      " 0.0000000e+00 0.0000000e+00 0.0000000e+00 0.0000000e+00 0.0000000e+00\n",
      " 0.0000000e+00 0.0000000e+00 0.0000000e+00 0.0000000e+00 0.0000000e+00\n",
      " 0.0000000e+00 0.0000000e+00 0.0000000e+00 0.0000000e+00 4.5964356e-05\n",
      " 2.4436097e-04 2.4436097e-04 2.4436097e-04 2.4436097e-04 2.4436097e-04\n",
      " 2.4436097e-04 2.4436097e-04 2.4436097e-04 2.4436097e-04 2.4436097e-04\n",
      " 2.4436097e-04 2.4436097e-04 2.4436097e-04 2.4436097e-04 2.4436097e-04\n",
      " 2.4436097e-04 2.4436097e-04 2.4436097e-04 2.4436097e-04 2.4436097e-04\n",
      " 2.4436097e-04 2.4436097e-04 2.4436097e-04 2.4436097e-04 2.4436097e-04\n",
      " 2.4436097e-04 2.4436097e-04 2.4436097e-04 2.4161246e-04 2.3611546e-04\n",
      " 2.3061845e-04 2.2512145e-04 2.2237294e-04 2.2237294e-04]\n",
      "\n",
      "row 37:\n",
      " [2.0064545e-04 2.0064545e-04 2.0610989e-04 2.1703876e-04 2.2796766e-04\n",
      " 2.3889652e-04 2.4436097e-04 2.4436097e-04 2.4436097e-04 2.4436097e-04\n",
      " 2.3319562e-05 0.0000000e+00 0.0000000e+00 0.0000000e+00 0.0000000e+00\n",
      " 0.0000000e+00 0.0000000e+00 0.0000000e+00 0.0000000e+00 0.0000000e+00\n",
      " 0.0000000e+00 0.0000000e+00 0.0000000e+00 0.0000000e+00 0.0000000e+00\n",
      " 0.0000000e+00 0.0000000e+00 0.0000000e+00 0.0000000e+00 8.3866908e-05\n",
      " 2.4436097e-04 2.4436097e-04 2.4436097e-04 2.4436097e-04 2.4436097e-04\n",
      " 2.4436097e-04 2.4436097e-04 2.4436097e-04 2.4436097e-04 2.4436097e-04\n",
      " 2.4436097e-04 2.4436097e-04 2.4436097e-04 2.4436097e-04 2.4436097e-04\n",
      " 2.4436097e-04 2.4436097e-04 2.4436097e-04 2.4436097e-04 2.4436097e-04\n",
      " 2.4436097e-04 2.4436097e-04 2.4436097e-04 2.4436097e-04 2.4436097e-04\n",
      " 2.4436097e-04 2.4436097e-04 2.4436097e-04 2.4161246e-04 2.3611546e-04\n",
      " 2.3061845e-04 2.2512145e-04 2.2237294e-04 2.2237294e-04]\n",
      "\n",
      "row 38:\n",
      " [2.0064545e-04 2.0064545e-04 2.0610989e-04 2.1703876e-04 2.2796766e-04\n",
      " 2.3889652e-04 2.4436097e-04 2.4436097e-04 2.4436097e-04 2.4436097e-04\n",
      " 6.1050523e-05 0.0000000e+00 0.0000000e+00 0.0000000e+00 0.0000000e+00\n",
      " 0.0000000e+00 0.0000000e+00 0.0000000e+00 0.0000000e+00 0.0000000e+00\n",
      " 0.0000000e+00 0.0000000e+00 0.0000000e+00 0.0000000e+00 0.0000000e+00\n",
      " 0.0000000e+00 0.0000000e+00 0.0000000e+00 0.0000000e+00 1.1201254e-04\n",
      " 2.4436097e-04 2.4436097e-04 2.4436097e-04 2.4436097e-04 2.4436097e-04\n",
      " 2.4436097e-04 2.4436097e-04 2.4436097e-04 2.4436097e-04 2.4436097e-04\n",
      " 2.4436097e-04 2.4436097e-04 2.4436097e-04 2.4436097e-04 2.4436097e-04\n",
      " 2.4436097e-04 2.4436097e-04 2.4436097e-04 2.4436097e-04 2.4436097e-04\n",
      " 2.4436097e-04 2.4436097e-04 2.4436097e-04 2.4436097e-04 2.4436097e-04\n",
      " 2.4436097e-04 2.4436097e-04 2.4436097e-04 2.4161246e-04 2.3611546e-04\n",
      " 2.3061845e-04 2.2512145e-04 2.2237294e-04 2.2237294e-04]\n",
      "\n",
      "row 39:\n",
      " [0.00020065 0.00020065 0.00020611 0.00021704 0.00022797 0.0002389\n",
      " 0.00024436 0.00024436 0.00024436 0.00024436 0.00010868 0.\n",
      " 0.         0.         0.         0.         0.         0.\n",
      " 0.         0.         0.         0.         0.         0.\n",
      " 0.         0.         0.         0.         0.         0.0001304\n",
      " 0.00024436 0.00024436 0.00024436 0.00024436 0.00024436 0.00024436\n",
      " 0.00024436 0.00024436 0.00024436 0.00024436 0.00024436 0.00024436\n",
      " 0.00024436 0.00024436 0.00024436 0.00024436 0.00024436 0.00024436\n",
      " 0.00024436 0.00024436 0.00024436 0.00024436 0.00024436 0.00024436\n",
      " 0.00024436 0.00024436 0.00024436 0.00024436 0.00024161 0.00023612\n",
      " 0.00023062 0.00022512 0.00022237 0.00022237]\n",
      "\n",
      "row 40:\n",
      " [0.00020065 0.00020065 0.00020611 0.00021704 0.00022797 0.0002389\n",
      " 0.00024436 0.00024436 0.00024436 0.00024436 0.00015632 0.\n",
      " 0.         0.         0.         0.         0.         0.\n",
      " 0.         0.         0.         0.         0.         0.\n",
      " 0.         0.         0.         0.         0.         0.00014879\n",
      " 0.00024436 0.00024436 0.00024436 0.00024436 0.00024436 0.00024436\n",
      " 0.00024436 0.00024436 0.00024436 0.00024436 0.00024436 0.00024436\n",
      " 0.00024436 0.00024436 0.00024436 0.00024436 0.00024436 0.00024436\n",
      " 0.00024436 0.00024436 0.00024436 0.00024436 0.00024436 0.00024436\n",
      " 0.00024436 0.00024436 0.00024436 0.00024436 0.00024161 0.00023612\n",
      " 0.00023062 0.00022512 0.00022237 0.00022237]\n",
      "\n",
      "row 41:\n",
      " [2.0064545e-04 2.0064545e-04 2.0610989e-04 2.1703876e-04 2.2796766e-04\n",
      " 2.3889652e-04 2.4436097e-04 2.4436097e-04 2.4436097e-04 2.4436097e-04\n",
      " 2.0394946e-04 1.2312643e-04 4.2303422e-05 0.0000000e+00 0.0000000e+00\n",
      " 0.0000000e+00 0.0000000e+00 0.0000000e+00 0.0000000e+00 0.0000000e+00\n",
      " 0.0000000e+00 0.0000000e+00 0.0000000e+00 0.0000000e+00 0.0000000e+00\n",
      " 0.0000000e+00 0.0000000e+00 0.0000000e+00 1.2814162e-05 1.6717869e-04\n",
      " 2.4436097e-04 2.4436097e-04 2.4436097e-04 2.4436097e-04 2.4436097e-04\n",
      " 2.4436097e-04 2.4436097e-04 2.4436097e-04 2.4436097e-04 2.4436097e-04\n",
      " 2.4436097e-04 2.4436097e-04 2.4436097e-04 2.4436097e-04 2.4436097e-04\n",
      " 2.4436097e-04 2.4436097e-04 2.4436097e-04 2.4436097e-04 2.4436097e-04\n",
      " 2.4436097e-04 2.4436097e-04 2.4436097e-04 2.4436097e-04 2.4436097e-04\n",
      " 2.4436097e-04 2.4436097e-04 2.4436097e-04 2.4161246e-04 2.3611546e-04\n",
      " 2.3061845e-04 2.2512145e-04 2.2237294e-04 2.2237294e-04]\n",
      "\n",
      "row 42:\n",
      " [2.0064545e-04 2.0064545e-04 2.0610989e-04 2.1703876e-04 2.2796766e-04\n",
      " 2.3889652e-04 2.4436097e-04 2.4436097e-04 2.4436097e-04 2.4436097e-04\n",
      " 2.2984033e-04 2.0079903e-04 1.7175775e-04 1.4271645e-04 0.0000000e+00\n",
      " 0.0000000e+00 0.0000000e+00 0.0000000e+00 0.0000000e+00 0.0000000e+00\n",
      " 0.0000000e+00 0.0000000e+00 0.0000000e+00 0.0000000e+00 0.0000000e+00\n",
      " 0.0000000e+00 0.0000000e+00 0.0000000e+00 6.5892702e-05 1.8487155e-04\n",
      " 2.4436097e-04 2.4436097e-04 2.4436097e-04 2.4436097e-04 2.4436097e-04\n",
      " 2.4436097e-04 2.4436097e-04 2.4436097e-04 2.4436097e-04 2.4436097e-04\n",
      " 2.4436097e-04 2.4436097e-04 2.4436097e-04 2.4436097e-04 2.4436097e-04\n",
      " 2.4436097e-04 2.4436097e-04 2.4436097e-04 2.4436097e-04 2.4436097e-04\n",
      " 2.4436097e-04 2.4436097e-04 2.4436097e-04 2.4436097e-04 2.4436097e-04\n",
      " 2.4436097e-04 2.4436097e-04 2.4436097e-04 2.4161246e-04 2.3611546e-04\n",
      " 2.3061845e-04 2.2512145e-04 2.2237294e-04 2.2237294e-04]\n",
      "\n",
      "row 43:\n",
      " [2.0064545e-04 2.0064545e-04 2.0610989e-04 2.1703876e-04 2.2796766e-04\n",
      " 2.3889652e-04 2.4436097e-04 2.4436097e-04 2.4436097e-04 2.4436097e-04\n",
      " 2.3398908e-04 2.1324529e-04 1.9250152e-04 1.7175774e-04 0.0000000e+00\n",
      " 0.0000000e+00 0.0000000e+00 0.0000000e+00 0.0000000e+00 0.0000000e+00\n",
      " 0.0000000e+00 0.0000000e+00 0.0000000e+00 0.0000000e+00 0.0000000e+00\n",
      " 0.0000000e+00 0.0000000e+00 3.1898737e-05 1.1688363e-04 2.0186852e-04\n",
      " 2.4436097e-04 2.4436097e-04 2.4436097e-04 2.4436097e-04 2.4436097e-04\n",
      " 2.4436097e-04 2.4436097e-04 2.4436097e-04 2.4436097e-04 2.4436097e-04\n",
      " 2.4436097e-04 2.4436097e-04 2.4436097e-04 2.4436097e-04 2.4436097e-04\n",
      " 2.4436097e-04 2.4436097e-04 2.4436097e-04 2.4436097e-04 2.4436097e-04\n",
      " 2.4436097e-04 2.4436097e-04 2.4436097e-04 2.4436097e-04 2.4436097e-04\n",
      " 2.4436097e-04 2.4436097e-04 2.4436097e-04 2.4161246e-04 2.3611546e-04\n",
      " 2.3061845e-04 2.2512145e-04 2.2237294e-04 2.2237294e-04]\n",
      "\n",
      "row 44:\n",
      " [2.0064545e-04 2.0064545e-04 2.0610989e-04 2.1703876e-04 2.2796766e-04\n",
      " 2.3889652e-04 2.4436097e-04 2.4436097e-04 2.4436097e-04 2.4436097e-04\n",
      " 2.3813784e-04 2.2569158e-04 2.1324531e-04 2.0079904e-04 5.2858595e-06\n",
      " 0.0000000e+00 0.0000000e+00 0.0000000e+00 0.0000000e+00 0.0000000e+00\n",
      " 0.0000000e+00 0.0000000e+00 0.0000000e+00 0.0000000e+00 0.0000000e+00\n",
      " 0.0000000e+00 6.5892702e-05 1.1688364e-04 1.6787458e-04 2.1886551e-04\n",
      " 2.4436097e-04 2.4436097e-04 2.4436097e-04 2.4436097e-04 2.4436097e-04\n",
      " 2.4436097e-04 2.4436097e-04 2.4436097e-04 2.4436097e-04 2.4436097e-04\n",
      " 2.4436097e-04 2.4436097e-04 2.4436097e-04 2.4436097e-04 2.4436097e-04\n",
      " 2.4436097e-04 2.4436097e-04 2.4436097e-04 2.4436097e-04 2.4436097e-04\n",
      " 2.4436097e-04 2.4436097e-04 2.4436097e-04 2.4436097e-04 2.4436097e-04\n",
      " 2.4436097e-04 2.4436097e-04 2.4436097e-04 2.4161246e-04 2.3611546e-04\n",
      " 2.3061845e-04 2.2512145e-04 2.2237294e-04 2.2237294e-04]\n",
      "\n",
      "row 45:\n",
      " [2.0064545e-04 2.0064545e-04 2.0610989e-04 2.1703876e-04 2.2796766e-04\n",
      " 2.3889652e-04 2.4436097e-04 2.4436097e-04 2.4436097e-04 2.4436097e-04\n",
      " 2.4228659e-04 2.3813783e-04 2.3398908e-04 2.2984033e-04 1.6466927e-04\n",
      " 3.8475890e-05 0.0000000e+00 0.0000000e+00 0.0000000e+00 0.0000000e+00\n",
      " 0.0000000e+00 0.0000000e+00 0.0000000e+00 0.0000000e+00 3.3656484e-05\n",
      " 1.2880086e-04 1.8487155e-04 2.0186852e-04 2.1886551e-04 2.3586248e-04\n",
      " 2.4436097e-04 2.4436097e-04 2.4436097e-04 2.4436097e-04 2.4436097e-04\n",
      " 2.4436097e-04 2.4436097e-04 2.4436097e-04 2.4436097e-04 2.4436097e-04\n",
      " 2.4436097e-04 2.4436097e-04 2.4436097e-04 2.4436097e-04 2.4436097e-04\n",
      " 2.4436097e-04 2.4436097e-04 2.4436097e-04 2.4436097e-04 2.4436097e-04\n",
      " 2.4436097e-04 2.4436097e-04 2.4436097e-04 2.4436097e-04 2.4436097e-04\n",
      " 2.4436097e-04 2.4436097e-04 2.4436097e-04 2.4161246e-04 2.3611546e-04\n",
      " 2.3061845e-04 2.2512145e-04 2.2237294e-04 2.2237294e-04]\n",
      "\n",
      "row 46:\n",
      " [0.00020065 0.00020065 0.00020611 0.00021704 0.00022797 0.0002389\n",
      " 0.00024436 0.00024436 0.00024436 0.00024436 0.00024436 0.00024436\n",
      " 0.00024436 0.00024436 0.00024436 0.00024436 0.00024436 0.00024436\n",
      " 0.00024436 0.00024436 0.00024436 0.00024436 0.00024436 0.00024436\n",
      " 0.00024436 0.00024436 0.00024436 0.00024436 0.00024436 0.00024436\n",
      " 0.00024436 0.00024436 0.00024436 0.00024436 0.00024436 0.00024436\n",
      " 0.00024436 0.00024436 0.00024436 0.00024436 0.00024436 0.00024436\n",
      " 0.00024436 0.00024436 0.00024436 0.00024436 0.00024436 0.00024436\n",
      " 0.00024436 0.00024436 0.00024436 0.00024436 0.00024436 0.00024436\n",
      " 0.00024436 0.00024436 0.00024436 0.00024436 0.00024161 0.00023612\n",
      " 0.00023062 0.00022512 0.00022237 0.00022237]\n",
      "\n",
      "row 47:\n",
      " [0.00020065 0.00020065 0.00020611 0.00021704 0.00022797 0.0002389\n",
      " 0.00024436 0.00024436 0.00024436 0.00024436 0.00024436 0.00024436\n",
      " 0.00024436 0.00024436 0.00024436 0.00024436 0.00024436 0.00024436\n",
      " 0.00024436 0.00024436 0.00024436 0.00024436 0.00024436 0.00024436\n",
      " 0.00024436 0.00024436 0.00024436 0.00024436 0.00024436 0.00024436\n",
      " 0.00024436 0.00024436 0.00024436 0.00024436 0.00024436 0.00024436\n",
      " 0.00024436 0.00024436 0.00024436 0.00024436 0.00024436 0.00024436\n",
      " 0.00024436 0.00024436 0.00024436 0.00024436 0.00024436 0.00024436\n",
      " 0.00024436 0.00024436 0.00024436 0.00024436 0.00024436 0.00024436\n",
      " 0.00024436 0.00024436 0.00024436 0.00024436 0.00024161 0.00023612\n",
      " 0.00023062 0.00022512 0.00022237 0.00022237]\n",
      "\n",
      "row 48:\n",
      " [0.00020065 0.00020065 0.00020611 0.00021704 0.00022797 0.0002389\n",
      " 0.00024436 0.00024436 0.00024436 0.00024436 0.00024436 0.00024436\n",
      " 0.00024436 0.00024436 0.00024436 0.00024436 0.00024436 0.00024436\n",
      " 0.00024436 0.00024436 0.00024436 0.00024436 0.00024436 0.00024436\n",
      " 0.00024436 0.00024436 0.00024436 0.00024436 0.00024436 0.00024436\n",
      " 0.00024436 0.00024436 0.00024436 0.00024436 0.00024436 0.00024436\n",
      " 0.00024436 0.00024436 0.00024436 0.00024436 0.00024436 0.00024436\n",
      " 0.00024436 0.00024436 0.00024436 0.00024436 0.00024436 0.00024436\n",
      " 0.00024436 0.00024436 0.00024436 0.00024436 0.00024436 0.00024436\n",
      " 0.00024436 0.00024436 0.00024436 0.00024436 0.00024161 0.00023612\n",
      " 0.00023062 0.00022512 0.00022237 0.00022237]\n",
      "\n",
      "row 49:\n",
      " [0.00020065 0.00020065 0.00020611 0.00021704 0.00022797 0.0002389\n",
      " 0.00024436 0.00024436 0.00024436 0.00024436 0.00024436 0.00024436\n",
      " 0.00024436 0.00024436 0.00024436 0.00024436 0.00024436 0.00024436\n",
      " 0.00024436 0.00024436 0.00024436 0.00024436 0.00024436 0.00024436\n",
      " 0.00024436 0.00024436 0.00024436 0.00024436 0.00024436 0.00024436\n",
      " 0.00024436 0.00024436 0.00024436 0.00024436 0.00024436 0.00024436\n",
      " 0.00024436 0.00024436 0.00024436 0.00024436 0.00024436 0.00024436\n",
      " 0.00024436 0.00024436 0.00024436 0.00024436 0.00024436 0.00024436\n",
      " 0.00024436 0.00024436 0.00024436 0.00024436 0.00024436 0.00024436\n",
      " 0.00024436 0.00024436 0.00024436 0.00024436 0.00024161 0.00023612\n",
      " 0.00023062 0.00022512 0.00022237 0.00022237]\n",
      "\n",
      "row 50:\n",
      " [0.00020065 0.00020065 0.00020611 0.00021704 0.00022797 0.0002389\n",
      " 0.00024436 0.00024436 0.00024436 0.00024436 0.00024436 0.00024436\n",
      " 0.00024436 0.00024436 0.00024436 0.00024436 0.00024436 0.00024436\n",
      " 0.00024436 0.00024436 0.00024436 0.00024436 0.00024436 0.00024436\n",
      " 0.00024436 0.00024436 0.00024436 0.00024436 0.00024436 0.00024436\n",
      " 0.00024436 0.00024436 0.00024436 0.00024436 0.00024436 0.00024436\n",
      " 0.00024436 0.00024436 0.00024436 0.00024436 0.00024436 0.00024436\n",
      " 0.00024436 0.00024436 0.00024436 0.00024436 0.00024436 0.00024436\n",
      " 0.00024436 0.00024436 0.00024436 0.00024436 0.00024436 0.00024436\n",
      " 0.00024436 0.00024436 0.00024436 0.00024436 0.00024161 0.00023612\n",
      " 0.00023062 0.00022512 0.00022237 0.00022237]\n",
      "\n",
      "row 51:\n",
      " [0.00020065 0.00020065 0.00020611 0.00021704 0.00022797 0.0002389\n",
      " 0.00024436 0.00024436 0.00024436 0.00024436 0.00024436 0.00024436\n",
      " 0.00024436 0.00024436 0.00024436 0.00024436 0.00024436 0.00024436\n",
      " 0.00024436 0.00024436 0.00024436 0.00024436 0.00024436 0.00024436\n",
      " 0.00024436 0.00024436 0.00024436 0.00024436 0.00024436 0.00024436\n",
      " 0.00024436 0.00024436 0.00024436 0.00024436 0.00024436 0.00024436\n",
      " 0.00024436 0.00024436 0.00024436 0.00024436 0.00024436 0.00024436\n",
      " 0.00024436 0.00024436 0.00024436 0.00024436 0.00024436 0.00024436\n",
      " 0.00024436 0.00024436 0.00024436 0.00024436 0.00024436 0.00024436\n",
      " 0.00024436 0.00024436 0.00024436 0.00024436 0.00024161 0.00023612\n",
      " 0.00023062 0.00022512 0.00022237 0.00022237]\n",
      "\n",
      "row 52:\n",
      " [0.00020065 0.00020065 0.00020611 0.00021704 0.00022797 0.0002389\n",
      " 0.00024436 0.00024436 0.00024436 0.00024436 0.00024436 0.00024436\n",
      " 0.00024436 0.00024436 0.00024436 0.00024436 0.00024436 0.00024436\n",
      " 0.00024436 0.00024436 0.00024436 0.00024436 0.00024436 0.00024436\n",
      " 0.00024436 0.00024436 0.00024436 0.00024436 0.00024436 0.00024436\n",
      " 0.00024436 0.00024436 0.00024436 0.00024436 0.00024436 0.00024436\n",
      " 0.00024436 0.00024436 0.00024436 0.00024436 0.00024436 0.00024436\n",
      " 0.00024436 0.00024436 0.00024436 0.00024436 0.00024436 0.00024436\n",
      " 0.00024436 0.00024436 0.00024436 0.00024436 0.00024436 0.00024436\n",
      " 0.00024436 0.00024436 0.00024436 0.00024436 0.00024161 0.00023612\n",
      " 0.00023062 0.00022512 0.00022237 0.00022237]\n",
      "\n",
      "row 53:\n",
      " [0.00020065 0.00020065 0.00020611 0.00021704 0.00022797 0.0002389\n",
      " 0.00024436 0.00024436 0.00024436 0.00024436 0.00024436 0.00024436\n",
      " 0.00024436 0.00024436 0.00024436 0.00024436 0.00024436 0.00024436\n",
      " 0.00024436 0.00024436 0.00024436 0.00024436 0.00024436 0.00024436\n",
      " 0.00024436 0.00024436 0.00024436 0.00024436 0.00024436 0.00024436\n",
      " 0.00024436 0.00024436 0.00024436 0.00024436 0.00024436 0.00024436\n",
      " 0.00024436 0.00024436 0.00024436 0.00024436 0.00024436 0.00024436\n",
      " 0.00024436 0.00024436 0.00024436 0.00024436 0.00024436 0.00024436\n",
      " 0.00024436 0.00024436 0.00024436 0.00024436 0.00024436 0.00024436\n",
      " 0.00024436 0.00024436 0.00024436 0.00024436 0.00024161 0.00023612\n",
      " 0.00023062 0.00022512 0.00022237 0.00022237]\n",
      "\n",
      "row 54:\n",
      " [0.00020065 0.00020065 0.00020611 0.00021704 0.00022797 0.0002389\n",
      " 0.00024436 0.00024436 0.00024436 0.00024436 0.00024436 0.00024436\n",
      " 0.00024436 0.00024436 0.00024436 0.00024436 0.00024436 0.00024436\n",
      " 0.00024436 0.00024436 0.00024436 0.00024436 0.00024436 0.00024436\n",
      " 0.00024436 0.00024436 0.00024436 0.00024436 0.00024436 0.00024436\n",
      " 0.00024436 0.00024436 0.00024436 0.00024436 0.00024436 0.00024436\n",
      " 0.00024436 0.00024436 0.00024436 0.00024436 0.00024436 0.00024436\n",
      " 0.00024436 0.00024436 0.00024436 0.00024436 0.00024436 0.00024436\n",
      " 0.00024436 0.00024436 0.00024436 0.00024436 0.00024436 0.00024436\n",
      " 0.00024436 0.00024436 0.00024436 0.00024436 0.00024161 0.00023612\n",
      " 0.00023062 0.00022512 0.00022237 0.00022237]\n",
      "\n",
      "row 55:\n",
      " [0.00020065 0.00020065 0.00020611 0.00021704 0.00022797 0.0002389\n",
      " 0.00024436 0.00024436 0.00024436 0.00024436 0.00024436 0.00024436\n",
      " 0.00024436 0.00024436 0.00024436 0.00024436 0.00024436 0.00024436\n",
      " 0.00024436 0.00024436 0.00024436 0.00024436 0.00024436 0.00024436\n",
      " 0.00024436 0.00024436 0.00024436 0.00024436 0.00024436 0.00024436\n",
      " 0.00024436 0.00024436 0.00024436 0.00024436 0.00024436 0.00024436\n",
      " 0.00024436 0.00024436 0.00024436 0.00024436 0.00024436 0.00024436\n",
      " 0.00024436 0.00024436 0.00024436 0.00024436 0.00024436 0.00024436\n",
      " 0.00024436 0.00024436 0.00024436 0.00024436 0.00024436 0.00024436\n",
      " 0.00024436 0.00024436 0.00024436 0.00024436 0.00024161 0.00023612\n",
      " 0.00023062 0.00022512 0.00022237 0.00022237]\n",
      "\n",
      "row 56:\n",
      " [0.00020065 0.00020065 0.00020611 0.00021704 0.00022797 0.0002389\n",
      " 0.00024436 0.00024436 0.00024436 0.00024436 0.00024436 0.00024436\n",
      " 0.00024436 0.00024436 0.00024436 0.00024436 0.00024436 0.00024436\n",
      " 0.00024436 0.00024436 0.00024436 0.00024436 0.00024436 0.00024436\n",
      " 0.00024436 0.00024436 0.00024436 0.00024436 0.00024436 0.00024436\n",
      " 0.00024436 0.00024436 0.00024436 0.00024436 0.00024436 0.00024436\n",
      " 0.00024436 0.00024436 0.00024436 0.00024436 0.00024436 0.00024436\n",
      " 0.00024436 0.00024436 0.00024436 0.00024436 0.00024436 0.00024436\n",
      " 0.00024436 0.00024436 0.00024436 0.00024436 0.00024436 0.00024436\n",
      " 0.00024436 0.00024436 0.00024436 0.00024436 0.00024161 0.00023612\n",
      " 0.00023062 0.00022512 0.00022237 0.00022237]\n",
      "\n",
      "row 57:\n",
      " [0.00020065 0.00020065 0.00020611 0.00021704 0.00022797 0.0002389\n",
      " 0.00024436 0.00024436 0.00024436 0.00024436 0.00024436 0.00024436\n",
      " 0.00024436 0.00024436 0.00024436 0.00024436 0.00024436 0.00024436\n",
      " 0.00024436 0.00024436 0.00024436 0.00024436 0.00024436 0.00024436\n",
      " 0.00024436 0.00024436 0.00024436 0.00024436 0.00024436 0.00024436\n",
      " 0.00024436 0.00024436 0.00024436 0.00024436 0.00024436 0.00024436\n",
      " 0.00024436 0.00024436 0.00024436 0.00024436 0.00024436 0.00024436\n",
      " 0.00024436 0.00024436 0.00024436 0.00024436 0.00024436 0.00024436\n",
      " 0.00024436 0.00024436 0.00024436 0.00024436 0.00024436 0.00024436\n",
      " 0.00024436 0.00024436 0.00024436 0.00024436 0.00024161 0.00023612\n",
      " 0.00023062 0.00022512 0.00022237 0.00022237]\n",
      "\n",
      "row 58:\n",
      " [0.00019939 0.00019939 0.00020457 0.00021495 0.00022532 0.00023569\n",
      " 0.00024088 0.00024088 0.00024088 0.00024088 0.00024088 0.00024088\n",
      " 0.00024088 0.00024088 0.00024088 0.00024088 0.00024088 0.00024088\n",
      " 0.00024088 0.00024088 0.00024088 0.00024088 0.00024088 0.00024088\n",
      " 0.00024088 0.00024088 0.00024088 0.00024088 0.00024088 0.00024088\n",
      " 0.00024088 0.00024088 0.00024088 0.00024088 0.00024088 0.00024088\n",
      " 0.00024088 0.00024088 0.00024088 0.00024088 0.00024088 0.00024088\n",
      " 0.00024088 0.00024088 0.00024088 0.00024088 0.00024088 0.00024088\n",
      " 0.00024088 0.00024088 0.00024088 0.00024088 0.00024088 0.00024088\n",
      " 0.00024088 0.00024088 0.00024088 0.00024088 0.00023819 0.0002328\n",
      " 0.00022741 0.00022203 0.00021933 0.00021933]\n",
      "\n",
      "row 59:\n",
      " [0.00019687 0.00019687 0.0002015  0.00021076 0.00022003 0.00022929\n",
      " 0.00023392 0.00023392 0.00023392 0.00023392 0.00023392 0.00023392\n",
      " 0.00023392 0.00023392 0.00023392 0.00023392 0.00023392 0.00023392\n",
      " 0.00023392 0.00023392 0.00023392 0.00023392 0.00023392 0.00023392\n",
      " 0.00023392 0.00023392 0.00023392 0.00023392 0.00023392 0.00023392\n",
      " 0.00023392 0.00023392 0.00023392 0.00023392 0.00023392 0.00023392\n",
      " 0.00023392 0.00023392 0.00023392 0.00023392 0.00023392 0.00023392\n",
      " 0.00023392 0.00023392 0.00023392 0.00023392 0.00023392 0.00023392\n",
      " 0.00023392 0.00023392 0.00023392 0.00023392 0.00023392 0.00023392\n",
      " 0.00023392 0.00023392 0.00023392 0.00023392 0.00023134 0.00022617\n",
      " 0.00022101 0.00021584 0.00021326 0.00021326]\n",
      "\n",
      "row 60:\n",
      " [0.00019435 0.00019435 0.00019843 0.00020658 0.00021473 0.00022289\n",
      " 0.00022696 0.00022696 0.00022696 0.00022696 0.00022696 0.00022696\n",
      " 0.00022696 0.00022696 0.00022696 0.00022696 0.00022696 0.00022696\n",
      " 0.00022696 0.00022696 0.00022696 0.00022696 0.00022696 0.00022696\n",
      " 0.00022696 0.00022696 0.00022696 0.00022696 0.00022696 0.00022696\n",
      " 0.00022696 0.00022696 0.00022696 0.00022696 0.00022696 0.00022696\n",
      " 0.00022696 0.00022696 0.00022696 0.00022696 0.00022696 0.00022696\n",
      " 0.00022696 0.00022696 0.00022696 0.00022696 0.00022696 0.00022696\n",
      " 0.00022696 0.00022696 0.00022696 0.00022696 0.00022696 0.00022696\n",
      " 0.00022696 0.00022696 0.00022696 0.00022696 0.00022449 0.00021955\n",
      " 0.0002146  0.00020966 0.00020718 0.00020718]\n",
      "\n",
      "row 61:\n",
      " [0.00019184 0.00019184 0.00019536 0.0002024  0.00020944 0.00021648\n",
      " 0.00022    0.00022    0.00022    0.00022    0.00022    0.00022\n",
      " 0.00022    0.00022    0.00022    0.00022    0.00022    0.00022\n",
      " 0.00022    0.00022    0.00022    0.00022    0.00022    0.00022\n",
      " 0.00022    0.00022    0.00022    0.00022    0.00022    0.00022\n",
      " 0.00022    0.00022    0.00022    0.00022    0.00022    0.00022\n",
      " 0.00022    0.00022    0.00022    0.00022    0.00022    0.00022\n",
      " 0.00022    0.00022    0.00022    0.00022    0.00022    0.00022\n",
      " 0.00022    0.00022    0.00022    0.00022    0.00022    0.00022\n",
      " 0.00022    0.00022    0.00022    0.00022    0.00021764 0.00021292\n",
      " 0.00020819 0.00020347 0.00020111 0.00020111]\n",
      "\n",
      "row 62:\n",
      " [0.00019058 0.00019058 0.00019382 0.00020031 0.00020679 0.00021328\n",
      " 0.00021652 0.00021652 0.00021652 0.00021652 0.00021652 0.00021652\n",
      " 0.00021652 0.00021652 0.00021652 0.00021652 0.00021652 0.00021652\n",
      " 0.00021652 0.00021652 0.00021652 0.00021652 0.00021652 0.00021652\n",
      " 0.00021652 0.00021652 0.00021652 0.00021652 0.00021652 0.00021652\n",
      " 0.00021652 0.00021652 0.00021652 0.00021652 0.00021652 0.00021652\n",
      " 0.00021652 0.00021652 0.00021652 0.00021652 0.00021652 0.00021652\n",
      " 0.00021652 0.00021652 0.00021652 0.00021652 0.00021652 0.00021652\n",
      " 0.00021652 0.00021652 0.00021652 0.00021652 0.00021652 0.00021652\n",
      " 0.00021652 0.00021652 0.00021652 0.00021652 0.00021422 0.0002096\n",
      " 0.00020499 0.00020038 0.00019807 0.00019807]\n",
      "\n",
      "row 63:\n",
      " [0.00019058 0.00019058 0.00019382 0.00020031 0.00020679 0.00021328\n",
      " 0.00021652 0.00021652 0.00021652 0.00021652 0.00021652 0.00021652\n",
      " 0.00021652 0.00021652 0.00021652 0.00021652 0.00021652 0.00021652\n",
      " 0.00021652 0.00021652 0.00021652 0.00021652 0.00021652 0.00021652\n",
      " 0.00021652 0.00021652 0.00021652 0.00021652 0.00021652 0.00021652\n",
      " 0.00021652 0.00021652 0.00021652 0.00021652 0.00021652 0.00021652\n",
      " 0.00021652 0.00021652 0.00021652 0.00021652 0.00021652 0.00021652\n",
      " 0.00021652 0.00021652 0.00021652 0.00021652 0.00021652 0.00021652\n",
      " 0.00021652 0.00021652 0.00021652 0.00021652 0.00021652 0.00021652\n",
      " 0.00021652 0.00021652 0.00021652 0.00021652 0.00021422 0.0002096\n",
      " 0.00020499 0.00020038 0.00019807 0.00019807]\n",
      "\n"
     ]
    }
   ],
   "source": [
    "## now looking at importnat scores for when we apply relu\n",
    "\n",
    "for i in range(64):\n",
    "    \n",
    "    print(f'row {i}:\\n {heatmap_relu[i,:]}\\n')"
   ]
  },
  {
   "cell_type": "code",
   "execution_count": 36,
   "id": "21446497",
   "metadata": {},
   "outputs": [
    {
     "name": "stdout",
     "output_type": "stream",
     "text": [
      "[18, 19, 20, 21, 22, 23, 24, 25, 26, 27, 28, 29, 30, 31, 32, 33, 34, 35, 36, 37, 38, 39, 40, 41, 42, 43, 44, 45]\n"
     ]
    }
   ],
   "source": [
    "diff_rows = [i for i in range(64) if any(heatmap_abs[i,:]!= heatmap_relu[i,:])]\n",
    "\n",
    "print(diff_rows)"
   ]
  },
  {
   "cell_type": "code",
   "execution_count": 23,
   "id": "f29e14d8",
   "metadata": {},
   "outputs": [
    {
     "data": {
      "text/plain": [
       "<matplotlib.image.AxesImage at 0x7f5320594d00>"
      ]
     },
     "execution_count": 23,
     "metadata": {},
     "output_type": "execute_result"
    },
    {
     "data": {
      "image/png": "[encoded data removed]",
      "text/plain": [
       "<Figure size 300x300 with 1 Axes>"
      ]
     },
     "metadata": {},
     "output_type": "display_data"
    }
   ],
   "source": [
    "plt.figure(figsize=(3,3))\n",
    "\n",
    "plt.imshow(heatmap_relu)"
   ]
  },
  {
   "cell_type": "code",
   "execution_count": null,
   "id": "9d67a2bb",
   "metadata": {},
   "outputs": [],
   "source": [
    "# importnat feature mask => it gievs a binary mask\n",
    "\n",
    "important_features_mask = heatmap > 0  \n"
   ]
  },
  {
   "cell_type": "markdown",
   "id": "0e09107f",
   "metadata": {},
   "source": [
    "- positive_scores: This extracts the values from the heatmap where the corresponding important_features_mask is True (i.e., where the heatmap has positive scores)."
   ]
  },
  {
   "cell_type": "code",
   "execution_count": null,
   "id": "13f822a3",
   "metadata": {},
   "outputs": [],
   "source": [
    "positive_scores = heatmap[important_features_mask]"
   ]
  },
  {
   "cell_type": "code",
   "execution_count": 50,
   "id": "b9bf0286",
   "metadata": {},
   "outputs": [
    {
     "name": "stdout",
     "output_type": "stream",
     "text": [
      "[[ True False  True]\n",
      " [False  True False]\n",
      " [ True False  True]]\n",
      "\n",
      "\n",
      "[0.2 0.4 0.3 0.5 0.1]\n"
     ]
    }
   ],
   "source": [
    "heatmap = np.array([[ 0.2, -0.5,  0.4],\n",
    "           [-0.1,  0.3, -0.2],\n",
    "           [ 0.5, -0.4,  0.1]])\n",
    "\n",
    "important_features_mask = heatmap > 0\n",
    "\n",
    "print(important_features_mask)\n",
    "\n",
    "print('\\n')\n",
    "positive_scores = heatmap[important_features_mask]\n",
    "\n",
    "print(positive_scores)"
   ]
  },
  {
   "cell_type": "markdown",
   "id": "3388e15d",
   "metadata": {},
   "source": [
    "- positive_indices = `np.nonzero(important_features_mask)`: This returns the row and column indices of the elements where the important_features_mask is True (i.e., where you have positive scores in the heatmap). For a 2D heatmap, it gives you two arrays:\n",
    "\n",
    " - One array for the row indices.\n",
    " - One array for the column indices."
   ]
  },
  {
   "cell_type": "code",
   "execution_count": 51,
   "id": "55b33b02",
   "metadata": {},
   "outputs": [
    {
     "name": "stdout",
     "output_type": "stream",
     "text": [
      "(array([0, 0, 1, 2, 2]), array([0, 2, 1, 0, 2]))\n"
     ]
    }
   ],
   "source": [
    "positive_indices = np.nonzero(important_features_mask)\n",
    "\n",
    "print(positive_indices)"
   ]
  },
  {
   "cell_type": "markdown",
   "id": "69e6396c",
   "metadata": {},
   "source": [
    "- This means that:\n",
    "\n",
    " - The first positive score (0.2) is at position (0, 0) in the heatmap.\n",
    " - The second positive score (0.4) is at position (0, 2), and so on."
   ]
  },
  {
   "cell_type": "code",
   "execution_count": 55,
   "id": "1d61b3f2",
   "metadata": {},
   "outputs": [
    {
     "name": "stdout",
     "output_type": "stream",
     "text": [
      "[4 0 2 1 3]\n"
     ]
    }
   ],
   "source": [
    "sorted_positive_indices = np.argsort(positive_scores)\n",
    "\n",
    "print(sorted_positive_indices)"
   ]
  },
  {
   "cell_type": "markdown",
   "id": "ebc1dfb2",
   "metadata": {},
   "source": [
    "- What it does: `np.argsort(positive_scores)` sorts the positive scores in **ascending order** and returns the **indices** of those sorted values. It doesn’t return the sorted scores themselves but rather the indices that would sort the positive_scores array."
   ]
  },
  {
   "cell_type": "markdown",
   "id": "97ff67a3",
   "metadata": {},
   "source": [
    "- This means that:\n",
    "\n",
    "  - The smallest score (0.1) is at index 4.\n",
    "  - The second smallest score (0.2) is at index 0, and so on.\n",
    "  - You can now use these indices to identify the most important features (those with the highest positive scores)."
   ]
  },
  {
   "cell_type": "markdown",
   "id": "69cfb0ef",
   "metadata": {},
   "source": [
    "- I checked the code, it works properly. "
   ]
  },
  {
   "cell_type": "code",
   "execution_count": 56,
   "id": "7db0f53e",
   "metadata": {},
   "outputs": [],
   "source": [
    "l =[3,2,1,4,5,6,7,8,9,10]"
   ]
  },
  {
   "cell_type": "code",
   "execution_count": 57,
   "id": "519159f1",
   "metadata": {},
   "outputs": [
    {
     "data": {
      "text/plain": [
       "10"
      ]
     },
     "execution_count": 57,
     "metadata": {},
     "output_type": "execute_result"
    }
   ],
   "source": [
    "len(l)"
   ]
  },
  {
   "cell_type": "code",
   "execution_count": 58,
   "id": "c938a2f1",
   "metadata": {},
   "outputs": [],
   "source": [
    "idx = len(l)//2"
   ]
  },
  {
   "cell_type": "code",
   "execution_count": 59,
   "id": "d26f8074",
   "metadata": {},
   "outputs": [
    {
     "data": {
      "text/plain": [
       "5"
      ]
     },
     "execution_count": 59,
     "metadata": {},
     "output_type": "execute_result"
    }
   ],
   "source": [
    "idx"
   ]
  },
  {
   "cell_type": "code",
   "execution_count": 60,
   "id": "33f0cf36",
   "metadata": {},
   "outputs": [
    {
     "name": "stdout",
     "output_type": "stream",
     "text": [
      "[3, 2, 1, 4, 5]\n",
      "[6, 7, 8, 9, 10]\n"
     ]
    }
   ],
   "source": [
    "print(l[:idx])\n",
    "\n",
    "print(l[idx:])"
   ]
  },
  {
   "cell_type": "code",
   "execution_count": 67,
   "id": "da750c5a",
   "metadata": {},
   "outputs": [],
   "source": [
    "a = torch.randn((128,64,64))"
   ]
  },
  {
   "cell_type": "code",
   "execution_count": 68,
   "id": "4e13d316",
   "metadata": {},
   "outputs": [
    {
     "data": {
      "text/plain": [
       "torch.Size([128, 64, 64])"
      ]
     },
     "execution_count": 68,
     "metadata": {},
     "output_type": "execute_result"
    }
   ],
   "source": [
    "a.shape"
   ]
  },
  {
   "cell_type": "code",
   "execution_count": 70,
   "id": "72c33848",
   "metadata": {},
   "outputs": [],
   "source": [
    "b = a.unsqueeze(1)"
   ]
  },
  {
   "cell_type": "code",
   "execution_count": 71,
   "id": "e872b6b9",
   "metadata": {},
   "outputs": [
    {
     "data": {
      "text/plain": [
       "torch.Size([128, 1, 64, 64])"
      ]
     },
     "execution_count": 71,
     "metadata": {},
     "output_type": "execute_result"
    }
   ],
   "source": [
    "b.shape"
   ]
  },
  {
   "cell_type": "markdown",
   "id": "4a0c314d",
   "metadata": {},
   "source": [
    "### Looking at drop in test statistic:\n"
   ]
  },
  {
   "cell_type": "code",
   "execution_count": 74,
   "id": "8f88b052",
   "metadata": {},
   "outputs": [],
   "source": [
    "dic = {}\n",
    "\n",
    "dic[1] = 8.59360470967806e-08\n",
    "\n",
    "dic[5] = 3.1538229427783095e-08\n",
    "\n",
    "dic[10] = 1.7592047869270422e-08\n",
    "\n",
    "dic[20] = 1.6012634603828e-08\n",
    "\n",
    "dic[50] = 4.591604016524322e-08\n",
    "\n",
    "dic[100] = 2.1348311780063905e-08\n",
    "\n"
   ]
  },
  {
   "cell_type": "code",
   "execution_count": 73,
   "id": "1b319e9b",
   "metadata": {},
   "outputs": [
    {
     "name": "stdout",
     "output_type": "stream",
     "text": [
      "{1: 8.59360470967806e-08, 5: 3.1538229427783095e-08, 10: 1.7592047869270422e-08, 20: 1.6012634603828e-08, 50: 4.591604016524322e-08, 100: 2.1348311780063905e-08}\n"
     ]
    }
   ],
   "source": [
    "print(dic)"
   ]
  },
  {
   "cell_type": "code",
   "execution_count": 80,
   "id": "61a3979f",
   "metadata": {},
   "outputs": [
    {
     "data": {
      "image/png": "[encoded data removed]",
      "text/plain": [
       "<Figure size 600x400 with 1 Axes>"
      ]
     },
     "metadata": {},
     "output_type": "display_data"
    }
   ],
   "source": [
    "import matplotlib.pyplot as plt\n",
    "\n",
    "# Your dictionary of percentage masked vs test-statistic\n",
    "data = {1: 8.59360470967806e-08, \n",
    "        5: 3.1538229427783095e-08, \n",
    "        10: 1.7592047869270422e-08, \n",
    "        20: 1.6012634603828e-08, \n",
    "        40: 1.726525159253859e-08,\n",
    "        50: 4.591604016524322e-08, \n",
    "        100: 2.1348311780063905e-08}\n",
    "\n",
    "# Extracting the keys (percentages) and values (test-statistics)\n",
    "percentages = list(data.keys())\n",
    "test_statistics = list(data.values())\n",
    "\n",
    "# Create the plot\n",
    "plt.figure(figsize=(6, 4))\n",
    "plt.plot(percentages, test_statistics, marker='o', linestyle='-', color='b')\n",
    "\n",
    "# Adding labels and title\n",
    "plt.xlabel('Percentage of Test Set Masked (%)', fontsize=12)\n",
    "plt.ylabel('Test Statistic', fontsize=12)\n",
    "plt.title('Effect of Masking Important Features on Test Statistic', fontsize=14)\n",
    "\n",
    "plt.xticks(ticks=percentages)\n",
    "\n",
    "# Optional: Add grid and improve layout\n",
    "plt.grid(True)\n",
    "plt.tight_layout()\n",
    "\n",
    "# Show the plot\n",
    "plt.show()\n"
   ]
  },
  {
   "cell_type": "code",
   "execution_count": 10,
   "id": "6b5a8d82",
   "metadata": {},
   "outputs": [
    {
     "data": {
      "image/png": "[encoded data removed]",
      "text/plain": [
       "<Figure size 600x400 with 1 Axes>"
      ]
     },
     "metadata": {},
     "output_type": "display_data"
    }
   ],
   "source": [
    "import matplotlib.pyplot as plt\n",
    "\n",
    "# Your dictionary of percentage masked vs test-statistic\n",
    "data = {1: 8.59360470967806e-08, \n",
    "        5: 3.1538229427783095e-08, \n",
    "        10: 1.7592047869270422e-08, \n",
    "        20: 1.6012634603828e-08, \n",
    "        40: 1.726525159253859e-08,\n",
    "        50: 4.591604016524322e-08,\n",
    "        60: 1.1682265268440082e-07,\n",
    "        100: 2.1348311780063905e-08}\n",
    "\n",
    "# Extracting the keys (percentages) and values (test-statistics)\n",
    "percentages = list(data.keys())\n",
    "test_statistics = list(data.values())\n",
    "\n",
    "# Create the plot\n",
    "plt.figure(figsize=(6, 4))\n",
    "plt.plot(percentages, test_statistics, marker='o', linestyle='-', color='b')\n",
    "\n",
    "# Adding labels and title\n",
    "plt.xlabel('Percentage of Test Set Masked (%)', fontsize=12)\n",
    "plt.ylabel('Test Statistic', fontsize=12)\n",
    "plt.title('Effect of Masking Important Features on Test Statistic', fontsize=14)\n",
    "\n",
    "plt.xticks(ticks=percentages)\n",
    "\n",
    "# Optional: Add grid and improve layout\n",
    "plt.grid(True)\n",
    "plt.tight_layout()\n",
    "\n",
    "# Show the plot\n",
    "plt.show()\n"
   ]
  },
  {
   "cell_type": "code",
   "execution_count": 13,
   "id": "4db356f0",
   "metadata": {},
   "outputs": [
    {
     "data": {
      "image/png": "[encoded data removed]",
      "text/plain": [
       "<Figure size 600x400 with 1 Axes>"
      ]
     },
     "metadata": {},
     "output_type": "display_data"
    }
   ],
   "source": [
    "import matplotlib.pyplot as plt\n",
    "\n",
    "# Your dictionary of percentage masked vs test-statistic\n",
    "data = {1: 8.59360470967806e-08, \n",
    "        5: 3.1538229427783095e-08, \n",
    "        10: 1.7592047869270422e-08, \n",
    "        20: 1.6012634603828e-08, \n",
    "        40: 1.726525159253859e-08,\n",
    "        50: 4.591604016524322e-08,\n",
    "        60: 1.1682265268440082e-07,\n",
    "        70: 5.471628576751389e-08,\n",
    "        80: 1.7326695481018138e-08,\n",
    "        90: 2.430003055168148e-08,\n",
    "        100: 2.1348311780063905e-08}\n",
    "\n",
    "# Extracting the keys (percentages) and values (test-statistics)\n",
    "percentages = list(data.keys())\n",
    "test_statistics = list(data.values())\n",
    "\n",
    "# Create the plot\n",
    "plt.figure(figsize=(6, 4))\n",
    "plt.plot(percentages, test_statistics, marker='o', linestyle='-', color='b')\n",
    "\n",
    "# Adding labels and title\n",
    "plt.xlabel('Percentage of Test Set Masked (%)', fontsize=12)\n",
    "plt.ylabel('Test Statistic', fontsize=12)\n",
    "plt.title('Effect of Masking Important Features on Test Statistic', fontsize=14)\n",
    "\n",
    "plt.xticks(ticks=percentages)\n",
    "\n",
    "# Optional: Add grid and improve layout\n",
    "plt.grid(True)\n",
    "plt.tight_layout()\n",
    "\n",
    "# Show the plot\n",
    "plt.show()\n"
   ]
  },
  {
   "cell_type": "markdown",
   "id": "fdf64d12",
   "metadata": {},
   "source": [
    "- Note that the test-statistic without masking importnat featuresis: `7.502183318138123e-02`\n",
    "\n",
    "- When I include test-statistic for 0percent of images masked, it will be: `7.502183318138123e-02`"
   ]
  },
  {
   "cell_type": "code",
   "execution_count": 79,
   "id": "21d75986",
   "metadata": {},
   "outputs": [
    {
     "data": {
      "image/png": "[encoded data removed]",
      "text/plain": [
       "<Figure size 600x400 with 1 Axes>"
      ]
     },
     "metadata": {},
     "output_type": "display_data"
    }
   ],
   "source": [
    "import matplotlib.pyplot as plt\n",
    "\n",
    "# Your dictionary of percentage masked vs test-statistic\n",
    "data = {0: 7.502183318138123e-02,\n",
    "        1: 8.59360470967806e-08, \n",
    "        5: 3.1538229427783095e-08, \n",
    "        10: 1.7592047869270422e-08, \n",
    "        20: 1.6012634603828e-08, \n",
    "        50: 4.591604016524322e-08, \n",
    "        100: 2.1348311780063905e-08}\n",
    "\n",
    "# Extracting the keys (percentages) and values (test-statistics)\n",
    "percentages = list(data.keys())\n",
    "test_statistics = list(data.values())\n",
    "\n",
    "# Create the plot\n",
    "plt.figure(figsize=(6, 4))\n",
    "plt.plot(percentages, test_statistics, marker='o', linestyle='-', color='b')\n",
    "\n",
    "# Adding labels and title\n",
    "plt.xlabel('Percentage of Test Set Masked (%)', fontsize=12)\n",
    "plt.ylabel('Test Statistic', fontsize=12)\n",
    "plt.title('Effect of Masking Important Features on Test Statistic', fontsize=14)\n",
    "\n",
    "plt.xticks(ticks=percentages)\n",
    "\n",
    "# Optional: Add grid and improve layout\n",
    "plt.grid(True)\n",
    "plt.tight_layout()\n",
    "\n",
    "# Show the plot\n",
    "plt.show()\n"
   ]
  },
  {
   "cell_type": "code",
   "execution_count": 14,
   "id": "d42fc32f",
   "metadata": {},
   "outputs": [
    {
     "data": {
      "image/png": "[encoded data removed]",
      "text/plain": [
       "<Figure size 600x400 with 1 Axes>"
      ]
     },
     "metadata": {},
     "output_type": "display_data"
    }
   ],
   "source": [
    "import matplotlib.pyplot as plt\n",
    "\n",
    "# Your dictionary of percentage masked vs test-statistic\n",
    "data = {0: 7.502183318138123e-02,\n",
    "        1: 8.59360470967806e-08, \n",
    "        5: 3.1538229427783095e-08, \n",
    "        10: 1.7592047869270422e-08, \n",
    "        20: 1.6012634603828e-08, \n",
    "        40: 1.726525159253859e-08,\n",
    "        50: 4.591604016524322e-08,\n",
    "        60: 1.1682265268440082e-07,\n",
    "        70: 5.471628576751389e-08,\n",
    "        80: 1.7326695481018138e-08,\n",
    "        90: 2.430003055168148e-08,\n",
    "        100: 2.1348311780063905e-08}\n",
    "\n",
    "# Extracting the keys (percentages) and values (test-statistics)\n",
    "percentages = list(data.keys())\n",
    "test_statistics = list(data.values())\n",
    "\n",
    "# Create the plot\n",
    "plt.figure(figsize=(6, 4))\n",
    "plt.plot(percentages, test_statistics, marker='o', linestyle='-', color='b')\n",
    "\n",
    "# Adding labels and title\n",
    "plt.xlabel('Percentage of Test Set Masked (%)', fontsize=12)\n",
    "plt.ylabel('Test Statistic', fontsize=12)\n",
    "plt.title('Effect of Masking Important Features on Test Statistic', fontsize=14)\n",
    "\n",
    "plt.xticks(ticks=percentages)\n",
    "\n",
    "# Optional: Add grid and improve layout\n",
    "plt.grid(True)\n",
    "plt.tight_layout()\n",
    "\n",
    "# Show the plot\n",
    "plt.show()\n"
   ]
  },
  {
   "cell_type": "markdown",
   "id": "c4a47d14",
   "metadata": {},
   "source": [
    "## Changes in test-statistic when we change the percentage of masked pixels:"
   ]
  },
  {
   "cell_type": "code",
   "execution_count": 4,
   "id": "0ee6acf6",
   "metadata": {},
   "outputs": [
    {
     "data": {
      "image/png": "[encoded data removed]",
      "text/plain": [
       "<Figure size 1000x600 with 1 Axes>"
      ]
     },
     "metadata": {},
     "output_type": "display_data"
    }
   ],
   "source": [
    "import numpy as np\n",
    "import matplotlib.pyplot as plt\n",
    "\n",
    "# Your data\n",
    "test_statistics = {\n",
    "    1: 2.4998834374828574e-08,\n",
    "    2: 2.4366422601755807e-08,\n",
    "    3: 2.386348698005862e-08,\n",
    "    4: 2.3693306763907408e-08,\n",
    "    5: 2.354466194678715e-08,\n",
    "    6: 2.3427358658867956e-08,\n",
    "    7: 2.3319271701501228e-08,\n",
    "    8: 2.3238472534454765e-08,\n",
    "    9: 2.3171700371698903e-08,\n",
    "    10: 2.3086430026560356e-08,\n",
    "    11: 2.3027799300438747e-08,\n",
    "    12: 2.2911541216502114e-08,\n",
    "    13: 2.283110914224997e-08,\n",
    "    14: 2.2752644706670877e-08,\n",
    "    15: 2.2693711833749527e-08,\n",
    "    16: 2.2616543246128484e-08,\n",
    "    17: 2.2596794762115798e-08,\n",
    "    18: 2.255694775578569e-08,\n",
    "    19: 2.248969619574793e-08,\n",
    "    20: 2.2443974348639235e-08,\n",
    "    21: 2.242291547386538e-08,\n",
    "    22: 2.239788959173516e-08,\n",
    "    23: 2.2352317775478065e-08,\n",
    "    24: 2.2319430277365334e-08,\n",
    "    25: 2.229856465205704e-08,\n",
    "    26: 2.2280445560866133e-08,\n",
    "    27: 2.2258165270879816e-08,\n",
    "    28: 2.2231283076042227e-08,\n",
    "    29: 2.2219377281993428e-08,\n",
    "    30: 2.2207244810961196e-08,\n",
    "    31: 2.219088402039501e-08,\n",
    "    32: 2.2177398383304367e-08,\n",
    "    33: 2.216571068031833e-08,\n",
    "    34: 2.2160727984060986e-08,\n",
    "    35: 2.2158063554616417e-08,\n",
    "    36: 2.215636100310201e-08,\n",
    "    37: 2.2151864502192767e-08,\n",
    "    38: 2.2152020442562637e-08,\n",
    "    39: 2.2150071227389822e-08,\n",
    "    40: 2.214839063960385e-08,\n",
    "    41: 2.214577459374362e-08,\n",
    "    42: 2.214579624911818e-08,\n",
    "    43: 2.214592618158789e-08,\n",
    "    44: 2.214948214812499e-08,\n",
    "    45: 2.2147745276186152e-08,\n",
    "    46: 2.214844694692518e-08,\n",
    "    47: 2.2146982979832183e-08,\n",
    "    48: 2.2145627337477397e-08,\n",
    "    49: 2.214735979514024e-08,\n",
    "    50: 2.214803980329095e-08\n",
    "}\n",
    "\n",
    "# Extracting percentages and corresponding test statistics\n",
    "percentages = list(test_statistics.keys())\n",
    "stats = list(test_statistics.values())\n",
    "\n",
    "# Calculate the differences between consecutive test statistics\n",
    "differences = np.abs(np.diff(stats))\n",
    "\n",
    "# Find indices of the first three largest differences\n",
    "significant_changes_indices = np.argsort(differences)[-3:] + 1  # +1 because np.diff reduces the array size by 1\n",
    "significant_changes_indices.sort()  # Sort indices for plotting\n",
    "\n",
    "# Plotting\n",
    "plt.figure(figsize=(10, 6))\n",
    "plt.plot(percentages, stats, marker='o', linestyle='-', color='b')\n",
    "plt.xlabel('Percentage of Masked Pixels (%)')\n",
    "plt.ylabel('Test Statistic')\n",
    "plt.title('Test Statistic vs Percentage of Masked Pixels')\n",
    "plt.grid(True)\n",
    "\n",
    "# Setting specific ticks on the horizontal axis\n",
    "plt.xticks([1, 2, 3, 4, 10, 20, 30, 40, 50])\n",
    "\n",
    "# Marking the significant change points\n",
    "for idx in significant_changes_indices:\n",
    "    plt.text(percentages[idx], stats[idx], f'{percentages[idx]}%', \n",
    "             verticalalignment='bottom', horizontalalignment='center', fontsize=10, color='red')\n",
    "\n",
    "plt.show()\n"
   ]
  },
  {
   "cell_type": "markdown",
   "id": "b5fe96ce",
   "metadata": {},
   "source": [
    "- When we do not apply ReLU activation function.\n",
    "\n",
    "- Changes in test-statistic are as follows:"
   ]
  },
  {
   "cell_type": "code",
   "execution_count": 2,
   "id": "8490bb0c",
   "metadata": {},
   "outputs": [
    {
     "data": {
      "image/png": "[encoded data removed]",
      "text/plain": [
       "<Figure size 1000x600 with 1 Axes>"
      ]
     },
     "metadata": {},
     "output_type": "display_data"
    }
   ],
   "source": [
    "import matplotlib.pyplot as plt\n",
    "\n",
    "# Dictionary with test-statistic values\n",
    "test_statistic_data = {\n",
    "    1: 2.3880952268658137e-08, 2: 2.238455890888423e-08, 3: 2.1494925260949504e-08,\n",
    "    4: 2.119955571969264e-08, 5: 2.1054567121009393e-08, 6: 2.0977757192815387e-08,\n",
    "    7: 2.0902791740624375e-08, 8: 2.0876013639657684e-08, 9: 2.0856914345949715e-08,\n",
    "    10: 2.0855064999705267e-08, 11: 2.0855249930640036e-08, 12: 2.0854695140295512e-08,\n",
    "    13: 2.0853467903023474e-08, 14: 2.085364862405309e-08, 15: 2.08505554604833e-08,\n",
    "    16: 2.0850530245418686e-08, 17: 2.08508244221212e-08, 18: 2.084995870804356e-08,\n",
    "    19: 2.0850122603989758e-08, 20: 2.0853278777203138e-08, 21: 2.085291313638232e-08,\n",
    "    22: 2.0854224414881027e-08, 23: 2.085378311462986e-08, 24: 2.085242562027438e-08,\n",
    "    25: 2.0853245154924864e-08, 26: 2.085340486098807e-08, 27: 2.0854199197598033e-08,\n",
    "    28: 2.0854199197598033e-08, 29: 2.0854199197598033e-08, 30: 2.0854199197598033e-08,\n",
    "    31: 2.0854199197598033e-08, 32: 2.0854199197598033e-08, 33: 2.0854199197598033e-08,\n",
    "    34: 2.0854199197598033e-08, 35: 2.0854199197598033e-08, 36: 2.0854199197598033e-08,\n",
    "    37: 2.0854199197598033e-08, 38: 2.0854199197598033e-08, 39: 2.0854199197598033e-08,\n",
    "    40: 2.0854199197598033e-08, 41: 2.0854199197598033e-08, 42: 2.0854199197598033e-08,\n",
    "    43: 2.0854199197598033e-08, 44: 2.0854199197598033e-08, 45: 2.0854199197598033e-08,\n",
    "    46: 2.0854199197598033e-08, 47: 2.0854199197598033e-08, 48: 2.0854199197598033e-08,\n",
    "    49: 2.0854199197598033e-08, 50: 2.0854199197598033e-08\n",
    "}\n",
    "\n",
    "# Extracting keys and values\n",
    "percentages = list(test_statistic_data.keys())\n",
    "values = list(test_statistic_data.values())\n",
    "\n",
    "# Plotting\n",
    "plt.figure(figsize=(10, 6))\n",
    "plt.plot(percentages, values, marker='o')\n",
    "plt.title('Change of Test Statistic as a Function of Masked Features Percentage')\n",
    "plt.xlabel('Percentage of Masked Features')\n",
    "plt.ylabel('Test Statistic')\n",
    "# Set x-ticks to the specified values\n",
    "plt.xticks([1, 2, 3, 4, 10, 20, 30, 40, 50])  # Show all percentage ticks\n",
    "plt.grid(True)\n",
    "plt.tight_layout()\n",
    "\n",
    "# Show plot\n",
    "plt.show()\n"
   ]
  },
  {
   "cell_type": "markdown",
   "id": "19bb61bd",
   "metadata": {},
   "source": [
    "## Looking at the effect of masking importnat features on test-statistic\n",
    "\n",
    "  - When we do not apply ReLU and instead we apply **abs** value on Resulting map"
   ]
  },
  {
   "cell_type": "code",
   "execution_count": 22,
   "id": "bba18723",
   "metadata": {},
   "outputs": [],
   "source": [
    "dic_1 = {1: 2.3880952268658137e-08, 2: 2.238455890888423e-08, 3: 2.1494925260949504e-08, 4: 2.119955571969264e-08, 5: 2.1054567121009393e-08, 6: 2.0977757192815387e-08, 7: 2.0902791740624375e-08, 8: 2.0876013639657684e-08, 9: 2.0856914345949715e-08, 10: 2.0855064999705267e-08, 11: 2.0855249930640036e-08, 12: 2.0854695140295512e-08, 13: 2.0853467903023474e-08, 14: 2.085364862405309e-08, 15: 2.08505554604833e-08, 16: 2.0850530245418686e-08, 17: 2.08508244221212e-08, 18: 2.084995870804356e-08, 19: 2.0850122603989758e-08, 20: 2.0853278777203138e-08, 21: 2.085291313638232e-08, 22: 2.0854224414881027e-08, 23: 2.085378311462986e-08, 24: 2.085242562027438e-08, 25: 2.0853245154924864e-08, 26: 2.085340486098807e-08, 27: 2.0854199197598033e-08, 28: 2.0854199197598033e-08, 29: 2.0854199197598033e-08, 30: 2.0854199197598033e-08, 31: 2.0854199197598033e-08, 32: 2.0854199197598033e-08, 33: 2.0854199197598033e-08, 34: 2.0854199197598033e-08, 35: 2.0854199197598033e-08, 36: 2.0854199197598033e-08, 37: 2.0854199197598033e-08, 38: 2.0854199197598033e-08, 39: 2.0854199197598033e-08, 40: 2.0854199197598033e-08, 41: 2.0854199197598033e-08, 42: 2.0854199197598033e-08, 43: 2.0854199197598033e-08, 44: 2.0854199197598033e-08, 45: 2.0854199197598033e-08, 46: 2.0854199197598033e-08, 47: 2.0854199197598033e-08, 48: 2.0854199197598033e-08, 49: 2.0854199197598033e-08, 50: 2.0854199197598033e-08}\n",
    "\n",
    "dic_5 = {1: 1.858080538238525e-08, 2: 1.2812341529394681e-08, 3: 1.0035119308067503e-08, 4: 9.195205717228033e-09, 5: 8.819742534594799e-09, 6: 8.569758658896817e-09, 7: 8.393011300060576e-09, 8: 8.33271096723037e-09, 9: 8.299194540862171e-09, 10: 8.294437363559701e-09, 11: 8.294805800562486e-09, 12: 8.293457997069928e-09, 13: 8.293362581504526e-09, 14: 8.290822343929623e-09, 15: 8.285023791990233e-09, 16: 8.28292451962177e-09, 17: 8.281478361807298e-09, 18: 8.281040036709011e-09, 19: 8.280393826302625e-09, 20: 8.280385881249623e-09, 21: 8.279922426420791e-09, 22: 8.280938071506396e-09, 23: 8.281104923982979e-09, 24: 8.2808109469382e-09, 25: 8.281312829817863e-09, 26: 8.279526513854278e-09, 27: 8.280373963677267e-09, 28: 8.280373963677267e-09, 29: 8.280373963677267e-09, 30: 8.280373963677267e-09, 31: 8.280373963677267e-09, 32: 8.280373963677267e-09, 33: 8.280373963677267e-09, 34: 8.280373963677267e-09, 35: 8.280373963677267e-09, 36: 8.280373963677267e-09, 37: 8.280373963677267e-09, 38: 8.280373963677267e-09, 39: 8.280373963677267e-09, 40: 8.280373963677267e-09, 41: 8.280373963677267e-09, 42: 8.280373963677267e-09, 43: 8.280373963677267e-09, 44: 8.280373963677267e-09, 45: 8.280373963677267e-09, 46: 8.280373963677267e-09, 47: 8.280373963677267e-09, 48: 8.280373963677267e-09, 49: 8.280373963677267e-09, 50: 8.280373963677267e-09}\n",
    "\n",
    "dic_10 = {1: 1.3291015819894552e-08, 2: 5.361382381308743e-09, 3: 3.1963376642017616e-09, 4: 2.9485815231961555e-09, 5: 2.8458446906356996e-09, 6: 2.7866501637965427e-09, 7: 2.7615349961912394e-09, 8: 2.7863244662045453e-09, 9: 2.785057192117134e-09, 10: 2.783583676529559e-09, 11: 2.783804794178896e-09, 12: 2.782228754986629e-09, 13: 2.781367227180455e-09, 14: 2.7812739829518124e-09, 15: 2.77929281670414e-09, 16: 2.7809961781372647e-09, 17: 2.780845770270663e-09, 18: 2.7810230371128885e-09, 19: 2.7813150409175095e-09, 20: 2.7818073763892737e-09, 21: 2.7814497285213824e-09, 22: 2.7807222239944757e-09, 23: 2.7816753663446782e-09, 24: 2.7820222831619017e-09, 25: 2.7818756851420824e-09, 26: 2.7813902506873967e-09, 27: 2.781303145587855e-09, 28: 2.781303145587855e-09, 29: 2.781303145587855e-09, 30: 2.781303145587855e-09, 31: 2.781303145587855e-09, 32: 2.781303145587855e-09, 33: 2.781303145587855e-09, 34: 2.781303145587855e-09, 35: 2.781303145587855e-09, 36: 2.781303145587855e-09, 37: 2.781303145587855e-09, 38: 2.781303145587855e-09, 39: 2.781303145587855e-09, 40: 2.781303145587855e-09, 41: 2.781303145587855e-09, 42: 2.781303145587855e-09, 43: 2.781303145587855e-09, 44: 2.781303145587855e-09, 45: 2.781303145587855e-09, 46: 2.781303145587855e-09, 47: 2.781303145587855e-09, 48: 2.781303145587855e-09, 49: 2.781303145587855e-09, 50: 2.781303145587855e-09}\n",
    "\n",
    "dic_20 = {1: 6.450294057054832e-09, 2: 4.720417718219547e-09, 3: 1.3938072809213163e-08, 4: 1.8697090380118483e-08, 5: 2.099934513908974e-08, 6: 2.2606748880309614e-08, 7: 2.385810568545703e-08, 8: 2.4544739199279872e-08, 9: 2.4825755442839517e-08, 10: 2.4850079126919876e-08, 11: 2.4849592811791152e-08, 12: 2.486560241957514e-08, 13: 2.487323506727577e-08, 14: 2.490129269797081e-08, 15: 2.49383551939486e-08, 16: 2.4953073893789482e-08, 17: 2.496026474349316e-08, 18: 2.4964959584702842e-08, 19: 2.4972285522359417e-08, 20: 2.4970284924239963e-08, 21: 2.4975785612032456e-08, 22: 2.497225792735753e-08, 23: 2.4980385314338238e-08, 24: 2.4985965321672397e-08, 25: 2.498344895103151e-08, 26: 2.4987359270733927e-08, 27: 2.49866185866884e-08, 28: 2.4986811807554952e-08, 29: 2.4986811807554952e-08, 30: 2.4986811807554952e-08, 31: 2.4986811807554952e-08, 32: 2.4986811807554952e-08, 33: 2.4986811807554952e-08, 34: 2.4986811807554952e-08, 35: 2.4986811807554952e-08, 36: 2.4986811807554952e-08, 37: 2.4986811807554952e-08, 38: 2.4986811807554952e-08, 39: 2.4986811807554952e-08, 40: 2.4986811807554952e-08, 41: 2.4986811807554952e-08, 42: 2.4986811807554952e-08, 43: 2.4986811807554952e-08, 44: 2.4986811807554952e-08, 45: 2.4986811807554952e-08, 46: 2.4986811807554952e-08, 47: 2.4986811807554952e-08, 48: 2.4986811807554952e-08, 49: 2.4986811807554952e-08, 50: 2.4986811807554952e-08}\n",
    "\n",
    "dic_40 = {1: 8.857519407228653e-09, 2: 5.991747982139965e-08, 3: 1.46548299245893e-07, 4: 1.9814205541815946e-07, 5: 2.200922943250938e-07, 6: 2.334666703171181e-07, 7: 2.4252388153642377e-07, 8: 2.482505207202862e-07, 9: 2.517821894173572e-07, 10: 2.536193432590811e-07, 11: 2.540990841840013e-07, 12: 2.542036092060652e-07, 13: 2.5426999756857484e-07, 14: 2.543973395548043e-07, 15: 2.5457328713869936e-07, 16: 2.5465382282368265e-07, 17: 2.547337249274962e-07, 18: 2.5478666697344266e-07, 19: 2.5483414909166906e-07, 20: 2.5483326757640016e-07, 21: 2.548724670954683e-07, 22: 2.54876757480732e-07, 23: 2.5491449091734656e-07, 24: 2.549384137170043e-07, 25: 2.5494293977834355e-07, 26: 2.5496680512981105e-07, 27: 2.549552837861988e-07, 28: 2.549530500864421e-07, 29: 2.5497350643919963e-07, 30: 2.5497509360432186e-07, 31: 2.5497509360432186e-07, 32: 2.5497509360432186e-07, 33: 2.5497509360432186e-07, 34: 2.5497509360432186e-07, 35: 2.5497509360432186e-07, 36: 2.5497509360432186e-07, 37: 2.5497509360432186e-07, 38: 2.5497509360432186e-07, 39: 2.5497509360432186e-07, 40: 2.5497509360432186e-07, 41: 2.5497509360432186e-07, 42: 2.5497509360432186e-07, 43: 2.5497509360432186e-07, 44: 2.5497509360432186e-07, 45: 2.5497509360432186e-07, 46: 2.5497509360432186e-07, 47: 2.5497509360432186e-07, 48: 2.5497509360432186e-07, 49: 2.5497509360432186e-07, 50: 2.5497509360432186e-07}\n",
    "\n",
    "dic_50 = {1: 1.826727179240511e-08, 2: 1.1605983500057908e-07, 3: 2.752131375851702e-07, 4: 3.778330773954522e-07, 5: 4.2878184266197575e-07, 6: 4.5784675581446153e-07, 7: 4.7650254230650196e-07, 8: 4.886290290005345e-07, 9: 4.963324833617585e-07, 10: 5.011224598291567e-07, 11: 5.026111541317438e-07, 12: 5.027799477312942e-07, 13: 5.029226809074738e-07, 14: 5.031650187110626e-07, 15: 5.03440124257523e-07, 16: 5.036060828640367e-07, 17: 5.038133010304907e-07, 18: 5.039445281913559e-07, 19: 5.03997172603938e-07, 20: 5.039928749978031e-07, 21: 5.040509768774846e-07, 22: 5.040682510550869e-07, 23: 5.041383426212101e-07, 24: 5.042014953275546e-07, 25: 5.041925677415892e-07, 26: 5.042196813953051e-07, 27: 5.042080257414155e-07, 28: 5.041981061420939e-07, 29: 5.042118282803606e-07, 30: 5.042116629522822e-07, 31: 5.042116629522822e-07, 32: 5.042116629522822e-07, 33: 5.042116629522822e-07, 34: 5.042116629522822e-07, 35: 5.042116629522822e-07, 36: 5.042116629522822e-07, 37: 5.042116629522822e-07, 38: 5.042116629522822e-07, 39: 5.042116629522822e-07, 40: 5.042116629522822e-07, 41: 5.042116629522822e-07, 42: 5.042116629522822e-07, 43: 5.042116629522822e-07, 44: 5.042116629522822e-07, 45: 5.042116629522822e-07, 46: 5.042116629522822e-07, 47: 5.042116629522822e-07, 48: 5.042116629522822e-07, 49: 5.042116629522822e-07, 50: 5.042116629522822e-07}\n",
    "\n",
    "dic_60 = {1: 9.006594598362105e-09, 2: 6.175606893938185e-08, 3: 1.7331470236356842e-07, 4: 2.5049147951414273e-07, 5: 2.8884732863964735e-07, 6: 3.106507608090422e-07, 7: 3.245969906225376e-07, 8: 3.3410570826327294e-07, 9: 3.4044944895293575e-07, 10: 3.4440390608267806e-07, 11: 3.455919788682935e-07, 12: 3.4567951553659987e-07, 13: 3.4571353394874783e-07, 14: 3.458521574585442e-07, 15: 3.4605381012912245e-07, 16: 3.4620291339737793e-07, 17: 3.463726713124597e-07, 18: 3.4647380596999306e-07, 19: 3.4651142689586835e-07, 20: 3.4651266040342714e-07, 21: 3.4656597743947535e-07, 22: 3.465744071150019e-07, 23: 3.4662642664920007e-07, 24: 3.4668153460320746e-07, 25: 3.4666371314383845e-07, 26: 3.466810547886856e-07, 27: 3.466711843921933e-07, 28: 3.4666302771224145e-07, 29: 3.466744059644908e-07, 30: 3.466743374202435e-07, 31: 3.466743374202435e-07, 32: 3.466743374202435e-07, 33: 3.466743374202435e-07, 34: 3.466743374202435e-07, 35: 3.466743374202435e-07, 36: 3.466743374202435e-07, 37: 3.466743374202435e-07, 38: 3.466743374202435e-07, 39: 3.466743374202435e-07, 40: 3.466743374202435e-07, 41: 3.466743374202435e-07, 42: 3.466743374202435e-07, 43: 3.466743374202435e-07, 44: 3.466743374202435e-07, 45: 3.466743374202435e-07, 46: 3.466743374202435e-07, 47: 3.466743374202435e-07, 48: 3.466743374202435e-07, 49: 3.466743374202435e-07, 50: 3.466743374202435e-07}\n",
    "\n",
    "dic_70 = {1: 5.271849252542957e-09, 2: 2.447769013313823e-08, 3: 9.360590196713921e-08, 4: 1.4702920027967045e-07, 5: 1.7397770581110124e-07, 6: 1.8905095793894734e-07, 7: 1.988060119720402e-07, 8: 2.0592286338301267e-07, 9: 2.1089810976316714e-07, 10: 2.1401946809305322e-07, 11: 2.1492637112174182e-07, 12: 2.149616151856754e-07, 13: 2.1492882677833308e-07, 14: 2.1503697053292234e-07, 15: 2.151896379596702e-07, 16: 2.1529060909182896e-07, 17: 2.15419024345764e-07, 18: 2.154988912503374e-07, 19: 2.155331553388318e-07, 20: 2.1553864108858416e-07, 21: 2.1556304406274003e-07, 22: 2.1555861196920644e-07, 23: 2.155977997414963e-07, 24: 2.1563953187808225e-07, 25: 2.1562309801583595e-07, 26: 2.1563561256130598e-07, 27: 2.1562758483055075e-07, 28: 2.1562139520078482e-07, 29: 2.156304229001052e-07, 30: 2.15630368841463e-07, 31: 2.15630368841463e-07, 32: 2.15630368841463e-07, 33: 2.15630368841463e-07, 34: 2.15630368841463e-07, 35: 2.15630368841463e-07, 36: 2.15630368841463e-07, 37: 2.15630368841463e-07, 38: 2.15630368841463e-07, 39: 2.15630368841463e-07, 40: 2.15630368841463e-07, 41: 2.15630368841463e-07, 42: 2.15630368841463e-07, 43: 2.15630368841463e-07, 44: 2.15630368841463e-07, 45: 2.15630368841463e-07, 46: 2.15630368841463e-07, 47: 2.15630368841463e-07, 48: 2.15630368841463e-07, 49: 2.15630368841463e-07, 50: 2.15630368841463e-07}\n",
    "\n",
    "dic_80 = {1: 7.044467961722843e-09, 2: 5.264608896634477e-09, 3: 3.544563188531116e-08, 4: 6.665600693502231e-08, 5: 8.294755983274003e-08, 6: 9.185236151242974e-08, 7: 9.788646512183793e-08, 8: 1.0229413082770656e-07, 9: 1.0562437629884911e-07, 10: 1.0776013597093605e-07, 11: 1.0839423908399904e-07, 12: 1.0839205441366703e-07, 13: 1.0836833107815583e-07, 14: 1.0842082100313204e-07, 15: 1.0851280003122137e-07, 16: 1.0857660246676232e-07, 17: 1.0865646342537365e-07, 18: 1.087096372108854e-07, 19: 1.0873044204369717e-07, 20: 1.0873138253058147e-07, 21: 1.0875240059446534e-07, 22: 1.087487150884634e-07, 23: 1.087706178928686e-07, 24: 1.087985130878599e-07, 25: 1.0878547696658737e-07, 26: 1.0878710883885479e-07, 27: 1.0877418858538753e-07, 28: 1.0877086745549452e-07, 29: 1.0877729859114021e-07, 30: 1.0877724099803705e-07, 31: 1.0877724099803705e-07, 32: 1.0877724099803705e-07, 33: 1.0877724099803705e-07, 34: 1.0877724099803705e-07, 35: 1.0877724099803705e-07, 36: 1.0877724099803705e-07, 37: 1.0877724099803705e-07, 38: 1.0877724099803705e-07, 39: 1.0877724099803705e-07, 40: 1.0877724099803705e-07, 41: 1.0877724099803705e-07, 42: 1.0877724099803705e-07, 43: 1.0877724099803705e-07, 44: 1.0877724099803705e-07, 45: 1.0877724099803705e-07, 46: 1.0877724099803705e-07, 47: 1.0877724099803705e-07, 48: 1.0877724099803705e-07, 49: 1.0877724099803705e-07, 50: 1.0877724099803705e-07}\n",
    "\n",
    "dic_90 = {1: 1.3634747610270892e-08, 2: 4.187034113971804e-09, 3: 3.296167238340052e-09, 4: 1.2884803203784268e-08, 5: 1.8943893218244626e-08, 6: 2.2399732072658773e-08, 7: 2.4795806395857238e-08, 8: 2.643565137304614e-08, 9: 2.7857846078718326e-08, 10: 2.8910578822895146e-08, 11: 2.923394576650433e-08, 12: 2.9233179443708093e-08, 13: 2.9210865942122132e-08, 14: 2.9233348630993938e-08, 15: 2.9267723703479493e-08, 16: 2.9296923027577526e-08, 17: 2.9335004106889e-08, 18: 2.9354567519576923e-08, 19: 2.936831666185051e-08, 20: 2.9366027408276437e-08, 21: 2.9374566429234314e-08, 22: 2.9370660870170674e-08, 23: 2.938133069361487e-08, 24: 2.9397186865942794e-08, 25: 2.9390375871401884e-08, 26: 2.939077003931616e-08, 27: 2.9382103944521643e-08, 28: 2.937898605952089e-08, 29: 2.9382233652121894e-08, 30: 2.9382183764549455e-08, 31: 2.9382183764549455e-08, 32: 2.9382183764549455e-08, 33: 2.9382183764549455e-08, 34: 2.9382183764549455e-08, 35: 2.9382183764549455e-08, 36: 2.9382183764549455e-08, 37: 2.9382183764549455e-08, 38: 2.9382183764549455e-08, 39: 2.9382183764549455e-08, 40: 2.9382183764549455e-08, 41: 2.9382183764549455e-08, 42: 2.9382183764549455e-08, 43: 2.9382183764549455e-08, 44: 2.9382183764549455e-08, 45: 2.9382183764549455e-08, 46: 2.9382183764549455e-08, 47: 2.9382183764549455e-08, 48: 2.9382183764549455e-08, 49: 2.9382183764549455e-08, 50: 2.9382183764549455e-08}\n",
    "\n",
    "dic_100 = {1: 2.603185227088132e-08, 2: 2.3324849686441734e-08, 3: 9.019750867782876e-09, 4: 2.7545782493184223e-09, 5: 9.82966806108258e-10, 6: 4.505776011749203e-10, 7: 2.458488716472008e-10, 8: 1.2463185374668686e-10, 9: 4.800284172488693e-11, 10: 1.4437697060093288e-11, 11: 8.11120830464303e-12, 12: 7.82190266767724e-12, 13: 8.52752896936928e-12, 14: 8.728862784034259e-12, 15: 7.800024840808648e-12, 16: 7.748666599115536e-12, 17: 7.444627994519294e-12, 18: 7.384986187578094e-12, 19: 7.401101032947099e-12, 20: 7.597019728991866e-12, 21: 7.533733492228534e-12, 22: 7.605994258763849e-12, 23: 7.500127756982966e-12, 24: 7.346206207751503e-12, 25: 7.415113304584421e-12, 26: 7.50105933577153e-12, 27: 7.685544741876592e-12, 28: 7.780699162808035e-12, 29: 7.714445390053107e-12, 30: 7.714878624269644e-12, 31: 7.714878624269644e-12, 32: 7.714878624269644e-12, 33: 7.714878624269644e-12, 34: 7.714878624269644e-12, 35: 7.714878624269644e-12, 36: 7.714878624269644e-12, 37: 7.714878624269644e-12, 38: 7.714878624269644e-12, 39: 7.714878624269644e-12, 40: 7.714878624269644e-12, 41: 7.714878624269644e-12, 42: 7.714878624269644e-12, 43: 7.714878624269644e-12, 44: 7.714878624269644e-12, 45: 7.714878624269644e-12, 46: 7.714878624269644e-12, 47: 7.714878624269644e-12, 48: 7.714878624269644e-12, 49: 7.714878624269644e-12, 50: 7.714878624269644e-12}"
   ]
  },
  {
   "cell_type": "code",
   "execution_count": 23,
   "id": "a4bb8daf",
   "metadata": {},
   "outputs": [],
   "source": [
    "L = [dic_1, dic_5, dic_10, dic_20, dic_40, dic_50, dic_60, dic_70, dic_80, dic_90, dic_100]"
   ]
  },
  {
   "cell_type": "code",
   "execution_count": 30,
   "id": "79268a79",
   "metadata": {},
   "outputs": [],
   "source": [
    "L = [dic_1, dic_5, dic_10, dic_20, dic_40, dic_50, dic_60, dic_70, dic_80, dic_90, dic_100]\n",
    "keys = [1,5,10,20,40,50,60,70,80,90,100]\n",
    "\n",
    "def make_dic(perc, keys,L):\n",
    "    \n",
    "    dic = dict.fromkeys(keys,None)\n",
    "    \n",
    "    for i,key in enumerate(keys):\n",
    "        \n",
    "        value = L[i][perc]\n",
    "        \n",
    "        dic[key] = value\n",
    "        \n",
    "    return(dic)"
   ]
  },
  {
   "cell_type": "code",
   "execution_count": 31,
   "id": "0280eadf",
   "metadata": {},
   "outputs": [
    {
     "name": "stdout",
     "output_type": "stream",
     "text": [
      "{1: 2.3880952268658137e-08, 5: 1.858080538238525e-08, 10: 1.3291015819894552e-08, 20: 6.450294057054832e-09, 40: 8.857519407228653e-09, 50: 1.826727179240511e-08, 60: 9.006594598362105e-09, 70: 5.271849252542957e-09, 80: 7.044467961722843e-09, 90: 1.3634747610270892e-08, 100: 2.603185227088132e-08}\n"
     ]
    }
   ],
   "source": [
    "L = [dic_1, dic_5, dic_10, dic_20, dic_40, dic_50, dic_60, dic_70, dic_80, dic_90, dic_100]\n",
    "\n",
    "dic_1 = make_dic(perc=1,keys=keys, L=L)\n",
    "\n",
    "print(dic_1)"
   ]
  },
  {
   "cell_type": "code",
   "execution_count": 34,
   "id": "9ba904d4",
   "metadata": {},
   "outputs": [],
   "source": [
    "import matplotlib.pyplot as plt\n",
    "\n",
    "def make_plot(data):\n",
    "    \n",
    "    # Extracting the keys (percentages) and values (test-statistics)\n",
    "    percentages = list(data.keys())\n",
    "    test_statistics = list(data.values())\n",
    "\n",
    "    # Create the plot\n",
    "    plt.figure(figsize=(6, 4))\n",
    "    plt.plot(percentages, test_statistics, marker='o', linestyle='-', color='b')\n",
    "\n",
    "    # Adding labels and title\n",
    "    plt.xlabel('Percentage of Test Set Masked (%)', fontsize=12)\n",
    "    plt.ylabel('Test Statistic', fontsize=12)\n",
    "    plt.title('Effect of Masking Important Features on Test Statistic', fontsize=14)\n",
    "\n",
    "    plt.xticks(ticks=percentages)\n",
    "\n",
    "    # Optional: Add grid and improve layout\n",
    "    plt.grid(True)\n",
    "    plt.tight_layout()\n",
    "\n",
    "    # Show the plot\n",
    "    plt.show()"
   ]
  },
  {
   "cell_type": "code",
   "execution_count": 35,
   "id": "e3e9f325",
   "metadata": {},
   "outputs": [
    {
     "data": {
      "image/png": "[encoded data removed]",
      "text/plain": [
       "<Figure size 600x400 with 1 Axes>"
      ]
     },
     "metadata": {},
     "output_type": "display_data"
    }
   ],
   "source": [
    "make_plot(dic_1)"
   ]
  },
  {
   "cell_type": "code",
   "execution_count": 36,
   "id": "dd176da2",
   "metadata": {},
   "outputs": [
    {
     "data": {
      "image/png": "[encoded data removed]",
      "text/plain": [
       "<Figure size 600x400 with 1 Axes>"
      ]
     },
     "metadata": {},
     "output_type": "display_data"
    }
   ],
   "source": [
    "dic_5 = make_dic(perc=5,keys=keys, L=L)\n",
    "\n",
    "make_plot(dic_5)"
   ]
  },
  {
   "cell_type": "markdown",
   "id": "915330d7",
   "metadata": {},
   "source": [
    "## Looking at masked non-important features"
   ]
  },
  {
   "cell_type": "code",
   "execution_count": 5,
   "id": "623a941d",
   "metadata": {},
   "outputs": [],
   "source": [
    "# reading heatmaps and overlays\n",
    "seed = 42\n",
    "exp =4\n",
    "latentvar = 'shape'\n",
    "latentcls = str([1,2])\n",
    "group='XY'\n",
    "relu='True'\n",
    "\n",
    "root_dir = Path('/dhc/home/masoumeh.javanbakhat/netstore-old/Baysian/3D')\n",
    "svd_dir_masked = root_dir / 'Explainability' / 'Codes' / 'Two_Test' / 'masked_non_imp'"
   ]
  },
  {
   "cell_type": "code",
   "execution_count": 7,
   "id": "790e5858",
   "metadata": {},
   "outputs": [],
   "source": [
    "percentage = '1'\n",
    "\n",
    "file_base_mask_dir = os.path.join(svd_dir_masked, f'{seed}_{exp}_{latentvar}')\n",
    "\n",
    "file_name_mask = f'{latentcls}_{group}_{relu}_{percentage}%_mask_non_imp_img.npy'\n",
    "full_path_mask_1 = os.path.join(file_base_mask_dir, file_name_mask)\n"
   ]
  },
  {
   "cell_type": "code",
   "execution_count": 8,
   "id": "1a147ef1",
   "metadata": {},
   "outputs": [],
   "source": [
    "masked_img_non_1 = np.load(full_path_mask_1)"
   ]
  },
  {
   "cell_type": "code",
   "execution_count": 9,
   "id": "92d40871",
   "metadata": {},
   "outputs": [
    {
     "name": "stdout",
     "output_type": "stream",
     "text": [
      "(156416, 64, 64)\n"
     ]
    }
   ],
   "source": [
    "print(masked_img_non_1.shape)"
   ]
  },
  {
   "cell_type": "code",
   "execution_count": 10,
   "id": "4d82ef7c",
   "metadata": {},
   "outputs": [],
   "source": [
    "mask_img_non_10_1 = masked_img_non_1[10]"
   ]
  },
  {
   "cell_type": "code",
   "execution_count": 13,
   "id": "06d78666",
   "metadata": {},
   "outputs": [
    {
     "data": {
      "text/plain": [
       "(-0.5, 63.5, 63.5, -0.5)"
      ]
     },
     "execution_count": 13,
     "metadata": {},
     "output_type": "execute_result"
    },
    {
     "data": {
      "image/png": "[encoded data removed]",
      "text/plain": [
       "<Figure size 400x400 with 1 Axes>"
      ]
     },
     "metadata": {},
     "output_type": "display_data"
    }
   ],
   "source": [
    "plt.figure(figsize=(4,4))\n",
    "\n",
    "plt.imshow(mask_img_non_10_1)\n",
    "\n",
    "plt.axis(\"off\")"
   ]
  },
  {
   "cell_type": "code",
   "execution_count": 14,
   "id": "f4e3836c",
   "metadata": {},
   "outputs": [],
   "source": [
    "mask_img_non_20_1 = masked_img_non_1[20]"
   ]
  },
  {
   "cell_type": "code",
   "execution_count": 15,
   "id": "e651f48a",
   "metadata": {},
   "outputs": [
    {
     "data": {
      "text/plain": [
       "(-0.5, 63.5, 63.5, -0.5)"
      ]
     },
     "execution_count": 15,
     "metadata": {},
     "output_type": "execute_result"
    },
    {
     "data": {
      "image/png": "[encoded data removed]",
      "text/plain": [
       "<Figure size 400x400 with 1 Axes>"
      ]
     },
     "metadata": {},
     "output_type": "display_data"
    }
   ],
   "source": [
    "plt.figure(figsize=(4,4))\n",
    "\n",
    "plt.imshow(mask_img_non_20_1)\n",
    "\n",
    "plt.axis(\"off\")"
   ]
  },
  {
   "cell_type": "code",
   "execution_count": 17,
   "id": "7f314235",
   "metadata": {},
   "outputs": [],
   "source": [
    "percentage = '50'\n",
    "\n",
    "file_base_mask_dir = os.path.join(svd_dir_masked, f'{seed}_{exp}_{latentvar}')\n",
    "\n",
    "file_name_mask = f'{latentcls}_{group}_{relu}_{percentage}%_mask_non_imp_img.npy'\n",
    "full_path_mask_50 = os.path.join(file_base_mask_dir, file_name_mask)"
   ]
  },
  {
   "cell_type": "code",
   "execution_count": 18,
   "id": "711b41fe",
   "metadata": {},
   "outputs": [],
   "source": [
    "masked_non_imp_50 = np.load(full_path_mask_50)"
   ]
  },
  {
   "cell_type": "code",
   "execution_count": 19,
   "id": "6981018f",
   "metadata": {},
   "outputs": [
    {
     "name": "stdout",
     "output_type": "stream",
     "text": [
      "(156416, 64, 64)\n"
     ]
    }
   ],
   "source": [
    "print(masked_non_imp_50.shape)"
   ]
  },
  {
   "cell_type": "code",
   "execution_count": 21,
   "id": "78aec707",
   "metadata": {},
   "outputs": [],
   "source": [
    "non_imp_img10 = masked_non_imp_50[10]"
   ]
  },
  {
   "cell_type": "code",
   "execution_count": 23,
   "id": "614f209e",
   "metadata": {},
   "outputs": [
    {
     "data": {
      "text/plain": [
       "(-0.5, 63.5, 63.5, -0.5)"
      ]
     },
     "execution_count": 23,
     "metadata": {},
     "output_type": "execute_result"
    },
    {
     "data": {
      "image/png": "[encoded data removed]",
      "text/plain": [
       "<Figure size 400x400 with 1 Axes>"
      ]
     },
     "metadata": {},
     "output_type": "display_data"
    }
   ],
   "source": [
    "plt.figure(figsize=(4,4))\n",
    "plt.imshow(non_imp_img10)\n",
    "\n",
    "plt.axis(\"off\")"
   ]
  },
  {
   "cell_type": "code",
   "execution_count": 24,
   "id": "e9bd9e9a",
   "metadata": {},
   "outputs": [],
   "source": [
    "non_imp_img20 = masked_non_imp_50[20]"
   ]
  },
  {
   "cell_type": "code",
   "execution_count": 26,
   "id": "98c81e23",
   "metadata": {},
   "outputs": [
    {
     "data": {
      "text/plain": [
       "(-0.5, 63.5, 63.5, -0.5)"
      ]
     },
     "execution_count": 26,
     "metadata": {},
     "output_type": "execute_result"
    },
    {
     "data": {
      "image/png": "[encoded data removed]",
      "text/plain": [
       "<Figure size 400x400 with 1 Axes>"
      ]
     },
     "metadata": {},
     "output_type": "display_data"
    }
   ],
   "source": [
    "plt.figure(figsize=(4,4))\n",
    "\n",
    "plt.imshow(non_imp_img20)\n",
    "\n",
    "plt.axis(\"off\")"
   ]
  },
  {
   "cell_type": "markdown",
   "id": "bd86b480",
   "metadata": {},
   "source": [
    "- Here I will try to load heatmaps, and mask non-important features. "
   ]
  },
  {
   "cell_type": "code",
   "execution_count": 2,
   "id": "55cf32cf",
   "metadata": {},
   "outputs": [],
   "source": [
    "from pathlib import Path\n",
    "import os\n",
    "import numpy as np\n",
    "\n",
    "import matplotlib.pyplot as plt"
   ]
  },
  {
   "cell_type": "code",
   "execution_count": 2,
   "id": "4d0f1fcb",
   "metadata": {},
   "outputs": [],
   "source": [
    "root_dir = Path('/dhc/home/masoumeh.javanbakhat/netstore-old/Baysian/3D')\n",
    "svd_dir_heatmap = root_dir / 'Explainability' / 'Codes' / 'Two_Test' / 'heatmaps'"
   ]
  },
  {
   "cell_type": "code",
   "execution_count": 3,
   "id": "82c61682",
   "metadata": {},
   "outputs": [],
   "source": [
    "seed = 42\n",
    "exp=4\n",
    "latentvar = 'shape'\n",
    "latentcls = str([1,2])\n",
    "group='XY'\n",
    "relu='True'\n"
   ]
  },
  {
   "cell_type": "code",
   "execution_count": 4,
   "id": "31d1a9ed",
   "metadata": {},
   "outputs": [],
   "source": [
    "base_path = os.path.join(svd_dir_heatmap, f'{seed}_{exp}_{latentvar}')\n",
    "file_name = f'{latentcls}_{group}_{relu}_heatmap.npy'\n",
    "full_path = os.path.join(base_path, file_name)\n",
    "heatmaps = np.load(full_path)"
   ]
  },
  {
   "cell_type": "code",
   "execution_count": 5,
   "id": "42af550a",
   "metadata": {},
   "outputs": [],
   "source": [
    "root_dir = Path('/dhc/home/masoumeh.javanbakhat/netstore-old/Baysian/3D')\n",
    "svd_dir_masked = root_dir / 'Explainability' / 'Codes' / 'Two_Test' / 'masked_non_imp'"
   ]
  },
  {
   "cell_type": "code",
   "execution_count": 6,
   "id": "0e33a224",
   "metadata": {},
   "outputs": [
    {
     "name": "stdout",
     "output_type": "stream",
     "text": [
      "(156416, 64, 64)\n"
     ]
    }
   ],
   "source": [
    "percentage = '30'\n",
    "\n",
    "file_base_mask_dir = os.path.join(svd_dir_masked, f'{seed}_{exp}_{latentvar}')\n",
    "\n",
    "file_name_mask = f'{latentcls}_{group}_{relu}_{percentage}%_mask_non_imp_img.npy'\n",
    "full_path_mask_30 = os.path.join(file_base_mask_dir, file_name_mask)\n",
    "\n",
    "img_mask_non_30 = np.load(full_path_mask_30)\n",
    "\n",
    "print(img_mask_non_30.shape)"
   ]
  },
  {
   "cell_type": "code",
   "execution_count": 7,
   "id": "44e5ad81",
   "metadata": {},
   "outputs": [],
   "source": [
    "img_156411 = img_mask_non_30[156411]"
   ]
  },
  {
   "cell_type": "code",
   "execution_count": 10,
   "id": "2344a734",
   "metadata": {},
   "outputs": [
    {
     "data": {
      "text/plain": [
       "(-0.5, 63.5, 63.5, -0.5)"
      ]
     },
     "execution_count": 10,
     "metadata": {},
     "output_type": "execute_result"
    },
    {
     "data": {
      "image/png": "[encoded data removed]",
      "text/plain": [
       "<Figure size 400x400 with 1 Axes>"
      ]
     },
     "metadata": {},
     "output_type": "display_data"
    }
   ],
   "source": [
    "plt.figure(figsize=(4,4))\n",
    "\n",
    "plt.imshow(img_156411)\n",
    "\n",
    "plt.axis(\"off\")"
   ]
  },
  {
   "cell_type": "code",
   "execution_count": 3,
   "id": "878bd2f1",
   "metadata": {},
   "outputs": [
    {
     "name": "stdout",
     "output_type": "stream",
     "text": [
      "(156416, 64, 64)\n"
     ]
    }
   ],
   "source": [
    "root_dir = Path('/dhc/home/masoumeh.javanbakhat/netstore-old/Baysian/3D')\n",
    "svd_dir_heatmap = root_dir / 'Explainability' / 'Codes' / 'Two_Test' / 'heatmaps'\n",
    "svd_dir_masked = root_dir / 'Explainability' / 'Codes' / 'Two_Test' / 'masked_non_imp'\n",
    "\n",
    "seed = 42\n",
    "exp =4\n",
    "latentvar = 'shape'\n",
    "latentcls = str([1,2])\n",
    "group = 'XY'\n",
    "relu='True'\n",
    "\n",
    "percentage = '20'\n",
    "\n",
    "file_base_mask_dir = os.path.join(svd_dir_masked, f'{seed}_{exp}_{latentvar}')\n",
    "\n",
    "file_name_mask = f'{latentcls}_{group}_{relu}_{percentage}%_mask_non_imp_img.npy'\n",
    "full_path_mask_20 = os.path.join(file_base_mask_dir, file_name_mask)\n",
    "\n",
    "img_mask_non_20 = np.load(full_path_mask_20)\n",
    "\n",
    "print(img_mask_non_20.shape)\n"
   ]
  },
  {
   "cell_type": "code",
   "execution_count": 4,
   "id": "18cb5688",
   "metadata": {},
   "outputs": [
    {
     "name": "stdout",
     "output_type": "stream",
     "text": [
      "78208\n"
     ]
    }
   ],
   "source": [
    "idx = 156416 //2\n",
    "\n",
    "print(idx)"
   ]
  },
  {
   "cell_type": "code",
   "execution_count": 5,
   "id": "affedbac",
   "metadata": {},
   "outputs": [],
   "source": [
    "# first half of the images are squares\n",
    "img_sqr = img_mask_non_20[78000]\n",
    "\n",
    "img_ellip = img_mask_non_20[80000]"
   ]
  },
  {
   "cell_type": "code",
   "execution_count": 8,
   "id": "0e1c38a2",
   "metadata": {},
   "outputs": [
    {
     "data": {
      "text/plain": [
       "(-0.5, 63.5, 63.5, -0.5)"
      ]
     },
     "execution_count": 8,
     "metadata": {},
     "output_type": "execute_result"
    },
    {
     "data": {
      "image/png": "[encoded data removed]",
      "text/plain": [
       "<Figure size 200x200 with 1 Axes>"
      ]
     },
     "metadata": {},
     "output_type": "display_data"
    }
   ],
   "source": [
    "plt.figure(figsize=(2,2))\n",
    "\n",
    "plt.imshow(img_sqr)\n",
    "\n",
    "plt.axis(\"off\")"
   ]
  },
  {
   "cell_type": "code",
   "execution_count": 9,
   "id": "e9166bec",
   "metadata": {},
   "outputs": [
    {
     "data": {
      "text/plain": [
       "(-0.5, 63.5, 63.5, -0.5)"
      ]
     },
     "execution_count": 9,
     "metadata": {},
     "output_type": "execute_result"
    },
    {
     "data": {
      "image/png": "[encoded data removed]",
      "text/plain": [
       "<Figure size 200x200 with 1 Axes>"
      ]
     },
     "metadata": {},
     "output_type": "display_data"
    }
   ],
   "source": [
    "plt.figure(figsize=(2,2))\n",
    "\n",
    "plt.imshow(img_ellip)\n",
    "\n",
    "plt.axis(\"off\")"
   ]
  },
  {
   "cell_type": "markdown",
   "id": "9197a75c",
   "metadata": {},
   "source": [
    "### Load images and heatmaps and perform masking manually:"
   ]
  },
  {
   "cell_type": "code",
   "execution_count": 10,
   "id": "82709808",
   "metadata": {},
   "outputs": [],
   "source": [
    "root_dir = Path('/dhc/home/masoumeh.javanbakhat/netstore-old/Baysian/3D')\n",
    "svd_dir_heatmap = root_dir / 'Explainability' / 'Codes' / 'Two_Test' / 'heatmaps'\n",
    "svd_dir_image = root_dir / 'Explainability' / 'Codes' / 'Two_Test' / 'images'"
   ]
  },
  {
   "cell_type": "code",
   "execution_count": 12,
   "id": "a522cc29",
   "metadata": {},
   "outputs": [],
   "source": [
    "seed = 42\n",
    "exp = 4\n",
    "latentvar = 'shape'\n",
    "\n",
    "latentcls = str([1,2])"
   ]
  },
  {
   "cell_type": "code",
   "execution_count": 13,
   "id": "78430a66",
   "metadata": {},
   "outputs": [
    {
     "name": "stdout",
     "output_type": "stream",
     "text": [
      "imgs_X:(78208, 1, 64, 64)\n",
      "imgs_Y:(78208, 1, 64, 64)\n",
      "\n",
      "imgs shape:(156416, 64, 64)\n"
     ]
    }
   ],
   "source": [
    "# load both heatmaps and images\n",
    "\n",
    "base_path_img = os.path.join(svd_dir_image, f'{seed}_{exp}_{latentvar}')\n",
    "full_path_imgX = os.path.join(base_path_img, f'{latentcls}_X.npy')\n",
    "full_path_imgY = os.path.join(base_path_img, f'{latentcls}_Y.npy')\n",
    "imgs_X = np.load(full_path_imgX)\n",
    "imgs_Y = np.load(full_path_imgY)\n",
    "print(f'imgs_X:{imgs_X.shape}')\n",
    "print(f'imgs_Y:{imgs_Y.shape}\\n')\n",
    "imgs = np.vstack((imgs_X,imgs_Y)).squeeze()\n",
    "print(f'imgs shape:{imgs.shape}')\n",
    "    "
   ]
  },
  {
   "cell_type": "code",
   "execution_count": 14,
   "id": "60507ce5",
   "metadata": {},
   "outputs": [],
   "source": [
    "# loading heatmaps\n",
    "base_path = os.path.join(svd_dir_heatmap, f'{seed}_{exp}_{latentvar}')\n",
    "file_name = f'{latentcls}_{group}_{relu}_heatmap.npy'\n",
    "full_path = os.path.join(base_path, file_name)\n",
    "heatmaps = np.load(full_path)"
   ]
  },
  {
   "cell_type": "code",
   "execution_count": 15,
   "id": "b46b2033",
   "metadata": {},
   "outputs": [
    {
     "name": "stdout",
     "output_type": "stream",
     "text": [
      "(156416, 64, 64)\n"
     ]
    }
   ],
   "source": [
    "print(heatmaps.shape)"
   ]
  },
  {
   "cell_type": "code",
   "execution_count": 16,
   "id": "2c8043c4",
   "metadata": {},
   "outputs": [],
   "source": [
    "idx = 156373\n",
    "\n",
    "img = imgs[idx]\n",
    "\n",
    "heatmap = heatmaps[idx]"
   ]
  },
  {
   "cell_type": "code",
   "execution_count": 17,
   "id": "190b0599",
   "metadata": {},
   "outputs": [
    {
     "name": "stdout",
     "output_type": "stream",
     "text": [
      "(64, 64)\n"
     ]
    }
   ],
   "source": [
    "print(img.shape)"
   ]
  },
  {
   "cell_type": "code",
   "execution_count": 18,
   "id": "2a669ae7",
   "metadata": {},
   "outputs": [
    {
     "name": "stdout",
     "output_type": "stream",
     "text": [
      "(64, 64)\n"
     ]
    }
   ],
   "source": [
    "print(heatmap.shape)"
   ]
  },
  {
   "cell_type": "code",
   "execution_count": 20,
   "id": "3e86b5a6",
   "metadata": {},
   "outputs": [
    {
     "data": {
      "text/plain": [
       "(-0.5, 63.5, 63.5, -0.5)"
      ]
     },
     "execution_count": 20,
     "metadata": {},
     "output_type": "execute_result"
    },
    {
     "data": {
      "image/png": "[encoded data removed]",
      "text/plain": [
       "<Figure size 300x300 with 1 Axes>"
      ]
     },
     "metadata": {},
     "output_type": "display_data"
    }
   ],
   "source": [
    "plt.figure(figsize=(3,3))\n",
    "\n",
    "plt.imshow(img)\n",
    "\n",
    "plt.axis(\"off\")"
   ]
  },
  {
   "cell_type": "code",
   "execution_count": 21,
   "id": "d9a8deb7",
   "metadata": {},
   "outputs": [
    {
     "data": {
      "text/plain": [
       "(-0.5, 63.5, 63.5, -0.5)"
      ]
     },
     "execution_count": 21,
     "metadata": {},
     "output_type": "execute_result"
    },
    {
     "data": {
      "image/png": "[encoded data removed]",
      "text/plain": [
       "<Figure size 300x300 with 1 Axes>"
      ]
     },
     "metadata": {},
     "output_type": "display_data"
    }
   ],
   "source": [
    "plt.figure(figsize=(3,3))\n",
    "\n",
    "plt.imshow(heatmap)\n",
    "\n",
    "plt.axis(\"off\")"
   ]
  },
  {
   "cell_type": "code",
   "execution_count": 22,
   "id": "af425fd8",
   "metadata": {},
   "outputs": [
    {
     "name": "stdout",
     "output_type": "stream",
     "text": [
      "bool\n"
     ]
    }
   ],
   "source": [
    "non_positive_mask = heatmap <= 0\n",
    "\n",
    "print(non_positive_mask.dtype)"
   ]
  },
  {
   "cell_type": "code",
   "execution_count": 25,
   "id": "dd8da4e7",
   "metadata": {},
   "outputs": [
    {
     "data": {
      "text/plain": [
       "(-0.5, 63.5, 63.5, -0.5)"
      ]
     },
     "execution_count": 25,
     "metadata": {},
     "output_type": "execute_result"
    },
    {
     "data": {
      "image/png": "[encoded data removed]",
      "text/plain": [
       "<Figure size 300x300 with 1 Axes>"
      ]
     },
     "metadata": {},
     "output_type": "display_data"
    }
   ],
   "source": [
    "plt.figure(figsize=(3,3))\n",
    "\n",
    "plt.imshow(non_positive_mask)\n",
    "\n",
    "plt.axis(\"off\")"
   ]
  },
  {
   "cell_type": "code",
   "execution_count": 27,
   "id": "fca8a842",
   "metadata": {},
   "outputs": [
    {
     "name": "stdout",
     "output_type": "stream",
     "text": [
      "float32\n"
     ]
    }
   ],
   "source": [
    "non_positive_scores = heatmap[non_positive_mask]\n",
    "\n",
    "print(non_positive_scores.dtype)"
   ]
  },
  {
   "cell_type": "code",
   "execution_count": 29,
   "id": "b5663827",
   "metadata": {},
   "outputs": [
    {
     "name": "stdout",
     "output_type": "stream",
     "text": [
      "number of elements for image 156373 to mask:1810\n"
     ]
    }
   ],
   "source": [
    "mask_percentage = 50\n",
    "\n",
    "non_positive_indices = np.nonzero(non_positive_mask)\n",
    "\n",
    "# Step 2: Rank the non-positive scores\n",
    "sorted_indices = np.argsort(non_positive_scores)\n",
    "\n",
    "# Step 3: Determine how many non-important features to mask\n",
    "num_elements_to_mask = int(mask_percentage / 100 * len(non_positive_scores))\n",
    "print(f'number of elements for image {idx} to mask:{num_elements_to_mask}')\n",
    "mask = np.zeros_like(img, dtype=bool)"
   ]
  },
  {
   "cell_type": "code",
   "execution_count": 30,
   "id": "b1e248ba",
   "metadata": {},
   "outputs": [],
   "source": [
    "indices_to_mask = sorted_indices[-num_elements_to_mask:]  \n",
    "\n",
    "for idx in indices_to_mask:\n",
    "    row, col = non_positive_indices[0][idx], non_positive_indices[1][idx]\n",
    "    mask[row, col] = True"
   ]
  },
  {
   "cell_type": "code",
   "execution_count": 34,
   "id": "6a016f44",
   "metadata": {},
   "outputs": [
    {
     "name": "stdout",
     "output_type": "stream",
     "text": [
      "bool\n",
      "(64, 64)\n"
     ]
    }
   ],
   "source": [
    "print(mask.dtype)\n",
    "\n",
    "print(mask.shape)"
   ]
  },
  {
   "cell_type": "code",
   "execution_count": 35,
   "id": "458a10a2",
   "metadata": {},
   "outputs": [
    {
     "data": {
      "text/plain": [
       "(-0.5, 63.5, 63.5, -0.5)"
      ]
     },
     "execution_count": 35,
     "metadata": {},
     "output_type": "execute_result"
    },
    {
     "data": {
      "image/png": "[encoded data removed]",
      "text/plain": [
       "<Figure size 300x300 with 1 Axes>"
      ]
     },
     "metadata": {},
     "output_type": "display_data"
    }
   ],
   "source": [
    "plt.figure(figsize=(3,3))\n",
    "plt.imshow(mask)\n",
    "plt.axis(\"off\")\n"
   ]
  },
  {
   "cell_type": "code",
   "execution_count": 31,
   "id": "45609eeb",
   "metadata": {},
   "outputs": [],
   "source": [
    "masked_image = np.where(mask, 0, img)"
   ]
  },
  {
   "cell_type": "code",
   "execution_count": 32,
   "id": "147b496d",
   "metadata": {},
   "outputs": [
    {
     "name": "stdout",
     "output_type": "stream",
     "text": [
      "(64, 64)\n",
      "float32\n"
     ]
    }
   ],
   "source": [
    "print(masked_image.shape)\n",
    "\n",
    "print(masked_image.dtype)"
   ]
  },
  {
   "cell_type": "code",
   "execution_count": 36,
   "id": "91670628",
   "metadata": {},
   "outputs": [
    {
     "data": {
      "text/plain": [
       "(-0.5, 63.5, 63.5, -0.5)"
      ]
     },
     "execution_count": 36,
     "metadata": {},
     "output_type": "execute_result"
    },
    {
     "data": {
      "image/png": "[encoded data removed]",
      "text/plain": [
       "<Figure size 300x300 with 1 Axes>"
      ]
     },
     "metadata": {},
     "output_type": "display_data"
    }
   ],
   "source": [
    "plt.figure(figsize=(3,3))\n",
    "\n",
    "plt.imshow(masked_image)\n",
    "\n",
    "plt.axis(\"off\")"
   ]
  },
  {
   "cell_type": "markdown",
   "id": "87709352",
   "metadata": {},
   "source": [
    "- Note that when we are masking **non-importnat features**, it's like masking background. \n",
    "\n",
    "- So, when I visualise the masked image, it does not show any change. Therfore, the masked image with non-importnat features should remain the same as the original image. \n",
    "\n",
    "- It means that, the test-statistic remain the same, if we want to mask non-importnat features. It's like excluding the background that it has already been excluded. \n",
    "\n",
    "- Better approach for masking non-importnat features is by **thresholding**."
   ]
  },
  {
   "cell_type": "markdown",
   "id": "3172b82a",
   "metadata": {},
   "source": [
    "### Masking based on threshold:"
   ]
  },
  {
   "cell_type": "code",
   "execution_count": 37,
   "id": "af1a67cf",
   "metadata": {},
   "outputs": [],
   "source": [
    "idx = 156373\n",
    "\n",
    "img = imgs[idx]\n",
    "\n",
    "heatmap = heatmaps[idx]"
   ]
  },
  {
   "cell_type": "code",
   "execution_count": 43,
   "id": "63ae9af9",
   "metadata": {},
   "outputs": [
    {
     "name": "stdout",
     "output_type": "stream",
     "text": [
      "0.0\n"
     ]
    }
   ],
   "source": [
    "percentile = 60\n",
    "\n",
    "threshold = np.percentile(heatmap, percentile)\n",
    "\n",
    "print(threshold)"
   ]
  },
  {
   "cell_type": "markdown",
   "id": "4166883b",
   "metadata": {},
   "source": [
    "- I do not think that we need to mask non-important features. Because, we treated features with positive importance scores as importnat features. \n",
    "\n",
    "- Now, if I want to look at non-importnat features, they are just background. And it's clear that masking background does not have any effect. \n",
    "\n",
    "- Something that we can do and makes sence, is maybe masking least importnt features and see that the **drop** in test-statistic is not significant compared to when we mask **most importnat features**. However, I am not sure this analysis is really needed. \n",
    "\n"
   ]
  },
  {
   "cell_type": "markdown",
   "id": "f443add5",
   "metadata": {},
   "source": [
    "### Looking at least masked features"
   ]
  },
  {
   "cell_type": "code",
   "execution_count": 2,
   "id": "b36f5138",
   "metadata": {},
   "outputs": [],
   "source": [
    "root_dir = Path('/dhc/home/masoumeh.javanbakhat/netstore-old/Baysian/3D')\n",
    "\n",
    "svd_dir_masked_least = root_dir / 'Explainability' / 'Codes' / 'Two_Test' / 'masked_least'"
   ]
  },
  {
   "cell_type": "code",
   "execution_count": 3,
   "id": "45789673",
   "metadata": {},
   "outputs": [],
   "source": [
    "seed =42\n",
    "exp =4\n",
    "latentvar = 'shape'\n",
    "latentcls = str([1,2])\n",
    "group = 'XY'\n",
    "relu = True\n",
    "percentage = 40"
   ]
  },
  {
   "cell_type": "code",
   "execution_count": 4,
   "id": "3f0733d4",
   "metadata": {},
   "outputs": [],
   "source": [
    "file_base_least_mask_dir = os.path.join(svd_dir_masked_least, f'{seed}_{exp}_{latentvar}')\n",
    "file_name_mask_least = f'{latentcls}_{group}_{relu}_{percentage}%_mask_least_img.npy'\n",
    "full_path_mask_least = os.path.join(file_base_least_mask_dir, file_name_mask_least)\n",
    "least_mask_imgs = np.load(full_path_mask_least)"
   ]
  },
  {
   "cell_type": "code",
   "execution_count": 5,
   "id": "a06a5eee",
   "metadata": {},
   "outputs": [
    {
     "name": "stdout",
     "output_type": "stream",
     "text": [
      "(156416, 64, 64)\n"
     ]
    }
   ],
   "source": [
    "print(least_mask_imgs.shape)"
   ]
  },
  {
   "cell_type": "code",
   "execution_count": 6,
   "id": "6a5dc9a8",
   "metadata": {},
   "outputs": [],
   "source": [
    "img_10 = least_mask_imgs[10]\n",
    "\n",
    "img_156000 = least_mask_imgs[156000]"
   ]
  },
  {
   "cell_type": "code",
   "execution_count": 7,
   "id": "f4d4760e",
   "metadata": {},
   "outputs": [],
   "source": [
    "import matplotlib.pyplot as plt"
   ]
  },
  {
   "cell_type": "code",
   "execution_count": 10,
   "id": "d4f21610",
   "metadata": {},
   "outputs": [
    {
     "data": {
      "text/plain": [
       "(-0.5, 63.5, 63.5, -0.5)"
      ]
     },
     "execution_count": 10,
     "metadata": {},
     "output_type": "execute_result"
    },
    {
     "data": {
      "image/png": "[encoded data removed]",
      "text/plain": [
       "<Figure size 300x300 with 1 Axes>"
      ]
     },
     "metadata": {},
     "output_type": "display_data"
    }
   ],
   "source": [
    "plt.figure(figsize=(3,3))\n",
    "\n",
    "plt.imshow(img_10)\n",
    "\n",
    "plt.axis(\"off\")"
   ]
  },
  {
   "cell_type": "code",
   "execution_count": 11,
   "id": "976e2b5b",
   "metadata": {},
   "outputs": [
    {
     "data": {
      "text/plain": [
       "(-0.5, 63.5, 63.5, -0.5)"
      ]
     },
     "execution_count": 11,
     "metadata": {},
     "output_type": "execute_result"
    },
    {
     "data": {
      "image/png": "[encoded data removed]",
      "text/plain": [
       "<Figure size 300x300 with 1 Axes>"
      ]
     },
     "metadata": {},
     "output_type": "display_data"
    }
   ],
   "source": [
    "plt.figure(figsize=(3,3))\n",
    "\n",
    "plt.imshow(img_156000)\n",
    "\n",
    "plt.axis(\"off\")"
   ]
  },
  {
   "cell_type": "markdown",
   "id": "b2d94fd2",
   "metadata": {},
   "source": [
    "- It seems to me that masking **least-important features** does not make sense. \n",
    "\n",
    "- Since masked images here, do not seem different from original images.   "
   ]
  },
  {
   "cell_type": "code",
   "execution_count": null,
   "id": "af89a7c2",
   "metadata": {},
   "outputs": [],
   "source": [
    "seed = 42\n",
    "exp = 4\n",
    "latentvar = 'shape'\n",
    "latentcls = str([1,2])\n",
    "group = 'XY'\n",
    "relu = True\n",
    "\n",
    "percentage = 40"
   ]
  },
  {
   "cell_type": "code",
   "execution_count": 12,
   "id": "e9c4cb0a",
   "metadata": {},
   "outputs": [],
   "source": [
    "svd_dir_masked = root_dir / 'Explainability' / 'Codes' / 'Two_Test' / 'masked'\n",
    "\n",
    "file_base_mask_dir = os.path.join(svd_dir_masked, f'{seed}_{exp}_{latentvar}')\n",
    "file_name_mask = f'{latentcls}_{group}_{relu}_{percentage}%_mask_img.npy'\n",
    "full_path_mask = os.path.join(file_base_mask_dir, file_name_mask)\n",
    "masked_img = np.load(full_path_mask)"
   ]
  },
  {
   "cell_type": "code",
   "execution_count": 13,
   "id": "a5e94876",
   "metadata": {},
   "outputs": [],
   "source": [
    "img_10 = masked_img[10]"
   ]
  },
  {
   "cell_type": "code",
   "execution_count": 14,
   "id": "14785c7e",
   "metadata": {},
   "outputs": [
    {
     "data": {
      "text/plain": [
       "(-0.5, 63.5, 63.5, -0.5)"
      ]
     },
     "execution_count": 14,
     "metadata": {},
     "output_type": "execute_result"
    },
    {
     "data": {
      "image/png": "[encoded data removed]",
      "text/plain": [
       "<Figure size 300x300 with 1 Axes>"
      ]
     },
     "metadata": {},
     "output_type": "display_data"
    }
   ],
   "source": [
    "plt.figure(figsize=(3,3))\n",
    "\n",
    "plt.imshow(img_10)\n",
    "\n",
    "plt.axis(\"off\")"
   ]
  },
  {
   "cell_type": "markdown",
   "id": "53ea4e8d",
   "metadata": {},
   "source": [
    "- An important note about masking most importnat features of the images based on their **heatmaps** is that, in the code `masking_features.py`, we do not have any random operation. All the opertaions are deterministic, therfor we do not need to fix a random seed for reproducibility.  "
   ]
  },
  {
   "cell_type": "markdown",
   "id": "5053283a",
   "metadata": {},
   "source": [
    "## Let's look at heatmaps of images with ReLU = True or False "
   ]
  },
  {
   "cell_type": "markdown",
   "id": "08551459",
   "metadata": {},
   "source": [
    "- For overlaying heatmaps I am using the following code:"
   ]
  },
  {
   "cell_type": "code",
   "execution_count": null,
   "id": "ae45a444",
   "metadata": {},
   "outputs": [],
   "source": [
    "def save_cam(image, gcam):\n",
    "    # shape gradcam:[64, 64]\n",
    "    # Normalize the Grad-CAM values such that they are between 0 and 1\n",
    "    gcam = (gcam - np.min(gcam)) / (np.max(gcam) - np.min(gcam))\n",
    "\n",
    "    # Resize Grad-CAM to match the image dimensions\n",
    "    # h, w =[64, 64]\n",
    "    h, w, _ = image.shape\n",
    "    gcam_resized = np.array(Image.fromarray(gcam).resize((w, h), Image.BILINEAR))\n",
    "\n",
    "    # Apply a colormap similar to cv2.applyColorMap\n",
    "    gcam_colored = plt.cm.jet(gcam_resized)[:, :, :3] * 255\n",
    "    gcam_colored = gcam_colored.astype(np.uint8)\n",
    "\n",
    "    # Add Grad-CAM on top of the original image\n",
    "    heatmap = gcam_colored.astype(np.float64)\n",
    "    \n",
    "    overlaid_image = (heatmap + image.astype(np.float64)) / 2\n",
    "    overlaid_image = (overlaid_image / np.max(overlaid_image) * 255).astype(np.uint8)\n",
    "    \n",
    "    return(overlaid_image)"
   ]
  },
  {
   "cell_type": "markdown",
   "id": "8121ad8b",
   "metadata": {},
   "source": [
    "- Below, is the step by step explanation about the code:\n",
    "\n",
    "  - `gcam = (gcam - np.min(gcam)) / (np.max(gcam) - np.min(gcam))`: Heatmap normalization\n",
    "  \n",
    "    - This normalization ensures the values of the heatmap are between 0 and 1, which is crucial before resizing and applying color maps.\n",
    "    \n",
    "  - Applying a `jet` **colormap** here seems reasonable, and multiplying by `255` converts it to an **8-bit integer** for better visualization.\n",
    "  \n",
    "  - Combining the heatmap with the original image: `overlaid_image = (heatmap + image.astype(np.float64)) / 2`"
   ]
  },
  {
   "cell_type": "markdown",
   "id": "e3c349bd",
   "metadata": {},
   "source": [
    "## Changing name of masked images to masked most_imp features:"
   ]
  },
  {
   "cell_type": "code",
   "execution_count": 43,
   "id": "449d3310",
   "metadata": {},
   "outputs": [],
   "source": [
    "import os\n",
    "\n",
    "def rename_files(directory):\n",
    "    # List all files in the specified directory\n",
    "    for filename in os.listdir(directory):\n",
    "        \n",
    "        print(f'filename:{filename}')\n",
    "        # Check if the filename matches the desired pattern\n",
    "        if filename.endswith('_mask_img.npy'):\n",
    "            # Construct the new filename by replacing 'mask_img' with 'mask_most_img'\n",
    "            new_filename = filename.replace('_mask_img.npy', '_mask_most_img.npy')\n",
    "            \n",
    "            # Get the full path for the old and new filenames\n",
    "            old_file_path = os.path.join(directory, filename)\n",
    "            new_file_path = os.path.join(directory, new_filename)\n",
    "            \n",
    "            # Rename the file\n",
    "            os.rename(old_file_path, new_file_path)\n",
    "            print(f'Renamed: {filename} to {new_filename}')"
   ]
  },
  {
   "cell_type": "code",
   "execution_count": 39,
   "id": "6316b57c",
   "metadata": {},
   "outputs": [],
   "source": [
    "from pathlib import Path\n",
    "\n",
    "directory = Path('/dhc/home/masoumeh.javanbakhat/netstore-old/Baysian/3D/Explainability/Codes/Two_Test/masked/42_4_shape')"
   ]
  },
  {
   "cell_type": "code",
   "execution_count": 41,
   "id": "b8bb5f0d",
   "metadata": {},
   "outputs": [
    {
     "name": "stdout",
     "output_type": "stream",
     "text": [
      "['[1, 2]_XY_True_39%_mask_img.npy', '[1, 2]_XY_True_58%_mask_img.npy', '[1, 2]_XY_False_19%_mask_img.npy', '[1, 2]_XY_False_25%_mask_img.npy', '[1, 2]_XY_True_64%_mask_img.npy', '[1, 2]_XY_True_11%_mask_img.npy', '[1, 2]_XY_False_50%_mask_img.npy', '[1, 2]_XY_True_100%_mask_img.npy', '[1, 2]_XY_False_31%_mask_img.npy', '[1, 2]_XY_True_70%_mask_img.npy', '[1, 2]_XY_False_44%_mask_img.npy', '[1, 2]_XY_True_9%_mask_img.npy', '[1, 2]_XY_True_28%_mask_img.npy', '[1, 2]_XY_True_49%_mask_img.npy', '[1, 2]_XY_False_34%_mask_img.npy', '[1, 2]_XY_True_75%_mask_img.npy', '[1, 2]_XY_False_41%_mask_img.npy', '[1, 2]_XY_False_20%_mask_img.npy', '[1, 2]_XY_True_61%_mask_img.npy', '[1, 2]_XY_True_14%_mask_img.npy', '[1, 2]_XY_True_90%_mask_img.npy', '[1, 2]_XY_True_84%_mask_img.npy', '[1, 2]_XY_True_46%_mask_img.npy', '[1, 2]_XY_True_33%_mask_img.npy', '[1, 2]_XY_True_52%_mask_img.npy', '[1, 2]_XY_False_13%_mask_img.npy', '[1, 2]_XY_True_6%_mask_img.npy', '[1, 2]_XY_True_27%_mask_img.npy', '[1, 2]_XY_True_81%_mask_img.npy', '[1, 2]_XY_False_5%_mask_img.npy', '[1, 2]_XY_True_95%_mask_img.npy', '[1, 2]_XY_True_57%_mask_img.npy', '[1, 2]_XY_False_16%_mask_img.npy', '[1, 2]_XY_True_3%_mask_img.npy', '[1, 2]_XY_True_22%_mask_img.npy', '[1, 2]_XY_True_43%_mask_img.npy', '[1, 2]_XY_True_36%_mask_img.npy', '[1, 2]_XY_False_7%_mask_img.npy', '[1, 2]_XY_False_49%_mask_img.npy', '[1, 2]_XY_True_83%_mask_img.npy', '[1, 2]_XY_True_97%_mask_img.npy', '[1, 2]_XY_False_28%_mask_img.npy', '[1, 2]_XY_True_69%_mask_img.npy', '[1, 2]_XY_True_1%_mask_img.npy', '[1, 2]_XY_True_20%_mask_img.npy', '[1, 2]_XY_True_55%_mask_img.npy', '[1, 2]_XY_False_14%_mask_img.npy', '[1, 2]_XY_True_34%_mask_img.npy', '[1, 2]_XY_True_41%_mask_img.npy', '[1, 2]_XY_True_19%_mask_img.npy', '[1, 2]_XY_True_92%_mask_img.npy', '[1, 2]_XY_False_2%_mask_img.npy', '[1, 2]_XY_True_86%_mask_img.npy', '[1, 2]_XY_False_39%_mask_img.npy', '[1, 2]_XY_True_78%_mask_img.npy', '[1, 2]_XY_True_31%_mask_img.npy', '[1, 2]_XY_True_44%_mask_img.npy', '[1, 2]_XY_True_4%_mask_img.npy', '[1, 2]_XY_True_25%_mask_img.npy', '[1, 2]_XY_True_50%_mask_img.npy', '[1, 2]_XY_False_11%_mask_img.npy', '[1, 2]_XY_False_43%_mask_img.npy', '[1, 2]_XY_True_89%_mask_img.npy', '[1, 2]_XY_False_36%_mask_img.npy', '[1, 2]_XY_True_77%_mask_img.npy', '[1, 2]_XY_True_16%_mask_img.npy', '[1, 2]_XY_False_22%_mask_img.npy', '[1, 2]_XY_True_63%_mask_img.npy', '[1, 2]_XY_True_13%_mask_img.npy', '[1, 2]_XY_True_98%_mask_img.npy', '[1, 2]_XY_False_27%_mask_img.npy', '[1, 2]_XY_True_66%_mask_img.npy', '[1, 2]_XY_False_8%_mask_img.npy', '[1, 2]_XY_False_46%_mask_img.npy', '[1, 2]_XY_False_33%_mask_img.npy', '[1, 2]_XY_True_72%_mask_img.npy', '[1, 2]_XY_True_12%_mask_img.npy', '[1, 2]_XY_True_99%_mask_img.npy', '[1, 2]_XY_True_67%_mask_img.npy', '[1, 2]_XY_False_26%_mask_img.npy', '[1, 2]_XY_False_9%_mask_img.npy', '[1, 2]_XY_False_47%_mask_img.npy', '[1, 2]_XY_True_73%_mask_img.npy', '[1, 2]_XY_False_32%_mask_img.npy', '[1, 2]_XY_False_42%_mask_img.npy', '[1, 2]_XY_True_88%_mask_img.npy', '[1, 2]_XY_True_76%_mask_img.npy', '[1, 2]_XY_False_37%_mask_img.npy', '[1, 2]_XY_True_17%_mask_img.npy', '[1, 2]_XY_True_62%_mask_img.npy', '[1, 2]_XY_False_23%_mask_img.npy', '[1, 2]_XY_True_18%_mask_img.npy', '[1, 2]_XY_True_93%_mask_img.npy', '[1, 2]_XY_False_3%_mask_img.npy', '[1, 2]_XY_True_87%_mask_img.npy', '[1, 2]_XY_True_79%_mask_img.npy', '[1, 2]_XY_False_38%_mask_img.npy', '[1, 2]_XY_True_30%_mask_img.npy', '[1, 2]_XY_True_45%_mask_img.npy', '[1, 2]_XY_True_24%_mask_img.npy', '[1, 2]_XY_True_5%_mask_img.npy', '[1, 2]_XY_False_10%_mask_img.npy', '.ipynb_checkpoints', '[1, 2]_XY_True_51%_mask_img.npy', '[1, 2]_XY_False_6%_mask_img.npy', '[1, 2]_XY_False_48%_mask_img.npy', '[1, 2]_XY_True_82%_mask_img.npy', '[1, 2]_XY_True_96%_mask_img.npy', '[1, 2]_XY_True_68%_mask_img.npy', '[1, 2]_XY_False_29%_mask_img.npy', '[1, 2]_XY_True_21%_mask_img.npy', '[1, 2]_XY_False_15%_mask_img.npy', '[1, 2]_XY_True_54%_mask_img.npy', '[1, 2]_XY_True_35%_mask_img.npy', '[1, 2]_XY_True_40%_mask_img.npy', '[1, 2]_XY_True_80%_mask_img.npy', '[1, 2]_XY_False_4%_mask_img.npy', '[1, 2]_XY_True_94%_mask_img.npy', '[1, 2]_XY_False_17%_mask_img.npy', '[1, 2]_XY_True_56%_mask_img.npy', '[1, 2]_XY_True_23%_mask_img.npy', '[1, 2]_XY_True_2%_mask_img.npy', '[1, 2]_XY_True_42%_mask_img.npy', '[1, 2]_XY_True_37%_mask_img.npy', '[1, 2]_XY_True_91%_mask_img.npy', '[1, 2]_XY_True_85%_mask_img.npy', '[1, 2]_XY_False_1%_mask_img.npy', '[1, 2]_XY_True_47%_mask_img.npy', '[1, 2]_XY_True_32%_mask_img.npy', '[1, 2]_XY_False_12%_mask_img.npy', '[1, 2]_XY_True_53%_mask_img.npy', '[1, 2]_XY_True_26%_mask_img.npy', '[1, 2]_XY_True_7%_mask_img.npy', '[1, 2]_XY_True_29%_mask_img.npy', '[1, 2]_XY_True_8%_mask_img.npy', '[1, 2]_XY_True_48%_mask_img.npy', '[1, 2]_XY_True_74%_mask_img.npy', '[1, 2]_XY_False_35%_mask_img.npy', '[1, 2]_XY_False_40%_mask_img.npy', '[1, 2]_XY_True_60%_mask_img.npy', '[1, 2]_XY_False_21%_mask_img.npy', '[1, 2]_XY_True_15%_mask_img.npy', '[1, 2]_XY_True_38%_mask_img.npy', '[1, 2]_XY_False_18%_mask_img.npy', '[1, 2]_XY_True_59%_mask_img.npy', '[1, 2]_XY_True_65%_mask_img.npy', '[1, 2]_XY_False_24%_mask_img.npy', '[1, 2]_XY_True_10%_mask_img.npy', '[1, 2]_XY_True_71%_mask_img.npy', '[1, 2]_XY_False_30%_mask_img.npy', '[1, 2]_XY_False_45%_mask_img.npy']\n"
     ]
    }
   ],
   "source": [
    "import os\n",
    "\n",
    "print(os.listdir(directory))"
   ]
  },
  {
   "cell_type": "code",
   "execution_count": 44,
   "id": "1dae66ea",
   "metadata": {},
   "outputs": [
    {
     "name": "stdout",
     "output_type": "stream",
     "text": [
      "filename:[1, 2]_XY_True_39%_mask_img.npy\n",
      "Renamed: [1, 2]_XY_True_39%_mask_img.npy to [1, 2]_XY_True_39%_mask_most_img.npy\n",
      "filename:[1, 2]_XY_True_58%_mask_img.npy\n",
      "Renamed: [1, 2]_XY_True_58%_mask_img.npy to [1, 2]_XY_True_58%_mask_most_img.npy\n",
      "filename:[1, 2]_XY_False_19%_mask_img.npy\n",
      "Renamed: [1, 2]_XY_False_19%_mask_img.npy to [1, 2]_XY_False_19%_mask_most_img.npy\n",
      "filename:[1, 2]_XY_False_25%_mask_img.npy\n",
      "Renamed: [1, 2]_XY_False_25%_mask_img.npy to [1, 2]_XY_False_25%_mask_most_img.npy\n",
      "filename:[1, 2]_XY_True_64%_mask_img.npy\n",
      "Renamed: [1, 2]_XY_True_64%_mask_img.npy to [1, 2]_XY_True_64%_mask_most_img.npy\n",
      "filename:[1, 2]_XY_True_11%_mask_img.npy\n",
      "Renamed: [1, 2]_XY_True_11%_mask_img.npy to [1, 2]_XY_True_11%_mask_most_img.npy\n",
      "filename:[1, 2]_XY_False_50%_mask_img.npy\n",
      "Renamed: [1, 2]_XY_False_50%_mask_img.npy to [1, 2]_XY_False_50%_mask_most_img.npy\n",
      "filename:[1, 2]_XY_True_100%_mask_img.npy\n",
      "Renamed: [1, 2]_XY_True_100%_mask_img.npy to [1, 2]_XY_True_100%_mask_most_img.npy\n",
      "filename:[1, 2]_XY_False_31%_mask_img.npy\n",
      "Renamed: [1, 2]_XY_False_31%_mask_img.npy to [1, 2]_XY_False_31%_mask_most_img.npy\n",
      "filename:[1, 2]_XY_True_70%_mask_img.npy\n",
      "Renamed: [1, 2]_XY_True_70%_mask_img.npy to [1, 2]_XY_True_70%_mask_most_img.npy\n",
      "filename:[1, 2]_XY_False_44%_mask_img.npy\n",
      "Renamed: [1, 2]_XY_False_44%_mask_img.npy to [1, 2]_XY_False_44%_mask_most_img.npy\n",
      "filename:[1, 2]_XY_True_9%_mask_img.npy\n",
      "Renamed: [1, 2]_XY_True_9%_mask_img.npy to [1, 2]_XY_True_9%_mask_most_img.npy\n",
      "filename:[1, 2]_XY_True_28%_mask_img.npy\n",
      "Renamed: [1, 2]_XY_True_28%_mask_img.npy to [1, 2]_XY_True_28%_mask_most_img.npy\n",
      "filename:[1, 2]_XY_True_49%_mask_img.npy\n",
      "Renamed: [1, 2]_XY_True_49%_mask_img.npy to [1, 2]_XY_True_49%_mask_most_img.npy\n",
      "filename:[1, 2]_XY_False_34%_mask_img.npy\n",
      "Renamed: [1, 2]_XY_False_34%_mask_img.npy to [1, 2]_XY_False_34%_mask_most_img.npy\n",
      "filename:[1, 2]_XY_True_75%_mask_img.npy\n",
      "Renamed: [1, 2]_XY_True_75%_mask_img.npy to [1, 2]_XY_True_75%_mask_most_img.npy\n",
      "filename:[1, 2]_XY_False_41%_mask_img.npy\n",
      "Renamed: [1, 2]_XY_False_41%_mask_img.npy to [1, 2]_XY_False_41%_mask_most_img.npy\n",
      "filename:[1, 2]_XY_False_20%_mask_img.npy\n",
      "Renamed: [1, 2]_XY_False_20%_mask_img.npy to [1, 2]_XY_False_20%_mask_most_img.npy\n",
      "filename:[1, 2]_XY_True_61%_mask_img.npy\n",
      "Renamed: [1, 2]_XY_True_61%_mask_img.npy to [1, 2]_XY_True_61%_mask_most_img.npy\n",
      "filename:[1, 2]_XY_True_14%_mask_img.npy\n",
      "Renamed: [1, 2]_XY_True_14%_mask_img.npy to [1, 2]_XY_True_14%_mask_most_img.npy\n",
      "filename:[1, 2]_XY_True_90%_mask_img.npy\n",
      "Renamed: [1, 2]_XY_True_90%_mask_img.npy to [1, 2]_XY_True_90%_mask_most_img.npy\n",
      "filename:[1, 2]_XY_True_84%_mask_img.npy\n",
      "Renamed: [1, 2]_XY_True_84%_mask_img.npy to [1, 2]_XY_True_84%_mask_most_img.npy\n",
      "filename:[1, 2]_XY_True_46%_mask_img.npy\n",
      "Renamed: [1, 2]_XY_True_46%_mask_img.npy to [1, 2]_XY_True_46%_mask_most_img.npy\n",
      "filename:[1, 2]_XY_True_33%_mask_img.npy\n",
      "Renamed: [1, 2]_XY_True_33%_mask_img.npy to [1, 2]_XY_True_33%_mask_most_img.npy\n",
      "filename:[1, 2]_XY_True_52%_mask_img.npy\n",
      "Renamed: [1, 2]_XY_True_52%_mask_img.npy to [1, 2]_XY_True_52%_mask_most_img.npy\n",
      "filename:[1, 2]_XY_False_13%_mask_img.npy\n",
      "Renamed: [1, 2]_XY_False_13%_mask_img.npy to [1, 2]_XY_False_13%_mask_most_img.npy\n",
      "filename:[1, 2]_XY_True_6%_mask_img.npy\n",
      "Renamed: [1, 2]_XY_True_6%_mask_img.npy to [1, 2]_XY_True_6%_mask_most_img.npy\n",
      "filename:[1, 2]_XY_True_27%_mask_img.npy\n",
      "Renamed: [1, 2]_XY_True_27%_mask_img.npy to [1, 2]_XY_True_27%_mask_most_img.npy\n",
      "filename:[1, 2]_XY_True_81%_mask_img.npy\n",
      "Renamed: [1, 2]_XY_True_81%_mask_img.npy to [1, 2]_XY_True_81%_mask_most_img.npy\n",
      "filename:[1, 2]_XY_False_5%_mask_img.npy\n",
      "Renamed: [1, 2]_XY_False_5%_mask_img.npy to [1, 2]_XY_False_5%_mask_most_img.npy\n",
      "filename:[1, 2]_XY_True_95%_mask_img.npy\n",
      "Renamed: [1, 2]_XY_True_95%_mask_img.npy to [1, 2]_XY_True_95%_mask_most_img.npy\n",
      "filename:[1, 2]_XY_True_57%_mask_img.npy\n",
      "Renamed: [1, 2]_XY_True_57%_mask_img.npy to [1, 2]_XY_True_57%_mask_most_img.npy\n",
      "filename:[1, 2]_XY_False_16%_mask_img.npy\n",
      "Renamed: [1, 2]_XY_False_16%_mask_img.npy to [1, 2]_XY_False_16%_mask_most_img.npy\n",
      "filename:[1, 2]_XY_True_3%_mask_img.npy\n",
      "Renamed: [1, 2]_XY_True_3%_mask_img.npy to [1, 2]_XY_True_3%_mask_most_img.npy\n",
      "filename:[1, 2]_XY_True_22%_mask_img.npy\n",
      "Renamed: [1, 2]_XY_True_22%_mask_img.npy to [1, 2]_XY_True_22%_mask_most_img.npy\n",
      "filename:[1, 2]_XY_True_43%_mask_img.npy\n",
      "Renamed: [1, 2]_XY_True_43%_mask_img.npy to [1, 2]_XY_True_43%_mask_most_img.npy\n",
      "filename:[1, 2]_XY_True_36%_mask_img.npy\n",
      "Renamed: [1, 2]_XY_True_36%_mask_img.npy to [1, 2]_XY_True_36%_mask_most_img.npy\n",
      "filename:[1, 2]_XY_False_7%_mask_img.npy\n",
      "Renamed: [1, 2]_XY_False_7%_mask_img.npy to [1, 2]_XY_False_7%_mask_most_img.npy\n",
      "filename:[1, 2]_XY_False_49%_mask_img.npy\n",
      "Renamed: [1, 2]_XY_False_49%_mask_img.npy to [1, 2]_XY_False_49%_mask_most_img.npy\n",
      "filename:[1, 2]_XY_True_83%_mask_img.npy\n",
      "Renamed: [1, 2]_XY_True_83%_mask_img.npy to [1, 2]_XY_True_83%_mask_most_img.npy\n",
      "filename:[1, 2]_XY_True_97%_mask_img.npy\n",
      "Renamed: [1, 2]_XY_True_97%_mask_img.npy to [1, 2]_XY_True_97%_mask_most_img.npy\n",
      "filename:[1, 2]_XY_False_28%_mask_img.npy\n",
      "Renamed: [1, 2]_XY_False_28%_mask_img.npy to [1, 2]_XY_False_28%_mask_most_img.npy\n",
      "filename:[1, 2]_XY_True_69%_mask_img.npy\n",
      "Renamed: [1, 2]_XY_True_69%_mask_img.npy to [1, 2]_XY_True_69%_mask_most_img.npy\n",
      "filename:[1, 2]_XY_True_1%_mask_img.npy\n",
      "Renamed: [1, 2]_XY_True_1%_mask_img.npy to [1, 2]_XY_True_1%_mask_most_img.npy\n",
      "filename:[1, 2]_XY_True_20%_mask_img.npy\n",
      "Renamed: [1, 2]_XY_True_20%_mask_img.npy to [1, 2]_XY_True_20%_mask_most_img.npy\n",
      "filename:[1, 2]_XY_True_55%_mask_img.npy\n",
      "Renamed: [1, 2]_XY_True_55%_mask_img.npy to [1, 2]_XY_True_55%_mask_most_img.npy\n",
      "filename:[1, 2]_XY_False_14%_mask_img.npy\n",
      "Renamed: [1, 2]_XY_False_14%_mask_img.npy to [1, 2]_XY_False_14%_mask_most_img.npy\n",
      "filename:[1, 2]_XY_True_34%_mask_img.npy\n",
      "Renamed: [1, 2]_XY_True_34%_mask_img.npy to [1, 2]_XY_True_34%_mask_most_img.npy\n",
      "filename:[1, 2]_XY_True_41%_mask_img.npy\n",
      "Renamed: [1, 2]_XY_True_41%_mask_img.npy to [1, 2]_XY_True_41%_mask_most_img.npy\n",
      "filename:[1, 2]_XY_True_19%_mask_img.npy\n",
      "Renamed: [1, 2]_XY_True_19%_mask_img.npy to [1, 2]_XY_True_19%_mask_most_img.npy\n",
      "filename:[1, 2]_XY_True_92%_mask_img.npy\n",
      "Renamed: [1, 2]_XY_True_92%_mask_img.npy to [1, 2]_XY_True_92%_mask_most_img.npy\n",
      "filename:[1, 2]_XY_False_2%_mask_img.npy\n",
      "Renamed: [1, 2]_XY_False_2%_mask_img.npy to [1, 2]_XY_False_2%_mask_most_img.npy\n",
      "filename:[1, 2]_XY_True_86%_mask_img.npy\n",
      "Renamed: [1, 2]_XY_True_86%_mask_img.npy to [1, 2]_XY_True_86%_mask_most_img.npy\n",
      "filename:[1, 2]_XY_False_39%_mask_img.npy\n",
      "Renamed: [1, 2]_XY_False_39%_mask_img.npy to [1, 2]_XY_False_39%_mask_most_img.npy\n",
      "filename:[1, 2]_XY_True_78%_mask_img.npy\n",
      "Renamed: [1, 2]_XY_True_78%_mask_img.npy to [1, 2]_XY_True_78%_mask_most_img.npy\n",
      "filename:[1, 2]_XY_True_31%_mask_img.npy\n",
      "Renamed: [1, 2]_XY_True_31%_mask_img.npy to [1, 2]_XY_True_31%_mask_most_img.npy\n",
      "filename:[1, 2]_XY_True_44%_mask_img.npy\n",
      "Renamed: [1, 2]_XY_True_44%_mask_img.npy to [1, 2]_XY_True_44%_mask_most_img.npy\n",
      "filename:[1, 2]_XY_True_4%_mask_img.npy\n",
      "Renamed: [1, 2]_XY_True_4%_mask_img.npy to [1, 2]_XY_True_4%_mask_most_img.npy\n",
      "filename:[1, 2]_XY_True_25%_mask_img.npy\n",
      "Renamed: [1, 2]_XY_True_25%_mask_img.npy to [1, 2]_XY_True_25%_mask_most_img.npy\n",
      "filename:[1, 2]_XY_True_50%_mask_img.npy\n",
      "Renamed: [1, 2]_XY_True_50%_mask_img.npy to [1, 2]_XY_True_50%_mask_most_img.npy\n",
      "filename:[1, 2]_XY_False_11%_mask_img.npy\n",
      "Renamed: [1, 2]_XY_False_11%_mask_img.npy to [1, 2]_XY_False_11%_mask_most_img.npy\n",
      "filename:[1, 2]_XY_False_43%_mask_img.npy\n",
      "Renamed: [1, 2]_XY_False_43%_mask_img.npy to [1, 2]_XY_False_43%_mask_most_img.npy\n",
      "filename:[1, 2]_XY_True_89%_mask_img.npy\n",
      "Renamed: [1, 2]_XY_True_89%_mask_img.npy to [1, 2]_XY_True_89%_mask_most_img.npy\n",
      "filename:[1, 2]_XY_False_36%_mask_img.npy\n",
      "Renamed: [1, 2]_XY_False_36%_mask_img.npy to [1, 2]_XY_False_36%_mask_most_img.npy\n",
      "filename:[1, 2]_XY_True_77%_mask_img.npy\n",
      "Renamed: [1, 2]_XY_True_77%_mask_img.npy to [1, 2]_XY_True_77%_mask_most_img.npy\n",
      "filename:[1, 2]_XY_True_16%_mask_img.npy\n",
      "Renamed: [1, 2]_XY_True_16%_mask_img.npy to [1, 2]_XY_True_16%_mask_most_img.npy\n",
      "filename:[1, 2]_XY_False_22%_mask_img.npy\n",
      "Renamed: [1, 2]_XY_False_22%_mask_img.npy to [1, 2]_XY_False_22%_mask_most_img.npy\n",
      "filename:[1, 2]_XY_True_63%_mask_img.npy\n",
      "Renamed: [1, 2]_XY_True_63%_mask_img.npy to [1, 2]_XY_True_63%_mask_most_img.npy\n",
      "filename:[1, 2]_XY_True_13%_mask_img.npy\n",
      "Renamed: [1, 2]_XY_True_13%_mask_img.npy to [1, 2]_XY_True_13%_mask_most_img.npy\n",
      "filename:[1, 2]_XY_True_98%_mask_img.npy\n",
      "Renamed: [1, 2]_XY_True_98%_mask_img.npy to [1, 2]_XY_True_98%_mask_most_img.npy\n",
      "filename:[1, 2]_XY_False_27%_mask_img.npy\n",
      "Renamed: [1, 2]_XY_False_27%_mask_img.npy to [1, 2]_XY_False_27%_mask_most_img.npy\n",
      "filename:[1, 2]_XY_True_66%_mask_img.npy\n",
      "Renamed: [1, 2]_XY_True_66%_mask_img.npy to [1, 2]_XY_True_66%_mask_most_img.npy\n",
      "filename:[1, 2]_XY_False_8%_mask_img.npy\n",
      "Renamed: [1, 2]_XY_False_8%_mask_img.npy to [1, 2]_XY_False_8%_mask_most_img.npy\n",
      "filename:[1, 2]_XY_False_46%_mask_img.npy\n",
      "Renamed: [1, 2]_XY_False_46%_mask_img.npy to [1, 2]_XY_False_46%_mask_most_img.npy\n",
      "filename:[1, 2]_XY_False_33%_mask_img.npy\n",
      "Renamed: [1, 2]_XY_False_33%_mask_img.npy to [1, 2]_XY_False_33%_mask_most_img.npy\n",
      "filename:[1, 2]_XY_True_72%_mask_img.npy\n",
      "Renamed: [1, 2]_XY_True_72%_mask_img.npy to [1, 2]_XY_True_72%_mask_most_img.npy\n",
      "filename:[1, 2]_XY_True_12%_mask_img.npy\n",
      "Renamed: [1, 2]_XY_True_12%_mask_img.npy to [1, 2]_XY_True_12%_mask_most_img.npy\n",
      "filename:[1, 2]_XY_True_99%_mask_img.npy\n",
      "Renamed: [1, 2]_XY_True_99%_mask_img.npy to [1, 2]_XY_True_99%_mask_most_img.npy\n",
      "filename:[1, 2]_XY_True_67%_mask_img.npy\n",
      "Renamed: [1, 2]_XY_True_67%_mask_img.npy to [1, 2]_XY_True_67%_mask_most_img.npy\n",
      "filename:[1, 2]_XY_False_26%_mask_img.npy\n",
      "Renamed: [1, 2]_XY_False_26%_mask_img.npy to [1, 2]_XY_False_26%_mask_most_img.npy\n",
      "filename:[1, 2]_XY_False_9%_mask_img.npy\n",
      "Renamed: [1, 2]_XY_False_9%_mask_img.npy to [1, 2]_XY_False_9%_mask_most_img.npy\n",
      "filename:[1, 2]_XY_False_47%_mask_img.npy\n",
      "Renamed: [1, 2]_XY_False_47%_mask_img.npy to [1, 2]_XY_False_47%_mask_most_img.npy\n",
      "filename:[1, 2]_XY_True_73%_mask_img.npy\n",
      "Renamed: [1, 2]_XY_True_73%_mask_img.npy to [1, 2]_XY_True_73%_mask_most_img.npy\n",
      "filename:[1, 2]_XY_False_32%_mask_img.npy\n",
      "Renamed: [1, 2]_XY_False_32%_mask_img.npy to [1, 2]_XY_False_32%_mask_most_img.npy\n",
      "filename:[1, 2]_XY_False_42%_mask_img.npy\n",
      "Renamed: [1, 2]_XY_False_42%_mask_img.npy to [1, 2]_XY_False_42%_mask_most_img.npy\n",
      "filename:[1, 2]_XY_True_88%_mask_img.npy\n",
      "Renamed: [1, 2]_XY_True_88%_mask_img.npy to [1, 2]_XY_True_88%_mask_most_img.npy\n",
      "filename:[1, 2]_XY_True_76%_mask_img.npy\n",
      "Renamed: [1, 2]_XY_True_76%_mask_img.npy to [1, 2]_XY_True_76%_mask_most_img.npy\n",
      "filename:[1, 2]_XY_False_37%_mask_img.npy\n",
      "Renamed: [1, 2]_XY_False_37%_mask_img.npy to [1, 2]_XY_False_37%_mask_most_img.npy\n",
      "filename:[1, 2]_XY_True_17%_mask_img.npy\n",
      "Renamed: [1, 2]_XY_True_17%_mask_img.npy to [1, 2]_XY_True_17%_mask_most_img.npy\n",
      "filename:[1, 2]_XY_True_62%_mask_img.npy\n",
      "Renamed: [1, 2]_XY_True_62%_mask_img.npy to [1, 2]_XY_True_62%_mask_most_img.npy\n",
      "filename:[1, 2]_XY_False_23%_mask_img.npy\n",
      "Renamed: [1, 2]_XY_False_23%_mask_img.npy to [1, 2]_XY_False_23%_mask_most_img.npy\n",
      "filename:[1, 2]_XY_True_18%_mask_img.npy\n",
      "Renamed: [1, 2]_XY_True_18%_mask_img.npy to [1, 2]_XY_True_18%_mask_most_img.npy\n",
      "filename:[1, 2]_XY_True_93%_mask_img.npy\n",
      "Renamed: [1, 2]_XY_True_93%_mask_img.npy to [1, 2]_XY_True_93%_mask_most_img.npy\n",
      "filename:[1, 2]_XY_False_3%_mask_img.npy\n",
      "Renamed: [1, 2]_XY_False_3%_mask_img.npy to [1, 2]_XY_False_3%_mask_most_img.npy\n",
      "filename:[1, 2]_XY_True_87%_mask_img.npy\n",
      "Renamed: [1, 2]_XY_True_87%_mask_img.npy to [1, 2]_XY_True_87%_mask_most_img.npy\n",
      "filename:[1, 2]_XY_True_79%_mask_img.npy\n",
      "Renamed: [1, 2]_XY_True_79%_mask_img.npy to [1, 2]_XY_True_79%_mask_most_img.npy\n",
      "filename:[1, 2]_XY_False_38%_mask_img.npy\n",
      "Renamed: [1, 2]_XY_False_38%_mask_img.npy to [1, 2]_XY_False_38%_mask_most_img.npy\n",
      "filename:[1, 2]_XY_True_30%_mask_img.npy\n",
      "Renamed: [1, 2]_XY_True_30%_mask_img.npy to [1, 2]_XY_True_30%_mask_most_img.npy\n",
      "filename:[1, 2]_XY_True_45%_mask_img.npy\n",
      "Renamed: [1, 2]_XY_True_45%_mask_img.npy to [1, 2]_XY_True_45%_mask_most_img.npy\n",
      "filename:[1, 2]_XY_True_24%_mask_img.npy\n",
      "Renamed: [1, 2]_XY_True_24%_mask_img.npy to [1, 2]_XY_True_24%_mask_most_img.npy\n",
      "filename:[1, 2]_XY_True_5%_mask_img.npy\n",
      "Renamed: [1, 2]_XY_True_5%_mask_img.npy to [1, 2]_XY_True_5%_mask_most_img.npy\n",
      "filename:[1, 2]_XY_False_10%_mask_img.npy\n",
      "Renamed: [1, 2]_XY_False_10%_mask_img.npy to [1, 2]_XY_False_10%_mask_most_img.npy\n",
      "filename:.ipynb_checkpoints\n",
      "filename:[1, 2]_XY_True_51%_mask_img.npy\n",
      "Renamed: [1, 2]_XY_True_51%_mask_img.npy to [1, 2]_XY_True_51%_mask_most_img.npy\n",
      "filename:[1, 2]_XY_False_6%_mask_img.npy\n",
      "Renamed: [1, 2]_XY_False_6%_mask_img.npy to [1, 2]_XY_False_6%_mask_most_img.npy\n",
      "filename:[1, 2]_XY_False_48%_mask_img.npy\n",
      "Renamed: [1, 2]_XY_False_48%_mask_img.npy to [1, 2]_XY_False_48%_mask_most_img.npy\n",
      "filename:[1, 2]_XY_True_82%_mask_img.npy\n",
      "Renamed: [1, 2]_XY_True_82%_mask_img.npy to [1, 2]_XY_True_82%_mask_most_img.npy\n",
      "filename:[1, 2]_XY_True_96%_mask_img.npy\n",
      "Renamed: [1, 2]_XY_True_96%_mask_img.npy to [1, 2]_XY_True_96%_mask_most_img.npy\n",
      "filename:[1, 2]_XY_True_68%_mask_img.npy\n",
      "Renamed: [1, 2]_XY_True_68%_mask_img.npy to [1, 2]_XY_True_68%_mask_most_img.npy\n",
      "filename:[1, 2]_XY_False_29%_mask_img.npy\n",
      "Renamed: [1, 2]_XY_False_29%_mask_img.npy to [1, 2]_XY_False_29%_mask_most_img.npy\n",
      "filename:[1, 2]_XY_True_21%_mask_img.npy\n",
      "Renamed: [1, 2]_XY_True_21%_mask_img.npy to [1, 2]_XY_True_21%_mask_most_img.npy\n",
      "filename:[1, 2]_XY_False_15%_mask_img.npy\n",
      "Renamed: [1, 2]_XY_False_15%_mask_img.npy to [1, 2]_XY_False_15%_mask_most_img.npy\n",
      "filename:[1, 2]_XY_True_54%_mask_img.npy\n",
      "Renamed: [1, 2]_XY_True_54%_mask_img.npy to [1, 2]_XY_True_54%_mask_most_img.npy\n",
      "filename:[1, 2]_XY_True_35%_mask_img.npy\n",
      "Renamed: [1, 2]_XY_True_35%_mask_img.npy to [1, 2]_XY_True_35%_mask_most_img.npy\n",
      "filename:[1, 2]_XY_True_40%_mask_img.npy\n",
      "Renamed: [1, 2]_XY_True_40%_mask_img.npy to [1, 2]_XY_True_40%_mask_most_img.npy\n",
      "filename:[1, 2]_XY_True_80%_mask_img.npy\n",
      "Renamed: [1, 2]_XY_True_80%_mask_img.npy to [1, 2]_XY_True_80%_mask_most_img.npy\n",
      "filename:[1, 2]_XY_False_4%_mask_img.npy\n",
      "Renamed: [1, 2]_XY_False_4%_mask_img.npy to [1, 2]_XY_False_4%_mask_most_img.npy\n",
      "filename:[1, 2]_XY_True_94%_mask_img.npy\n",
      "Renamed: [1, 2]_XY_True_94%_mask_img.npy to [1, 2]_XY_True_94%_mask_most_img.npy\n",
      "filename:[1, 2]_XY_False_17%_mask_img.npy\n",
      "Renamed: [1, 2]_XY_False_17%_mask_img.npy to [1, 2]_XY_False_17%_mask_most_img.npy\n",
      "filename:[1, 2]_XY_True_56%_mask_img.npy\n",
      "Renamed: [1, 2]_XY_True_56%_mask_img.npy to [1, 2]_XY_True_56%_mask_most_img.npy\n",
      "filename:[1, 2]_XY_True_23%_mask_img.npy\n",
      "Renamed: [1, 2]_XY_True_23%_mask_img.npy to [1, 2]_XY_True_23%_mask_most_img.npy\n",
      "filename:[1, 2]_XY_True_2%_mask_img.npy\n",
      "Renamed: [1, 2]_XY_True_2%_mask_img.npy to [1, 2]_XY_True_2%_mask_most_img.npy\n",
      "filename:[1, 2]_XY_True_42%_mask_img.npy\n",
      "Renamed: [1, 2]_XY_True_42%_mask_img.npy to [1, 2]_XY_True_42%_mask_most_img.npy\n",
      "filename:[1, 2]_XY_True_37%_mask_img.npy\n",
      "Renamed: [1, 2]_XY_True_37%_mask_img.npy to [1, 2]_XY_True_37%_mask_most_img.npy\n",
      "filename:[1, 2]_XY_True_91%_mask_img.npy\n",
      "Renamed: [1, 2]_XY_True_91%_mask_img.npy to [1, 2]_XY_True_91%_mask_most_img.npy\n",
      "filename:[1, 2]_XY_True_85%_mask_img.npy\n",
      "Renamed: [1, 2]_XY_True_85%_mask_img.npy to [1, 2]_XY_True_85%_mask_most_img.npy\n",
      "filename:[1, 2]_XY_False_1%_mask_img.npy\n",
      "Renamed: [1, 2]_XY_False_1%_mask_img.npy to [1, 2]_XY_False_1%_mask_most_img.npy\n",
      "filename:[1, 2]_XY_True_47%_mask_img.npy\n",
      "Renamed: [1, 2]_XY_True_47%_mask_img.npy to [1, 2]_XY_True_47%_mask_most_img.npy\n",
      "filename:[1, 2]_XY_True_32%_mask_img.npy\n",
      "Renamed: [1, 2]_XY_True_32%_mask_img.npy to [1, 2]_XY_True_32%_mask_most_img.npy\n",
      "filename:[1, 2]_XY_False_12%_mask_img.npy\n",
      "Renamed: [1, 2]_XY_False_12%_mask_img.npy to [1, 2]_XY_False_12%_mask_most_img.npy\n",
      "filename:[1, 2]_XY_True_53%_mask_img.npy\n",
      "Renamed: [1, 2]_XY_True_53%_mask_img.npy to [1, 2]_XY_True_53%_mask_most_img.npy\n",
      "filename:[1, 2]_XY_True_26%_mask_img.npy\n",
      "Renamed: [1, 2]_XY_True_26%_mask_img.npy to [1, 2]_XY_True_26%_mask_most_img.npy\n",
      "filename:[1, 2]_XY_True_7%_mask_img.npy\n",
      "Renamed: [1, 2]_XY_True_7%_mask_img.npy to [1, 2]_XY_True_7%_mask_most_img.npy\n",
      "filename:[1, 2]_XY_True_29%_mask_img.npy\n",
      "Renamed: [1, 2]_XY_True_29%_mask_img.npy to [1, 2]_XY_True_29%_mask_most_img.npy\n",
      "filename:[1, 2]_XY_True_8%_mask_img.npy\n",
      "Renamed: [1, 2]_XY_True_8%_mask_img.npy to [1, 2]_XY_True_8%_mask_most_img.npy\n",
      "filename:[1, 2]_XY_True_48%_mask_img.npy\n",
      "Renamed: [1, 2]_XY_True_48%_mask_img.npy to [1, 2]_XY_True_48%_mask_most_img.npy\n",
      "filename:[1, 2]_XY_True_74%_mask_img.npy\n",
      "Renamed: [1, 2]_XY_True_74%_mask_img.npy to [1, 2]_XY_True_74%_mask_most_img.npy\n",
      "filename:[1, 2]_XY_False_35%_mask_img.npy\n",
      "Renamed: [1, 2]_XY_False_35%_mask_img.npy to [1, 2]_XY_False_35%_mask_most_img.npy\n",
      "filename:[1, 2]_XY_False_40%_mask_img.npy\n",
      "Renamed: [1, 2]_XY_False_40%_mask_img.npy to [1, 2]_XY_False_40%_mask_most_img.npy\n",
      "filename:[1, 2]_XY_True_60%_mask_img.npy\n",
      "Renamed: [1, 2]_XY_True_60%_mask_img.npy to [1, 2]_XY_True_60%_mask_most_img.npy\n",
      "filename:[1, 2]_XY_False_21%_mask_img.npy\n",
      "Renamed: [1, 2]_XY_False_21%_mask_img.npy to [1, 2]_XY_False_21%_mask_most_img.npy\n",
      "filename:[1, 2]_XY_True_15%_mask_img.npy\n",
      "Renamed: [1, 2]_XY_True_15%_mask_img.npy to [1, 2]_XY_True_15%_mask_most_img.npy\n",
      "filename:[1, 2]_XY_True_38%_mask_img.npy\n",
      "Renamed: [1, 2]_XY_True_38%_mask_img.npy to [1, 2]_XY_True_38%_mask_most_img.npy\n",
      "filename:[1, 2]_XY_False_18%_mask_img.npy\n",
      "Renamed: [1, 2]_XY_False_18%_mask_img.npy to [1, 2]_XY_False_18%_mask_most_img.npy\n",
      "filename:[1, 2]_XY_True_59%_mask_img.npy\n",
      "Renamed: [1, 2]_XY_True_59%_mask_img.npy to [1, 2]_XY_True_59%_mask_most_img.npy\n",
      "filename:[1, 2]_XY_True_65%_mask_img.npy\n",
      "Renamed: [1, 2]_XY_True_65%_mask_img.npy to [1, 2]_XY_True_65%_mask_most_img.npy\n",
      "filename:[1, 2]_XY_False_24%_mask_img.npy\n",
      "Renamed: [1, 2]_XY_False_24%_mask_img.npy to [1, 2]_XY_False_24%_mask_most_img.npy\n",
      "filename:[1, 2]_XY_True_10%_mask_img.npy\n",
      "Renamed: [1, 2]_XY_True_10%_mask_img.npy to [1, 2]_XY_True_10%_mask_most_img.npy\n",
      "filename:[1, 2]_XY_True_71%_mask_img.npy\n",
      "Renamed: [1, 2]_XY_True_71%_mask_img.npy to [1, 2]_XY_True_71%_mask_most_img.npy\n",
      "filename:[1, 2]_XY_False_30%_mask_img.npy\n",
      "Renamed: [1, 2]_XY_False_30%_mask_img.npy to [1, 2]_XY_False_30%_mask_most_img.npy\n",
      "filename:[1, 2]_XY_False_45%_mask_img.npy\n",
      "Renamed: [1, 2]_XY_False_45%_mask_img.npy to [1, 2]_XY_False_45%_mask_most_img.npy\n"
     ]
    }
   ],
   "source": [
    "rename_files(directory)"
   ]
  },
  {
   "cell_type": "code",
   "execution_count": null,
   "id": "5e3d98c0",
   "metadata": {},
   "outputs": [],
   "source": [
    "# Specify the directory containing the numpy files\n",
    "directory_path = '/path/to/your/directory'  # Change this to your actual directory\n",
    "rename_files(directory_path)"
   ]
  },
  {
   "cell_type": "code",
   "execution_count": 46,
   "id": "7b5ef5ed",
   "metadata": {},
   "outputs": [
    {
     "name": "stdout",
     "output_type": "stream",
     "text": [
      "/dhc/home/masoumeh.javanbakhat/netstore-old/Baysian/3D/Explainability/Codes/Two_Test/masked_least\n"
     ]
    }
   ],
   "source": [
    "root_dir = Path('/dhc/home/masoumeh.javanbakhat/netstore-old/Baysian/3D')\n",
    "\n",
    "svd_dir_masked = root_dir / 'Explainability' / 'Codes' / 'Two_Test' / 'masked'\n",
    "\n",
    "svd_dir_masked = svd_dir_masked.with_name('masked_least')\n",
    "\n",
    "print(svd_dir_masked)"
   ]
  },
  {
   "cell_type": "markdown",
   "id": "2b115e72",
   "metadata": {},
   "source": [
    "### Visualaising important features before changing the code:"
   ]
  },
  {
   "cell_type": "code",
   "execution_count": 51,
   "id": "b4395dc0",
   "metadata": {},
   "outputs": [],
   "source": [
    "import numpy as np"
   ]
  },
  {
   "cell_type": "code",
   "execution_count": 52,
   "id": "ea308442",
   "metadata": {},
   "outputs": [],
   "source": [
    "directory = Path('/dhc/home/masoumeh.javanbakhat/netstore-old/Baysian/3D/Explainability/Codes/Two_Test/masked/42_4_shape')"
   ]
  },
  {
   "cell_type": "code",
   "execution_count": 55,
   "id": "c4b2e062",
   "metadata": {},
   "outputs": [],
   "source": [
    "latentcls = str([1,2])\n",
    "\n",
    "percentage = 2\n",
    "\n"
   ]
  },
  {
   "cell_type": "code",
   "execution_count": 56,
   "id": "22442c22",
   "metadata": {},
   "outputs": [],
   "source": [
    "file_name_mask = f'{latentcls}_XY_True_{percentage}%_mask_most_img.npy'\n",
    "full_path_mask = os.path.join(directory, file_name_mask)\n",
    "masked_img_2 = np.load(full_path_mask)"
   ]
  },
  {
   "cell_type": "code",
   "execution_count": 57,
   "id": "52876124",
   "metadata": {},
   "outputs": [],
   "source": [
    "masked_img2_10 = masked_img_2[10]"
   ]
  },
  {
   "cell_type": "code",
   "execution_count": 60,
   "id": "55a92bfc",
   "metadata": {},
   "outputs": [
    {
     "data": {
      "text/plain": [
       "(-0.5, 63.5, 63.5, -0.5)"
      ]
     },
     "execution_count": 60,
     "metadata": {},
     "output_type": "execute_result"
    },
    {
     "data": {
      "image/png": "[encoded data removed]",
      "text/plain": [
       "<Figure size 300x300 with 1 Axes>"
      ]
     },
     "metadata": {},
     "output_type": "display_data"
    }
   ],
   "source": [
    "plt.figure(figsize=(3,3))\n",
    "\n",
    "plt.imshow(masked_img2_10)\n",
    "\n",
    "plt.axis(\"off\")"
   ]
  },
  {
   "cell_type": "markdown",
   "id": "70ebd4ad",
   "metadata": {},
   "source": [
    "## Now replace this file with new code and look at the masked images again"
   ]
  },
  {
   "cell_type": "code",
   "execution_count": 61,
   "id": "d8ebbc1e",
   "metadata": {},
   "outputs": [],
   "source": [
    "# new file for masking 2% of most importnat features were created, let's check the examples  \n",
    "\n",
    "directory = Path('/dhc/home/masoumeh.javanbakhat/netstore-old/Baysian/3D/Explainability/Codes/Two_Test/masked/42_4_shape')\n",
    "latentcls = str([1,2])\n",
    "\n",
    "percentage = 2\n",
    "\n",
    "file_name_mask = f'{latentcls}_XY_True_{percentage}%_mask_most_img.npy'\n",
    "full_path_mask = os.path.join(directory, file_name_mask)\n",
    "masked_img_2 = np.load(full_path_mask)\n"
   ]
  },
  {
   "cell_type": "code",
   "execution_count": 62,
   "id": "3730adc4",
   "metadata": {},
   "outputs": [],
   "source": [
    "masked_img2_10 = masked_img_2[10]"
   ]
  },
  {
   "cell_type": "code",
   "execution_count": 64,
   "id": "022e1242",
   "metadata": {},
   "outputs": [
    {
     "data": {
      "text/plain": [
       "(-0.5, 63.5, 63.5, -0.5)"
      ]
     },
     "execution_count": 64,
     "metadata": {},
     "output_type": "execute_result"
    },
    {
     "data": {
      "image/png": "[encoded data removed]",
      "text/plain": [
       "<Figure size 300x300 with 1 Axes>"
      ]
     },
     "metadata": {},
     "output_type": "display_data"
    }
   ],
   "source": [
    "plt.figure(figsize=(3,3))\n",
    "\n",
    "plt.imshow(masked_img2_10)\n",
    "\n",
    "plt.axis(\"off\")"
   ]
  },
  {
   "cell_type": "code",
   "execution_count": null,
   "id": "82028a49",
   "metadata": {},
   "outputs": [],
   "source": []
  }
 ],
 "metadata": {
  "kernelspec": {
   "display_name": "Python 3 (ipykernel)",
   "language": "python",
   "name": "python3"
  },
  "language_info": {
   "codemirror_mode": {
    "name": "ipython",
    "version": 3
   },
   "file_extension": ".py",
   "mimetype": "text/x-python",
   "name": "python",
   "nbconvert_exporter": "python",
   "pygments_lexer": "ipython3",
   "version": "3.9.19"
  }
 },
 "nbformat": 4,
 "nbformat_minor": 5
}
